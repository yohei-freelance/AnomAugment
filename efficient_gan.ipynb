{
 "cells": [
  {
   "cell_type": "code",
   "execution_count": 187,
   "metadata": {},
   "outputs": [],
   "source": [
    "# パッケージのimport\n",
    "import random\n",
    "import math\n",
    "import time\n",
    "import pandas as pd\n",
    "import numpy as np\n",
    "from PIL import Image\n",
    "import seaborn as sns\n",
    "from tqdm import tqdm\n",
    "\n",
    "import torch\n",
    "import torch.utils.data as data\n",
    "import torch.nn as nn\n",
    "import torch.nn.functional as F\n",
    "import torch.optim as optim\n",
    "\n",
    "from torchvision import transforms\n",
    "import torchvision\n",
    "from hyperdash import monitor_cell"
   ]
  },
  {
   "cell_type": "code",
   "execution_count": 188,
   "metadata": {},
   "outputs": [],
   "source": [
    "# Setup seeds\n",
    "torch.manual_seed(1234)\n",
    "torch.cuda.manual_seed(1234)\n",
    "np.random.seed(1234)\n",
    "random.seed(1234)"
   ]
  },
  {
   "cell_type": "code",
   "execution_count": 189,
   "metadata": {},
   "outputs": [],
   "source": [
    "class Generator(nn.Module):\n",
    "    def __init__(self, z_dim=256):\n",
    "        super(Generator, self).__init__()\n",
    "        self.output_bias = nn.Parameter(torch.zeros(3, 32, 32), requires_grad=True)\n",
    "        \n",
    "        self.layer1 = nn.Sequential(\n",
    "            nn.ConvTranspose2d(in_channels=z_dim, out_channels=256,\n",
    "                               kernel_size=4, stride=1, bias=False),\n",
    "            nn.BatchNorm2d(256),\n",
    "            nn.LeakyReLU(inplace=True))\n",
    "\n",
    "        self.layer2 = nn.Sequential(\n",
    "            nn.ConvTranspose2d(in_channels=256, out_channels=128,\n",
    "                               kernel_size=4, stride=2, bias=False),\n",
    "            nn.BatchNorm2d(128),\n",
    "            nn.LeakyReLU(inplace=True))\n",
    "\n",
    "        self.layer3 = nn.Sequential(\n",
    "            nn.ConvTranspose2d(in_channels=128, out_channels=64,\n",
    "                               kernel_size=4, stride=1, bias=False),\n",
    "            nn.BatchNorm2d(64),\n",
    "            nn.LeakyReLU(inplace=True))\n",
    "        \n",
    "        self.layer4 = nn.Sequential(\n",
    "            nn.ConvTranspose2d(in_channels=64, out_channels=32,\n",
    "                               kernel_size=4, stride=2, bias=False),\n",
    "            nn.BatchNorm2d(32),\n",
    "            nn.LeakyReLU(inplace=True))\n",
    "\n",
    "        self.layer5 = nn.Sequential(\n",
    "            nn.ConvTranspose2d(in_channels=32, out_channels=32,\n",
    "                               kernel_size=5, stride=1, bias=False),\n",
    "            nn.BatchNorm2d(32),\n",
    "            nn.LeakyReLU(inplace=True))\n",
    "\n",
    "        self.layer6 = nn.Sequential(\n",
    "            nn.ConvTranspose2d(in_channels=32, out_channels=32,\n",
    "                               kernel_size=1, stride=1, bias=False),\n",
    "            nn.BatchNorm2d(32),\n",
    "            nn.LeakyReLU(inplace=True))\n",
    "\n",
    "        self.last = nn.Sequential(\n",
    "            nn.ConvTranspose2d(in_channels=32, out_channels=3,\n",
    "                               kernel_size=1, stride=1, bias=False)\n",
    "        )\n",
    "\n",
    "    def forward(self, z):\n",
    "        out = self.layer1(z)\n",
    "        out = self.layer2(out)\n",
    "        out = self.layer3(out)\n",
    "        out = self.layer4(out)\n",
    "        out = self.layer5(out)\n",
    "        out = self.layer6(out)\n",
    "        out = self.last(out)\n",
    "        out = F.sigmoid(out + self.output_bias)\n",
    "        return out"
   ]
  },
  {
   "cell_type": "code",
   "execution_count": 190,
   "metadata": {
    "scrolled": true
   },
   "outputs": [
    {
     "data": {
      "text/plain": [
       "Generator(\n",
       "  (layer1): Sequential(\n",
       "    (0): ConvTranspose2d(256, 256, kernel_size=(4, 4), stride=(1, 1), bias=False)\n",
       "    (1): BatchNorm2d(256, eps=1e-05, momentum=0.1, affine=True, track_running_stats=True)\n",
       "    (2): LeakyReLU(negative_slope=0.01, inplace=True)\n",
       "  )\n",
       "  (layer2): Sequential(\n",
       "    (0): ConvTranspose2d(256, 128, kernel_size=(4, 4), stride=(2, 2), bias=False)\n",
       "    (1): BatchNorm2d(128, eps=1e-05, momentum=0.1, affine=True, track_running_stats=True)\n",
       "    (2): LeakyReLU(negative_slope=0.01, inplace=True)\n",
       "  )\n",
       "  (layer3): Sequential(\n",
       "    (0): ConvTranspose2d(128, 64, kernel_size=(4, 4), stride=(1, 1), bias=False)\n",
       "    (1): BatchNorm2d(64, eps=1e-05, momentum=0.1, affine=True, track_running_stats=True)\n",
       "    (2): LeakyReLU(negative_slope=0.01, inplace=True)\n",
       "  )\n",
       "  (layer4): Sequential(\n",
       "    (0): ConvTranspose2d(64, 32, kernel_size=(4, 4), stride=(2, 2), bias=False)\n",
       "    (1): BatchNorm2d(32, eps=1e-05, momentum=0.1, affine=True, track_running_stats=True)\n",
       "    (2): LeakyReLU(negative_slope=0.01, inplace=True)\n",
       "  )\n",
       "  (layer5): Sequential(\n",
       "    (0): ConvTranspose2d(32, 32, kernel_size=(5, 5), stride=(1, 1), bias=False)\n",
       "    (1): BatchNorm2d(32, eps=1e-05, momentum=0.1, affine=True, track_running_stats=True)\n",
       "    (2): LeakyReLU(negative_slope=0.01, inplace=True)\n",
       "  )\n",
       "  (layer6): Sequential(\n",
       "    (0): ConvTranspose2d(32, 32, kernel_size=(1, 1), stride=(1, 1), bias=False)\n",
       "    (1): BatchNorm2d(32, eps=1e-05, momentum=0.1, affine=True, track_running_stats=True)\n",
       "    (2): LeakyReLU(negative_slope=0.01, inplace=True)\n",
       "  )\n",
       "  (last): Sequential(\n",
       "    (0): ConvTranspose2d(32, 3, kernel_size=(1, 1), stride=(1, 1), bias=False)\n",
       "  )\n",
       ")"
      ]
     },
     "execution_count": 190,
     "metadata": {},
     "output_type": "execute_result"
    }
   ],
   "source": [
    "#モデル構造確認\n",
    "Generator()"
   ]
  },
  {
   "cell_type": "code",
   "execution_count": 191,
   "metadata": {},
   "outputs": [
    {
     "name": "stdout",
     "output_type": "stream",
     "text": [
      "torch.Size([100, 3, 32, 32])\n"
     ]
    },
    {
     "data": {
      "image/png": "[encoded data removed]",
      "text/plain": [
       "<Figure size 432x288 with 1 Axes>"
      ]
     },
     "metadata": {
      "needs_background": "light"
     },
     "output_type": "display_data"
    }
   ],
   "source": [
    "# 動作確認\n",
    "import matplotlib.pyplot as plt\n",
    "%matplotlib inline\n",
    "\n",
    "latent_size=256\n",
    "batch_size=100\n",
    "\n",
    "G = Generator(z_dim=latent_size)\n",
    "input_z = torch.randn(batch_size, latent_size, 1, 1)\n",
    "print(G(input_z).size())\n",
    "fake_images = G(input_z)\n",
    "img_transformed = fake_images[0].detach().numpy().transpose(1, 2, 0)\n",
    "plt.imshow(img_transformed)\n",
    "plt.show();"
   ]
  },
  {
   "cell_type": "code",
   "execution_count": 192,
   "metadata": {},
   "outputs": [],
   "source": [
    "class Discriminator(nn.Module):\n",
    "    def __init__(self, z_dim=256):\n",
    "        super(Discriminator, self).__init__()\n",
    "\n",
    "        self.x_layer1 = nn.Sequential(\n",
    "            nn.Conv2d(3, 32, kernel_size=5, stride=1, bias=True),\n",
    "            nn.LeakyReLU(inplace=True),\n",
    "            nn.Dropout(p=0.2),\n",
    "        )\n",
    "\n",
    "        self.x_layer2 = nn.Sequential(\n",
    "            nn.Conv2d(32, 64, kernel_size=4, stride=2, bias=False),\n",
    "            nn.BatchNorm2d(64),\n",
    "            nn.LeakyReLU(inplace=True),\n",
    "            nn.Dropout(p=0.2),\n",
    "        )\n",
    "        \n",
    "        self.x_layer3 = nn.Sequential(\n",
    "            nn.Conv2d(64, 128, kernel_size=4, stride=1, bias=False),\n",
    "            nn.BatchNorm2d(128),\n",
    "            nn.LeakyReLU(inplace=True),\n",
    "            nn.Dropout(p=0.2),\n",
    "        )\n",
    "        \n",
    "        self.x_layer4 = nn.Sequential(\n",
    "            nn.Conv2d(128, 256, kernel_size=4, stride=2, bias=False),\n",
    "            nn.BatchNorm2d(256),\n",
    "            nn.LeakyReLU(inplace=True),\n",
    "            nn.Dropout(p=0.2),\n",
    "        )\n",
    "        \n",
    "        self.x_layer5 = nn.Sequential(\n",
    "            nn.Conv2d(256, 512, kernel_size=4, stride=1, bias=False),\n",
    "            nn.BatchNorm2d(512),\n",
    "            nn.LeakyReLU(inplace=True),\n",
    "            nn.Dropout(p=0.2),\n",
    "        )\n",
    "        \n",
    "        self.z_layer1 = nn.Sequential(\n",
    "            nn.Conv2d(z_dim, 512, kernel_size=1, stride=1, bias=False),\n",
    "            nn.LeakyReLU(inplace=True),\n",
    "            nn.Dropout(p=0.2),\n",
    "        )\n",
    "        \n",
    "        self.z_layer2 = nn.Sequential(\n",
    "            nn.Conv2d(512, 512, kernel_size=1, stride=1, bias=False),\n",
    "            nn.LeakyReLU(inplace=True),\n",
    "            nn.Dropout(p=0.2),\n",
    "        )\n",
    "\n",
    "        # 最後の判定\n",
    "        self.last1 = nn.Sequential(\n",
    "            nn.Conv2d(1024, 1024, kernel_size=1, stride=1, bias=True),\n",
    "            nn.LeakyReLU(inplace=True),\n",
    "            nn.Dropout(p=0.2),\n",
    "        )\n",
    "\n",
    "        self.last2 = nn.Sequential(\n",
    "            nn.Conv2d(1024, 1024, kernel_size=1, stride=1, bias=True),\n",
    "            nn.LeakyReLU(inplace=True),\n",
    "            nn.Dropout(p=0.2),\n",
    "        )\n",
    "        \n",
    "        self.last3 = nn.Conv2d(1024, 1, kernel_size=1, stride=1, bias=True)\n",
    "\n",
    "    def forward(self, x, z):\n",
    "\n",
    "        x_out = self.x_layer1(x)\n",
    "        x_out = self.x_layer2(x_out)\n",
    "        x_out = self.x_layer3(x_out)\n",
    "        x_out = self.x_layer4(x_out)\n",
    "        x_out = self.x_layer5(x_out)\n",
    "\n",
    "        z_out = self.z_layer1(z)\n",
    "        z_out = self.z_layer2(z_out)\n",
    "\n",
    "        out = torch.cat([x_out, z_out], dim=1)\n",
    "        out = self.last1(out)\n",
    "        out = self.last2(out)\n",
    "\n",
    "        feature = out\n",
    "        feature = feature.view(feature.size()[0], -1)\n",
    "        out = self.last3(out)\n",
    "\n",
    "        return out, feature"
   ]
  },
  {
   "cell_type": "code",
   "execution_count": 193,
   "metadata": {
    "scrolled": true
   },
   "outputs": [
    {
     "data": {
      "text/plain": [
       "Discriminator(\n",
       "  (x_layer1): Sequential(\n",
       "    (0): Conv2d(3, 32, kernel_size=(5, 5), stride=(1, 1))\n",
       "    (1): LeakyReLU(negative_slope=0.01, inplace=True)\n",
       "    (2): Dropout(p=0.2, inplace=False)\n",
       "  )\n",
       "  (x_layer2): Sequential(\n",
       "    (0): Conv2d(32, 64, kernel_size=(4, 4), stride=(2, 2), bias=False)\n",
       "    (1): BatchNorm2d(64, eps=1e-05, momentum=0.1, affine=True, track_running_stats=True)\n",
       "    (2): LeakyReLU(negative_slope=0.01, inplace=True)\n",
       "    (3): Dropout(p=0.2, inplace=False)\n",
       "  )\n",
       "  (x_layer3): Sequential(\n",
       "    (0): Conv2d(64, 128, kernel_size=(4, 4), stride=(1, 1), bias=False)\n",
       "    (1): BatchNorm2d(128, eps=1e-05, momentum=0.1, affine=True, track_running_stats=True)\n",
       "    (2): LeakyReLU(negative_slope=0.01, inplace=True)\n",
       "    (3): Dropout(p=0.2, inplace=False)\n",
       "  )\n",
       "  (x_layer4): Sequential(\n",
       "    (0): Conv2d(128, 256, kernel_size=(4, 4), stride=(2, 2), bias=False)\n",
       "    (1): BatchNorm2d(256, eps=1e-05, momentum=0.1, affine=True, track_running_stats=True)\n",
       "    (2): LeakyReLU(negative_slope=0.01, inplace=True)\n",
       "    (3): Dropout(p=0.2, inplace=False)\n",
       "  )\n",
       "  (x_layer5): Sequential(\n",
       "    (0): Conv2d(256, 512, kernel_size=(4, 4), stride=(1, 1), bias=False)\n",
       "    (1): BatchNorm2d(512, eps=1e-05, momentum=0.1, affine=True, track_running_stats=True)\n",
       "    (2): LeakyReLU(negative_slope=0.01, inplace=True)\n",
       "    (3): Dropout(p=0.2, inplace=False)\n",
       "  )\n",
       "  (z_layer1): Sequential(\n",
       "    (0): Conv2d(256, 512, kernel_size=(1, 1), stride=(1, 1), bias=False)\n",
       "    (1): LeakyReLU(negative_slope=0.01, inplace=True)\n",
       "    (2): Dropout(p=0.2, inplace=False)\n",
       "  )\n",
       "  (z_layer2): Sequential(\n",
       "    (0): Conv2d(512, 512, kernel_size=(1, 1), stride=(1, 1), bias=False)\n",
       "    (1): LeakyReLU(negative_slope=0.01, inplace=True)\n",
       "    (2): Dropout(p=0.2, inplace=False)\n",
       "  )\n",
       "  (last1): Sequential(\n",
       "    (0): Conv2d(1024, 1024, kernel_size=(1, 1), stride=(1, 1))\n",
       "    (1): LeakyReLU(negative_slope=0.01, inplace=True)\n",
       "    (2): Dropout(p=0.2, inplace=False)\n",
       "  )\n",
       "  (last2): Sequential(\n",
       "    (0): Conv2d(1024, 1024, kernel_size=(1, 1), stride=(1, 1))\n",
       "    (1): LeakyReLU(negative_slope=0.01, inplace=True)\n",
       "    (2): Dropout(p=0.2, inplace=False)\n",
       "  )\n",
       "  (last3): Conv2d(1024, 1, kernel_size=(1, 1), stride=(1, 1))\n",
       ")"
      ]
     },
     "execution_count": 193,
     "metadata": {},
     "output_type": "execute_result"
    }
   ],
   "source": [
    "#モデル構造確認\n",
    "D = Discriminator()\n",
    "D"
   ]
  },
  {
   "cell_type": "code",
   "execution_count": 194,
   "metadata": {
    "scrolled": true
   },
   "outputs": [
    {
     "name": "stdout",
     "output_type": "stream",
     "text": [
      "tensor([[[[0.5072]]],\n",
      "\n",
      "\n",
      "        [[[0.4958]]],\n",
      "\n",
      "\n",
      "        [[[0.5027]]],\n",
      "\n",
      "\n",
      "        [[[0.4964]]],\n",
      "\n",
      "\n",
      "        [[[0.4976]]],\n",
      "\n",
      "\n",
      "        [[[0.5200]]],\n",
      "\n",
      "\n",
      "        [[[0.5333]]],\n",
      "\n",
      "\n",
      "        [[[0.5050]]],\n",
      "\n",
      "\n",
      "        [[[0.4976]]],\n",
      "\n",
      "\n",
      "        [[[0.4933]]],\n",
      "\n",
      "\n",
      "        [[[0.5307]]],\n",
      "\n",
      "\n",
      "        [[[0.5133]]],\n",
      "\n",
      "\n",
      "        [[[0.5090]]],\n",
      "\n",
      "\n",
      "        [[[0.5150]]],\n",
      "\n",
      "\n",
      "        [[[0.5071]]],\n",
      "\n",
      "\n",
      "        [[[0.4742]]],\n",
      "\n",
      "\n",
      "        [[[0.5133]]],\n",
      "\n",
      "\n",
      "        [[[0.5009]]],\n",
      "\n",
      "\n",
      "        [[[0.5197]]],\n",
      "\n",
      "\n",
      "        [[[0.4999]]],\n",
      "\n",
      "\n",
      "        [[[0.4790]]],\n",
      "\n",
      "\n",
      "        [[[0.4921]]],\n",
      "\n",
      "\n",
      "        [[[0.5199]]],\n",
      "\n",
      "\n",
      "        [[[0.4895]]],\n",
      "\n",
      "\n",
      "        [[[0.5066]]],\n",
      "\n",
      "\n",
      "        [[[0.5022]]],\n",
      "\n",
      "\n",
      "        [[[0.5254]]],\n",
      "\n",
      "\n",
      "        [[[0.4712]]],\n",
      "\n",
      "\n",
      "        [[[0.5036]]],\n",
      "\n",
      "\n",
      "        [[[0.5038]]],\n",
      "\n",
      "\n",
      "        [[[0.5212]]],\n",
      "\n",
      "\n",
      "        [[[0.5079]]],\n",
      "\n",
      "\n",
      "        [[[0.5190]]],\n",
      "\n",
      "\n",
      "        [[[0.5005]]],\n",
      "\n",
      "\n",
      "        [[[0.4948]]],\n",
      "\n",
      "\n",
      "        [[[0.4931]]],\n",
      "\n",
      "\n",
      "        [[[0.5116]]],\n",
      "\n",
      "\n",
      "        [[[0.5148]]],\n",
      "\n",
      "\n",
      "        [[[0.5021]]],\n",
      "\n",
      "\n",
      "        [[[0.5013]]],\n",
      "\n",
      "\n",
      "        [[[0.5109]]],\n",
      "\n",
      "\n",
      "        [[[0.4928]]],\n",
      "\n",
      "\n",
      "        [[[0.4793]]],\n",
      "\n",
      "\n",
      "        [[[0.5030]]],\n",
      "\n",
      "\n",
      "        [[[0.5099]]],\n",
      "\n",
      "\n",
      "        [[[0.4883]]],\n",
      "\n",
      "\n",
      "        [[[0.5220]]],\n",
      "\n",
      "\n",
      "        [[[0.5026]]],\n",
      "\n",
      "\n",
      "        [[[0.4832]]],\n",
      "\n",
      "\n",
      "        [[[0.5018]]],\n",
      "\n",
      "\n",
      "        [[[0.4966]]],\n",
      "\n",
      "\n",
      "        [[[0.4852]]],\n",
      "\n",
      "\n",
      "        [[[0.4929]]],\n",
      "\n",
      "\n",
      "        [[[0.4934]]],\n",
      "\n",
      "\n",
      "        [[[0.5270]]],\n",
      "\n",
      "\n",
      "        [[[0.4849]]],\n",
      "\n",
      "\n",
      "        [[[0.4961]]],\n",
      "\n",
      "\n",
      "        [[[0.5027]]],\n",
      "\n",
      "\n",
      "        [[[0.4700]]],\n",
      "\n",
      "\n",
      "        [[[0.4955]]],\n",
      "\n",
      "\n",
      "        [[[0.5177]]],\n",
      "\n",
      "\n",
      "        [[[0.4902]]],\n",
      "\n",
      "\n",
      "        [[[0.5215]]],\n",
      "\n",
      "\n",
      "        [[[0.5148]]],\n",
      "\n",
      "\n",
      "        [[[0.5139]]],\n",
      "\n",
      "\n",
      "        [[[0.4893]]],\n",
      "\n",
      "\n",
      "        [[[0.5017]]],\n",
      "\n",
      "\n",
      "        [[[0.5030]]],\n",
      "\n",
      "\n",
      "        [[[0.5064]]],\n",
      "\n",
      "\n",
      "        [[[0.5010]]],\n",
      "\n",
      "\n",
      "        [[[0.5011]]],\n",
      "\n",
      "\n",
      "        [[[0.4963]]],\n",
      "\n",
      "\n",
      "        [[[0.4869]]],\n",
      "\n",
      "\n",
      "        [[[0.4997]]],\n",
      "\n",
      "\n",
      "        [[[0.5009]]],\n",
      "\n",
      "\n",
      "        [[[0.4966]]],\n",
      "\n",
      "\n",
      "        [[[0.4655]]],\n",
      "\n",
      "\n",
      "        [[[0.5065]]],\n",
      "\n",
      "\n",
      "        [[[0.4871]]],\n",
      "\n",
      "\n",
      "        [[[0.5079]]],\n",
      "\n",
      "\n",
      "        [[[0.5100]]],\n",
      "\n",
      "\n",
      "        [[[0.4867]]],\n",
      "\n",
      "\n",
      "        [[[0.4966]]],\n",
      "\n",
      "\n",
      "        [[[0.5106]]],\n",
      "\n",
      "\n",
      "        [[[0.4918]]],\n",
      "\n",
      "\n",
      "        [[[0.4842]]],\n",
      "\n",
      "\n",
      "        [[[0.4954]]],\n",
      "\n",
      "\n",
      "        [[[0.5050]]],\n",
      "\n",
      "\n",
      "        [[[0.4938]]],\n",
      "\n",
      "\n",
      "        [[[0.4936]]],\n",
      "\n",
      "\n",
      "        [[[0.5035]]],\n",
      "\n",
      "\n",
      "        [[[0.5130]]],\n",
      "\n",
      "\n",
      "        [[[0.4964]]],\n",
      "\n",
      "\n",
      "        [[[0.5147]]],\n",
      "\n",
      "\n",
      "        [[[0.4954]]],\n",
      "\n",
      "\n",
      "        [[[0.4745]]],\n",
      "\n",
      "\n",
      "        [[[0.5148]]],\n",
      "\n",
      "\n",
      "        [[[0.4868]]],\n",
      "\n",
      "\n",
      "        [[[0.5134]]],\n",
      "\n",
      "\n",
      "        [[[0.4978]]]], grad_fn=<SigmoidBackward>)\n",
      "torch.Size([100, 1024])\n"
     ]
    }
   ],
   "source": [
    "D = Discriminator(z_dim=256)\n",
    "\n",
    "input_z = torch.randn(batch_size, latent_size, 1, 1)\n",
    "fake_images = G(input_z)\n",
    "\n",
    "d_out, feature = D(fake_images, input_z)\n",
    "print(nn.Sigmoid()(d_out))\n",
    "print(feature.size())"
   ]
  },
  {
   "cell_type": "code",
   "execution_count": 195,
   "metadata": {},
   "outputs": [],
   "source": [
    "class Encoder(nn.Module):\n",
    "\n",
    "    #noiseについては新しく足した.\n",
    "    def __init__(self, z_dim=256, noise=False):\n",
    "        super(Encoder, self).__init__()\n",
    "        self.z_dim = z_dim\n",
    "        \n",
    "        if noise:\n",
    "            self.z_dim *= 2\n",
    "        self.layer1 = nn.Sequential(\n",
    "            nn.Conv2d(3, 32, kernel_size=5, stride=1, bias=False),\n",
    "            nn.BatchNorm2d(32),\n",
    "            nn.LeakyReLU(inplace=True))\n",
    "\n",
    "        self.layer2 = nn.Sequential(\n",
    "            nn.Conv2d(32, 64, kernel_size=4, stride=2, bias=False),\n",
    "            nn.BatchNorm2d(64),\n",
    "            nn.LeakyReLU(inplace=True))\n",
    "\n",
    "        self.layer3 = nn.Sequential(\n",
    "            nn.Conv2d(64, 128, kernel_size=4, stride=1, bias=False),\n",
    "            nn.BatchNorm2d(128),\n",
    "            nn.LeakyReLU(inplace=True))\n",
    "        \n",
    "        self.layer4 = nn.Sequential(\n",
    "            nn.Conv2d(128, 256, kernel_size=4, stride=2, bias=False),\n",
    "            nn.BatchNorm2d(256),\n",
    "            nn.LeakyReLU(inplace=True))\n",
    "        \n",
    "        self.layer5 = nn.Sequential(\n",
    "            nn.Conv2d(256, 512, kernel_size=4, stride=1, bias=False),\n",
    "            nn.BatchNorm2d(512),\n",
    "            nn.LeakyReLU(inplace=True))\n",
    "\n",
    "        self.layer6 = nn.Sequential(\n",
    "            nn.Conv2d(512, 512, kernel_size=1, stride=1, bias=False),\n",
    "            nn.BatchNorm2d(512),\n",
    "            nn.LeakyReLU(inplace=True))\n",
    "        \n",
    "        self.last = nn.Sequential(\n",
    "            nn.Conv2d(512, self.z_dim, kernel_size=1, stride=1, bias=True)\n",
    "        )\n",
    "\n",
    "    def forward(self, x):\n",
    "        out = self.layer1(x)\n",
    "        out = self.layer2(out)\n",
    "        out = self.layer3(out)\n",
    "        out = self.layer4(out)\n",
    "        out = self.layer5(out)\n",
    "        out = self.layer6(out)\n",
    "        out = self.last(out)\n",
    "        #out = torch.squeeze(self.last(out))\n",
    "\n",
    "        return out\n",
    "    #, x3.view(batch_size, -1), x2.view(batch_size, -1), x1.view(batch_size, -1)"
   ]
  },
  {
   "cell_type": "code",
   "execution_count": 196,
   "metadata": {},
   "outputs": [
    {
     "data": {
      "text/plain": [
       "Encoder(\n",
       "  (layer1): Sequential(\n",
       "    (0): Conv2d(3, 32, kernel_size=(5, 5), stride=(1, 1), bias=False)\n",
       "    (1): BatchNorm2d(32, eps=1e-05, momentum=0.1, affine=True, track_running_stats=True)\n",
       "    (2): LeakyReLU(negative_slope=0.01, inplace=True)\n",
       "  )\n",
       "  (layer2): Sequential(\n",
       "    (0): Conv2d(32, 64, kernel_size=(4, 4), stride=(2, 2), bias=False)\n",
       "    (1): BatchNorm2d(64, eps=1e-05, momentum=0.1, affine=True, track_running_stats=True)\n",
       "    (2): LeakyReLU(negative_slope=0.01, inplace=True)\n",
       "  )\n",
       "  (layer3): Sequential(\n",
       "    (0): Conv2d(64, 128, kernel_size=(4, 4), stride=(1, 1), bias=False)\n",
       "    (1): BatchNorm2d(128, eps=1e-05, momentum=0.1, affine=True, track_running_stats=True)\n",
       "    (2): LeakyReLU(negative_slope=0.01, inplace=True)\n",
       "  )\n",
       "  (layer4): Sequential(\n",
       "    (0): Conv2d(128, 256, kernel_size=(4, 4), stride=(2, 2), bias=False)\n",
       "    (1): BatchNorm2d(256, eps=1e-05, momentum=0.1, affine=True, track_running_stats=True)\n",
       "    (2): LeakyReLU(negative_slope=0.01, inplace=True)\n",
       "  )\n",
       "  (layer5): Sequential(\n",
       "    (0): Conv2d(256, 512, kernel_size=(4, 4), stride=(1, 1), bias=False)\n",
       "    (1): BatchNorm2d(512, eps=1e-05, momentum=0.1, affine=True, track_running_stats=True)\n",
       "    (2): LeakyReLU(negative_slope=0.01, inplace=True)\n",
       "  )\n",
       "  (layer6): Sequential(\n",
       "    (0): Conv2d(512, 512, kernel_size=(1, 1), stride=(1, 1), bias=False)\n",
       "    (1): BatchNorm2d(512, eps=1e-05, momentum=0.1, affine=True, track_running_stats=True)\n",
       "    (2): LeakyReLU(negative_slope=0.01, inplace=True)\n",
       "  )\n",
       "  (last): Sequential(\n",
       "    (0): Conv2d(512, 256, kernel_size=(1, 1), stride=(1, 1))\n",
       "  )\n",
       ")"
      ]
     },
     "execution_count": 196,
     "metadata": {},
     "output_type": "execute_result"
    }
   ],
   "source": [
    "Encoder()"
   ]
  },
  {
   "cell_type": "code",
   "execution_count": 197,
   "metadata": {},
   "outputs": [
    {
     "name": "stdout",
     "output_type": "stream",
     "text": [
      "torch.Size([100, 256, 1, 1])\n"
     ]
    }
   ],
   "source": [
    "E = Encoder(z_dim=256)\n",
    "x = fake_images\n",
    "z = E(x)\n",
    "print(z.shape)"
   ]
  },
  {
   "cell_type": "code",
   "execution_count": 198,
   "metadata": {},
   "outputs": [
    {
     "name": "stdout",
     "output_type": "stream",
     "text": [
      "ネットワークの初期化完了\n"
     ]
    }
   ],
   "source": [
    "def weights_init(m):\n",
    "    classname = m.__class__.__name__\n",
    "    if classname.find('Conv') != -1:\n",
    "        m.weight.data.normal_(0.0, 0.02)\n",
    "        if m.bias is not None:\n",
    "            m.bias.data.fill_(0)\n",
    "    elif classname.find('BatchNorm') != -1:\n",
    "        m.weight.data.normal_(1.0, 0.02)\n",
    "        m.bias.data.fill_(0)\n",
    "    elif classname.find('Linear') != -1:\n",
    "        m.bias.data.fill_(0)\n",
    "        \n",
    "G.apply(weights_init)\n",
    "E.apply(weights_init)\n",
    "D.apply(weights_init)\n",
    "\n",
    "print(\"ネットワークの初期化完了\")"
   ]
  },
  {
   "cell_type": "code",
   "execution_count": 199,
   "metadata": {},
   "outputs": [
    {
     "data": {
      "text/plain": [
       "tensor([0., 0., 0., 0., 0., 0., 0., 0., 0., 0.])"
      ]
     },
     "execution_count": 199,
     "metadata": {},
     "output_type": "execute_result"
    }
   ],
   "source": [
    "torch.full((10,), 0)"
   ]
  },
  {
   "cell_type": "code",
   "execution_count": 236,
   "metadata": {},
   "outputs": [],
   "source": [
    "# モデルを学習させる関数を作成\n",
    "\n",
    "\n",
    "def train_model(G, D, E, dataloader, num_epochs):\n",
    "\n",
    "    # GPUが使えるかを確認\n",
    "    device = torch.device(\"cuda:0\" if torch.cuda.is_available() else \"cpu\")\n",
    "    print(\"使用デバイス：\", device)\n",
    "\n",
    "    # 最適化手法の設定\n",
    "    lr_ge = 1e-4\n",
    "    lr_d = 1e-4 #もとはdevided by 4\n",
    "    beta1, beta2 = 0.5, 0.999\n",
    "    g_optimizer = torch.optim.Adam(G.parameters(), lr_ge, [beta1, beta2])\n",
    "    e_optimizer = torch.optim.Adam(E.parameters(), lr_ge, [beta1, beta2])\n",
    "    d_optimizer = torch.optim.Adam(D.parameters(), lr_d, [beta1, beta2])\n",
    "\n",
    "    # 誤差関数を定義\n",
    "    # BCEWithLogitsLossは入力にシグモイド（logit）をかけてから、\n",
    "    # バイナリークロスエントロピーを計算\n",
    "    criterion = nn.BCEWithLogitsLoss(reduction='mean')\n",
    "\n",
    "    # パラメータをハードコーディング\n",
    "    z_dim = 256\n",
    "    mini_batch_size = 50\n",
    "\n",
    "    # ネットワークをGPUへ\n",
    "    G.to(device)\n",
    "    E.to(device)\n",
    "    D.to(device)\n",
    "\n",
    "    G.train()  # モデルを訓練モードに\n",
    "    E.train()  # モデルを訓練モードに\n",
    "    D.train()  # モデルを訓練モードに\n",
    "\n",
    "    # ネットワークがある程度固定であれば、高速化させる\n",
    "    torch.backends.cudnn.benchmark = True\n",
    "\n",
    "    # 画像の枚数\n",
    "    num_train_imgs = len(dataloader.dataset)\n",
    "    batch_size = dataloader.batch_size\n",
    "\n",
    "    # イテレーションカウンタをセット\n",
    "    iteration = 1\n",
    "    logs = []\n",
    "\n",
    "    # epochのループ\n",
    "    for epoch in range(num_epochs):\n",
    "\n",
    "        # 開始時刻を保存\n",
    "        t_epoch_start = time.time()\n",
    "        epoch_g_loss = 0.0  # epochの損失和\n",
    "        epoch_e_loss = 0.0  # epochの損失和\n",
    "        epoch_d_loss = 0.0  # epochの損失和\n",
    "\n",
    "        print('-------------')\n",
    "        print('Epoch {}/{}'.format(epoch, num_epochs))\n",
    "        print('-------------')\n",
    "        print('（train）')\n",
    "\n",
    "        # データローダーからminibatchずつ取り出すループ\n",
    "        for imges in dataloader:\n",
    "\n",
    "            # ミニバッチがサイズが1だと、バッチノーマライゼーションでエラーになるのでさける\n",
    "            if imges[0].size()[0] == 1:\n",
    "                continue\n",
    "\n",
    "            # ミニバッチサイズの1もしくは0のラベル役のテンソルを作成\n",
    "            # 正解ラベルと偽ラベルを作成\n",
    "            # epochの最後のイテレーションはミニバッチの数が少なくなる\n",
    "            mini_batch_size = imges[0].size()[0]\n",
    "            label_real = torch.full((mini_batch_size,), 1).to(device)\n",
    "            label_fake = torch.full((mini_batch_size,), 0).to(device)\n",
    "\n",
    "            # GPUが使えるならGPUにデータを送る\n",
    "            imges = imges[0].to(device)\n",
    "\n",
    "            # --------------------\n",
    "            # 1. Discriminatorの学習\n",
    "            # --------------------\n",
    "            # 真の画像を判定　\n",
    "            z_out_real = E(imges)\n",
    "            d_out_real, _ = D(imges, z_out_real)\n",
    "\n",
    "            # 偽の画像を生成して判定\n",
    "            input_z = torch.randn(mini_batch_size, z_dim, 1, 1).to(device)\n",
    "            fake_images = G(input_z)\n",
    "            d_out_fake, _ = D(fake_images, input_z)\n",
    "\n",
    "            # 誤差を計算\n",
    "            d_loss_real = criterion(d_out_real.view(-1), label_real)\n",
    "            d_loss_fake = criterion(d_out_fake.view(-1), label_fake)\n",
    "            d_loss = d_loss_real + d_loss_fake\n",
    "\n",
    "            # バックプロパゲーション\n",
    "            #d_optimizer.zero_grad()\n",
    "            #d_loss.backward()\n",
    "            #d_optimizer.step()\n",
    "\n",
    "            # --------------------\n",
    "            # 2. Generatorの学習\n",
    "            # --------------------\n",
    "            # 偽の画像を生成して判定\n",
    "            input_z = torch.randn(mini_batch_size, z_dim, 1, 1).to(device)\n",
    "            fake_images = G(input_z)\n",
    "            d_out_fake, _ = D(fake_images, input_z)\n",
    "\n",
    "            # 誤差を計算\n",
    "            g_loss = criterion(d_out_fake.view(-1), label_real)\n",
    "            \n",
    "            #print(g_loss)\n",
    "            if g_loss.item() < 3.5:\n",
    "                d_optimizer.zero_grad()\n",
    "                d_loss.backward()\n",
    "                d_optimizer.step()\n",
    "            # バックプロパゲーション\n",
    "            g_optimizer.zero_grad()\n",
    "            g_loss.backward()\n",
    "            g_optimizer.step()\n",
    "\n",
    "            # --------------------\n",
    "            # 3. Encoderの学習\n",
    "            # --------------------\n",
    "            # 真の画像のzを推定\n",
    "            z_out_real = E(imges)\n",
    "            d_out_real, _ = D(imges, z_out_real)\n",
    "\n",
    "            # 誤差を計算\n",
    "            e_loss = criterion(d_out_real.view(-1), label_fake)\n",
    "\n",
    "            # バックプロパゲーション\n",
    "            e_optimizer.zero_grad()\n",
    "            e_loss.backward()\n",
    "            e_optimizer.step()\n",
    "\n",
    "            # --------------------\n",
    "            # 4. 記録\n",
    "            # --------------------\n",
    "            epoch_d_loss += d_loss.item()\n",
    "            epoch_g_loss += g_loss.item()\n",
    "            epoch_e_loss += e_loss.item()\n",
    "            iteration += 1\n",
    "\n",
    "        # epochのphaseごとのlossと正解率\n",
    "        t_epoch_finish = time.time()\n",
    "        print('-------------')\n",
    "        print('epoch {} || Epoch_D_Loss:{:.4f} ||Epoch_G_Loss:{:.4f} ||Epoch_E_Loss:{:.4f}'.format(\n",
    "            epoch, epoch_d_loss/batch_size, epoch_g_loss/batch_size, epoch_e_loss/batch_size))\n",
    "        print('timer:  {:.4f} sec.'.format(t_epoch_finish - t_epoch_start))\n",
    "        t_epoch_start = time.time()\n",
    "\n",
    "    print(\"総イテレーション回数:\", iteration)\n",
    "\n",
    "    return G, D, E\n"
   ]
  },
  {
   "cell_type": "code",
   "execution_count": 237,
   "metadata": {},
   "outputs": [],
   "source": [
    "def indices_maker():\n",
    "    transform = transforms.Compose(\n",
    "        [transforms.ToTensor(),\n",
    "        transforms.Normalize((0.49139968, 0.48215841, 0.44653091),\n",
    "                             (0.24703223, 0.24348513, 0.26158784))]\n",
    "    )\n",
    "    trainset = torchvision.datasets.CIFAR10(root=\"./data\",\n",
    "                                            train=True, download=True,\n",
    "                                            transform=transform)\n",
    "    aircraft_indices, car_indices, bird_indices, cat_indices, deer_indices = [], [], [], [], []\n",
    "    dog_indices, frog_indices, horse_indices, ship_indices, truck_indices = [], [], [], [], []\n",
    "    i = 0\n",
    "    #aircraft_indicesにlabelが0(=飛行機)の画像のindexを入れる.\n",
    "    for tensor in tqdm(trainset):\n",
    "        if tensor[1] == 0:\n",
    "            aircraft_indices.append(i)\n",
    "        if tensor[1] == 1:\n",
    "            car_indices.append(i)\n",
    "        if tensor[1] == 2:\n",
    "            bird_indices.append(i)\n",
    "        if tensor[1] == 3:\n",
    "            cat_indices.append(i)\n",
    "        if tensor[1] == 4:\n",
    "            deer_indices.append(i)\n",
    "        if tensor[1] == 5:\n",
    "            dog_indices.append(i)\n",
    "        if tensor[1] == 6:\n",
    "            frog_indices.append(i)\n",
    "        if tensor[1] == 7:\n",
    "            horse_indices.append(i)\n",
    "        if tensor[1] == 8:\n",
    "            ship_indices.append(i)\n",
    "        if tensor[1] == 9:\n",
    "            truck_indices.append(i)\n",
    "        i += 1\n",
    "    return aircraft_indices, car_indices, bird_indices, cat_indices, deer_indices, dog_indices, frog_indices, horse_indices, ship_indices, truck_indices"
   ]
  },
  {
   "cell_type": "code",
   "execution_count": 238,
   "metadata": {},
   "outputs": [],
   "source": [
    "#aircraft_indices, car_indices, bird_indices, cat_indices, deer_indices, dog_indices, frog_indices, horse_indices, ship_indices, truck_indices = indices_maker()"
   ]
  },
  {
   "cell_type": "code",
   "execution_count": 239,
   "metadata": {},
   "outputs": [
    {
     "data": {
      "text/plain": [
       "5000"
      ]
     },
     "execution_count": 239,
     "metadata": {},
     "output_type": "execute_result"
    }
   ],
   "source": [
    "len(car_indices)"
   ]
  },
  {
   "cell_type": "code",
   "execution_count": 240,
   "metadata": {},
   "outputs": [],
   "source": [
    "def load_datasets():\n",
    "    transform = transforms.Compose(\n",
    "        [transforms.ToTensor(),\n",
    "        transforms.Normalize((0.49139968, 0.48215841, 0.44653091),\n",
    "                             (0.24703223, 0.24348513, 0.26158784))]\n",
    "    )\n",
    "    trainset = torchvision.datasets.CIFAR10(root=\"./data\",\n",
    "                                            train=False, download=True,\n",
    "                                            transform=transform)\n",
    "    train_loader = torch.utils.data.DataLoader(trainset, batch_size=100,\n",
    "                                              shuffle=True, num_workers=4)\n",
    "    #train_loader = torch.utils.data.DataLoader(trainset, batch_size=100,\n",
    "    #                                           sampler=SubsetRandomSampler(car_indices), num_workers=4)\n",
    "    testset = torchvision.datasets.CIFAR10(root=\"./data\",\n",
    "                                            train=False, download=True,\n",
    "                                            transform=transform)\n",
    "    test_loader = torch.utils.data.DataLoader(testset, batch_size=1024,\n",
    "                                               shuffle=True, num_workers=4)\n",
    "    return train_loader, test_loader"
   ]
  },
  {
   "cell_type": "code",
   "execution_count": 241,
   "metadata": {
    "scrolled": true
   },
   "outputs": [
    {
     "name": "stdout",
     "output_type": "stream",
     "text": [
      "Files already downloaded and verified\n",
      "Files already downloaded and verified\n"
     ]
    }
   ],
   "source": [
    "train_loader, test_loader = load_datasets()"
   ]
  },
  {
   "cell_type": "code",
   "execution_count": 242,
   "metadata": {
    "scrolled": true
   },
   "outputs": [],
   "source": [
    "#動作の確認\n",
    "batch_iterator = iter(train_loader)\n",
    "imges = next(batch_iterator)"
   ]
  },
  {
   "cell_type": "code",
   "execution_count": 243,
   "metadata": {
    "scrolled": true
   },
   "outputs": [
    {
     "name": "stdout",
     "output_type": "stream",
     "text": [
      "使用デバイス： cuda:0\n",
      "-------------\n",
      "Epoch 0/100\n",
      "-------------\n",
      "（train）\n"
     ]
    },
    {
     "ename": "RuntimeError",
     "evalue": "CUDA error: device-side assert triggered",
     "output_type": "error",
     "traceback": [
      "\u001b[0;31m---------------------------------------------------------------------------\u001b[0m",
      "\u001b[0;31mRuntimeError\u001b[0m                              Traceback (most recent call last)",
      "\u001b[0;32m<ipython-input-243-d0a15f782ccf>\u001b[0m in \u001b[0;36m<module>\u001b[0;34m\u001b[0m\n\u001b[1;32m      4\u001b[0m \u001b[0mnum_epochs\u001b[0m \u001b[0;34m=\u001b[0m \u001b[0;36m100\u001b[0m\u001b[0;34m\u001b[0m\u001b[0;34m\u001b[0m\u001b[0m\n\u001b[1;32m      5\u001b[0m G_update, D_update, E_update = train_model(\n\u001b[0;32m----> 6\u001b[0;31m     G, D, E, dataloader=train_loader, num_epochs=num_epochs)\n\u001b[0m",
      "\u001b[0;32m<ipython-input-236-0f7932b78b40>\u001b[0m in \u001b[0;36mtrain_model\u001b[0;34m(G, D, E, dataloader, num_epochs)\u001b[0m\n\u001b[1;32m     70\u001b[0m             \u001b[0;31m# epochの最後のイテレーションはミニバッチの数が少なくなる\u001b[0m\u001b[0;34m\u001b[0m\u001b[0;34m\u001b[0m\u001b[0;34m\u001b[0m\u001b[0m\n\u001b[1;32m     71\u001b[0m             \u001b[0mmini_batch_size\u001b[0m \u001b[0;34m=\u001b[0m \u001b[0mimges\u001b[0m\u001b[0;34m[\u001b[0m\u001b[0;36m0\u001b[0m\u001b[0;34m]\u001b[0m\u001b[0;34m.\u001b[0m\u001b[0msize\u001b[0m\u001b[0;34m(\u001b[0m\u001b[0;34m)\u001b[0m\u001b[0;34m[\u001b[0m\u001b[0;36m0\u001b[0m\u001b[0;34m]\u001b[0m\u001b[0;34m\u001b[0m\u001b[0;34m\u001b[0m\u001b[0m\n\u001b[0;32m---> 72\u001b[0;31m             \u001b[0mlabel_real\u001b[0m \u001b[0;34m=\u001b[0m \u001b[0mtorch\u001b[0m\u001b[0;34m.\u001b[0m\u001b[0mfull\u001b[0m\u001b[0;34m(\u001b[0m\u001b[0;34m(\u001b[0m\u001b[0mmini_batch_size\u001b[0m\u001b[0;34m,\u001b[0m\u001b[0;34m)\u001b[0m\u001b[0;34m,\u001b[0m \u001b[0;36m1\u001b[0m\u001b[0;34m)\u001b[0m\u001b[0;34m.\u001b[0m\u001b[0mto\u001b[0m\u001b[0;34m(\u001b[0m\u001b[0mdevice\u001b[0m\u001b[0;34m)\u001b[0m\u001b[0;34m\u001b[0m\u001b[0;34m\u001b[0m\u001b[0m\n\u001b[0m\u001b[1;32m     73\u001b[0m             \u001b[0mlabel_fake\u001b[0m \u001b[0;34m=\u001b[0m \u001b[0mtorch\u001b[0m\u001b[0;34m.\u001b[0m\u001b[0mfull\u001b[0m\u001b[0;34m(\u001b[0m\u001b[0;34m(\u001b[0m\u001b[0mmini_batch_size\u001b[0m\u001b[0;34m,\u001b[0m\u001b[0;34m)\u001b[0m\u001b[0;34m,\u001b[0m \u001b[0;36m0\u001b[0m\u001b[0;34m)\u001b[0m\u001b[0;34m.\u001b[0m\u001b[0mto\u001b[0m\u001b[0;34m(\u001b[0m\u001b[0mdevice\u001b[0m\u001b[0;34m)\u001b[0m\u001b[0;34m\u001b[0m\u001b[0;34m\u001b[0m\u001b[0m\n\u001b[1;32m     74\u001b[0m \u001b[0;34m\u001b[0m\u001b[0m\n",
      "\u001b[0;31mRuntimeError\u001b[0m: CUDA error: device-side assert triggered"
     ]
    }
   ],
   "source": [
    "# 学習・検証を実行する\n",
    "# 1500epochで150分ほどかかる(200images for mnistで)\n",
    "# 今回は300程度に制限する. (学習させすぎて収束しすぎてしまったのではないか?) -> \n",
    "num_epochs = 100\n",
    "G_update, D_update, E_update = train_model(\n",
    "    G, D, E, dataloader=train_loader, num_epochs=num_epochs)"
   ]
  },
  {
   "cell_type": "code",
   "execution_count": null,
   "metadata": {},
   "outputs": [],
   "source": [
    "#作成したモデルの保存(model dirは予め作っておく)\n",
    "torch.save(G_update.state_dict(), \"./model/G_deep_1118.pkl\")\n",
    "torch.save(D_update.state_dict(), \"./model/D_deep_1118.pkl\")\n",
    "torch.save(E_update.state_dict(), \"./model/E_deep_1118.pkl\")"
   ]
  },
  {
   "cell_type": "code",
   "execution_count": 147,
   "metadata": {},
   "outputs": [
    {
     "data": {
      "text/plain": [
       "<All keys matched successfully>"
      ]
     },
     "execution_count": 147,
     "metadata": {},
     "output_type": "execute_result"
    }
   ],
   "source": [
    "#作成したモデルの読み込み(test ver.)\n",
    "Disc = Discriminator()\n",
    "Gene = Generator()\n",
    "Enc = Encoder()\n",
    "param_d = torch.load(\"./model/D.pkl\")\n",
    "param_g = torch.load(\"./model/G.pkl\")\n",
    "param_e = torch.load(\"./model/E.pkl\")\n",
    "Disc.load_state_dict(param_d)\n",
    "Gene.load_state_dict(param_g)\n",
    "Enc.load_state_dict(param_e)"
   ]
  },
  {
   "cell_type": "code",
   "execution_count": 93,
   "metadata": {},
   "outputs": [],
   "source": [
    "def Anomaly_score(x, fake_img, z_out_real, D, Lambda=0.1):\n",
    "    residual_loss = torch.abs(x-fake_img)\n",
    "    residual_loss = residual_loss.view(residual_loss.size()[0], -1)\n",
    "    residual_loss = torch.sum(residual_loss, dim=1)\n",
    "    \n",
    "    _, x_feature = D(x, z_out_real)\n",
    "    _, G_feature = D(fake_img, z_out_real)\n",
    "    \n",
    "    discrimination_loss = torch.abs(x_feature-G_feature)\n",
    "    discrimination_loss = discrimination_loss.view(discrimination_loss.size()[0], -1)\n",
    "    discrimination_loss = torch.sum(discrimination_loss, dim=1)\n",
    "    \n",
    "    loss_each = (1-Lambda)*residual_loss + Lambda*discrimination_loss\n",
    "    total_loss = torch.sum(loss_each)\n",
    "    return total_loss, loss_each, residual_loss, discrimination_loss"
   ]
  },
  {
   "cell_type": "code",
   "execution_count": 94,
   "metadata": {},
   "outputs": [],
   "source": [
    "from __future__ import absolute_import\n",
    "from __future__ import division\n",
    "from __future__ import print_function\n",
    "from six.moves import cPickle as pickle\n",
    "from six.moves import xrange  # pylint: disable=redefined-builtin\n",
    "import collections\n",
    "import os\n",
    "import sys\n",
    "import tarfile\n",
    "import numpy as np\n",
    "from tqdm import tqdm\n",
    "from absl import flags\n",
    "import absl.logging as _logging  # pylint: disable=unused-import\n",
    "import scipy.io\n",
    "import tensorflow as tf\n",
    "from randaugment import policies as found_policies\n",
    "from randaugment import augmentation_transforms\n",
    "#特に異常検知の文脈において.\n",
    "import torch\n",
    "from torch import nn\n",
    "import torchvision\n",
    "import torchvision.transforms as transforms\n",
    "from torchvision import datasets\n",
    "from torch.utils.data.sampler import SubsetRandomSampler\n",
    "from torch.utils import data\n",
    "import numpy as np\n",
    "from tqdm import tqdm\n",
    "import os\n",
    "import pickle\n",
    "import statistics\n",
    "import matplotlib.pyplot as plt\n",
    "import random\n",
    "import warnings\n",
    "from PIL import Image\n",
    "warnings.simplefilter('ignore')\n",
    "from hyperdash import monitor_cell"
   ]
  },
  {
   "cell_type": "code",
   "execution_count": 95,
   "metadata": {},
   "outputs": [],
   "source": [
    "CIFAR_TARNAME = \"cifar-10-python.tar.gz\"\n",
    "CIFAR_DOWNLOAD_URL = \"https://www.cs.toronto.edu/~kriz/\" + CIFAR_TARNAME\n",
    "SVHN_DOWNLOAD_URL = \"http://ufldl.stanford.edu/housenumbers/{}_32x32.mat\"\n",
    "\n",
    "DOWNLOAD_DATA_FOLDER = \"downloaded_data\"\n",
    "MERGE_DATA_FOLDER = \"merged_raw_data\"\n",
    "\n",
    "random_seed = np.random.randint(0, 10000)"
   ]
  },
  {
   "cell_type": "code",
   "execution_count": 96,
   "metadata": {},
   "outputs": [],
   "source": [
    "def format_sup_filename(split, sup_size=-1):\n",
    "  if split == \"test\":\n",
    "    return \"test.tfrecord\"\n",
    "  elif split == \"train\" or split == \"dev\":\n",
    "    if sup_size == -1:\n",
    "      return \"{}-full.tfrecord\".format(split, sup_size)\n",
    "    else:\n",
    "      return \"{}-size_{:d}.tfrecord\".format(split, sup_size)\n",
    "\n",
    "def format_unsup_filename(aug_copy_num):\n",
    "  return \"unsup-{:d}.tfrecord\".format(aug_copy_num)\n",
    "\n",
    "\n",
    "def _int64_feature(value):\n",
    "  return tf.train.Feature(int64_list=tf.train.Int64List(value=list(value)))\n",
    "\n",
    "\n",
    "def _float_feature(value):\n",
    "  return tf.train.Feature(float_list=tf.train.FloatList(value=list(value)))\n",
    "\n",
    "\n",
    "def get_raw_data_filenames(split):\n",
    "    if split == \"train\":\n",
    "        return [\"data_batch_%d\" % i for i in xrange(1, 6)]\n",
    "    elif split == \"test\":\n",
    "      return [\"test_batch\"]\n",
    "    else:\n",
    "        assert False\n",
    "\n",
    "\n",
    "def read_pickle_from_file(filename):\n",
    "  with tf.gfile.Open(filename, \"rb\") as f:\n",
    "    if sys.version_info >= (3, 0):\n",
    "      data_dict = pickle.load(f, encoding=\"bytes\")\n",
    "    else:\n",
    "      data_dict = pickle.load(f)\n",
    "  return data_dict\n",
    "\n",
    "\n",
    "def obtain_tfrecord_writer(out_path, shard_cnt):\n",
    "  tfrecord_writer = tf.python_io.TFRecordWriter(\n",
    "      \"{}.{:d}\".format(out_path, shard_cnt))\n",
    "  return tfrecord_writer\n",
    "\n",
    "\n",
    "def save_tfrecord(example_list, out_path, max_shard_size=4096):\n",
    "  shard_cnt = 0\n",
    "  shard_size = 0\n",
    "  record_writer = obtain_tfrecord_writer(out_path, shard_cnt)\n",
    "  for example in example_list:\n",
    "    if shard_size >= max_shard_size:\n",
    "      record_writer.close()\n",
    "      shard_cnt += 1\n",
    "      record_writer = obtain_tfrecord_writer(out_path, shard_cnt)\n",
    "      shard_size = 0\n",
    "    shard_size += 1\n",
    "    record_writer.write(example.SerializeToString())\n",
    "  record_writer.close()\n",
    "  tf.logging.info(\"saved {} examples to {}\".format(len(example_list), out_path))\n",
    "\n",
    "\n",
    "def save_merged_data(images, labels, split, merge_folder):\n",
    "  with tf.gfile.Open(\n",
    "      os.path.join(merge_folder, \"{}_images.npy\".format(split)), \"wb\") as ouf:\n",
    "    np.save(ouf, images)\n",
    "  with tf.gfile.Open(\n",
    "      os.path.join(merge_folder, \"{}_labels.npy\".format(split)), \"wb\") as ouf:\n",
    "    np.save(ouf, labels)"
   ]
  },
  {
   "cell_type": "code",
   "execution_count": 97,
   "metadata": {},
   "outputs": [
    {
     "name": "stdout",
     "output_type": "stream",
     "text": [
      "INFO:tensorflow:found all merged files\n",
      "all_exist:True\n",
      "INFO:tensorflow:downloading dataset\n"
     ]
    }
   ],
   "source": [
    "all_exist = True\n",
    "download_folder = os.path.join(DOWNLOAD_DATA_FOLDER)\n",
    "merge_folder = os.path.join(MERGE_DATA_FOLDER)\n",
    "for split in [\"train\", \"test\"]:\n",
    "    for field in [\"images\", \"labels\"]:\n",
    "        if not tf.gfile.Exists(os.path.join(merge_folder, \"{}_{}.npy\".format(split, field))):\n",
    "            all_exist = False\n",
    "if all_exist:\n",
    "    tf.logging.info(\"found all merged files\")\n",
    "print('all_exist:' + str(all_exist))\n",
    "tf.logging.info(\"downloading dataset\")\n",
    "tf.gfile.MakeDirs(download_folder)\n",
    "tf.gfile.MakeDirs(merge_folder)"
   ]
  },
  {
   "cell_type": "code",
   "execution_count": 98,
   "metadata": {},
   "outputs": [
    {
     "name": "stdout",
     "output_type": "stream",
     "text": [
      "WARNING:tensorflow:\n",
      "The TensorFlow contrib module will not be included in TensorFlow 2.0.\n",
      "For more information, please see:\n",
      "  * https://github.com/tensorflow/community/blob/master/rfcs/20180907-contrib-sunset.md\n",
      "  * https://github.com/tensorflow/addons\n",
      "  * https://github.com/tensorflow/io (for I/O related ops)\n",
      "If you depend on functionality not listed there, please file an issue.\n",
      "\n",
      "WARNING:tensorflow:From <ipython-input-98-6790cd9f9af3>:3: maybe_download (from tensorflow.contrib.learn.python.learn.datasets.base) is deprecated and will be removed in a future version.\n",
      "Instructions for updating:\n",
      "Please write your own downloading logic.\n"
     ]
    }
   ],
   "source": [
    "#if FLAGS.task_name == 'cifar10'以下の話\n",
    "tf.contrib.learn.datasets.base.maybe_download(\n",
    "    CIFAR_TARNAME, download_folder, CIFAR_DOWNLOAD_URL)\n",
    "tarfile.open(os.path.join(download_folder, CIFAR_TARNAME), \"r:gz\").extractall(download_folder)"
   ]
  },
  {
   "cell_type": "code",
   "execution_count": 99,
   "metadata": {},
   "outputs": [],
   "source": [
    "for split in [\"train\", \"test\"]:\n",
    "    images_list = []\n",
    "    labels_list = []\n",
    "    for filename in get_raw_data_filenames(split):\n",
    "        cur_data = read_pickle_from_file(\n",
    "            os.path.join(download_folder, \"cifar-10-batches-py\", filename))\n",
    "        labels_list += [cur_data[b\"labels\"]]\n",
    "        images_list += [cur_data[b\"data\"]]\n",
    "    images = np.concatenate(images_list, 0)\n",
    "    labels = np.concatenate(labels_list, 0)\n",
    "    images = images.reshape([-1, 3, 32, 32])\n",
    "    images = images.transpose(0, 2, 3, 1)\n",
    "    save_merged_data(images, labels, split, merge_folder)"
   ]
  },
  {
   "cell_type": "code",
   "execution_count": 100,
   "metadata": {},
   "outputs": [],
   "source": [
    "#dataのtrainとtestをそれぞれimagesとlabelsに分けて作る.\n",
    "def load_dataset():\n",
    "    data = {}\n",
    "    merge_folder = os.path.join(MERGE_DATA_FOLDER)\n",
    "    for split in [\"train\", \"test\"]:\n",
    "        with tf.gfile.Open(\n",
    "            os.path.join(merge_folder, \"{}_images.npy\".format(split)), 'rb') as inf:\n",
    "            images = np.load(inf)\n",
    "        with tf.gfile.Open(\n",
    "            os.path.join(merge_folder, \"{}_labels.npy\".format(split)), 'rb') as inf:\n",
    "            labels = np.load(inf)\n",
    "        data[split] = {\"images\":images, \"labels\":labels}\n",
    "    return data"
   ]
  },
  {
   "cell_type": "code",
   "execution_count": 101,
   "metadata": {},
   "outputs": [],
   "source": [
    "#多分iterableにimageとlabelを取り出す.最後まで, 可能な限り\n",
    "def get_data_by_size_lim(images, labels, sup_size, return_rest=False):\n",
    "    chosen_images = images[:sup_size]\n",
    "    chosen_labels = labels[:sup_size]\n",
    "    rest_images = images[sup_size:]\n",
    "    rest_labels = labels[sup_size:]\n",
    "    if return_rest:\n",
    "        return chosen_images, chosen_labels, rest_images, rest_labels"
   ]
  },
  {
   "cell_type": "code",
   "execution_count": 102,
   "metadata": {},
   "outputs": [],
   "source": [
    "def process_and_save_sup_data(chosen_images, chosen_labels, split, sup_size=-1):\n",
    "    chosen_images = chosen_images / 255.0\n",
    "    mean, std = [0.49139968, 0.48215841, 0.44653091], [0.24703223, 0.24348513, 0.26158784]\n",
    "    chosen_images = (chosen_images - mean) / std\n",
    "    example_list = []\n",
    "    for image, label in zip(chosen_images, chosen_labels):\n",
    "        example = tf.train.Example(features=tf.train.Features(\n",
    "            feature={\n",
    "                \"image\": _float_feature(image.reshape(-1)),\n",
    "                \"label\": _int64_feature(label.reshape(-1))\n",
    "            }))\n",
    "        example_list += [example]\n",
    "    out_path = os.path.join(output_base_dir, format_sup_filename(split, sup_size))\n",
    "    tf.logging.info(\">>saving {} {} examples to {}\".format(len(example_list), split, out_path))\n",
    "    save_tfrecord(example_list, out_path)"
   ]
  },
  {
   "cell_type": "code",
   "execution_count": 103,
   "metadata": {},
   "outputs": [],
   "source": [
    "def proc_and_dump_sup_data(sub_set_data, split, sup_size=-1):\n",
    "    images = sub_set_data[\"images\"]\n",
    "    labels = sub_set_data[\"labels\"]\n",
    "    if sup_size != -1:\n",
    "        chosen_images, chosen_labels = get_data_by_size_lim(\n",
    "            images, labels, sup_size)\n",
    "    else:\n",
    "        chosen_images = images\n",
    "        chosen_labels = labels\n",
    "    process_and_save_sup_data(chosen_images, chosen_labels, split)"
   ]
  },
  {
   "cell_type": "code",
   "execution_count": 106,
   "metadata": {},
   "outputs": [],
   "source": [
    "data = load_dataset()\n",
    "output_base_dir = \"data/proc_data/cifar10_eff3\""
   ]
  },
  {
   "cell_type": "code",
   "execution_count": 105,
   "metadata": {},
   "outputs": [],
   "source": [
    "!mkdir \"data/proc_data/cifar10_eff3\""
   ]
  },
  {
   "cell_type": "code",
   "execution_count": 108,
   "metadata": {},
   "outputs": [
    {
     "name": "stdout",
     "output_type": "stream",
     "text": [
      "INFO:tensorflow:trans_list: ['Invert', 'Cutout', 'Sharpness', 'AutoContrast', 'Posterize', 'ShearX', 'TranslateX', 'TranslateY', 'ShearY', 'Rotate', 'Equalize', 'Contrast', 'Color', 'Solarize', 'Brightness']\n"
     ]
    },
    {
     "name": "stderr",
     "output_type": "stream",
     "text": [
      "100%|██████████| 50000/50000 [00:00<00:00, 330617.33it/s]\n"
     ]
    }
   ],
   "source": [
    "ori_images = data[\"train\"][\"images\"].copy()\n",
    "image_idx = np.arange(len(ori_images))\n",
    "np.random.shuffle(image_idx)\n",
    "ori_images = ori_images[image_idx]\n",
    "ori_images = ori_images / 255.0\n",
    "#平均と標準偏差逐一計算. sklearn\n",
    "mean, std = [0.49139968, 0.48215841, 0.44653091], [0.24703223, 0.24348513, 0.26158784]\n",
    "ori_images = (ori_images - mean) / std\n",
    "aug_policies = found_policies.randaug_policies()\n",
    "example_list = []\n",
    "aug_image_list = torch.randn(100, 3, 32, 32)\n",
    "i = 0\n",
    "for image in tqdm(ori_images):\n",
    "    if i < 100:\n",
    "        chosen_policy = aug_policies[np.random.choice(\n",
    "            len(aug_policies))]\n",
    "        #この段階で, chosen_policyは2個の要素を持っている.\n",
    "        aug_image = augmentation_transforms.apply_policy(\n",
    "            chosen_policy, image)\n",
    "        aug_image = augmentation_transforms.cutout_numpy(aug_image)\n",
    "        #ここで条件式を投げて, aug_imageが一定の閾値以下であれば3回目のaugmentationを加える.\n",
    "        aug_image_list[i] = torch.from_numpy(aug_image.transpose(2, 0, 1))\n",
    "        i += 1"
   ]
  },
  {
   "cell_type": "code",
   "execution_count": 83,
   "metadata": {},
   "outputs": [
    {
     "data": {
      "text/plain": [
       "torch.Size([256, 3, 32, 32])"
      ]
     },
     "execution_count": 83,
     "metadata": {},
     "output_type": "execute_result"
    }
   ],
   "source": [
    "aug_image_list.size()"
   ]
  },
  {
   "cell_type": "code",
   "execution_count": 225,
   "metadata": {
    "scrolled": true
   },
   "outputs": [
    {
     "name": "stdout",
     "output_type": "stream",
     "text": [
      "使用デバイス: cuda:0\n"
     ]
    }
   ],
   "source": [
    "#デバイスの確認\n",
    "device = torch.device(\"cuda:0\" if torch.cuda.is_available() else \"cpu\")\n",
    "print(\"使用デバイス:\", device)"
   ]
  },
  {
   "cell_type": "code",
   "execution_count": 226,
   "metadata": {},
   "outputs": [
    {
     "data": {
      "text/plain": [
       "100"
      ]
     },
     "execution_count": 226,
     "metadata": {},
     "output_type": "execute_result"
    }
   ],
   "source": [
    "len(aug_image_list[0:257])"
   ]
  },
  {
   "cell_type": "code",
   "execution_count": 227,
   "metadata": {
    "scrolled": true
   },
   "outputs": [
    {
     "ename": "RuntimeError",
     "evalue": "CUDA error: device-side assert triggered",
     "output_type": "error",
     "traceback": [
      "\u001b[0;31m---------------------------------------------------------------------------\u001b[0m",
      "\u001b[0;31mRuntimeError\u001b[0m                              Traceback (most recent call last)",
      "\u001b[0;32m<ipython-input-227-ecf2471385cd>\u001b[0m in \u001b[0;36m<module>\u001b[0;34m\u001b[0m\n\u001b[1;32m      3\u001b[0m \u001b[0;32mfor\u001b[0m \u001b[0mi\u001b[0m \u001b[0;32min\u001b[0m \u001b[0mrange\u001b[0m\u001b[0;34m(\u001b[0m\u001b[0;36m100\u001b[0m\u001b[0;34m)\u001b[0m\u001b[0;34m:\u001b[0m\u001b[0;34m\u001b[0m\u001b[0;34m\u001b[0m\u001b[0m\n\u001b[1;32m      4\u001b[0m     \u001b[0mx\u001b[0m\u001b[0;34m[\u001b[0m\u001b[0mi\u001b[0m\u001b[0;34m]\u001b[0m \u001b[0;34m=\u001b[0m \u001b[0mtorch\u001b[0m\u001b[0;34m.\u001b[0m\u001b[0mfrom_numpy\u001b[0m\u001b[0;34m(\u001b[0m\u001b[0mimages\u001b[0m\u001b[0;34m[\u001b[0m\u001b[0mi\u001b[0m\u001b[0;34m]\u001b[0m\u001b[0;34m.\u001b[0m\u001b[0mtranspose\u001b[0m\u001b[0;34m(\u001b[0m\u001b[0;36m2\u001b[0m\u001b[0;34m,\u001b[0m\u001b[0;36m0\u001b[0m\u001b[0;34m,\u001b[0m\u001b[0;36m1\u001b[0m\u001b[0;34m)\u001b[0m\u001b[0;34m)\u001b[0m\u001b[0;34m\u001b[0m\u001b[0;34m\u001b[0m\u001b[0m\n\u001b[0;32m----> 5\u001b[0;31m \u001b[0mx\u001b[0m \u001b[0;34m=\u001b[0m \u001b[0mx\u001b[0m\u001b[0;34m.\u001b[0m\u001b[0mto\u001b[0m\u001b[0;34m(\u001b[0m\u001b[0mdevice\u001b[0m\u001b[0;34m)\u001b[0m\u001b[0;34m\u001b[0m\u001b[0;34m\u001b[0m\u001b[0m\n\u001b[0m\u001b[1;32m      6\u001b[0m \u001b[0;34m\u001b[0m\u001b[0m\n\u001b[1;32m      7\u001b[0m \u001b[0mz_out_real\u001b[0m \u001b[0;34m=\u001b[0m \u001b[0mE_update\u001b[0m\u001b[0;34m(\u001b[0m\u001b[0mx\u001b[0m\u001b[0;34m)\u001b[0m\u001b[0;34m\u001b[0m\u001b[0;34m\u001b[0m\u001b[0m\n",
      "\u001b[0;31mRuntimeError\u001b[0m: CUDA error: device-side assert triggered"
     ]
    }
   ],
   "source": [
    "#ここから下で生成したデータの確認\n",
    "x = torch.randn(100, 3, 32, 32)\n",
    "for i in range(100):\n",
    "    x[i] = torch.from_numpy(images[i].transpose(2,0,1))\n",
    "x = x.to(device)\n",
    "\n",
    "z_out_real = E_update(x)\n",
    "imges_reconstract = G_update(z_out_real)\n",
    "\n",
    "loss, loss_each, residual_loss_each, discrimination_loss_each = Anomaly_score(x, imges_reconstract, z_out_real, D_update, Lambda=0.1)\n",
    "loss_each = loss_each.cpu().detach().numpy()\n",
    "print(\"total loss:\", np.round(loss_each, 0))\n",
    "print(\"discrimination loss:\", np.round(discrimination_loss_each.cpu().detach().numpy(), 0))\n",
    "print(np.shape(x[1].cpu().detach().numpy().transpose(1, 2, 0)))\n",
    "print(np.shape(imges_reconstract[0].cpu().detach().numpy().transpose(1,2,0)))\n",
    "\n",
    "fig = plt.figure(figsize=(15, 9))\n",
    "for i in range(0,5):\n",
    "    plt.subplot(2, 5, i+1)\n",
    "    plt.imshow(images[i+50])\n",
    "    plt.subplot(2, 5, 5+i+1)\n",
    "    plt.imshow(imges_reconstract[i+50].cpu().detach().numpy().transpose(1,2,0))\n",
    "    plt.savefig(\"shippai.png\")\n",
    "\"\"\"\n",
    "    plt.subplot(2, 5, 5+i+1)\n",
    "    plt.imshow(imges_reconstract[i].cpu().detach().numpy().transpose(1,2,0))\"\"\""
   ]
  },
  {
   "cell_type": "code",
   "execution_count": 103,
   "metadata": {},
   "outputs": [
    {
     "data": {
      "image/png": "[encoded data removed]",
      "text/plain": [
       "<Figure size 432x288 with 1 Axes>"
      ]
     },
     "metadata": {
      "needs_background": "light"
     },
     "output_type": "display_data"
    }
   ],
   "source": [
    "plt.imshow(images[10])\n",
    "plt.savefig(\"normal_example.png\")"
   ]
  },
  {
   "cell_type": "code",
   "execution_count": 89,
   "metadata": {
    "scrolled": true
   },
   "outputs": [
    {
     "data": {
      "image/png": "[encoded data removed]",
      "text/plain": [
       "<Figure size 432x288 with 1 Axes>"
      ]
     },
     "metadata": {
      "needs_background": "light"
     },
     "output_type": "display_data"
    }
   ],
   "source": [
    "sns.distplot(discrimination_loss_each.cpu().detach().numpy());\n",
    "#とりあえず閾値を500にしてみる."
   ]
  },
  {
   "cell_type": "code",
   "execution_count": 168,
   "metadata": {},
   "outputs": [
    {
     "data": {
      "text/plain": [
       "array([51, 64])"
      ]
     },
     "execution_count": 168,
     "metadata": {},
     "output_type": "execute_result"
    }
   ],
   "source": [
    "tmp[0]"
   ]
  },
  {
   "cell_type": "code",
   "execution_count": 90,
   "metadata": {
    "scrolled": true
   },
   "outputs": [
    {
     "name": "stderr",
     "output_type": "stream",
     "text": [
      "Clipping input data to the valid range for imshow with RGB data ([0..1] for floats or [0..255] for integers).\n",
      "Clipping input data to the valid range for imshow with RGB data ([0..1] for floats or [0..255] for integers).\n",
      "Clipping input data to the valid range for imshow with RGB data ([0..1] for floats or [0..255] for integers).\n",
      "Clipping input data to the valid range for imshow with RGB data ([0..1] for floats or [0..255] for integers).\n"
     ]
    },
    {
     "name": "stdout",
     "output_type": "stream",
     "text": [
      "total loss: [2522. 2935. 2644. 2786. 3667. 3389. 2740. 3776. 3233. 2946. 3249. 3207.\n",
      " 3957. 2660. 2867. 2779. 2981. 2865. 2551. 3142. 3016. 2876. 2605. 3052.\n",
      " 2652. 5121. 3376. 2567. 2833. 3023. 2774. 3278. 2652. 2312. 3305. 3580.\n",
      " 4646. 2590. 3274. 2652. 3025. 2756. 2730. 2292. 3357. 2916. 3133. 3608.\n",
      " 2792. 3361. 3654. 2681. 2536. 3548. 2642. 3642. 3795. 2813. 3186. 2765.\n",
      " 4401. 2443. 3084. 2673. 2516. 3242. 3296. 3290. 3276. 2992. 3210. 3021.\n",
      " 3635. 3734. 2678. 3029. 2804. 2844. 2874. 3162. 2832. 3257. 2629. 2651.\n",
      " 2801. 3657. 3348. 2817. 3747. 2617. 2600. 3385. 2763. 3465. 3076. 2693.\n",
      " 2561. 2909. 2590. 2736. 3189. 2999. 3548. 2989. 3169. 2722. 2571. 3056.\n",
      " 2579. 2587. 3048. 3497. 2636. 3196. 3223. 4549. 2850. 2855. 3006. 2652.\n",
      " 3453. 2881. 3148. 3784. 2905. 2889. 2806. 3486. 2929. 3087. 2786. 3236.\n",
      " 4387. 2919. 2691. 3494. 2851. 2923. 2505. 3144. 2794. 2952. 3377. 2742.\n",
      " 3318. 2572. 3498. 3051. 2935. 2762. 2369. 2145. 3001. 3285. 2929. 3290.\n",
      " 2856. 2521. 2855. 3457. 2616. 2462. 3234. 5180. 3769. 2860. 2151. 2518.\n",
      " 3031. 3704. 2914. 2578. 2800. 2523. 3227. 3542. 2913. 3159. 2507. 3308.\n",
      " 3543. 3128. 3379. 2956. 2953. 2988. 4180. 3928. 2953. 2755. 3090. 2968.\n",
      " 3088. 2629. 2849. 3448. 2872. 3861. 3091. 3890. 2632. 2694. 3096. 3322.\n",
      " 3058. 2897. 3680. 3245. 2711. 2882. 2810. 3552. 3372. 3609. 2885. 3568.\n",
      " 2959. 2376. 3041. 3791. 4212. 4708. 4380. 2974. 3123. 3609. 2557. 3603.\n",
      " 2713. 2827. 2954. 3160. 2525. 3142. 2645. 2695. 2960. 3139. 3442. 3061.\n",
      " 2746. 3639. 4285. 2896. 2532. 2760. 2825. 3996. 2923. 3553. 3400. 2862.\n",
      " 2963. 3674. 2294. 2811.]\n",
      "discrimination loss: [404. 373. 350. 462. 653. 530. 431. 509. 493. 424. 497. 441. 567. 433.\n",
      " 457. 519. 405. 419. 407. 407. 416. 511. 359. 472. 439. 906. 637. 383.\n",
      " 390. 550. 351. 438. 395. 425. 405. 592. 752. 450. 524. 416. 535. 417.\n",
      " 415. 367. 529. 412. 460. 531. 375. 583. 662. 383. 418. 549. 445. 525.\n",
      " 556. 409. 472. 400. 622. 362. 488. 441. 352. 509. 622. 499. 443. 554.\n",
      " 465. 527. 581. 568. 416. 425. 435. 435. 382. 537. 476. 453. 436. 412.\n",
      " 437. 593. 521. 452. 423. 391. 392. 570. 405. 574. 473. 406. 433. 392.\n",
      " 400. 444. 451. 356. 543. 433. 479. 403. 358. 420. 367. 414. 393. 461.\n",
      " 464. 464. 511. 682. 475. 470. 494. 405. 614. 463. 484. 720. 423. 439.\n",
      " 439. 487. 473. 487. 369. 518. 544. 403. 364. 489. 454. 493. 376. 367.\n",
      " 470. 452. 495. 457. 522. 400. 491. 434. 416. 410. 378. 376. 423. 500.\n",
      " 432. 443. 425. 374. 390. 501. 355. 437. 467. 761. 564. 379. 386. 331.\n",
      " 422. 638. 468. 368. 458. 399. 379. 524. 509. 461. 383. 469. 510. 545.\n",
      " 475. 403. 472. 450. 600. 490. 417. 492. 456. 509. 474. 449. 644. 461.\n",
      " 477. 562. 473. 770. 329. 355. 425. 439. 389. 383. 561. 490. 447. 505.\n",
      " 393. 477. 554. 484. 418. 457. 406. 360. 492. 538. 685. 722. 677. 482.\n",
      " 472. 631. 368. 618. 397. 426. 457. 479. 333. 491. 427. 394. 442. 451.\n",
      " 563. 517. 393. 670. 647. 461. 361. 482. 384. 575. 380. 537. 505. 413.\n",
      " 521. 614. 435. 408.]\n",
      "(32, 32, 3)\n",
      "(32, 32, 3)\n"
     ]
    },
    {
     "name": "stderr",
     "output_type": "stream",
     "text": [
      "Clipping input data to the valid range for imshow with RGB data ([0..1] for floats or [0..255] for integers).\n",
      "Clipping input data to the valid range for imshow with RGB data ([0..1] for floats or [0..255] for integers).\n",
      "Clipping input data to the valid range for imshow with RGB data ([0..1] for floats or [0..255] for integers).\n",
      "Clipping input data to the valid range for imshow with RGB data ([0..1] for floats or [0..255] for integers).\n",
      "Clipping input data to the valid range for imshow with RGB data ([0..1] for floats or [0..255] for integers).\n",
      "Clipping input data to the valid range for imshow with RGB data ([0..1] for floats or [0..255] for integers).\n"
     ]
    },
    {
     "data": {
      "image/png": "[encoded data removed]",
      "text/plain": [
       "<Figure size 1080x648 with 10 Axes>"
      ]
     },
     "metadata": {
      "needs_background": "light"
     },
     "output_type": "display_data"
    }
   ],
   "source": [
    "x = torch.randn(256, 3, 32, 32)\n",
    "for i in range(256):\n",
    "    x[i] = aug_image_list[i]\n",
    "x = x.to(device)\n",
    "\n",
    "z_out_real = E_update(x.to(device))\n",
    "imges_reconstract = G_update(z_out_real)\n",
    "\n",
    "loss, loss_each, residual_loss_each, discrimination_loss_each = Anomaly_score(x, imges_reconstract, z_out_real, D_update, Lambda=0.1)\n",
    "loss_each = loss_each.cpu().detach().numpy()\n",
    "print(\"total loss:\", np.round(loss_each, 0))\n",
    "print(\"discrimination loss:\", np.round(discrimination_loss_each.cpu().detach().numpy(), 0))\n",
    "print(np.shape(x[1].cpu().detach().numpy().transpose(1, 2, 0)))\n",
    "print(np.shape(imges_reconstract[0].cpu().detach().numpy().transpose(1,2,0)))\n",
    "tmp = np.where(discrimination_loss_each.cpu().detach().numpy() > 350)\n",
    "\n",
    "fig = plt.figure(figsize=(15, 9))\n",
    "for i in range(0,5):\n",
    "    plt.subplot(2, 5, i+1)\n",
    "    plt.imshow(x[tmp[0][i+5]].cpu().detach().numpy().transpose(1,2,0))\n",
    "    plt.subplot(2, 5, 5+i+1)\n",
    "    plt.imshow(imges_reconstract[i].cpu().detach().numpy().transpose(1,2,0))\n",
    "    #plt.imshow(imges_reconstract[tmp[0][i]].cpu().detach().numpy().transpose(1,2,0))\n",
    "    plt.savefig(\"shippai.png\")"
   ]
  },
  {
   "cell_type": "code",
   "execution_count": 91,
   "metadata": {
    "scrolled": false
   },
   "outputs": [
    {
     "data": {
      "image/png": "[encoded data removed]",
      "text/plain": [
       "<Figure size 432x288 with 1 Axes>"
      ]
     },
     "metadata": {
      "needs_background": "light"
     },
     "output_type": "display_data"
    }
   ],
   "source": [
    "sns.distplot(discrimination_loss_each.cpu().detach().numpy(), rug=False);\n",
    "#とりあえず閾値を350にしてみる."
   ]
  },
  {
   "cell_type": "code",
   "execution_count": 1515,
   "metadata": {},
   "outputs": [
    {
     "ename": "SyntaxError",
     "evalue": "invalid syntax (<ipython-input-1515-1e1b1007ccc5>, line 2)",
     "output_type": "error",
     "traceback": [
      "\u001b[0;36m  File \u001b[0;32m\"<ipython-input-1515-1e1b1007ccc5>\"\u001b[0;36m, line \u001b[0;32m2\u001b[0m\n\u001b[0;31m    ori_images = data[][\"images\"].copy()\u001b[0m\n\u001b[0m                      ^\u001b[0m\n\u001b[0;31mSyntaxError\u001b[0m\u001b[0;31m:\u001b[0m invalid syntax\n"
     ]
    }
   ],
   "source": [
    "###ここから下は実行しない###\n",
    "ori_images = data[][\"images\"].copy()\n",
    "image_idx = np.arange(len(ori_images))\n",
    "np.random.shuffle(image_idx)\n",
    "ori_images = ori_images[image_idx]\n",
    "ori_images = ori_images / 255.0\n",
    "mean, std = [0.49139968, 0.48215841, 0.44653091], [0.24703223, 0.24348513, 0.26158784]\n",
    "ori_images = (ori_images - mean) / std\n",
    "aug_policies = found_policies.randaug_policies()\n",
    "example_list = []\n",
    "i, j = 0, 0\n",
    "for image in ori_images:\n",
    "    chosen_policy = aug_policies[np.random.choice(len(aug_policies))]\n",
    "    aug_image = augmentation_transforms.apply_policy(chosen_policy, image)\n",
    "    aug_image = augmentation_transforms.cutout_numpy(aug_image)\n",
    "    example = tf.train.Example(features=tf.train.Features(\n",
    "        feature={\n",
    "            \"ori_image\": _float_feature(image.reshape(-1)),\n",
    "            \"aug_image\": _float_feature(aug_image.reshape(-1)),\n",
    "        }))\n",
    "    example_list += [example]\n",
    "    aug_image_list[i] = torch.from_numpy(aug_image.transpose(2, 0, 1))\n",
    "    i += 1\n",
    "    if i >= 256:\n",
    "        x = aug_image_list\n",
    "        x = x.to(device)\n",
    "        z = torch.randn(256, 128).to(device)\n",
    "        z = z.view(z.size(0), z.size(1), 1, 1)\n",
    "        z.requires_grad = True\n",
    "        z_optimizer = torch.optim.Adam([z], lr=1e-3)\n",
    "        for epoch in range(5000+1):\n",
    "            fake_img = G_update(z)\n",
    "            loss, _, discrimination_loss = Anormaly_score(x, fake_img, D_update, Lambda=0.1)\n",
    "            z_optimizer.zero_grad()\n",
    "            loss.backward()\n",
    "            z_optimizer.step()\n",
    "        fake_img = G_update(z)\n",
    "        loss, loss_each, residual_loss_each, discrimination_loss = Anormaly_score(x, fake_img, D_update, Lambda=0.1)\n",
    "        discrimination_loss = discrimination_loss.cpu().detach().numpy()\n",
    "        print(\"total loss：\", np.round(discrimination_loss, 0))\n",
    "        tmp = np.where(discrimination_loss > 1000)[0]\n",
    "        # 1000を超えるdiscrimination lossのところは作り直し.\n",
    "        for k in range(len(tmp)):\n",
    "            chosen_policy = aug_policies[np.random.choice(len(aug_policies))]\n",
    "            image = ori_images[tmp[k] + 256*j]\n",
    "            aug_image_v2 = augmentation_transforms.apply_policy(chosen_policy, image)\n",
    "            aug_image_v2 = augmentation_transforms.cutout_numpy(aug_image_v2)\n",
    "            example = tf.train.Example(features=tf.train.Features(\n",
    "                feature={\n",
    "                    \"ori_image\": _float_feature(image.reshape(-1)),\n",
    "                    \"aug_image\": _float_feature(aug_image_v2.reshape(-1)),\n",
    "                }))\n",
    "            example_list[tmp[k] + 256*j] = example\n",
    "        i = 0\n",
    "        j += 1\n",
    "        print(len(example_list))\n",
    "    else:\n",
    "        pass\n",
    "out_path = os.path.join(output_base_dir, format_unsup_filename(aug_copy_num),)\n",
    "save_tfrecord(example_list, out_path)"
   ]
  },
  {
   "cell_type": "code",
   "execution_count": null,
   "metadata": {},
   "outputs": [],
   "source": []
  }
 ],
 "metadata": {
  "kernelspec": {
   "display_name": "Python 3",
   "language": "python",
   "name": "python3"
  },
  "language_info": {
   "codemirror_mode": {
    "name": "ipython",
    "version": 3
   },
   "file_extension": ".py",
   "mimetype": "text/x-python",
   "name": "python",
   "nbconvert_exporter": "python",
   "pygments_lexer": "ipython3",
   "version": "3.6.8"
  }
 },
 "nbformat": 4,
 "nbformat_minor": 2
}
