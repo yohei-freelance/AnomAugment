{
 "cells": [
  {
   "cell_type": "markdown",
   "metadata": {},
   "source": [
    "# UDAの前処理に異常検知を混ぜることでデータセットの多様性を増やす"
   ]
  },
  {
   "cell_type": "markdown",
   "metadata": {},
   "source": [
    "<h3> まず、既定路線の関数を定義する </h3>\n",
    "<h4> preprocess.py </h4>"
   ]
  },
  {
   "cell_type": "code",
   "execution_count": 1,
   "metadata": {},
   "outputs": [],
   "source": [
    "from hyperdash import monitor_cell"
   ]
  },
  {
   "cell_type": "code",
   "execution_count": 2,
   "metadata": {},
   "outputs": [],
   "source": [
    "#特に前処理について.\n",
    "from __future__ import absolute_import\n",
    "from __future__ import division\n",
    "from __future__ import print_function\n",
    "from six.moves import cPickle as pickle\n",
    "from six.moves import xrange  # pylint: disable=redefined-builtin\n",
    "import collections\n",
    "import os\n",
    "import sys\n",
    "import cv2\n",
    "import tarfile\n",
    "import numpy as np\n",
    "from tqdm import tqdm\n",
    "from absl import flags\n",
    "import absl.logging as _logging  # pylint: disable=unused-import\n",
    "import scipy.io\n",
    "import tensorflow as tf\n",
    "from randaugment import policies as found_policies\n",
    "from randaugment import augmentation_transforms"
   ]
  },
  {
   "cell_type": "code",
   "execution_count": 3,
   "metadata": {},
   "outputs": [],
   "source": [
    "#特に異常検知の文脈において.\n",
    "import torch\n",
    "from torch import nn\n",
    "import torchvision\n",
    "import torchvision.transforms as transforms\n",
    "from torchvision import datasets\n",
    "from torch.utils.data.sampler import SubsetRandomSampler\n",
    "from torch.utils import data\n",
    "import numpy as np\n",
    "from tqdm import tqdm\n",
    "import os\n",
    "import pickle\n",
    "import statistics\n",
    "import matplotlib.pyplot as plt\n",
    "import random\n",
    "import warnings\n",
    "from PIL import Image\n",
    "import seaborn as sns\n",
    "warnings.simplefilter('ignore')"
   ]
  },
  {
   "cell_type": "code",
   "execution_count": 4,
   "metadata": {},
   "outputs": [
    {
     "name": "stdout",
     "output_type": "stream",
     "text": [
      "使用デバイス: cuda:0\n"
     ]
    }
   ],
   "source": [
    "#デバイスの確認\n",
    "device = torch.device(\"cuda:0\" if torch.cuda.is_available() else \"cpu\")\n",
    "print(\"使用デバイス:\", device)"
   ]
  },
  {
   "cell_type": "code",
   "execution_count": 5,
   "metadata": {},
   "outputs": [],
   "source": [
    "CIFAR_TARNAME = \"cifar-10-python.tar.gz\"\n",
    "CIFAR_DOWNLOAD_URL = \"https://www.cs.toronto.edu/~kriz/\" + CIFAR_TARNAME\n",
    "SVHN_DOWNLOAD_URL = \"http://ufldl.stanford.edu/housenumbers/{}_32x32.mat\"\n",
    "\n",
    "DOWNLOAD_DATA_FOLDER = \"downloaded_data\"\n",
    "MERGE_DATA_FOLDER = \"merged_raw_data\"\n",
    "\n",
    "random_seed = np.random.randint(0, 10000)"
   ]
  },
  {
   "cell_type": "code",
   "execution_count": 6,
   "metadata": {},
   "outputs": [],
   "source": [
    "def format_sup_filename(split, sup_size=-1):\n",
    "  if split == \"test\":\n",
    "    return \"test.tfrecord\"\n",
    "  elif split == \"train\" or split == \"dev\":\n",
    "    if sup_size == -1:\n",
    "      return \"{}-full.tfrecord\".format(split, sup_size)\n",
    "    else:\n",
    "      return \"{}-size_{:d}.tfrecord\".format(split, sup_size)\n",
    "\n",
    "def format_unsup_filename(aug_copy_num):\n",
    "  return \"unsup-{:d}.tfrecord\".format(aug_copy_num)\n",
    "\n",
    "\n",
    "def _int64_feature(value):\n",
    "  return tf.train.Feature(int64_list=tf.train.Int64List(value=list(value)))\n",
    "\n",
    "\n",
    "def _float_feature(value):\n",
    "  return tf.train.Feature(float_list=tf.train.FloatList(value=list(value)))\n",
    "\n",
    "\n",
    "def get_raw_data_filenames(split):\n",
    "    if split == \"train\":\n",
    "        return [\"data_batch_%d\" % i for i in xrange(1, 6)]\n",
    "    elif split == \"test\":\n",
    "      return [\"test_batch\"]\n",
    "    else:\n",
    "        assert False\n",
    "\n",
    "\n",
    "def read_pickle_from_file(filename):\n",
    "  with tf.gfile.Open(filename, \"rb\") as f:\n",
    "    if sys.version_info >= (3, 0):\n",
    "      data_dict = pickle.load(f, encoding=\"bytes\")\n",
    "    else:\n",
    "      data_dict = pickle.load(f)\n",
    "  return data_dict\n",
    "\n",
    "\n",
    "def obtain_tfrecord_writer(out_path, shard_cnt):\n",
    "  tfrecord_writer = tf.python_io.TFRecordWriter(\n",
    "      \"{}.{:d}\".format(out_path, shard_cnt))\n",
    "  return tfrecord_writer\n",
    "\n",
    "\n",
    "def save_tfrecord(example_list, out_path, max_shard_size=4096):\n",
    "  shard_cnt = 0\n",
    "  shard_size = 0\n",
    "  record_writer = obtain_tfrecord_writer(out_path, shard_cnt)\n",
    "  for example in example_list:\n",
    "    if shard_size >= max_shard_size:\n",
    "      record_writer.close()\n",
    "      shard_cnt += 1\n",
    "      record_writer = obtain_tfrecord_writer(out_path, shard_cnt)\n",
    "      shard_size = 0\n",
    "    shard_size += 1\n",
    "    record_writer.write(example.SerializeToString())\n",
    "  record_writer.close()\n",
    "  tf.logging.info(\"saved {} examples to {}\".format(len(example_list), out_path))\n",
    "\n",
    "\n",
    "def save_merged_data(images, labels, split, merge_folder):\n",
    "  with tf.gfile.Open(\n",
    "      os.path.join(merge_folder, \"{}_images.npy\".format(split)), \"wb\") as ouf:\n",
    "    np.save(ouf, images)\n",
    "  with tf.gfile.Open(\n",
    "      os.path.join(merge_folder, \"{}_labels.npy\".format(split)), \"wb\") as ouf:\n",
    "    np.save(ouf, labels)"
   ]
  },
  {
   "cell_type": "markdown",
   "metadata": {},
   "source": [
    "<h3> 次に、download_and_extract関数を行ごとに実行して様子を見つつ、可能そうならデータのオーグメンテーションをしてみる </h3>"
   ]
  },
  {
   "cell_type": "code",
   "execution_count": 7,
   "metadata": {},
   "outputs": [
    {
     "name": "stdout",
     "output_type": "stream",
     "text": [
      "INFO:tensorflow:found all merged files\n",
      "all_exist:True\n",
      "INFO:tensorflow:downloading dataset\n"
     ]
    }
   ],
   "source": [
    "all_exist = True\n",
    "download_folder = os.path.join(DOWNLOAD_DATA_FOLDER)\n",
    "merge_folder = os.path.join(MERGE_DATA_FOLDER)\n",
    "for split in [\"train\", \"test\"]:\n",
    "    for field in [\"images\", \"labels\"]:\n",
    "        if not tf.gfile.Exists(os.path.join(merge_folder, \"{}_{}.npy\".format(split, field))):\n",
    "            all_exist = False\n",
    "if all_exist:\n",
    "    tf.logging.info(\"found all merged files\")\n",
    "print('all_exist:' + str(all_exist))\n",
    "tf.logging.info(\"downloading dataset\")\n",
    "tf.gfile.MakeDirs(download_folder)\n",
    "tf.gfile.MakeDirs(merge_folder)"
   ]
  },
  {
   "cell_type": "code",
   "execution_count": 8,
   "metadata": {},
   "outputs": [
    {
     "name": "stdout",
     "output_type": "stream",
     "text": [
      "WARNING:tensorflow:\n",
      "The TensorFlow contrib module will not be included in TensorFlow 2.0.\n",
      "For more information, please see:\n",
      "  * https://github.com/tensorflow/community/blob/master/rfcs/20180907-contrib-sunset.md\n",
      "  * https://github.com/tensorflow/addons\n",
      "  * https://github.com/tensorflow/io (for I/O related ops)\n",
      "If you depend on functionality not listed there, please file an issue.\n",
      "\n",
      "WARNING:tensorflow:From <ipython-input-8-6790cd9f9af3>:3: maybe_download (from tensorflow.contrib.learn.python.learn.datasets.base) is deprecated and will be removed in a future version.\n",
      "Instructions for updating:\n",
      "Please write your own downloading logic.\n"
     ]
    }
   ],
   "source": [
    "#if FLAGS.task_name == 'cifar10'以下の話\n",
    "tf.contrib.learn.datasets.base.maybe_download(\n",
    "    CIFAR_TARNAME, download_folder, CIFAR_DOWNLOAD_URL)\n",
    "tarfile.open(os.path.join(download_folder, CIFAR_TARNAME), \"r:gz\").extractall(download_folder)"
   ]
  },
  {
   "cell_type": "code",
   "execution_count": 9,
   "metadata": {},
   "outputs": [],
   "source": [
    "for split in [\"train\", \"test\"]:\n",
    "    images_list = []\n",
    "    labels_list = []\n",
    "    for filename in get_raw_data_filenames(split):\n",
    "        cur_data = read_pickle_from_file(\n",
    "            os.path.join(download_folder, \"cifar-10-batches-py\", filename))\n",
    "        labels_list += [cur_data[b\"labels\"]]\n",
    "        images_list += [cur_data[b\"data\"]]\n",
    "    images = np.concatenate(images_list, 0)\n",
    "    labels = np.concatenate(labels_list, 0)\n",
    "    images = images.reshape([-1, 3, 32, 32])\n",
    "    images = images.transpose(0, 2, 3, 1)\n",
    "    save_merged_data(images, labels, split, merge_folder)"
   ]
  },
  {
   "cell_type": "code",
   "execution_count": 10,
   "metadata": {},
   "outputs": [],
   "source": [
    "#dataのtrainとtestをそれぞれimagesとlabelsに分けて作る.\n",
    "def load_dataset():\n",
    "    data = {}\n",
    "    merge_folder = os.path.join(MERGE_DATA_FOLDER)\n",
    "    for split in [\"train\", \"test\"]:\n",
    "        with tf.gfile.Open(\n",
    "            os.path.join(merge_folder, \"{}_images.npy\".format(split)), 'rb') as inf:\n",
    "            images = np.load(inf)\n",
    "        with tf.gfile.Open(\n",
    "            os.path.join(merge_folder, \"{}_labels.npy\".format(split)), 'rb') as inf:\n",
    "            labels = np.load(inf)\n",
    "        data[split] = {\"images\":images, \"labels\":labels}\n",
    "    return data"
   ]
  },
  {
   "cell_type": "code",
   "execution_count": 11,
   "metadata": {},
   "outputs": [],
   "source": [
    "#多分iterableにimageとlabelを取り出す.最後まで, 可能な限り\n",
    "def get_data_by_size_lim(images, labels, sup_size, return_rest=False):\n",
    "    chosen_images = images[:sup_size]\n",
    "    chosen_labels = labels[:sup_size]\n",
    "    rest_images = images[sup_size:]\n",
    "    rest_labels = labels[sup_size:]\n",
    "    if return_rest:\n",
    "        return chosen_images, chosen_labels, rest_images, rest_labels"
   ]
  },
  {
   "cell_type": "code",
   "execution_count": 12,
   "metadata": {},
   "outputs": [],
   "source": [
    "def process_and_save_sup_data(chosen_images, chosen_labels, split, sup_size=-1):\n",
    "    chosen_images = chosen_images / 255.0\n",
    "    mean, std = [0.49139968, 0.48215841, 0.44653091], [0.24703223, 0.24348513, 0.26158784]\n",
    "    chosen_images = (chosen_images - mean) / std\n",
    "    example_list = []\n",
    "    for image, label in zip(chosen_images, chosen_labels):\n",
    "        example = tf.train.Example(features=tf.train.Features(\n",
    "            feature={\n",
    "                \"image\": _float_feature(image.reshape(-1)),\n",
    "                \"label\": _int64_feature(label.reshape(-1))\n",
    "            }))\n",
    "        example_list += [example]\n",
    "    out_path = os.path.join(output_base_dir, format_sup_filename(split, sup_size))\n",
    "    tf.logging.info(\">>saving {} {} examples to {}\".format(len(example_list), split, out_path))\n",
    "    save_tfrecord(example_list, out_path)"
   ]
  },
  {
   "cell_type": "code",
   "execution_count": 13,
   "metadata": {},
   "outputs": [],
   "source": [
    "def proc_and_dump_sup_data(sub_set_data, split, sup_size=-1):\n",
    "    images = sub_set_data[\"images\"]\n",
    "    labels = sub_set_data[\"labels\"]\n",
    "    if sup_size != -1:\n",
    "        chosen_images, chosen_labels = get_data_by_size_lim(\n",
    "            images, labels, sup_size)\n",
    "    else:\n",
    "        chosen_images = images\n",
    "        chosen_labels = labels\n",
    "    process_and_save_sup_data(chosen_images, chosen_labels, split)"
   ]
  },
  {
   "cell_type": "code",
   "execution_count": 14,
   "metadata": {},
   "outputs": [],
   "source": [
    "#augmentation_transforms.apply_policy, cutout_numpyについて考える."
   ]
  },
  {
   "cell_type": "code",
   "execution_count": 15,
   "metadata": {},
   "outputs": [],
   "source": [
    "#unsupervised dataのみをrand augmentする.\n",
    "def proc_and_dump_unsup_data(sub_set_data, aug_copy_num):\n",
    "    ori_images = sub_set_data[\"images\"].copy()\n",
    "    image_idx = np.arange(len(ori_images))\n",
    "    np.random.shuffle(image_idx)\n",
    "    ori_images = ori_images[image_idx]\n",
    "    ori_images = ori_images / 255.0\n",
    "    mean, std = [0.49139968, 0.48215841, 0.44653091], [0.24703223, 0.24348513, 0.26158784]\n",
    "    ori_images = (ori_images - mean) / std\n",
    "    aug_policies = found_policies.randaug_policies()\n",
    "    example_list = []\n",
    "    for image in ori_images:\n",
    "        chosen_policy = aug_policies[np.random.choice(\n",
    "            len(aug_policies))]\n",
    "        #この段階で, chosen_policyは2個の要素を持っている.\n",
    "        aug_image = augmentation_transforms.apply_policy(\n",
    "            chosen_policy, image)\n",
    "        aug_image = augmentation_transforms.cutout_numpy(aug_image)\n",
    "        #ここで条件式を投げて, aug_imageが一定の閾値以下であれば3回目のaugmentationを加える.\n",
    "        example = tf.train.Example(features=tf.train.Features(\n",
    "            feature={\n",
    "                \"ori_image\": _float_feature(image.reshape(-1)),\n",
    "                \"aug_image\": _float_feature(aug_image.reshape(-1)),\n",
    "            }))\n",
    "        example_list += [example]\n",
    "    out_path = os.path.join(output_base_dir, format_unsup_filename(aug_copy_num),)\n",
    "    save_tfrecord(example_list, out_path)"
   ]
  },
  {
   "cell_type": "code",
   "execution_count": 16,
   "metadata": {},
   "outputs": [
    {
     "name": "stdout",
     "output_type": "stream",
     "text": [
      "Files already downloaded and verified\n"
     ]
    },
    {
     "name": "stderr",
     "output_type": "stream",
     "text": [
      "100%|██████████| 50000/50000 [00:08<00:00, 5848.55it/s]\n"
     ]
    }
   ],
   "source": [
    "def indices_maker():\n",
    "    transform = transforms.Compose(\n",
    "        [transforms.ToTensor(),\n",
    "        transforms.Normalize((0.49139968, 0.48215841, 0.44653091),\n",
    "                             (0.24703223, 0.24348513, 0.26158784))]\n",
    "    )\n",
    "    trainset = torchvision.datasets.CIFAR10(root=\"./data\",\n",
    "                                            train=True, download=True,\n",
    "                                            transform=transform)\n",
    "    aircraft_indices, car_indices, bird_indices, cat_indices, deer_indices = [], [], [], [], []\n",
    "    dog_indices, frog_indices, horse_indices, ship_indices, truck_indices = [], [], [], [], []\n",
    "    i = 0\n",
    "    #aircraft_indicesにlabelが0(=飛行機)の画像のindexを入れる.\n",
    "    for tensor in tqdm(trainset):\n",
    "        if tensor[1] == 0:\n",
    "            aircraft_indices.append(i)\n",
    "        if tensor[1] == 1:\n",
    "            car_indices.append(i)\n",
    "        if tensor[1] == 2:\n",
    "            bird_indices.append(i)\n",
    "        if tensor[1] == 3:\n",
    "            cat_indices.append(i)\n",
    "        if tensor[1] == 4:\n",
    "            deer_indices.append(i)\n",
    "        if tensor[1] == 5:\n",
    "            dog_indices.append(i)\n",
    "        if tensor[1] == 6:\n",
    "            frog_indices.append(i)\n",
    "        if tensor[1] == 7:\n",
    "            horse_indices.append(i)\n",
    "        if tensor[1] == 8:\n",
    "            ship_indices.append(i)\n",
    "        if tensor[1] == 9:\n",
    "            truck_indices.append(i)\n",
    "        i += 1\n",
    "    return aircraft_indices, car_indices, bird_indices, cat_indices, deer_indices, dog_indices, frog_indices, horse_indices, ship_indices, truck_indices\n",
    "aircraft_indices, car_indices, bird_indices, cat_indices, deer_indices, dog_indices, frog_indices, horse_indices, ship_indices, truck_indices = indices_maker()"
   ]
  },
  {
   "cell_type": "code",
   "execution_count": 17,
   "metadata": {},
   "outputs": [],
   "source": [
    "#今回は, cifar10のすべてのデータに対してAnoGANを学習させる.\n",
    "def load_datasets():\n",
    "    transform = transforms.Compose(\n",
    "        [transforms.ToTensor(),\n",
    "        transforms.Normalize((0.49139968, 0.48215841, 0.44653091),\n",
    "                             (0.24703223, 0.24348513, 0.26158784))]\n",
    "    )\n",
    "    trainset = torchvision.datasets.CIFAR10(root=\"./data\",\n",
    "                                            train=True, download=True,\n",
    "                                            transform=transform)\n",
    "    train_loader = torch.utils.data.DataLoader(trainset, batch_size=256,\n",
    "                                               shuffle=True, num_workers=4)\n",
    "    test_loader = torch.utils.data.DataLoader(trainset, batch_size=256,\n",
    "                                               sampler=SubsetRandomSampler(car_indices), num_workers=4)\n",
    "    return train_loader, test_loader"
   ]
  },
  {
   "cell_type": "code",
   "execution_count": 18,
   "metadata": {},
   "outputs": [],
   "source": [
    "data = load_dataset()"
   ]
  },
  {
   "cell_type": "code",
   "execution_count": 19,
   "metadata": {},
   "outputs": [
    {
     "name": "stdout",
     "output_type": "stream",
     "text": [
      "INFO:tensorflow:trans_list: ['Invert', 'Cutout', 'Sharpness', 'AutoContrast', 'Posterize', 'ShearX', 'TranslateX', 'TranslateY', 'ShearY', 'Rotate', 'Equalize', 'Contrast', 'Color', 'Solarize', 'Brightness']\n"
     ]
    }
   ],
   "source": [
    "ori_images = data[\"train\"][\"images\"].copy()\n",
    "image_idx = np.arange(256)\n",
    "ori_images = ori_images / 255.0\n",
    "mean, std = [0.49139968, 0.48215841, 0.44653091], [0.24703223, 0.24348513, 0.26158784]\n",
    "ori_images = (ori_images - mean) / std\n",
    "aug_policies = found_policies.randaug_policies()\n",
    "aug_image_list = torch.randn(256, 3, 32, 32)\n",
    "i=0\n",
    "for image in ori_images:\n",
    "    chosen_policy = aug_policies[np.random.choice(len(aug_policies))]\n",
    "    aug_image = augmentation_transforms.apply_policy(chosen_policy, image)\n",
    "    aug_image = augmentation_transforms.cutout_numpy(aug_image)\n",
    "    aug_image_list[i] = torch.from_numpy(aug_image.transpose(2, 0, 1))\n",
    "    i+=1\n",
    "    if i>=256:\n",
    "        break"
   ]
  },
  {
   "cell_type": "code",
   "execution_count": 20,
   "metadata": {},
   "outputs": [],
   "source": [
    "default_list = torch.randn(256, 3, 32, 32)\n",
    "for i in range(len(default_list)):\n",
    "    default_list[i] = torch.from_numpy(ori_images[i].transpose(2, 0, 1))"
   ]
  },
  {
   "cell_type": "code",
   "execution_count": 21,
   "metadata": {},
   "outputs": [
    {
     "name": "stdout",
     "output_type": "stream",
     "text": [
      "Files already downloaded and verified\n"
     ]
    }
   ],
   "source": [
    "train_loader, test_loader = load_datasets()"
   ]
  },
  {
   "cell_type": "code",
   "execution_count": 22,
   "metadata": {},
   "outputs": [
    {
     "name": "stderr",
     "output_type": "stream",
     "text": [
      "Clipping input data to the valid range for imshow with RGB data ([0..1] for floats or [0..255] for integers).\n",
      "Clipping input data to the valid range for imshow with RGB data ([0..1] for floats or [0..255] for integers).\n",
      "Clipping input data to the valid range for imshow with RGB data ([0..1] for floats or [0..255] for integers).\n",
      "Clipping input data to the valid range for imshow with RGB data ([0..1] for floats or [0..255] for integers).\n",
      "Clipping input data to the valid range for imshow with RGB data ([0..1] for floats or [0..255] for integers).\n"
     ]
    },
    {
     "data": {
      "image/png": "[encoded data removed]",
      "text/plain": [
       "<Figure size 1080x432 with 5 Axes>"
      ]
     },
     "metadata": {
      "needs_background": "light"
     },
     "output_type": "display_data"
    }
   ],
   "source": [
    "batch_iterator = iter(test_loader)\n",
    "imges = next(batch_iterator)\n",
    "\n",
    "fig = plt.figure(figsize=(15, 6))\n",
    "for i in range(0, 5):\n",
    "    plt.subplot(2, 5, i+1)\n",
    "    plt.imshow(imges[0][i].numpy().reshape(3, 32, 32).transpose(1, 2, 0));"
   ]
  },
  {
   "cell_type": "code",
   "execution_count": 23,
   "metadata": {},
   "outputs": [],
   "source": [
    "class Generator(nn.Module):\n",
    "    def __init__(self):\n",
    "        super().__init__()\n",
    "        self.main = nn.Sequential(\n",
    "            nn.ConvTranspose2d(in_channels=128, out_channels=256,\n",
    "                               kernel_size=4, stride=1, padding=0), # 4x4\n",
    "            nn.BatchNorm2d(256),\n",
    "            nn.ReLU(inplace=True),\n",
    "\n",
    "            nn.ConvTranspose2d(in_channels=256, out_channels=128,\n",
    "                               kernel_size=2, stride=2, padding=0), #8x8\n",
    "            nn.BatchNorm2d(128),\n",
    "            nn.ReLU(inplace=True),\n",
    "\n",
    "            nn.ConvTranspose2d(in_channels=128, out_channels=64,\n",
    "                               kernel_size=2, stride=2, padding=0), #16x16\n",
    "            nn.BatchNorm2d(64),\n",
    "            nn.ReLU(inplace=True),\n",
    "\n",
    "            nn.ConvTranspose2d(in_channels=64, out_channels=3, \n",
    "                               kernel_size=2, stride=2, padding=0), #32x32\n",
    "            nn.Tanh()\n",
    "        )\n",
    "\n",
    "    def forward(self, x):\n",
    "        return self.main(x)"
   ]
  },
  {
   "cell_type": "code",
   "execution_count": 24,
   "metadata": {},
   "outputs": [],
   "source": [
    "class Discriminator(nn.Module):\n",
    "    def __init__(self):\n",
    "        super().__init__()\n",
    "        self.layer1 = nn.Sequential(\n",
    "            nn.Conv2d(3, 32, kernel_size=3, padding=1),\n",
    "            nn.BatchNorm2d(32),\n",
    "            nn.LeakyReLU(0.2, inplace=True))\n",
    "\n",
    "        self.layer2 = nn.Sequential(\n",
    "            nn.AvgPool2d(2),\n",
    "            nn.Conv2d(32, 64, kernel_size=3, padding=1),\n",
    "            nn.BatchNorm2d(64),\n",
    "            nn.LeakyReLU(0.2, inplace=True))\n",
    "\n",
    "        self.layer3 = nn.Sequential(\n",
    "            nn.AvgPool2d(2),\n",
    "            nn.Conv2d(64, 128, kernel_size=3, padding=1),\n",
    "            nn.BatchNorm2d(128),\n",
    "            nn.LeakyReLU(0.2, inplace=True))\n",
    "\n",
    "        self.layer4 = nn.Sequential(\n",
    "            nn.AvgPool2d(2),\n",
    "            nn.Conv2d(128, 256, kernel_size=3, padding=1),\n",
    "            nn.BatchNorm2d(256),\n",
    "            nn.LeakyReLU(0.2, inplace=True))\n",
    "\n",
    "        self.last = nn.Sequential(\n",
    "            nn.AvgPool2d(4),\n",
    "            nn.Conv2d(256, 1, 1)) # fcの代わり\n",
    "\n",
    "    def forward(self, x):\n",
    "        out = self.layer1(x)\n",
    "        out = self.layer2(out)\n",
    "        out = self.layer3(out)\n",
    "        out = self.layer4(out)\n",
    "        feature = out\n",
    "        feature = feature.view(feature.size()[0], -1)\n",
    "        out = self.last(out)\n",
    "        return out, feature"
   ]
  },
  {
   "cell_type": "code",
   "execution_count": 25,
   "metadata": {},
   "outputs": [],
   "source": [
    "def train():\n",
    "    # モデル\n",
    "    model_G, model_D = Generator(), Discriminator()\n",
    "    model_G, model_D = nn.DataParallel(model_G), nn.DataParallel(model_D)\n",
    "    model_G, model_D = model_G.to(device), model_D.to(device)\n",
    "\n",
    "    params_G = torch.optim.Adam(model_G.parameters(),\n",
    "                lr=0.0002, betas=(0.5, 0.999))\n",
    "    params_D = torch.optim.Adam(model_D.parameters(),\n",
    "                lr=0.0002, betas=(0.5, 0.999))\n",
    "    \n",
    "    # ロスを計算するためのラベル変数\n",
    "    ones = torch.ones(256, 1, 1, 1).to(device)\n",
    "    zeros = torch.zeros(256, 1, 1, 1).to(device)\n",
    "    loss_f = nn.BCEWithLogitsLoss()\n",
    "\n",
    "    # エラー推移\n",
    "    result = {}\n",
    "    result[\"log_loss_G\"] = []\n",
    "    result[\"log_loss_D\"] = []\n",
    "\n",
    "    # 訓練\n",
    "    dataset, test_dataset = load_datasets()\n",
    "    for i in range(300):\n",
    "        log_loss_G, log_loss_D = [], []\n",
    "        for real_img in tqdm(dataset):\n",
    "            real_img = real_img[0]\n",
    "            batch_len = len(real_img)\n",
    "            # Gの訓練\n",
    "            # 偽画像を作成\n",
    "            z = torch.randn(batch_len, 128, 1, 1).to(device)\n",
    "            fake_img = model_G(z)\n",
    "\n",
    "            # 偽画像を一時保存\n",
    "            fake_img_tensor = fake_img.detach()\n",
    "\n",
    "            # 偽画像を本物と騙せるようにロスを計算\n",
    "            out, _ = model_D(fake_img)\n",
    "            loss_G = loss_f(out, ones[:batch_len])\n",
    "            log_loss_G.append(loss_G.item())\n",
    "\n",
    "            # 微分計算・重み更新\n",
    "            params_D.zero_grad()\n",
    "            params_G.zero_grad()\n",
    "            loss_G.backward()\n",
    "            params_G.step()\n",
    "\n",
    "            # Discriminatoの訓練\n",
    "            # sample_dataの実画像\n",
    "            real_img = real_img.to(device)\n",
    "            # 実画像を実画像と識別できるようにロスを計算\n",
    "            real_out, _ = model_D(real_img)\n",
    "            loss_D_real = loss_f(real_out, ones[:batch_len])\n",
    "\n",
    "            # 偽の画像の偽と識別できるようにロスを計算\n",
    "            fake_out, _ = model_D(fake_img_tensor)\n",
    "            loss_D_fake = loss_f(fake_out, zeros[:batch_len])\n",
    "\n",
    "            # 実画像と偽画像のロスを合計\n",
    "            loss_D = loss_D_real + loss_D_fake\n",
    "            log_loss_D.append(loss_D.item())\n",
    "\n",
    "            # 微分計算・重み更新\n",
    "            params_D.zero_grad()\n",
    "            params_G.zero_grad()\n",
    "            loss_D.backward()\n",
    "            params_D.step()\n",
    "\n",
    "        result[\"log_loss_G\"].append(statistics.mean(log_loss_G))\n",
    "        result[\"log_loss_D\"].append(statistics.mean(log_loss_D))\n",
    "        print(\"log_loss_G =\", result[\"log_loss_G\"][-1], \", log_loss_D =\", result[\"log_loss_D\"][-1])\n",
    "        print(\"Epoch\" + str(i) + \"done.\")\n",
    "        # 画像を保存\n",
    "        if not os.path.exists(\"cifar_generated\"):\n",
    "            os.mkdir(\"cifar_generated\")\n",
    "        torchvision.utils.save_image(fake_img_tensor[:min(batch_len, 100)],\n",
    "                                f\"cifar_generated/epoch_{i:03}.png\")\n",
    "    # ログの保存\n",
    "    with open(\"cifar_generated/logs.pkl\", \"wb\") as fp:\n",
    "        pickle.dump(result, fp)\n",
    "    return model_G, model_D"
   ]
  },
  {
   "cell_type": "code",
   "execution_count": 26,
   "metadata": {
    "scrolled": true
   },
   "outputs": [
    {
     "name": "stderr",
     "output_type": "stream",
     "text": [
      "\r",
      "  0%|          | 0/196 [00:00<?, ?it/s]"
     ]
    },
    {
     "name": "stdout",
     "output_type": "stream",
     "text": [
      "Files already downloaded and verified\n"
     ]
    },
    {
     "name": "stderr",
     "output_type": "stream",
     "text": [
      "100%|##########| 196/196 [00:21<00:00,  8.97it/s]\n",
      "  0%|          | 0/196 [00:00<?, ?it/s]"
     ]
    },
    {
     "name": "stdout",
     "output_type": "stream",
     "text": [
      "log_loss_G = 0.9186807204874194 , log_loss_D = 1.0706058655466353\n",
      "Epoch0done.\n"
     ]
    },
    {
     "name": "stderr",
     "output_type": "stream",
     "text": [
      "100%|##########| 196/196 [00:10<00:00, 18.86it/s]\n",
      "  0%|          | 0/196 [00:00<?, ?it/s]"
     ]
    },
    {
     "name": "stdout",
     "output_type": "stream",
     "text": [
      "log_loss_G = 0.883018224215021 , log_loss_D = 1.1427072079814211\n",
      "Epoch1done.\n"
     ]
    },
    {
     "name": "stderr",
     "output_type": "stream",
     "text": [
      "100%|##########| 196/196 [00:10<00:00, 17.96it/s]\n",
      "  0%|          | 0/196 [00:00<?, ?it/s]"
     ]
    },
    {
     "name": "stdout",
     "output_type": "stream",
     "text": [
      "log_loss_G = 0.8669224795030088 , log_loss_D = 1.170315109649483\n",
      "Epoch2done.\n"
     ]
    },
    {
     "name": "stderr",
     "output_type": "stream",
     "text": [
      "100%|##########| 196/196 [00:10<00:00, 18.09it/s]\n",
      "  0%|          | 0/196 [00:00<?, ?it/s]"
     ]
    },
    {
     "name": "stdout",
     "output_type": "stream",
     "text": [
      "log_loss_G = 0.9116135166615856 , log_loss_D = 1.1260217014624148\n",
      "Epoch3done.\n"
     ]
    },
    {
     "name": "stderr",
     "output_type": "stream",
     "text": [
      "100%|##########| 196/196 [00:10<00:00, 18.08it/s]\n",
      "  0%|          | 0/196 [00:00<?, ?it/s]"
     ]
    },
    {
     "name": "stdout",
     "output_type": "stream",
     "text": [
      "log_loss_G = 0.9515178969928196 , log_loss_D = 1.0877249097945738\n",
      "Epoch4done.\n"
     ]
    },
    {
     "name": "stderr",
     "output_type": "stream",
     "text": [
      "100%|##########| 196/196 [00:10<00:00, 17.87it/s]\n",
      "  0%|          | 0/196 [00:00<?, ?it/s]"
     ]
    },
    {
     "name": "stdout",
     "output_type": "stream",
     "text": [
      "log_loss_G = 0.9945230432310883 , log_loss_D = 1.0494755062521721\n",
      "Epoch5done.\n"
     ]
    },
    {
     "name": "stderr",
     "output_type": "stream",
     "text": [
      "100%|##########| 196/196 [00:10<00:00, 17.89it/s]\n",
      "  0%|          | 0/196 [00:00<?, ?it/s]"
     ]
    },
    {
     "name": "stdout",
     "output_type": "stream",
     "text": [
      "log_loss_G = 1.0396105169641727 , log_loss_D = 1.016886062768041\n",
      "Epoch6done.\n"
     ]
    },
    {
     "name": "stderr",
     "output_type": "stream",
     "text": [
      "100%|##########| 196/196 [00:10<00:00, 18.43it/s]\n",
      "  0%|          | 0/196 [00:00<?, ?it/s]"
     ]
    },
    {
     "name": "stdout",
     "output_type": "stream",
     "text": [
      "log_loss_G = 1.075928085008446 , log_loss_D = 0.9783542846538582\n",
      "Epoch7done.\n"
     ]
    },
    {
     "name": "stderr",
     "output_type": "stream",
     "text": [
      "100%|##########| 196/196 [00:10<00:00, 17.86it/s]\n",
      "  0%|          | 0/196 [00:00<?, ?it/s]"
     ]
    },
    {
     "name": "stdout",
     "output_type": "stream",
     "text": [
      "log_loss_G = 1.1288915160967379 , log_loss_D = 0.9385046983251766\n",
      "Epoch8done.\n"
     ]
    },
    {
     "name": "stderr",
     "output_type": "stream",
     "text": [
      "100%|##########| 196/196 [00:10<00:00, 17.52it/s]\n",
      "  0%|          | 0/196 [00:00<?, ?it/s]"
     ]
    },
    {
     "name": "stdout",
     "output_type": "stream",
     "text": [
      "log_loss_G = 1.1884270041268699 , log_loss_D = 0.8933827925701531\n",
      "Epoch9done.\n"
     ]
    },
    {
     "name": "stderr",
     "output_type": "stream",
     "text": [
      "100%|##########| 196/196 [00:10<00:00, 16.93it/s]\n",
      "  0%|          | 0/196 [00:00<?, ?it/s]"
     ]
    },
    {
     "name": "stdout",
     "output_type": "stream",
     "text": [
      "log_loss_G = 1.2330486376066596 , log_loss_D = 0.8581318833998272\n",
      "Epoch10done.\n"
     ]
    },
    {
     "name": "stderr",
     "output_type": "stream",
     "text": [
      "100%|##########| 196/196 [00:11<00:00, 17.76it/s]\n",
      "  0%|          | 0/196 [00:00<?, ?it/s]"
     ]
    },
    {
     "name": "stdout",
     "output_type": "stream",
     "text": [
      "log_loss_G = 1.2597317142145974 , log_loss_D = 0.8473961861157904\n",
      "Epoch11done.\n"
     ]
    },
    {
     "name": "stderr",
     "output_type": "stream",
     "text": [
      "100%|##########| 196/196 [00:11<00:00, 17.72it/s]\n",
      "  0%|          | 0/196 [00:00<?, ?it/s]"
     ]
    },
    {
     "name": "stdout",
     "output_type": "stream",
     "text": [
      "log_loss_G = 1.327646290465277 , log_loss_D = 0.7975706750032853\n",
      "Epoch12done.\n"
     ]
    },
    {
     "name": "stderr",
     "output_type": "stream",
     "text": [
      "100%|##########| 196/196 [00:11<00:00, 17.61it/s]\n",
      "  0%|          | 0/196 [00:00<?, ?it/s]"
     ]
    },
    {
     "name": "stdout",
     "output_type": "stream",
     "text": [
      "log_loss_G = 1.3691021824369625 , log_loss_D = 0.7720302615542801\n",
      "Epoch13done.\n"
     ]
    },
    {
     "name": "stderr",
     "output_type": "stream",
     "text": [
      "100%|##########| 196/196 [00:10<00:00, 17.84it/s]\n",
      "  0%|          | 0/196 [00:00<?, ?it/s]"
     ]
    },
    {
     "name": "stdout",
     "output_type": "stream",
     "text": [
      "log_loss_G = 1.4136316697208249 , log_loss_D = 0.7563107608228313\n",
      "Epoch14done.\n"
     ]
    },
    {
     "name": "stderr",
     "output_type": "stream",
     "text": [
      "100%|##########| 196/196 [00:10<00:00, 17.36it/s]\n",
      "  0%|          | 0/196 [00:00<?, ?it/s]"
     ]
    },
    {
     "name": "stdout",
     "output_type": "stream",
     "text": [
      "log_loss_G = 1.4634023372616087 , log_loss_D = 0.7144335300034407\n",
      "Epoch15done.\n"
     ]
    },
    {
     "name": "stderr",
     "output_type": "stream",
     "text": [
      "100%|##########| 196/196 [00:10<00:00, 18.61it/s]\n",
      "  0%|          | 0/196 [00:00<?, ?it/s]"
     ]
    },
    {
     "name": "stdout",
     "output_type": "stream",
     "text": [
      "log_loss_G = 1.4948825833140587 , log_loss_D = 0.7007138332238003\n",
      "Epoch16done.\n"
     ]
    },
    {
     "name": "stderr",
     "output_type": "stream",
     "text": [
      "100%|##########| 196/196 [00:10<00:00, 18.04it/s]\n",
      "  0%|          | 0/196 [00:00<?, ?it/s]"
     ]
    },
    {
     "name": "stdout",
     "output_type": "stream",
     "text": [
      "log_loss_G = 1.5609337608424985 , log_loss_D = 0.6595012574475638\n",
      "Epoch17done.\n"
     ]
    },
    {
     "name": "stderr",
     "output_type": "stream",
     "text": [
      "100%|##########| 196/196 [00:10<00:00, 17.25it/s]\n",
      "  0%|          | 0/196 [00:00<?, ?it/s]"
     ]
    },
    {
     "name": "stdout",
     "output_type": "stream",
     "text": [
      "log_loss_G = 1.5802737808957392 , log_loss_D = 0.6656581995134451\n",
      "Epoch18done.\n"
     ]
    },
    {
     "name": "stderr",
     "output_type": "stream",
     "text": [
      "100%|##########| 196/196 [00:10<00:00, 17.87it/s]\n",
      "  0%|          | 0/196 [00:00<?, ?it/s]"
     ]
    },
    {
     "name": "stdout",
     "output_type": "stream",
     "text": [
      "log_loss_G = 1.6316043679811516 , log_loss_D = 0.6218963511744324\n",
      "Epoch19done.\n"
     ]
    },
    {
     "name": "stderr",
     "output_type": "stream",
     "text": [
      "100%|##########| 196/196 [00:10<00:00, 18.09it/s]\n",
      "  0%|          | 0/196 [00:00<?, ?it/s]"
     ]
    },
    {
     "name": "stdout",
     "output_type": "stream",
     "text": [
      "log_loss_G = 1.6687808584193795 , log_loss_D = 0.6259724297085587\n",
      "Epoch20done.\n"
     ]
    },
    {
     "name": "stderr",
     "output_type": "stream",
     "text": [
      "100%|##########| 196/196 [00:11<00:00, 17.78it/s]\n",
      "  0%|          | 0/196 [00:00<?, ?it/s]"
     ]
    },
    {
     "name": "stdout",
     "output_type": "stream",
     "text": [
      "log_loss_G = 1.6824182694663807 , log_loss_D = 0.6057713027207219\n",
      "Epoch21done.\n"
     ]
    },
    {
     "name": "stderr",
     "output_type": "stream",
     "text": [
      "100%|##########| 196/196 [00:10<00:00, 17.54it/s]\n",
      "  0%|          | 0/196 [00:00<?, ?it/s]"
     ]
    },
    {
     "name": "stdout",
     "output_type": "stream",
     "text": [
      "log_loss_G = 1.7570175806782684 , log_loss_D = 0.5815031648594506\n",
      "Epoch22done.\n"
     ]
    },
    {
     "name": "stderr",
     "output_type": "stream",
     "text": [
      "100%|##########| 196/196 [00:10<00:00, 17.89it/s]\n",
      "  0%|          | 0/196 [00:00<?, ?it/s]"
     ]
    },
    {
     "name": "stdout",
     "output_type": "stream",
     "text": [
      "log_loss_G = 1.762907290337037 , log_loss_D = 0.5720249677495081\n",
      "Epoch23done.\n"
     ]
    },
    {
     "name": "stderr",
     "output_type": "stream",
     "text": [
      "100%|##########| 196/196 [00:11<00:00, 17.79it/s]\n",
      "  0%|          | 0/196 [00:00<?, ?it/s]"
     ]
    },
    {
     "name": "stdout",
     "output_type": "stream",
     "text": [
      "log_loss_G = 1.7981934042609469 , log_loss_D = 0.5597601894821439\n",
      "Epoch24done.\n"
     ]
    },
    {
     "name": "stderr",
     "output_type": "stream",
     "text": [
      "100%|##########| 196/196 [00:10<00:00, 17.41it/s]\n",
      "  0%|          | 0/196 [00:00<?, ?it/s]"
     ]
    },
    {
     "name": "stdout",
     "output_type": "stream",
     "text": [
      "log_loss_G = 1.899383263320339 , log_loss_D = 0.5035283913721844\n",
      "Epoch25done.\n"
     ]
    },
    {
     "name": "stderr",
     "output_type": "stream",
     "text": [
      "100%|##########| 196/196 [00:10<00:00, 17.72it/s]\n",
      "  0%|          | 0/196 [00:00<?, ?it/s]"
     ]
    },
    {
     "name": "stdout",
     "output_type": "stream",
     "text": [
      "log_loss_G = 1.8910228190373402 , log_loss_D = 0.5304651141774898\n",
      "Epoch26done.\n"
     ]
    },
    {
     "name": "stderr",
     "output_type": "stream",
     "text": [
      "100%|##########| 196/196 [00:10<00:00, 17.25it/s]\n",
      "  0%|          | 0/196 [00:00<?, ?it/s]"
     ]
    },
    {
     "name": "stdout",
     "output_type": "stream",
     "text": [
      "log_loss_G = 1.8882692912403418 , log_loss_D = 0.552151192055673\n",
      "Epoch27done.\n"
     ]
    },
    {
     "name": "stderr",
     "output_type": "stream",
     "text": [
      "100%|##########| 196/196 [00:10<00:00, 17.40it/s]\n",
      "  0%|          | 0/196 [00:00<?, ?it/s]"
     ]
    },
    {
     "name": "stdout",
     "output_type": "stream",
     "text": [
      "log_loss_G = 1.9217050039038366 , log_loss_D = 0.5329248824593972\n",
      "Epoch28done.\n"
     ]
    },
    {
     "name": "stderr",
     "output_type": "stream",
     "text": [
      "100%|##########| 196/196 [00:11<00:00, 17.76it/s]\n",
      "  0%|          | 0/196 [00:00<?, ?it/s]"
     ]
    },
    {
     "name": "stdout",
     "output_type": "stream",
     "text": [
      "log_loss_G = 1.9640855904744596 , log_loss_D = 0.4956701962771464\n",
      "Epoch29done.\n"
     ]
    },
    {
     "name": "stderr",
     "output_type": "stream",
     "text": [
      "100%|##########| 196/196 [00:10<00:00, 18.51it/s]\n",
      "  0%|          | 0/196 [00:00<?, ?it/s]"
     ]
    },
    {
     "name": "stdout",
     "output_type": "stream",
     "text": [
      "log_loss_G = 2.024999644683332 , log_loss_D = 0.46467489901245856\n",
      "Epoch30done.\n"
     ]
    },
    {
     "name": "stderr",
     "output_type": "stream",
     "text": [
      "100%|##########| 196/196 [00:11<00:00, 17.78it/s]\n",
      "  0%|          | 0/196 [00:00<?, ?it/s]"
     ]
    },
    {
     "name": "stdout",
     "output_type": "stream",
     "text": [
      "log_loss_G = 2.03701088410251 , log_loss_D = 0.47641026129832076\n",
      "Epoch31done.\n"
     ]
    },
    {
     "name": "stderr",
     "output_type": "stream",
     "text": [
      "100%|##########| 196/196 [00:10<00:00, 18.13it/s]\n",
      "  0%|          | 0/196 [00:00<?, ?it/s]"
     ]
    },
    {
     "name": "stdout",
     "output_type": "stream",
     "text": [
      "log_loss_G = 2.003021692743107 , log_loss_D = 0.5196518073124545\n",
      "Epoch32done.\n"
     ]
    },
    {
     "name": "stderr",
     "output_type": "stream",
     "text": [
      "100%|##########| 196/196 [00:11<00:00, 17.75it/s]\n",
      "  0%|          | 0/196 [00:00<?, ?it/s]"
     ]
    },
    {
     "name": "stdout",
     "output_type": "stream",
     "text": [
      "log_loss_G = 2.110731654781468 , log_loss_D = 0.4297027927728332\n",
      "Epoch33done.\n"
     ]
    },
    {
     "name": "stderr",
     "output_type": "stream",
     "text": [
      "100%|##########| 196/196 [00:11<00:00, 17.78it/s]\n",
      "  0%|          | 0/196 [00:00<?, ?it/s]"
     ]
    },
    {
     "name": "stdout",
     "output_type": "stream",
     "text": [
      "log_loss_G = 2.099290649501645 , log_loss_D = 0.4542165550650383\n",
      "Epoch34done.\n"
     ]
    },
    {
     "name": "stderr",
     "output_type": "stream",
     "text": [
      "100%|##########| 196/196 [00:10<00:00, 18.08it/s]\n",
      "  0%|          | 0/196 [00:00<?, ?it/s]"
     ]
    },
    {
     "name": "stdout",
     "output_type": "stream",
     "text": [
      "log_loss_G = 2.137371983759257 , log_loss_D = 0.46489677380542366\n",
      "Epoch35done.\n"
     ]
    },
    {
     "name": "stderr",
     "output_type": "stream",
     "text": [
      "100%|##########| 196/196 [00:10<00:00, 17.08it/s]\n",
      "  0%|          | 0/196 [00:00<?, ?it/s]"
     ]
    },
    {
     "name": "stdout",
     "output_type": "stream",
     "text": [
      "log_loss_G = 2.095933593353447 , log_loss_D = 0.54901988127706\n",
      "Epoch36done.\n"
     ]
    },
    {
     "name": "stderr",
     "output_type": "stream",
     "text": [
      "100%|##########| 196/196 [00:10<00:00, 17.24it/s]\n",
      "  0%|          | 0/196 [00:00<?, ?it/s]"
     ]
    },
    {
     "name": "stdout",
     "output_type": "stream",
     "text": [
      "log_loss_G = 2.155742313180651 , log_loss_D = 0.4078543760946819\n",
      "Epoch37done.\n"
     ]
    },
    {
     "name": "stderr",
     "output_type": "stream",
     "text": [
      "100%|##########| 196/196 [00:10<00:00, 17.89it/s]\n",
      "  0%|          | 0/196 [00:00<?, ?it/s]"
     ]
    },
    {
     "name": "stdout",
     "output_type": "stream",
     "text": [
      "log_loss_G = 2.1894539767230046 , log_loss_D = 0.4616505666350832\n",
      "Epoch38done.\n"
     ]
    },
    {
     "name": "stderr",
     "output_type": "stream",
     "text": [
      "100%|##########| 196/196 [00:10<00:00, 17.79it/s]\n",
      "  0%|          | 0/196 [00:00<?, ?it/s]"
     ]
    },
    {
     "name": "stdout",
     "output_type": "stream",
     "text": [
      "log_loss_G = 2.2567485461429673 , log_loss_D = 0.39753897434898783\n",
      "Epoch39done.\n"
     ]
    },
    {
     "name": "stderr",
     "output_type": "stream",
     "text": [
      "100%|##########| 196/196 [00:10<00:00, 17.73it/s]\n",
      "  0%|          | 0/196 [00:00<?, ?it/s]"
     ]
    },
    {
     "name": "stdout",
     "output_type": "stream",
     "text": [
      "log_loss_G = 2.246327339538506 , log_loss_D = 0.43044129394146863\n",
      "Epoch40done.\n"
     ]
    },
    {
     "name": "stderr",
     "output_type": "stream",
     "text": [
      "100%|##########| 196/196 [00:10<00:00, 16.92it/s]\n",
      "  0%|          | 0/196 [00:00<?, ?it/s]"
     ]
    },
    {
     "name": "stdout",
     "output_type": "stream",
     "text": [
      "log_loss_G = 2.184036421000349 , log_loss_D = 0.506334628149563\n",
      "Epoch41done.\n"
     ]
    },
    {
     "name": "stderr",
     "output_type": "stream",
     "text": [
      "100%|##########| 196/196 [00:10<00:00, 18.04it/s]\n",
      "  0%|          | 0/196 [00:00<?, ?it/s]"
     ]
    },
    {
     "name": "stdout",
     "output_type": "stream",
     "text": [
      "log_loss_G = 2.3335923289462013 , log_loss_D = 0.3814707516255427\n",
      "Epoch42done.\n"
     ]
    },
    {
     "name": "stderr",
     "output_type": "stream",
     "text": [
      "100%|##########| 196/196 [00:10<00:00, 17.30it/s]\n",
      "  0%|          | 0/196 [00:00<?, ?it/s]"
     ]
    },
    {
     "name": "stdout",
     "output_type": "stream",
     "text": [
      "log_loss_G = 2.292486832230067 , log_loss_D = 0.42796324862509355\n",
      "Epoch43done.\n"
     ]
    },
    {
     "name": "stderr",
     "output_type": "stream",
     "text": [
      "100%|##########| 196/196 [00:10<00:00, 17.84it/s]\n",
      "  0%|          | 0/196 [00:00<?, ?it/s]"
     ]
    },
    {
     "name": "stdout",
     "output_type": "stream",
     "text": [
      "log_loss_G = 2.3219248637252923 , log_loss_D = 0.4077820330097967\n",
      "Epoch44done.\n"
     ]
    },
    {
     "name": "stderr",
     "output_type": "stream",
     "text": [
      "100%|##########| 196/196 [00:10<00:00, 17.74it/s]\n",
      "  0%|          | 0/196 [00:00<?, ?it/s]"
     ]
    },
    {
     "name": "stdout",
     "output_type": "stream",
     "text": [
      "log_loss_G = 2.2567974884747244 , log_loss_D = 0.49311865562078905\n",
      "Epoch45done.\n"
     ]
    },
    {
     "name": "stderr",
     "output_type": "stream",
     "text": [
      "100%|##########| 196/196 [00:10<00:00, 17.38it/s]\n",
      "  0%|          | 0/196 [00:00<?, ?it/s]"
     ]
    },
    {
     "name": "stdout",
     "output_type": "stream",
     "text": [
      "log_loss_G = 2.462495898409766 , log_loss_D = 0.32518317770897126\n",
      "Epoch46done.\n"
     ]
    },
    {
     "name": "stderr",
     "output_type": "stream",
     "text": [
      "100%|##########| 196/196 [00:10<00:00, 17.98it/s]\n",
      "  0%|          | 0/196 [00:00<?, ?it/s]"
     ]
    },
    {
     "name": "stdout",
     "output_type": "stream",
     "text": [
      "log_loss_G = 2.350616058524774 , log_loss_D = 0.49815154535581874\n",
      "Epoch47done.\n"
     ]
    },
    {
     "name": "stderr",
     "output_type": "stream",
     "text": [
      "100%|##########| 196/196 [00:11<00:00, 17.73it/s]\n",
      "  0%|          | 0/196 [00:00<?, ?it/s]"
     ]
    },
    {
     "name": "stdout",
     "output_type": "stream",
     "text": [
      "log_loss_G = 2.3024670802512945 , log_loss_D = 0.41020363470425414\n",
      "Epoch48done.\n"
     ]
    },
    {
     "name": "stderr",
     "output_type": "stream",
     "text": [
      "100%|##########| 196/196 [00:10<00:00, 17.55it/s]\n",
      "  0%|          | 0/196 [00:00<?, ?it/s]"
     ]
    },
    {
     "name": "stdout",
     "output_type": "stream",
     "text": [
      "log_loss_G = 2.42124702357592 , log_loss_D = 0.4048444800535027\n",
      "Epoch49done.\n"
     ]
    },
    {
     "name": "stderr",
     "output_type": "stream",
     "text": [
      "100%|##########| 196/196 [00:10<00:00, 17.57it/s]\n",
      "  0%|          | 0/196 [00:00<?, ?it/s]"
     ]
    },
    {
     "name": "stdout",
     "output_type": "stream",
     "text": [
      "log_loss_G = 2.3923232322368695 , log_loss_D = 0.40617069092636204\n",
      "Epoch50done.\n"
     ]
    },
    {
     "name": "stderr",
     "output_type": "stream",
     "text": [
      "100%|##########| 196/196 [00:10<00:00, 18.13it/s]\n",
      "  0%|          | 0/196 [00:00<?, ?it/s]"
     ]
    },
    {
     "name": "stdout",
     "output_type": "stream",
     "text": [
      "log_loss_G = 2.408948745958659 , log_loss_D = 0.4044584476065879\n",
      "Epoch51done.\n"
     ]
    },
    {
     "name": "stderr",
     "output_type": "stream",
     "text": [
      "100%|##########| 196/196 [00:11<00:00, 17.76it/s]\n",
      "  0%|          | 0/196 [00:00<?, ?it/s]"
     ]
    },
    {
     "name": "stdout",
     "output_type": "stream",
     "text": [
      "log_loss_G = 2.456946739584816 , log_loss_D = 0.38857702348305256\n",
      "Epoch52done.\n"
     ]
    },
    {
     "name": "stderr",
     "output_type": "stream",
     "text": [
      "100%|##########| 196/196 [00:10<00:00, 18.31it/s]\n",
      "  0%|          | 0/196 [00:00<?, ?it/s]"
     ]
    },
    {
     "name": "stdout",
     "output_type": "stream",
     "text": [
      "log_loss_G = 2.5035474931403083 , log_loss_D = 0.3688258437857944\n",
      "Epoch53done.\n"
     ]
    },
    {
     "name": "stderr",
     "output_type": "stream",
     "text": [
      "100%|##########| 196/196 [00:11<00:00, 17.81it/s]\n",
      "  0%|          | 0/196 [00:00<?, ?it/s]"
     ]
    },
    {
     "name": "stdout",
     "output_type": "stream",
     "text": [
      "log_loss_G = 2.477080441707251 , log_loss_D = 0.39043724745968167\n",
      "Epoch54done.\n"
     ]
    },
    {
     "name": "stderr",
     "output_type": "stream",
     "text": [
      "100%|##########| 196/196 [00:11<00:00, 17.81it/s]\n",
      "  0%|          | 0/196 [00:00<?, ?it/s]"
     ]
    },
    {
     "name": "stdout",
     "output_type": "stream",
     "text": [
      "log_loss_G = 2.522540901692546 , log_loss_D = 0.32984607738955896\n",
      "Epoch55done.\n"
     ]
    },
    {
     "name": "stderr",
     "output_type": "stream",
     "text": [
      "100%|##########| 196/196 [00:10<00:00, 17.85it/s]\n",
      "  0%|          | 0/196 [00:00<?, ?it/s]"
     ]
    },
    {
     "name": "stdout",
     "output_type": "stream",
     "text": [
      "log_loss_G = 2.470246828332239 , log_loss_D = 0.4205628692799685\n",
      "Epoch56done.\n"
     ]
    },
    {
     "name": "stderr",
     "output_type": "stream",
     "text": [
      "100%|##########| 196/196 [00:10<00:00, 17.97it/s]\n",
      "  0%|          | 0/196 [00:00<?, ?it/s]"
     ]
    },
    {
     "name": "stdout",
     "output_type": "stream",
     "text": [
      "log_loss_G = 2.5077705463128432 , log_loss_D = 0.3597500725668304\n",
      "Epoch57done.\n"
     ]
    },
    {
     "name": "stderr",
     "output_type": "stream",
     "text": [
      "100%|##########| 196/196 [00:11<00:00, 17.71it/s]\n",
      "  0%|          | 0/196 [00:00<?, ?it/s]"
     ]
    },
    {
     "name": "stdout",
     "output_type": "stream",
     "text": [
      "log_loss_G = 2.4666573804404055 , log_loss_D = 0.40035137853452135\n",
      "Epoch58done.\n"
     ]
    },
    {
     "name": "stderr",
     "output_type": "stream",
     "text": [
      "100%|##########| 196/196 [00:10<00:00, 17.25it/s]\n",
      "  0%|          | 0/196 [00:00<?, ?it/s]"
     ]
    },
    {
     "name": "stdout",
     "output_type": "stream",
     "text": [
      "log_loss_G = 2.62411510062461 , log_loss_D = 0.29993301341120077\n",
      "Epoch59done.\n"
     ]
    },
    {
     "name": "stderr",
     "output_type": "stream",
     "text": [
      "100%|##########| 196/196 [00:10<00:00, 17.40it/s]\n",
      "  0%|          | 0/196 [00:00<?, ?it/s]"
     ]
    },
    {
     "name": "stdout",
     "output_type": "stream",
     "text": [
      "log_loss_G = 2.5537864438125064 , log_loss_D = 0.37156404072076693\n",
      "Epoch60done.\n"
     ]
    },
    {
     "name": "stderr",
     "output_type": "stream",
     "text": [
      "100%|##########| 196/196 [00:10<00:00, 18.01it/s]\n",
      "  0%|          | 0/196 [00:00<?, ?it/s]"
     ]
    },
    {
     "name": "stdout",
     "output_type": "stream",
     "text": [
      "log_loss_G = 2.559001395973016 , log_loss_D = 0.3913135059481981\n",
      "Epoch61done.\n"
     ]
    },
    {
     "name": "stderr",
     "output_type": "stream",
     "text": [
      "100%|##########| 196/196 [00:10<00:00, 17.85it/s]\n",
      "  0%|          | 0/196 [00:00<?, ?it/s]"
     ]
    },
    {
     "name": "stdout",
     "output_type": "stream",
     "text": [
      "log_loss_G = 2.5165476011378423 , log_loss_D = 0.36901713033415834\n",
      "Epoch62done.\n"
     ]
    },
    {
     "name": "stderr",
     "output_type": "stream",
     "text": [
      "100%|##########| 196/196 [00:10<00:00, 17.89it/s]\n",
      "  0%|          | 0/196 [00:00<?, ?it/s]"
     ]
    },
    {
     "name": "stdout",
     "output_type": "stream",
     "text": [
      "log_loss_G = 2.624089494575651 , log_loss_D = 0.31823562036211395\n",
      "Epoch63done.\n"
     ]
    },
    {
     "name": "stderr",
     "output_type": "stream",
     "text": [
      "100%|##########| 196/196 [00:11<00:00, 17.63it/s]\n",
      "  0%|          | 0/196 [00:00<?, ?it/s]"
     ]
    },
    {
     "name": "stdout",
     "output_type": "stream",
     "text": [
      "log_loss_G = 2.6652877809745923 , log_loss_D = 0.3323500894238146\n",
      "Epoch64done.\n"
     ]
    },
    {
     "name": "stderr",
     "output_type": "stream",
     "text": [
      "100%|##########| 196/196 [00:10<00:00, 17.29it/s]\n",
      "  0%|          | 0/196 [00:00<?, ?it/s]"
     ]
    },
    {
     "name": "stdout",
     "output_type": "stream",
     "text": [
      "log_loss_G = 2.490516738928094 , log_loss_D = 0.4296137953975371\n",
      "Epoch65done.\n"
     ]
    },
    {
     "name": "stderr",
     "output_type": "stream",
     "text": [
      "100%|##########| 196/196 [00:10<00:00, 17.12it/s]\n",
      "  0%|          | 0/196 [00:00<?, ?it/s]"
     ]
    },
    {
     "name": "stdout",
     "output_type": "stream",
     "text": [
      "log_loss_G = 2.71264226552175 , log_loss_D = 0.3087965807288277\n",
      "Epoch66done.\n"
     ]
    },
    {
     "name": "stderr",
     "output_type": "stream",
     "text": [
      "100%|##########| 196/196 [00:10<00:00, 17.73it/s]\n",
      "  0%|          | 0/196 [00:00<?, ?it/s]"
     ]
    },
    {
     "name": "stdout",
     "output_type": "stream",
     "text": [
      "log_loss_G = 2.555774693282283 , log_loss_D = 0.4229816287299808\n",
      "Epoch67done.\n"
     ]
    },
    {
     "name": "stderr",
     "output_type": "stream",
     "text": [
      "100%|##########| 196/196 [00:10<00:00, 18.20it/s]\n",
      "  0%|          | 0/196 [00:00<?, ?it/s]"
     ]
    },
    {
     "name": "stdout",
     "output_type": "stream",
     "text": [
      "log_loss_G = 2.7929182411456597 , log_loss_D = 0.24717144485639067\n",
      "Epoch68done.\n"
     ]
    },
    {
     "name": "stderr",
     "output_type": "stream",
     "text": [
      "100%|##########| 196/196 [00:10<00:00, 18.09it/s]\n",
      "  0%|          | 0/196 [00:00<?, ?it/s]"
     ]
    },
    {
     "name": "stdout",
     "output_type": "stream",
     "text": [
      "log_loss_G = 2.6264007964304517 , log_loss_D = 0.4231924559845\n",
      "Epoch69done.\n"
     ]
    },
    {
     "name": "stderr",
     "output_type": "stream",
     "text": [
      "100%|##########| 196/196 [00:11<00:00, 17.69it/s]\n",
      "  0%|          | 0/196 [00:00<?, ?it/s]"
     ]
    },
    {
     "name": "stdout",
     "output_type": "stream",
     "text": [
      "log_loss_G = 2.671081597555657 , log_loss_D = 0.3268266467719662\n",
      "Epoch70done.\n"
     ]
    },
    {
     "name": "stderr",
     "output_type": "stream",
     "text": [
      "100%|##########| 196/196 [00:10<00:00, 17.18it/s]\n",
      "  0%|          | 0/196 [00:00<?, ?it/s]"
     ]
    },
    {
     "name": "stdout",
     "output_type": "stream",
     "text": [
      "log_loss_G = 2.7660015728704783 , log_loss_D = 0.2796542623593491\n",
      "Epoch71done.\n"
     ]
    },
    {
     "name": "stderr",
     "output_type": "stream",
     "text": [
      "100%|##########| 196/196 [00:10<00:00, 17.17it/s]\n",
      "  0%|          | 0/196 [00:00<?, ?it/s]"
     ]
    },
    {
     "name": "stdout",
     "output_type": "stream",
     "text": [
      "log_loss_G = 2.6787321250505594 , log_loss_D = 0.3674390974397562\n",
      "Epoch72done.\n"
     ]
    },
    {
     "name": "stderr",
     "output_type": "stream",
     "text": [
      "100%|##########| 196/196 [00:10<00:00, 17.81it/s]\n",
      "  0%|          | 0/196 [00:00<?, ?it/s]"
     ]
    },
    {
     "name": "stdout",
     "output_type": "stream",
     "text": [
      "log_loss_G = 2.719487521417287 , log_loss_D = 0.3358399747509737\n",
      "Epoch73done.\n"
     ]
    },
    {
     "name": "stderr",
     "output_type": "stream",
     "text": [
      "100%|##########| 196/196 [00:10<00:00, 17.97it/s]\n",
      "  0%|          | 0/196 [00:00<?, ?it/s]"
     ]
    },
    {
     "name": "stdout",
     "output_type": "stream",
     "text": [
      "log_loss_G = 2.7541041429705766 , log_loss_D = 0.33729530863311824\n",
      "Epoch74done.\n"
     ]
    },
    {
     "name": "stderr",
     "output_type": "stream",
     "text": [
      "100%|##########| 196/196 [00:10<00:00, 18.06it/s]\n",
      "  0%|          | 0/196 [00:00<?, ?it/s]"
     ]
    },
    {
     "name": "stdout",
     "output_type": "stream",
     "text": [
      "log_loss_G = 2.7917314589935907 , log_loss_D = 0.2827533451003992\n",
      "Epoch75done.\n"
     ]
    },
    {
     "name": "stderr",
     "output_type": "stream",
     "text": [
      "100%|##########| 196/196 [00:11<00:00, 17.70it/s]\n",
      "  0%|          | 0/196 [00:00<?, ?it/s]"
     ]
    },
    {
     "name": "stdout",
     "output_type": "stream",
     "text": [
      "log_loss_G = 2.54446218474483 , log_loss_D = 0.4667046925014987\n",
      "Epoch76done.\n"
     ]
    },
    {
     "name": "stderr",
     "output_type": "stream",
     "text": [
      "100%|##########| 196/196 [00:10<00:00, 17.71it/s]\n",
      "  0%|          | 0/196 [00:00<?, ?it/s]"
     ]
    },
    {
     "name": "stdout",
     "output_type": "stream",
     "text": [
      "log_loss_G = 2.695345645200233 , log_loss_D = 0.38102635288877146\n",
      "Epoch77done.\n"
     ]
    },
    {
     "name": "stderr",
     "output_type": "stream",
     "text": [
      "100%|##########| 196/196 [00:10<00:00, 17.91it/s]\n",
      "  0%|          | 0/196 [00:00<?, ?it/s]"
     ]
    },
    {
     "name": "stdout",
     "output_type": "stream",
     "text": [
      "log_loss_G = 2.755788990277417 , log_loss_D = 0.32654068033610073\n",
      "Epoch78done.\n"
     ]
    },
    {
     "name": "stderr",
     "output_type": "stream",
     "text": [
      "100%|##########| 196/196 [00:10<00:00, 17.81it/s]\n",
      "  0%|          | 0/196 [00:00<?, ?it/s]"
     ]
    },
    {
     "name": "stdout",
     "output_type": "stream",
     "text": [
      "log_loss_G = 2.7326521694051977 , log_loss_D = 0.401803332856115\n",
      "Epoch79done.\n"
     ]
    },
    {
     "name": "stderr",
     "output_type": "stream",
     "text": [
      "100%|##########| 196/196 [00:10<00:00, 17.93it/s]\n",
      "  0%|          | 0/196 [00:00<?, ?it/s]"
     ]
    },
    {
     "name": "stdout",
     "output_type": "stream",
     "text": [
      "log_loss_G = 2.7366065708350162 , log_loss_D = 0.34421214875670114\n",
      "Epoch80done.\n"
     ]
    },
    {
     "name": "stderr",
     "output_type": "stream",
     "text": [
      "100%|##########| 196/196 [00:10<00:00, 17.98it/s]\n",
      "  0%|          | 0/196 [00:00<?, ?it/s]"
     ]
    },
    {
     "name": "stdout",
     "output_type": "stream",
     "text": [
      "log_loss_G = 2.7998772912031535 , log_loss_D = 0.298238304462664\n",
      "Epoch81done.\n"
     ]
    },
    {
     "name": "stderr",
     "output_type": "stream",
     "text": [
      "100%|##########| 196/196 [00:10<00:00, 18.83it/s]\n",
      "  0%|          | 0/196 [00:00<?, ?it/s]"
     ]
    },
    {
     "name": "stdout",
     "output_type": "stream",
     "text": [
      "log_loss_G = 2.93783642731759 , log_loss_D = 0.24352748840287022\n",
      "Epoch82done.\n"
     ]
    },
    {
     "name": "stderr",
     "output_type": "stream",
     "text": [
      "100%|##########| 196/196 [00:10<00:00, 18.14it/s]\n",
      "  0%|          | 0/196 [00:00<?, ?it/s]"
     ]
    },
    {
     "name": "stdout",
     "output_type": "stream",
     "text": [
      "log_loss_G = 2.717392328784478 , log_loss_D = 0.4040452899905492\n",
      "Epoch83done.\n"
     ]
    },
    {
     "name": "stderr",
     "output_type": "stream",
     "text": [
      "100%|##########| 196/196 [00:10<00:00, 17.34it/s]\n",
      "  0%|          | 0/196 [00:00<?, ?it/s]"
     ]
    },
    {
     "name": "stdout",
     "output_type": "stream",
     "text": [
      "log_loss_G = 2.857547184376388 , log_loss_D = 0.34426826284248\n",
      "Epoch84done.\n"
     ]
    },
    {
     "name": "stderr",
     "output_type": "stream",
     "text": [
      "100%|##########| 196/196 [00:10<00:00, 17.25it/s]\n",
      "  0%|          | 0/196 [00:00<?, ?it/s]"
     ]
    },
    {
     "name": "stdout",
     "output_type": "stream",
     "text": [
      "log_loss_G = 2.7374790126875954 , log_loss_D = 0.3452593229559003\n",
      "Epoch85done.\n"
     ]
    },
    {
     "name": "stderr",
     "output_type": "stream",
     "text": [
      "100%|##########| 196/196 [00:11<00:00, 17.63it/s]\n",
      "  0%|          | 0/196 [00:00<?, ?it/s]"
     ]
    },
    {
     "name": "stdout",
     "output_type": "stream",
     "text": [
      "log_loss_G = 2.9818989598021215 , log_loss_D = 0.2355375137864327\n",
      "Epoch86done.\n"
     ]
    },
    {
     "name": "stderr",
     "output_type": "stream",
     "text": [
      "100%|##########| 196/196 [00:10<00:00, 18.04it/s]\n",
      "  0%|          | 0/196 [00:00<?, ?it/s]"
     ]
    },
    {
     "name": "stdout",
     "output_type": "stream",
     "text": [
      "log_loss_G = 3.0654376787798747 , log_loss_D = 0.19898901811363745\n",
      "Epoch87done.\n"
     ]
    },
    {
     "name": "stderr",
     "output_type": "stream",
     "text": [
      "100%|##########| 196/196 [00:10<00:00, 17.87it/s]\n",
      "  0%|          | 0/196 [00:00<?, ?it/s]"
     ]
    },
    {
     "name": "stdout",
     "output_type": "stream",
     "text": [
      "log_loss_G = 2.704811238132569 , log_loss_D = 0.4511878525990309\n",
      "Epoch88done.\n"
     ]
    },
    {
     "name": "stderr",
     "output_type": "stream",
     "text": [
      "100%|##########| 196/196 [00:10<00:00, 17.06it/s]\n",
      "  0%|          | 0/196 [00:00<?, ?it/s]"
     ]
    },
    {
     "name": "stdout",
     "output_type": "stream",
     "text": [
      "log_loss_G = 2.633231231752707 , log_loss_D = 0.5188563676665023\n",
      "Epoch89done.\n"
     ]
    },
    {
     "name": "stderr",
     "output_type": "stream",
     "text": [
      "100%|##########| 196/196 [00:10<00:00, 17.52it/s]\n",
      "  0%|          | 0/196 [00:00<?, ?it/s]"
     ]
    },
    {
     "name": "stdout",
     "output_type": "stream",
     "text": [
      "log_loss_G = 2.8249636148007546 , log_loss_D = 0.31209095639689843\n",
      "Epoch90done.\n"
     ]
    },
    {
     "name": "stderr",
     "output_type": "stream",
     "text": [
      "100%|##########| 196/196 [00:10<00:00, 17.38it/s]\n",
      "  0%|          | 0/196 [00:00<?, ?it/s]"
     ]
    },
    {
     "name": "stdout",
     "output_type": "stream",
     "text": [
      "log_loss_G = 2.8333914298184064 , log_loss_D = 0.3225810393995168\n",
      "Epoch91done.\n"
     ]
    },
    {
     "name": "stderr",
     "output_type": "stream",
     "text": [
      "100%|##########| 196/196 [00:11<00:00, 17.56it/s]\n",
      "  0%|          | 0/196 [00:00<?, ?it/s]"
     ]
    },
    {
     "name": "stdout",
     "output_type": "stream",
     "text": [
      "log_loss_G = 2.8350233095032826 , log_loss_D = 0.3660463896599047\n",
      "Epoch92done.\n"
     ]
    },
    {
     "name": "stderr",
     "output_type": "stream",
     "text": [
      "100%|##########| 196/196 [00:10<00:00, 18.10it/s]\n",
      "  0%|          | 0/196 [00:00<?, ?it/s]"
     ]
    },
    {
     "name": "stdout",
     "output_type": "stream",
     "text": [
      "log_loss_G = 2.890508943522463 , log_loss_D = 0.3318620913719036\n",
      "Epoch93done.\n"
     ]
    },
    {
     "name": "stderr",
     "output_type": "stream",
     "text": [
      "100%|##########| 196/196 [00:11<00:00, 17.78it/s]\n",
      "  0%|          | 0/196 [00:00<?, ?it/s]"
     ]
    },
    {
     "name": "stdout",
     "output_type": "stream",
     "text": [
      "log_loss_G = 2.775672494718919 , log_loss_D = 0.3752029334213965\n",
      "Epoch94done.\n"
     ]
    },
    {
     "name": "stderr",
     "output_type": "stream",
     "text": [
      "100%|##########| 196/196 [00:10<00:00, 17.92it/s]\n",
      "  0%|          | 0/196 [00:00<?, ?it/s]"
     ]
    },
    {
     "name": "stdout",
     "output_type": "stream",
     "text": [
      "log_loss_G = 2.9516051064188384 , log_loss_D = 0.23539116214580683\n",
      "Epoch95done.\n"
     ]
    },
    {
     "name": "stderr",
     "output_type": "stream",
     "text": [
      "100%|##########| 196/196 [00:10<00:00, 16.51it/s]\n",
      "  0%|          | 0/196 [00:00<?, ?it/s]"
     ]
    },
    {
     "name": "stdout",
     "output_type": "stream",
     "text": [
      "log_loss_G = 3.0427469985217463 , log_loss_D = 0.2613021394960126\n",
      "Epoch96done.\n"
     ]
    },
    {
     "name": "stderr",
     "output_type": "stream",
     "text": [
      "100%|##########| 196/196 [00:10<00:00, 17.34it/s]\n",
      "  0%|          | 0/196 [00:00<?, ?it/s]"
     ]
    },
    {
     "name": "stdout",
     "output_type": "stream",
     "text": [
      "log_loss_G = 2.890440191009215 , log_loss_D = 0.32486252828824275\n",
      "Epoch97done.\n"
     ]
    },
    {
     "name": "stderr",
     "output_type": "stream",
     "text": [
      "100%|##########| 196/196 [00:10<00:00, 17.05it/s]\n",
      "  0%|          | 0/196 [00:00<?, ?it/s]"
     ]
    },
    {
     "name": "stdout",
     "output_type": "stream",
     "text": [
      "log_loss_G = 2.750490387027361 , log_loss_D = 0.41616593153044884\n",
      "Epoch98done.\n"
     ]
    },
    {
     "name": "stderr",
     "output_type": "stream",
     "text": [
      "100%|##########| 196/196 [00:11<00:00, 17.77it/s]\n",
      "  0%|          | 0/196 [00:00<?, ?it/s]"
     ]
    },
    {
     "name": "stdout",
     "output_type": "stream",
     "text": [
      "log_loss_G = 2.8565666705217896 , log_loss_D = 0.3770424393290768\n",
      "Epoch99done.\n"
     ]
    },
    {
     "name": "stderr",
     "output_type": "stream",
     "text": [
      "100%|##########| 196/196 [00:10<00:00, 17.92it/s]\n",
      "  0%|          | 0/196 [00:00<?, ?it/s]"
     ]
    },
    {
     "name": "stdout",
     "output_type": "stream",
     "text": [
      "log_loss_G = 3.0104036252109374 , log_loss_D = 0.27808269550453646\n",
      "Epoch100done.\n"
     ]
    },
    {
     "name": "stderr",
     "output_type": "stream",
     "text": [
      "100%|##########| 196/196 [00:11<00:00, 17.54it/s]\n",
      "  0%|          | 0/196 [00:00<?, ?it/s]"
     ]
    },
    {
     "name": "stdout",
     "output_type": "stream",
     "text": [
      "log_loss_G = 2.9522008972280487 , log_loss_D = 0.3130007031924871\n",
      "Epoch101done.\n"
     ]
    },
    {
     "name": "stderr",
     "output_type": "stream",
     "text": [
      "100%|##########| 196/196 [00:10<00:00, 17.78it/s]\n",
      "  0%|          | 0/196 [00:00<?, ?it/s]"
     ]
    },
    {
     "name": "stdout",
     "output_type": "stream",
     "text": [
      "log_loss_G = 3.01152066430267 , log_loss_D = 0.23322517481841604\n",
      "Epoch102done.\n"
     ]
    },
    {
     "name": "stderr",
     "output_type": "stream",
     "text": [
      "100%|##########| 196/196 [00:10<00:00, 17.87it/s]\n",
      "  0%|          | 0/196 [00:00<?, ?it/s]"
     ]
    },
    {
     "name": "stdout",
     "output_type": "stream",
     "text": [
      "log_loss_G = 3.0073840786912003 , log_loss_D = 0.29071965718603865\n",
      "Epoch103done.\n"
     ]
    },
    {
     "name": "stderr",
     "output_type": "stream",
     "text": [
      "100%|##########| 196/196 [00:11<00:00, 17.68it/s]\n",
      "  0%|          | 0/196 [00:00<?, ?it/s]"
     ]
    },
    {
     "name": "stdout",
     "output_type": "stream",
     "text": [
      "log_loss_G = 3.0407454309871 , log_loss_D = 0.26463225521907513\n",
      "Epoch104done.\n"
     ]
    },
    {
     "name": "stderr",
     "output_type": "stream",
     "text": [
      "100%|##########| 196/196 [00:10<00:00, 18.43it/s]\n",
      "  0%|          | 0/196 [00:00<?, ?it/s]"
     ]
    },
    {
     "name": "stdout",
     "output_type": "stream",
     "text": [
      "log_loss_G = 3.0746496157074463 , log_loss_D = 0.2521033690938232\n",
      "Epoch105done.\n"
     ]
    },
    {
     "name": "stderr",
     "output_type": "stream",
     "text": [
      "100%|##########| 196/196 [00:11<00:00, 17.51it/s]\n",
      "  0%|          | 0/196 [00:00<?, ?it/s]"
     ]
    },
    {
     "name": "stdout",
     "output_type": "stream",
     "text": [
      "log_loss_G = 2.9678572729534034 , log_loss_D = 0.34795661772392233\n",
      "Epoch106done.\n"
     ]
    },
    {
     "name": "stderr",
     "output_type": "stream",
     "text": [
      "100%|##########| 196/196 [00:11<00:00, 17.59it/s]\n",
      "  0%|          | 0/196 [00:00<?, ?it/s]"
     ]
    },
    {
     "name": "stdout",
     "output_type": "stream",
     "text": [
      "log_loss_G = 3.1504340389629406 , log_loss_D = 0.3066384340161268\n",
      "Epoch107done.\n"
     ]
    },
    {
     "name": "stderr",
     "output_type": "stream",
     "text": [
      "100%|##########| 196/196 [00:10<00:00, 18.01it/s]\n",
      "  0%|          | 0/196 [00:00<?, ?it/s]"
     ]
    },
    {
     "name": "stdout",
     "output_type": "stream",
     "text": [
      "log_loss_G = 2.691586862565303 , log_loss_D = 0.4177533888010954\n",
      "Epoch108done.\n"
     ]
    },
    {
     "name": "stderr",
     "output_type": "stream",
     "text": [
      "100%|##########| 196/196 [00:10<00:00, 17.75it/s]\n",
      "  0%|          | 0/196 [00:00<?, ?it/s]"
     ]
    },
    {
     "name": "stdout",
     "output_type": "stream",
     "text": [
      "log_loss_G = 3.3073146513530185 , log_loss_D = 0.14122022236032145\n",
      "Epoch109done.\n"
     ]
    },
    {
     "name": "stderr",
     "output_type": "stream",
     "text": [
      "100%|##########| 196/196 [00:11<00:00, 17.67it/s]\n",
      "  0%|          | 0/196 [00:00<?, ?it/s]"
     ]
    },
    {
     "name": "stdout",
     "output_type": "stream",
     "text": [
      "log_loss_G = 2.6707920437412604 , log_loss_D = 0.46519644529919846\n",
      "Epoch110done.\n"
     ]
    },
    {
     "name": "stderr",
     "output_type": "stream",
     "text": [
      "100%|##########| 196/196 [00:11<00:00, 17.80it/s]\n",
      "  0%|          | 0/196 [00:00<?, ?it/s]"
     ]
    },
    {
     "name": "stdout",
     "output_type": "stream",
     "text": [
      "log_loss_G = 2.9109013613541515 , log_loss_D = 0.35794273087260675\n",
      "Epoch111done.\n"
     ]
    },
    {
     "name": "stderr",
     "output_type": "stream",
     "text": [
      "100%|##########| 196/196 [00:11<00:00, 17.80it/s]\n",
      "  0%|          | 0/196 [00:00<?, ?it/s]"
     ]
    },
    {
     "name": "stdout",
     "output_type": "stream",
     "text": [
      "log_loss_G = 3.1673545449668046 , log_loss_D = 0.23365210314110227\n",
      "Epoch112done.\n"
     ]
    },
    {
     "name": "stderr",
     "output_type": "stream",
     "text": [
      "100%|##########| 196/196 [00:11<00:00, 17.58it/s]\n",
      "  0%|          | 0/196 [00:00<?, ?it/s]"
     ]
    },
    {
     "name": "stdout",
     "output_type": "stream",
     "text": [
      "log_loss_G = 3.140043734439782 , log_loss_D = 0.23400530918520324\n",
      "Epoch113done.\n"
     ]
    },
    {
     "name": "stderr",
     "output_type": "stream",
     "text": [
      "100%|##########| 196/196 [00:11<00:00, 17.58it/s]\n",
      "  0%|          | 0/196 [00:00<?, ?it/s]"
     ]
    },
    {
     "name": "stdout",
     "output_type": "stream",
     "text": [
      "log_loss_G = 3.0731710550584355 , log_loss_D = 0.3367702199754362\n",
      "Epoch114done.\n"
     ]
    },
    {
     "name": "stderr",
     "output_type": "stream",
     "text": [
      "100%|##########| 196/196 [00:10<00:00, 18.06it/s]\n",
      "  0%|          | 0/196 [00:00<?, ?it/s]"
     ]
    },
    {
     "name": "stdout",
     "output_type": "stream",
     "text": [
      "log_loss_G = 3.300105222025696 , log_loss_D = 0.1385631651370501\n",
      "Epoch115done.\n"
     ]
    },
    {
     "name": "stderr",
     "output_type": "stream",
     "text": [
      "100%|##########| 196/196 [00:11<00:00, 17.67it/s]\n",
      "  0%|          | 0/196 [00:00<?, ?it/s]"
     ]
    },
    {
     "name": "stdout",
     "output_type": "stream",
     "text": [
      "log_loss_G = 2.7070949181762276 , log_loss_D = 0.5491377263500983\n",
      "Epoch116done.\n"
     ]
    },
    {
     "name": "stderr",
     "output_type": "stream",
     "text": [
      "100%|##########| 196/196 [00:11<00:00, 17.76it/s]\n",
      "  0%|          | 0/196 [00:00<?, ?it/s]"
     ]
    },
    {
     "name": "stdout",
     "output_type": "stream",
     "text": [
      "log_loss_G = 3.0096345927034105 , log_loss_D = 0.2781379802190528\n",
      "Epoch117done.\n"
     ]
    },
    {
     "name": "stderr",
     "output_type": "stream",
     "text": [
      "100%|##########| 196/196 [00:10<00:00, 18.26it/s]\n",
      "  0%|          | 0/196 [00:00<?, ?it/s]"
     ]
    },
    {
     "name": "stdout",
     "output_type": "stream",
     "text": [
      "log_loss_G = 2.90046063871408 , log_loss_D = 0.36881024698365705\n",
      "Epoch118done.\n"
     ]
    },
    {
     "name": "stderr",
     "output_type": "stream",
     "text": [
      "100%|##########| 196/196 [00:10<00:00, 17.55it/s]\n",
      "  0%|          | 0/196 [00:00<?, ?it/s]"
     ]
    },
    {
     "name": "stdout",
     "output_type": "stream",
     "text": [
      "log_loss_G = 3.0719632243319435 , log_loss_D = 0.31203084821071553\n",
      "Epoch119done.\n"
     ]
    },
    {
     "name": "stderr",
     "output_type": "stream",
     "text": [
      "100%|##########| 196/196 [00:11<00:00, 17.69it/s]\n",
      "  0%|          | 0/196 [00:00<?, ?it/s]"
     ]
    },
    {
     "name": "stdout",
     "output_type": "stream",
     "text": [
      "log_loss_G = 3.0949376245238343 , log_loss_D = 0.25730637588291144\n",
      "Epoch120done.\n"
     ]
    },
    {
     "name": "stderr",
     "output_type": "stream",
     "text": [
      "100%|##########| 196/196 [00:10<00:00, 18.22it/s]\n",
      "  0%|          | 0/196 [00:00<?, ?it/s]"
     ]
    },
    {
     "name": "stdout",
     "output_type": "stream",
     "text": [
      "log_loss_G = 3.2664051335685107 , log_loss_D = 0.1764565914945335\n",
      "Epoch121done.\n"
     ]
    },
    {
     "name": "stderr",
     "output_type": "stream",
     "text": [
      "100%|##########| 196/196 [00:10<00:00, 17.09it/s]\n",
      "  0%|          | 0/196 [00:00<?, ?it/s]"
     ]
    },
    {
     "name": "stdout",
     "output_type": "stream",
     "text": [
      "log_loss_G = 3.031744081298916 , log_loss_D = 0.3449481588085087\n",
      "Epoch122done.\n"
     ]
    },
    {
     "name": "stderr",
     "output_type": "stream",
     "text": [
      "100%|##########| 196/196 [00:11<00:00, 17.80it/s]\n",
      "  0%|          | 0/196 [00:00<?, ?it/s]"
     ]
    },
    {
     "name": "stdout",
     "output_type": "stream",
     "text": [
      "log_loss_G = 3.1205188872254626 , log_loss_D = 0.24888303959552122\n",
      "Epoch123done.\n"
     ]
    },
    {
     "name": "stderr",
     "output_type": "stream",
     "text": [
      "100%|##########| 196/196 [00:10<00:00, 17.86it/s]\n",
      "  0%|          | 0/196 [00:00<?, ?it/s]"
     ]
    },
    {
     "name": "stdout",
     "output_type": "stream",
     "text": [
      "log_loss_G = 3.1017074734162615 , log_loss_D = 0.3112715973841901\n",
      "Epoch124done.\n"
     ]
    },
    {
     "name": "stderr",
     "output_type": "stream",
     "text": [
      "100%|##########| 196/196 [00:10<00:00, 17.62it/s]\n",
      "  0%|          | 0/196 [00:00<?, ?it/s]"
     ]
    },
    {
     "name": "stdout",
     "output_type": "stream",
     "text": [
      "log_loss_G = 3.1186167308110364 , log_loss_D = 0.29815453775607204\n",
      "Epoch125done.\n"
     ]
    },
    {
     "name": "stderr",
     "output_type": "stream",
     "text": [
      "100%|##########| 196/196 [00:11<00:00, 17.75it/s]\n",
      "  0%|          | 0/196 [00:00<?, ?it/s]"
     ]
    },
    {
     "name": "stdout",
     "output_type": "stream",
     "text": [
      "log_loss_G = 3.2951015544180966 , log_loss_D = 0.1867776809222236\n",
      "Epoch126done.\n"
     ]
    },
    {
     "name": "stderr",
     "output_type": "stream",
     "text": [
      "100%|##########| 196/196 [00:11<00:00, 17.70it/s]\n",
      "  0%|          | 0/196 [00:00<?, ?it/s]"
     ]
    },
    {
     "name": "stdout",
     "output_type": "stream",
     "text": [
      "log_loss_G = 3.2403229091848647 , log_loss_D = 0.3121403996091412\n",
      "Epoch127done.\n"
     ]
    },
    {
     "name": "stderr",
     "output_type": "stream",
     "text": [
      "100%|##########| 196/196 [00:11<00:00, 17.70it/s]\n",
      "  0%|          | 0/196 [00:00<?, ?it/s]"
     ]
    },
    {
     "name": "stdout",
     "output_type": "stream",
     "text": [
      "log_loss_G = 2.9078976324930483 , log_loss_D = 0.3196559345387683\n",
      "Epoch128done.\n"
     ]
    },
    {
     "name": "stderr",
     "output_type": "stream",
     "text": [
      "100%|##########| 196/196 [00:10<00:00, 17.74it/s]\n",
      "  0%|          | 0/196 [00:00<?, ?it/s]"
     ]
    },
    {
     "name": "stdout",
     "output_type": "stream",
     "text": [
      "log_loss_G = 3.0795007395957197 , log_loss_D = 0.3061925789949541\n",
      "Epoch129done.\n"
     ]
    },
    {
     "name": "stderr",
     "output_type": "stream",
     "text": [
      "100%|##########| 196/196 [00:10<00:00, 17.71it/s]\n",
      "  0%|          | 0/196 [00:00<?, ?it/s]"
     ]
    },
    {
     "name": "stdout",
     "output_type": "stream",
     "text": [
      "log_loss_G = 3.2146015738194085 , log_loss_D = 0.36175628835145307\n",
      "Epoch130done.\n"
     ]
    },
    {
     "name": "stderr",
     "output_type": "stream",
     "text": [
      "100%|##########| 196/196 [00:10<00:00, 17.90it/s]\n",
      "  0%|          | 0/196 [00:00<?, ?it/s]"
     ]
    },
    {
     "name": "stdout",
     "output_type": "stream",
     "text": [
      "log_loss_G = 2.9064405479905555 , log_loss_D = 0.3218909379246892\n",
      "Epoch131done.\n"
     ]
    },
    {
     "name": "stderr",
     "output_type": "stream",
     "text": [
      "100%|##########| 196/196 [00:10<00:00, 17.79it/s]\n",
      "  0%|          | 0/196 [00:00<?, ?it/s]"
     ]
    },
    {
     "name": "stdout",
     "output_type": "stream",
     "text": [
      "log_loss_G = 3.2894474067250075 , log_loss_D = 0.21675270117287124\n",
      "Epoch132done.\n"
     ]
    },
    {
     "name": "stderr",
     "output_type": "stream",
     "text": [
      "100%|##########| 196/196 [00:10<00:00, 17.51it/s]\n",
      "  0%|          | 0/196 [00:00<?, ?it/s]"
     ]
    },
    {
     "name": "stdout",
     "output_type": "stream",
     "text": [
      "log_loss_G = 2.6172106080517477 , log_loss_D = 0.6299208342192733\n",
      "Epoch133done.\n"
     ]
    },
    {
     "name": "stderr",
     "output_type": "stream",
     "text": [
      "100%|##########| 196/196 [00:10<00:00, 18.15it/s]\n",
      "  0%|          | 0/196 [00:00<?, ?it/s]"
     ]
    },
    {
     "name": "stdout",
     "output_type": "stream",
     "text": [
      "log_loss_G = 3.120213504652588 , log_loss_D = 0.2648635948913134\n",
      "Epoch134done.\n"
     ]
    },
    {
     "name": "stderr",
     "output_type": "stream",
     "text": [
      "100%|##########| 196/196 [00:10<00:00, 17.59it/s]\n",
      "  0%|          | 0/196 [00:00<?, ?it/s]"
     ]
    },
    {
     "name": "stdout",
     "output_type": "stream",
     "text": [
      "log_loss_G = 3.2692539375655505 , log_loss_D = 0.15664093048140712\n",
      "Epoch135done.\n"
     ]
    },
    {
     "name": "stderr",
     "output_type": "stream",
     "text": [
      "100%|##########| 196/196 [00:10<00:00, 18.13it/s]\n",
      "  0%|          | 0/196 [00:00<?, ?it/s]"
     ]
    },
    {
     "name": "stdout",
     "output_type": "stream",
     "text": [
      "log_loss_G = 3.337043177868639 , log_loss_D = 0.23418267219498448\n",
      "Epoch136done.\n"
     ]
    },
    {
     "name": "stderr",
     "output_type": "stream",
     "text": [
      "100%|##########| 196/196 [00:10<00:00, 17.32it/s]\n",
      "  0%|          | 0/196 [00:00<?, ?it/s]"
     ]
    },
    {
     "name": "stdout",
     "output_type": "stream",
     "text": [
      "log_loss_G = 3.185736023991996 , log_loss_D = 0.3446437375315902\n",
      "Epoch137done.\n"
     ]
    },
    {
     "name": "stderr",
     "output_type": "stream",
     "text": [
      "100%|##########| 196/196 [00:10<00:00, 17.52it/s]\n",
      "  0%|          | 0/196 [00:00<?, ?it/s]"
     ]
    },
    {
     "name": "stdout",
     "output_type": "stream",
     "text": [
      "log_loss_G = 3.1586106931980775 , log_loss_D = 0.2832851756212054\n",
      "Epoch138done.\n"
     ]
    },
    {
     "name": "stderr",
     "output_type": "stream",
     "text": [
      "100%|##########| 196/196 [00:10<00:00, 18.20it/s]\n",
      "  0%|          | 0/196 [00:00<?, ?it/s]"
     ]
    },
    {
     "name": "stdout",
     "output_type": "stream",
     "text": [
      "log_loss_G = 2.964036845697128 , log_loss_D = 0.39355849009007215\n",
      "Epoch139done.\n"
     ]
    },
    {
     "name": "stderr",
     "output_type": "stream",
     "text": [
      "100%|##########| 196/196 [00:10<00:00, 17.82it/s]\n",
      "  0%|          | 0/196 [00:00<?, ?it/s]"
     ]
    },
    {
     "name": "stdout",
     "output_type": "stream",
     "text": [
      "log_loss_G = 2.576415762609365 , log_loss_D = 0.6889459255664628\n",
      "Epoch140done.\n"
     ]
    },
    {
     "name": "stderr",
     "output_type": "stream",
     "text": [
      "100%|##########| 196/196 [00:10<00:00, 17.88it/s]\n",
      "  0%|          | 0/196 [00:00<?, ?it/s]"
     ]
    },
    {
     "name": "stdout",
     "output_type": "stream",
     "text": [
      "log_loss_G = 2.7457728201941567 , log_loss_D = 0.44231392758689364\n",
      "Epoch141done.\n"
     ]
    },
    {
     "name": "stderr",
     "output_type": "stream",
     "text": [
      "100%|##########| 196/196 [00:10<00:00, 18.82it/s]\n",
      "  0%|          | 0/196 [00:00<?, ?it/s]"
     ]
    },
    {
     "name": "stdout",
     "output_type": "stream",
     "text": [
      "log_loss_G = 3.3533556969190133 , log_loss_D = 0.17592271430683987\n",
      "Epoch142done.\n"
     ]
    },
    {
     "name": "stderr",
     "output_type": "stream",
     "text": [
      "100%|##########| 196/196 [00:10<00:00, 18.29it/s]\n",
      "  0%|          | 0/196 [00:00<?, ?it/s]"
     ]
    },
    {
     "name": "stdout",
     "output_type": "stream",
     "text": [
      "log_loss_G = 3.394597118910478 , log_loss_D = 0.1849532646640223\n",
      "Epoch143done.\n"
     ]
    },
    {
     "name": "stderr",
     "output_type": "stream",
     "text": [
      "100%|##########| 196/196 [00:10<00:00, 17.69it/s]\n",
      "  0%|          | 0/196 [00:00<?, ?it/s]"
     ]
    },
    {
     "name": "stdout",
     "output_type": "stream",
     "text": [
      "log_loss_G = 3.439641109078514 , log_loss_D = 0.20281831127572425\n",
      "Epoch144done.\n"
     ]
    },
    {
     "name": "stderr",
     "output_type": "stream",
     "text": [
      "100%|##########| 196/196 [00:10<00:00, 17.43it/s]\n",
      "  0%|          | 0/196 [00:00<?, ?it/s]"
     ]
    },
    {
     "name": "stdout",
     "output_type": "stream",
     "text": [
      "log_loss_G = 3.2468184772878885 , log_loss_D = 0.3008285596662638\n",
      "Epoch145done.\n"
     ]
    },
    {
     "name": "stderr",
     "output_type": "stream",
     "text": [
      "100%|##########| 196/196 [00:11<00:00, 17.78it/s]\n",
      "  0%|          | 0/196 [00:00<?, ?it/s]"
     ]
    },
    {
     "name": "stdout",
     "output_type": "stream",
     "text": [
      "log_loss_G = 3.4243136909125105 , log_loss_D = 0.29048510152390417\n",
      "Epoch146done.\n"
     ]
    },
    {
     "name": "stderr",
     "output_type": "stream",
     "text": [
      "100%|##########| 196/196 [00:11<00:00, 17.76it/s]\n",
      "  0%|          | 0/196 [00:00<?, ?it/s]"
     ]
    },
    {
     "name": "stdout",
     "output_type": "stream",
     "text": [
      "log_loss_G = 2.9875271473155944 , log_loss_D = 0.34568512812256813\n",
      "Epoch147done.\n"
     ]
    },
    {
     "name": "stderr",
     "output_type": "stream",
     "text": [
      "100%|##########| 196/196 [00:10<00:00, 17.96it/s]\n",
      "  0%|          | 0/196 [00:00<?, ?it/s]"
     ]
    },
    {
     "name": "stdout",
     "output_type": "stream",
     "text": [
      "log_loss_G = 3.2801297981368034 , log_loss_D = 0.21674542569992494\n",
      "Epoch148done.\n"
     ]
    },
    {
     "name": "stderr",
     "output_type": "stream",
     "text": [
      "100%|##########| 196/196 [00:10<00:00, 17.77it/s]\n",
      "  0%|          | 0/196 [00:00<?, ?it/s]"
     ]
    },
    {
     "name": "stdout",
     "output_type": "stream",
     "text": [
      "log_loss_G = 3.148228505892413 , log_loss_D = 0.3379084653772262\n",
      "Epoch149done.\n"
     ]
    },
    {
     "name": "stderr",
     "output_type": "stream",
     "text": [
      "100%|##########| 196/196 [00:10<00:00, 17.92it/s]\n",
      "  0%|          | 0/196 [00:00<?, ?it/s]"
     ]
    },
    {
     "name": "stdout",
     "output_type": "stream",
     "text": [
      "log_loss_G = 3.3725693739798603 , log_loss_D = 0.1871838962887319\n",
      "Epoch150done.\n"
     ]
    },
    {
     "name": "stderr",
     "output_type": "stream",
     "text": [
      "100%|##########| 196/196 [00:10<00:00, 18.09it/s]\n",
      "  0%|          | 0/196 [00:00<?, ?it/s]"
     ]
    },
    {
     "name": "stdout",
     "output_type": "stream",
     "text": [
      "log_loss_G = 3.4181453962715302 , log_loss_D = 0.22069372704290613\n",
      "Epoch151done.\n"
     ]
    },
    {
     "name": "stderr",
     "output_type": "stream",
     "text": [
      "100%|##########| 196/196 [00:11<00:00, 17.77it/s]\n",
      "  0%|          | 0/196 [00:00<?, ?it/s]"
     ]
    },
    {
     "name": "stdout",
     "output_type": "stream",
     "text": [
      "log_loss_G = 3.3464378532858525 , log_loss_D = 0.3228062317725651\n",
      "Epoch152done.\n"
     ]
    },
    {
     "name": "stderr",
     "output_type": "stream",
     "text": [
      "100%|##########| 196/196 [00:10<00:00, 18.03it/s]\n",
      "  0%|          | 0/196 [00:00<?, ?it/s]"
     ]
    },
    {
     "name": "stdout",
     "output_type": "stream",
     "text": [
      "log_loss_G = 3.1434879892942855 , log_loss_D = 0.262733087190712\n",
      "Epoch153done.\n"
     ]
    },
    {
     "name": "stderr",
     "output_type": "stream",
     "text": [
      "100%|##########| 196/196 [00:10<00:00, 17.44it/s]\n",
      "  0%|          | 0/196 [00:00<?, ?it/s]"
     ]
    },
    {
     "name": "stdout",
     "output_type": "stream",
     "text": [
      "log_loss_G = 3.6575718947819302 , log_loss_D = 0.10465002014320723\n",
      "Epoch154done.\n"
     ]
    },
    {
     "name": "stderr",
     "output_type": "stream",
     "text": [
      "100%|##########| 196/196 [00:11<00:00, 17.46it/s]\n",
      "  0%|          | 0/196 [00:00<?, ?it/s]"
     ]
    },
    {
     "name": "stdout",
     "output_type": "stream",
     "text": [
      "log_loss_G = 3.211512468755245 , log_loss_D = 0.3897119738465669\n",
      "Epoch155done.\n"
     ]
    },
    {
     "name": "stderr",
     "output_type": "stream",
     "text": [
      "100%|##########| 196/196 [00:10<00:00, 17.61it/s]\n",
      "  0%|          | 0/196 [00:00<?, ?it/s]"
     ]
    },
    {
     "name": "stdout",
     "output_type": "stream",
     "text": [
      "log_loss_G = 2.552202691381075 , log_loss_D = 0.6337506740487048\n",
      "Epoch156done.\n"
     ]
    },
    {
     "name": "stderr",
     "output_type": "stream",
     "text": [
      "100%|##########| 196/196 [00:10<00:00, 18.12it/s]\n",
      "  0%|          | 0/196 [00:00<?, ?it/s]"
     ]
    },
    {
     "name": "stdout",
     "output_type": "stream",
     "text": [
      "log_loss_G = 2.733588837011128 , log_loss_D = 0.46324506968411866\n",
      "Epoch157done.\n"
     ]
    },
    {
     "name": "stderr",
     "output_type": "stream",
     "text": [
      "100%|##########| 196/196 [00:10<00:00, 17.73it/s]\n",
      "  0%|          | 0/196 [00:00<?, ?it/s]"
     ]
    },
    {
     "name": "stdout",
     "output_type": "stream",
     "text": [
      "log_loss_G = 3.4594706908172492 , log_loss_D = 0.18842852970927346\n",
      "Epoch158done.\n"
     ]
    },
    {
     "name": "stderr",
     "output_type": "stream",
     "text": [
      "100%|##########| 196/196 [00:11<00:00, 17.61it/s]\n",
      "  0%|          | 0/196 [00:00<?, ?it/s]"
     ]
    },
    {
     "name": "stdout",
     "output_type": "stream",
     "text": [
      "log_loss_G = 3.369602380358443 , log_loss_D = 0.23861618191764064\n",
      "Epoch159done.\n"
     ]
    },
    {
     "name": "stderr",
     "output_type": "stream",
     "text": [
      "100%|##########| 196/196 [00:10<00:00, 18.04it/s]\n",
      "  0%|          | 0/196 [00:00<?, ?it/s]"
     ]
    },
    {
     "name": "stdout",
     "output_type": "stream",
     "text": [
      "log_loss_G = 3.310563478314755 , log_loss_D = 0.2331634456557887\n",
      "Epoch160done.\n"
     ]
    },
    {
     "name": "stderr",
     "output_type": "stream",
     "text": [
      "100%|##########| 196/196 [00:10<00:00, 17.92it/s]\n",
      "  0%|          | 0/196 [00:00<?, ?it/s]"
     ]
    },
    {
     "name": "stdout",
     "output_type": "stream",
     "text": [
      "log_loss_G = 3.1653161226030515 , log_loss_D = 0.3563730889475163\n",
      "Epoch161done.\n"
     ]
    },
    {
     "name": "stderr",
     "output_type": "stream",
     "text": [
      "100%|##########| 196/196 [00:11<00:00, 17.51it/s]\n",
      "  0%|          | 0/196 [00:00<?, ?it/s]"
     ]
    },
    {
     "name": "stdout",
     "output_type": "stream",
     "text": [
      "log_loss_G = 3.2633744994824636 , log_loss_D = 0.26197108259538604\n",
      "Epoch162done.\n"
     ]
    },
    {
     "name": "stderr",
     "output_type": "stream",
     "text": [
      "100%|##########| 196/196 [00:11<00:00, 17.73it/s]\n",
      "  0%|          | 0/196 [00:00<?, ?it/s]"
     ]
    },
    {
     "name": "stdout",
     "output_type": "stream",
     "text": [
      "log_loss_G = 3.3994994022104206 , log_loss_D = 0.2633928966005238\n",
      "Epoch163done.\n"
     ]
    },
    {
     "name": "stderr",
     "output_type": "stream",
     "text": [
      "100%|##########| 196/196 [00:10<00:00, 17.36it/s]\n",
      "  0%|          | 0/196 [00:00<?, ?it/s]"
     ]
    },
    {
     "name": "stdout",
     "output_type": "stream",
     "text": [
      "log_loss_G = 3.2856911115196286 , log_loss_D = 0.2587561014925643\n",
      "Epoch164done.\n"
     ]
    },
    {
     "name": "stderr",
     "output_type": "stream",
     "text": [
      "100%|##########| 196/196 [00:10<00:00, 17.41it/s]\n",
      "  0%|          | 0/196 [00:00<?, ?it/s]"
     ]
    },
    {
     "name": "stdout",
     "output_type": "stream",
     "text": [
      "log_loss_G = 3.5453933556469117 , log_loss_D = 0.11823004001409423\n",
      "Epoch165done.\n"
     ]
    },
    {
     "name": "stderr",
     "output_type": "stream",
     "text": [
      "100%|##########| 196/196 [00:10<00:00, 17.83it/s]\n",
      "  0%|          | 0/196 [00:00<?, ?it/s]"
     ]
    },
    {
     "name": "stdout",
     "output_type": "stream",
     "text": [
      "log_loss_G = 3.1424944330082862 , log_loss_D = 0.36425089001731603\n",
      "Epoch166done.\n"
     ]
    },
    {
     "name": "stderr",
     "output_type": "stream",
     "text": [
      "100%|##########| 196/196 [00:10<00:00, 17.56it/s]\n",
      "  0%|          | 0/196 [00:00<?, ?it/s]"
     ]
    },
    {
     "name": "stdout",
     "output_type": "stream",
     "text": [
      "log_loss_G = 3.451443102438839 , log_loss_D = 0.24763088795945656\n",
      "Epoch167done.\n"
     ]
    },
    {
     "name": "stderr",
     "output_type": "stream",
     "text": [
      "100%|##########| 196/196 [00:10<00:00, 17.89it/s]\n",
      "  0%|          | 0/196 [00:00<?, ?it/s]"
     ]
    },
    {
     "name": "stdout",
     "output_type": "stream",
     "text": [
      "log_loss_G = 3.4693540315029723 , log_loss_D = 0.19470772641349812\n",
      "Epoch168done.\n"
     ]
    },
    {
     "name": "stderr",
     "output_type": "stream",
     "text": [
      "100%|##########| 196/196 [00:11<00:00, 17.68it/s]\n",
      "  0%|          | 0/196 [00:00<?, ?it/s]"
     ]
    },
    {
     "name": "stdout",
     "output_type": "stream",
     "text": [
      "log_loss_G = 3.696980660667225 , log_loss_D = 0.09741826293685911\n",
      "Epoch169done.\n"
     ]
    },
    {
     "name": "stderr",
     "output_type": "stream",
     "text": [
      "100%|##########| 196/196 [00:10<00:00, 17.03it/s]\n",
      "  0%|          | 0/196 [00:00<?, ?it/s]"
     ]
    },
    {
     "name": "stdout",
     "output_type": "stream",
     "text": [
      "log_loss_G = 3.363798646104275 , log_loss_D = 0.312375194088993\n",
      "Epoch170done.\n"
     ]
    },
    {
     "name": "stderr",
     "output_type": "stream",
     "text": [
      "100%|##########| 196/196 [00:11<00:00, 17.80it/s]\n",
      "  0%|          | 0/196 [00:00<?, ?it/s]"
     ]
    },
    {
     "name": "stdout",
     "output_type": "stream",
     "text": [
      "log_loss_G = 3.2922582700088316 , log_loss_D = 0.2546183265821666\n",
      "Epoch171done.\n"
     ]
    },
    {
     "name": "stderr",
     "output_type": "stream",
     "text": [
      "100%|##########| 196/196 [00:10<00:00, 17.16it/s]\n",
      "  0%|          | 0/196 [00:00<?, ?it/s]"
     ]
    },
    {
     "name": "stdout",
     "output_type": "stream",
     "text": [
      "log_loss_G = 3.2857989794289577 , log_loss_D = 0.2769850547786574\n",
      "Epoch172done.\n"
     ]
    },
    {
     "name": "stderr",
     "output_type": "stream",
     "text": [
      "100%|##########| 196/196 [00:10<00:00, 17.54it/s]\n",
      "  0%|          | 0/196 [00:00<?, ?it/s]"
     ]
    },
    {
     "name": "stdout",
     "output_type": "stream",
     "text": [
      "log_loss_G = 3.3146374701541297 , log_loss_D = 0.2844838650174895\n",
      "Epoch173done.\n"
     ]
    },
    {
     "name": "stderr",
     "output_type": "stream",
     "text": [
      "100%|##########| 196/196 [00:11<00:00, 17.76it/s]\n",
      "  0%|          | 0/196 [00:00<?, ?it/s]"
     ]
    },
    {
     "name": "stdout",
     "output_type": "stream",
     "text": [
      "log_loss_G = 3.569391689130238 , log_loss_D = 0.1517716428188949\n",
      "Epoch174done.\n"
     ]
    },
    {
     "name": "stderr",
     "output_type": "stream",
     "text": [
      "100%|##########| 196/196 [00:11<00:00, 17.60it/s]\n",
      "  0%|          | 0/196 [00:00<?, ?it/s]"
     ]
    },
    {
     "name": "stdout",
     "output_type": "stream",
     "text": [
      "log_loss_G = 3.5243487691848863 , log_loss_D = 0.201223999584968\n",
      "Epoch175done.\n"
     ]
    },
    {
     "name": "stderr",
     "output_type": "stream",
     "text": [
      "100%|##########| 196/196 [00:11<00:00, 17.61it/s]\n",
      "  0%|          | 0/196 [00:00<?, ?it/s]"
     ]
    },
    {
     "name": "stdout",
     "output_type": "stream",
     "text": [
      "log_loss_G = 3.156069184292336 , log_loss_D = 0.451107632596882\n",
      "Epoch176done.\n"
     ]
    },
    {
     "name": "stderr",
     "output_type": "stream",
     "text": [
      "100%|##########| 196/196 [00:10<00:00, 17.80it/s]\n",
      "  0%|          | 0/196 [00:00<?, ?it/s]"
     ]
    },
    {
     "name": "stdout",
     "output_type": "stream",
     "text": [
      "log_loss_G = 3.076747638496513 , log_loss_D = 0.3248170443563437\n",
      "Epoch177done.\n"
     ]
    },
    {
     "name": "stderr",
     "output_type": "stream",
     "text": [
      "100%|##########| 196/196 [00:10<00:00, 18.19it/s]\n",
      "  0%|          | 0/196 [00:00<?, ?it/s]"
     ]
    },
    {
     "name": "stdout",
     "output_type": "stream",
     "text": [
      "log_loss_G = 3.4429943120601227 , log_loss_D = 0.20148934395413617\n",
      "Epoch178done.\n"
     ]
    },
    {
     "name": "stderr",
     "output_type": "stream",
     "text": [
      "100%|##########| 196/196 [00:10<00:00, 17.36it/s]\n",
      "  0%|          | 0/196 [00:00<?, ?it/s]"
     ]
    },
    {
     "name": "stdout",
     "output_type": "stream",
     "text": [
      "log_loss_G = 3.3555804325305685 , log_loss_D = 0.2501432833889005\n",
      "Epoch179done.\n"
     ]
    },
    {
     "name": "stderr",
     "output_type": "stream",
     "text": [
      "100%|##########| 196/196 [00:11<00:00, 17.66it/s]\n",
      "  0%|          | 0/196 [00:00<?, ?it/s]"
     ]
    },
    {
     "name": "stdout",
     "output_type": "stream",
     "text": [
      "log_loss_G = 3.3991062283820037 , log_loss_D = 0.2085914625691212\n",
      "Epoch180done.\n"
     ]
    },
    {
     "name": "stderr",
     "output_type": "stream",
     "text": [
      "100%|##########| 196/196 [00:10<00:00, 18.22it/s]\n",
      "  0%|          | 0/196 [00:00<?, ?it/s]"
     ]
    },
    {
     "name": "stdout",
     "output_type": "stream",
     "text": [
      "log_loss_G = 3.6824771095143287 , log_loss_D = 0.15250684050082855\n",
      "Epoch181done.\n"
     ]
    },
    {
     "name": "stderr",
     "output_type": "stream",
     "text": [
      "100%|##########| 196/196 [00:10<00:00, 17.99it/s]\n",
      "  0%|          | 0/196 [00:00<?, ?it/s]"
     ]
    },
    {
     "name": "stdout",
     "output_type": "stream",
     "text": [
      "log_loss_G = 3.26785995355066 , log_loss_D = 0.2826109222535576\n",
      "Epoch182done.\n"
     ]
    },
    {
     "name": "stderr",
     "output_type": "stream",
     "text": [
      "100%|##########| 196/196 [00:11<00:00, 17.78it/s]\n",
      "  0%|          | 0/196 [00:00<?, ?it/s]"
     ]
    },
    {
     "name": "stdout",
     "output_type": "stream",
     "text": [
      "log_loss_G = 3.288958374182789 , log_loss_D = 0.2664757543053402\n",
      "Epoch183done.\n"
     ]
    },
    {
     "name": "stderr",
     "output_type": "stream",
     "text": [
      "100%|##########| 196/196 [00:11<00:00, 17.76it/s]\n",
      "  0%|          | 0/196 [00:00<?, ?it/s]"
     ]
    },
    {
     "name": "stdout",
     "output_type": "stream",
     "text": [
      "log_loss_G = 3.3896219690463374 , log_loss_D = 0.26311680349540345\n",
      "Epoch184done.\n"
     ]
    },
    {
     "name": "stderr",
     "output_type": "stream",
     "text": [
      "100%|##########| 196/196 [00:11<00:00, 17.72it/s]\n",
      "  0%|          | 0/196 [00:00<?, ?it/s]"
     ]
    },
    {
     "name": "stdout",
     "output_type": "stream",
     "text": [
      "log_loss_G = 3.6724839903870405 , log_loss_D = 0.11833741042610942\n",
      "Epoch185done.\n"
     ]
    },
    {
     "name": "stderr",
     "output_type": "stream",
     "text": [
      "100%|##########| 196/196 [00:10<00:00, 17.57it/s]\n",
      "  0%|          | 0/196 [00:00<?, ?it/s]"
     ]
    },
    {
     "name": "stdout",
     "output_type": "stream",
     "text": [
      "log_loss_G = 3.3160895845111535 , log_loss_D = 0.2980314542596437\n",
      "Epoch186done.\n"
     ]
    },
    {
     "name": "stderr",
     "output_type": "stream",
     "text": [
      "100%|##########| 196/196 [00:10<00:00, 17.43it/s]\n",
      "  0%|          | 0/196 [00:00<?, ?it/s]"
     ]
    },
    {
     "name": "stdout",
     "output_type": "stream",
     "text": [
      "log_loss_G = 3.4071809730815645 , log_loss_D = 0.3493846798106572\n",
      "Epoch187done.\n"
     ]
    },
    {
     "name": "stderr",
     "output_type": "stream",
     "text": [
      "100%|##########| 196/196 [00:10<00:00, 17.93it/s]\n",
      "  0%|          | 0/196 [00:00<?, ?it/s]"
     ]
    },
    {
     "name": "stdout",
     "output_type": "stream",
     "text": [
      "log_loss_G = 3.309206299483776 , log_loss_D = 0.22457067704550465\n",
      "Epoch188done.\n"
     ]
    },
    {
     "name": "stderr",
     "output_type": "stream",
     "text": [
      "100%|##########| 196/196 [00:10<00:00, 18.01it/s]\n",
      "  0%|          | 0/196 [00:00<?, ?it/s]"
     ]
    },
    {
     "name": "stdout",
     "output_type": "stream",
     "text": [
      "log_loss_G = 3.5564810730973067 , log_loss_D = 0.1997991658519117\n",
      "Epoch189done.\n"
     ]
    },
    {
     "name": "stderr",
     "output_type": "stream",
     "text": [
      "100%|##########| 196/196 [00:11<00:00, 17.75it/s]\n",
      "  0%|          | 0/196 [00:00<?, ?it/s]"
     ]
    },
    {
     "name": "stdout",
     "output_type": "stream",
     "text": [
      "log_loss_G = 3.429472302751882 , log_loss_D = 0.2424464436932182\n",
      "Epoch190done.\n"
     ]
    },
    {
     "name": "stderr",
     "output_type": "stream",
     "text": [
      "100%|##########| 196/196 [00:11<00:00, 17.64it/s]\n",
      "  0%|          | 0/196 [00:00<?, ?it/s]"
     ]
    },
    {
     "name": "stdout",
     "output_type": "stream",
     "text": [
      "log_loss_G = 3.4467652703692413 , log_loss_D = 0.28700787492324503\n",
      "Epoch191done.\n"
     ]
    },
    {
     "name": "stderr",
     "output_type": "stream",
     "text": [
      "100%|##########| 196/196 [00:11<00:00, 17.69it/s]\n",
      "  0%|          | 0/196 [00:00<?, ?it/s]"
     ]
    },
    {
     "name": "stdout",
     "output_type": "stream",
     "text": [
      "log_loss_G = 3.440312944200574 , log_loss_D = 0.24667276280494976\n",
      "Epoch192done.\n"
     ]
    },
    {
     "name": "stderr",
     "output_type": "stream",
     "text": [
      "100%|##########| 196/196 [00:11<00:00, 17.57it/s]\n",
      "  0%|          | 0/196 [00:00<?, ?it/s]"
     ]
    },
    {
     "name": "stdout",
     "output_type": "stream",
     "text": [
      "log_loss_G = 3.3367520893106657 , log_loss_D = 0.24052222390488096\n",
      "Epoch193done.\n"
     ]
    },
    {
     "name": "stderr",
     "output_type": "stream",
     "text": [
      "100%|##########| 196/196 [00:10<00:00, 17.83it/s]\n",
      "  0%|          | 0/196 [00:00<?, ?it/s]"
     ]
    },
    {
     "name": "stdout",
     "output_type": "stream",
     "text": [
      "log_loss_G = 3.5509766078725153 , log_loss_D = 0.2180654569433964\n",
      "Epoch194done.\n"
     ]
    },
    {
     "name": "stderr",
     "output_type": "stream",
     "text": [
      "100%|##########| 196/196 [00:10<00:00, 18.01it/s]\n",
      "  0%|          | 0/196 [00:00<?, ?it/s]"
     ]
    },
    {
     "name": "stdout",
     "output_type": "stream",
     "text": [
      "log_loss_G = 3.5315929004276287 , log_loss_D = 0.165773977126394\n",
      "Epoch195done.\n"
     ]
    },
    {
     "name": "stderr",
     "output_type": "stream",
     "text": [
      "100%|##########| 196/196 [00:11<00:00, 17.52it/s]\n",
      "  0%|          | 0/196 [00:00<?, ?it/s]"
     ]
    },
    {
     "name": "stdout",
     "output_type": "stream",
     "text": [
      "log_loss_G = 3.449388078052779 , log_loss_D = 0.2522877964514251\n",
      "Epoch196done.\n"
     ]
    },
    {
     "name": "stderr",
     "output_type": "stream",
     "text": [
      "100%|##########| 196/196 [00:10<00:00, 17.76it/s]\n",
      "  0%|          | 0/196 [00:00<?, ?it/s]"
     ]
    },
    {
     "name": "stdout",
     "output_type": "stream",
     "text": [
      "log_loss_G = 3.7413805692779776 , log_loss_D = 0.11327669151811576\n",
      "Epoch197done.\n"
     ]
    },
    {
     "name": "stderr",
     "output_type": "stream",
     "text": [
      "100%|##########| 196/196 [00:10<00:00, 18.10it/s]\n",
      "  0%|          | 0/196 [00:00<?, ?it/s]"
     ]
    },
    {
     "name": "stdout",
     "output_type": "stream",
     "text": [
      "log_loss_G = 3.4200483012412275 , log_loss_D = 0.2533979931162024\n",
      "Epoch198done.\n"
     ]
    },
    {
     "name": "stderr",
     "output_type": "stream",
     "text": [
      "100%|##########| 196/196 [00:10<00:00, 17.32it/s]\n",
      "  0%|          | 0/196 [00:00<?, ?it/s]"
     ]
    },
    {
     "name": "stdout",
     "output_type": "stream",
     "text": [
      "log_loss_G = 3.5344965521208183 , log_loss_D = 0.19250694548293035\n",
      "Epoch199done.\n"
     ]
    },
    {
     "name": "stderr",
     "output_type": "stream",
     "text": [
      "100%|##########| 196/196 [00:10<00:00, 18.03it/s]\n",
      "  0%|          | 0/196 [00:00<?, ?it/s]"
     ]
    },
    {
     "name": "stdout",
     "output_type": "stream",
     "text": [
      "log_loss_G = 3.420152744316325 , log_loss_D = 0.3019460199058664\n",
      "Epoch200done.\n"
     ]
    },
    {
     "name": "stderr",
     "output_type": "stream",
     "text": [
      "100%|##########| 196/196 [00:10<00:00, 17.29it/s]\n",
      "  0%|          | 0/196 [00:00<?, ?it/s]"
     ]
    },
    {
     "name": "stdout",
     "output_type": "stream",
     "text": [
      "log_loss_G = 3.468929571156599 , log_loss_D = 0.20657868934225063\n",
      "Epoch201done.\n"
     ]
    },
    {
     "name": "stderr",
     "output_type": "stream",
     "text": [
      "100%|##########| 196/196 [00:11<00:00, 17.66it/s]\n",
      "  0%|          | 0/196 [00:00<?, ?it/s]"
     ]
    },
    {
     "name": "stdout",
     "output_type": "stream",
     "text": [
      "log_loss_G = 3.1373446814107653 , log_loss_D = 0.36482933914402915\n",
      "Epoch202done.\n"
     ]
    },
    {
     "name": "stderr",
     "output_type": "stream",
     "text": [
      "100%|##########| 196/196 [00:11<00:00, 17.67it/s]\n",
      "  0%|          | 0/196 [00:00<?, ?it/s]"
     ]
    },
    {
     "name": "stdout",
     "output_type": "stream",
     "text": [
      "log_loss_G = 3.6598337073715363 , log_loss_D = 0.10677057045644947\n",
      "Epoch203done.\n"
     ]
    },
    {
     "name": "stderr",
     "output_type": "stream",
     "text": [
      "100%|##########| 196/196 [00:11<00:00, 17.51it/s]\n",
      "  0%|          | 0/196 [00:00<?, ?it/s]"
     ]
    },
    {
     "name": "stdout",
     "output_type": "stream",
     "text": [
      "log_loss_G = 3.721473070431729 , log_loss_D = 0.1815549646295151\n",
      "Epoch204done.\n"
     ]
    },
    {
     "name": "stderr",
     "output_type": "stream",
     "text": [
      "100%|##########| 196/196 [00:10<00:00, 17.72it/s]\n",
      "  0%|          | 0/196 [00:00<?, ?it/s]"
     ]
    },
    {
     "name": "stdout",
     "output_type": "stream",
     "text": [
      "log_loss_G = 3.5802838093772227 , log_loss_D = 0.18379842706632857\n",
      "Epoch205done.\n"
     ]
    },
    {
     "name": "stderr",
     "output_type": "stream",
     "text": [
      "100%|##########| 196/196 [00:10<00:00, 17.28it/s]\n",
      "  0%|          | 0/196 [00:00<?, ?it/s]"
     ]
    },
    {
     "name": "stdout",
     "output_type": "stream",
     "text": [
      "log_loss_G = 3.134937648642428 , log_loss_D = 0.3994520578381358\n",
      "Epoch206done.\n"
     ]
    },
    {
     "name": "stderr",
     "output_type": "stream",
     "text": [
      "100%|##########| 196/196 [00:10<00:00, 19.11it/s]\n",
      "  0%|          | 0/196 [00:00<?, ?it/s]"
     ]
    },
    {
     "name": "stdout",
     "output_type": "stream",
     "text": [
      "log_loss_G = 3.6254489903851432 , log_loss_D = 0.17114255617239646\n",
      "Epoch207done.\n"
     ]
    },
    {
     "name": "stderr",
     "output_type": "stream",
     "text": [
      "100%|##########| 196/196 [00:11<00:00, 17.80it/s]\n",
      "  0%|          | 0/196 [00:00<?, ?it/s]"
     ]
    },
    {
     "name": "stdout",
     "output_type": "stream",
     "text": [
      "log_loss_G = 3.707059861293861 , log_loss_D = 0.18119154677593283\n",
      "Epoch208done.\n"
     ]
    },
    {
     "name": "stderr",
     "output_type": "stream",
     "text": [
      "100%|##########| 196/196 [00:10<00:00, 17.63it/s]\n",
      "  0%|          | 0/196 [00:00<?, ?it/s]"
     ]
    },
    {
     "name": "stdout",
     "output_type": "stream",
     "text": [
      "log_loss_G = 3.557212750978616 , log_loss_D = 0.19598826848692735\n",
      "Epoch209done.\n"
     ]
    },
    {
     "name": "stderr",
     "output_type": "stream",
     "text": [
      "100%|##########| 196/196 [00:11<00:00, 17.67it/s]\n",
      "  0%|          | 0/196 [00:00<?, ?it/s]"
     ]
    },
    {
     "name": "stdout",
     "output_type": "stream",
     "text": [
      "log_loss_G = 3.5796981888766193 , log_loss_D = 0.22932870127260685\n",
      "Epoch210done.\n"
     ]
    },
    {
     "name": "stderr",
     "output_type": "stream",
     "text": [
      "100%|##########| 196/196 [00:11<00:00, 17.75it/s]\n",
      "  0%|          | 0/196 [00:00<?, ?it/s]"
     ]
    },
    {
     "name": "stdout",
     "output_type": "stream",
     "text": [
      "log_loss_G = 3.482509903391177 , log_loss_D = 0.2273159734904766\n",
      "Epoch211done.\n"
     ]
    },
    {
     "name": "stderr",
     "output_type": "stream",
     "text": [
      "100%|##########| 196/196 [00:11<00:00, 17.67it/s]\n",
      "  0%|          | 0/196 [00:00<?, ?it/s]"
     ]
    },
    {
     "name": "stdout",
     "output_type": "stream",
     "text": [
      "log_loss_G = 3.7350865416989034 , log_loss_D = 0.15013305427582593\n",
      "Epoch212done.\n"
     ]
    },
    {
     "name": "stderr",
     "output_type": "stream",
     "text": [
      "100%|##########| 196/196 [00:10<00:00, 17.36it/s]\n",
      "  0%|          | 0/196 [00:00<?, ?it/s]"
     ]
    },
    {
     "name": "stdout",
     "output_type": "stream",
     "text": [
      "log_loss_G = 3.7851496746345443 , log_loss_D = 0.09855818784586629\n",
      "Epoch213done.\n"
     ]
    },
    {
     "name": "stderr",
     "output_type": "stream",
     "text": [
      "100%|##########| 196/196 [00:11<00:00, 17.61it/s]\n",
      "  0%|          | 0/196 [00:00<?, ?it/s]"
     ]
    },
    {
     "name": "stdout",
     "output_type": "stream",
     "text": [
      "log_loss_G = 3.6935730538882163 , log_loss_D = 0.2071890838121121\n",
      "Epoch214done.\n"
     ]
    },
    {
     "name": "stderr",
     "output_type": "stream",
     "text": [
      "100%|##########| 196/196 [00:10<00:00, 17.90it/s]\n",
      "  0%|          | 0/196 [00:00<?, ?it/s]"
     ]
    },
    {
     "name": "stdout",
     "output_type": "stream",
     "text": [
      "log_loss_G = 3.388882732090103 , log_loss_D = 0.3114253495040597\n",
      "Epoch215done.\n"
     ]
    },
    {
     "name": "stderr",
     "output_type": "stream",
     "text": [
      "100%|##########| 196/196 [00:11<00:00, 17.67it/s]\n",
      "  0%|          | 0/196 [00:00<?, ?it/s]"
     ]
    },
    {
     "name": "stdout",
     "output_type": "stream",
     "text": [
      "log_loss_G = 3.3678901086808466 , log_loss_D = 0.32688153833531\n",
      "Epoch216done.\n"
     ]
    },
    {
     "name": "stderr",
     "output_type": "stream",
     "text": [
      "100%|##########| 196/196 [00:11<00:00, 17.62it/s]\n",
      "  0%|          | 0/196 [00:00<?, ?it/s]"
     ]
    },
    {
     "name": "stdout",
     "output_type": "stream",
     "text": [
      "log_loss_G = 3.326516460095133 , log_loss_D = 0.2758610651125105\n",
      "Epoch217done.\n"
     ]
    },
    {
     "name": "stderr",
     "output_type": "stream",
     "text": [
      "100%|##########| 196/196 [00:10<00:00, 17.57it/s]\n",
      "  0%|          | 0/196 [00:00<?, ?it/s]"
     ]
    },
    {
     "name": "stdout",
     "output_type": "stream",
     "text": [
      "log_loss_G = 3.6420836615927366 , log_loss_D = 0.13950689290935286\n",
      "Epoch218done.\n"
     ]
    },
    {
     "name": "stderr",
     "output_type": "stream",
     "text": [
      "100%|##########| 196/196 [00:10<00:00, 18.60it/s]\n",
      "  0%|          | 0/196 [00:00<?, ?it/s]"
     ]
    },
    {
     "name": "stdout",
     "output_type": "stream",
     "text": [
      "log_loss_G = 3.439659809959786 , log_loss_D = 0.230790218262344\n",
      "Epoch219done.\n"
     ]
    },
    {
     "name": "stderr",
     "output_type": "stream",
     "text": [
      "100%|##########| 196/196 [00:10<00:00, 17.95it/s]\n",
      "  0%|          | 0/196 [00:00<?, ?it/s]"
     ]
    },
    {
     "name": "stdout",
     "output_type": "stream",
     "text": [
      "log_loss_G = 3.5002054683864117 , log_loss_D = 0.20275856683752974\n",
      "Epoch220done.\n"
     ]
    },
    {
     "name": "stderr",
     "output_type": "stream",
     "text": [
      "100%|##########| 196/196 [00:11<00:00, 18.12it/s]\n",
      "  0%|          | 0/196 [00:00<?, ?it/s]"
     ]
    },
    {
     "name": "stdout",
     "output_type": "stream",
     "text": [
      "log_loss_G = 3.620317074470222 , log_loss_D = 0.191986930024411\n",
      "Epoch221done.\n"
     ]
    },
    {
     "name": "stderr",
     "output_type": "stream",
     "text": [
      "100%|##########| 196/196 [00:10<00:00, 17.78it/s]\n",
      "  0%|          | 0/196 [00:00<?, ?it/s]"
     ]
    },
    {
     "name": "stdout",
     "output_type": "stream",
     "text": [
      "log_loss_G = 3.6900887225507475 , log_loss_D = 0.15172426505204367\n",
      "Epoch222done.\n"
     ]
    },
    {
     "name": "stderr",
     "output_type": "stream",
     "text": [
      "100%|##########| 196/196 [00:10<00:00, 18.29it/s]\n",
      "  0%|          | 0/196 [00:00<?, ?it/s]"
     ]
    },
    {
     "name": "stdout",
     "output_type": "stream",
     "text": [
      "log_loss_G = 3.787989433322634 , log_loss_D = 0.21092719056320433\n",
      "Epoch223done.\n"
     ]
    },
    {
     "name": "stderr",
     "output_type": "stream",
     "text": [
      "100%|##########| 196/196 [00:10<00:00, 17.51it/s]\n",
      "  0%|          | 0/196 [00:00<?, ?it/s]"
     ]
    },
    {
     "name": "stdout",
     "output_type": "stream",
     "text": [
      "log_loss_G = 3.375531917475924 , log_loss_D = 0.27106975634791414\n",
      "Epoch224done.\n"
     ]
    },
    {
     "name": "stderr",
     "output_type": "stream",
     "text": [
      "100%|##########| 196/196 [00:10<00:00, 17.42it/s]\n",
      "  0%|          | 0/196 [00:00<?, ?it/s]"
     ]
    },
    {
     "name": "stdout",
     "output_type": "stream",
     "text": [
      "log_loss_G = 3.393941802713944 , log_loss_D = 0.2325960518602206\n",
      "Epoch225done.\n"
     ]
    },
    {
     "name": "stderr",
     "output_type": "stream",
     "text": [
      "100%|##########| 196/196 [00:10<00:00, 17.99it/s]\n",
      "  0%|          | 0/196 [00:00<?, ?it/s]"
     ]
    },
    {
     "name": "stdout",
     "output_type": "stream",
     "text": [
      "log_loss_G = 3.6734132045994 , log_loss_D = 0.12501530985975143\n",
      "Epoch226done.\n"
     ]
    },
    {
     "name": "stderr",
     "output_type": "stream",
     "text": [
      "100%|##########| 196/196 [00:10<00:00, 18.19it/s]\n",
      "  0%|          | 0/196 [00:00<?, ?it/s]"
     ]
    },
    {
     "name": "stdout",
     "output_type": "stream",
     "text": [
      "log_loss_G = 3.4899750654490624 , log_loss_D = 0.24314763855037033\n",
      "Epoch227done.\n"
     ]
    },
    {
     "name": "stderr",
     "output_type": "stream",
     "text": [
      "100%|##########| 196/196 [00:10<00:00, 17.48it/s]\n",
      "  0%|          | 0/196 [00:00<?, ?it/s]"
     ]
    },
    {
     "name": "stdout",
     "output_type": "stream",
     "text": [
      "log_loss_G = 3.6447279450806733 , log_loss_D = 0.26051170604151425\n",
      "Epoch228done.\n"
     ]
    },
    {
     "name": "stderr",
     "output_type": "stream",
     "text": [
      "100%|##########| 196/196 [00:11<00:00, 17.78it/s]\n",
      "  0%|          | 0/196 [00:00<?, ?it/s]"
     ]
    },
    {
     "name": "stdout",
     "output_type": "stream",
     "text": [
      "log_loss_G = 3.6123665065922754 , log_loss_D = 0.17183304576165215\n",
      "Epoch229done.\n"
     ]
    },
    {
     "name": "stderr",
     "output_type": "stream",
     "text": [
      "100%|##########| 196/196 [00:10<00:00, 17.52it/s]\n",
      "  0%|          | 0/196 [00:00<?, ?it/s]"
     ]
    },
    {
     "name": "stdout",
     "output_type": "stream",
     "text": [
      "log_loss_G = 3.273824769015215 , log_loss_D = 0.3500792577254529\n",
      "Epoch230done.\n"
     ]
    },
    {
     "name": "stderr",
     "output_type": "stream",
     "text": [
      "100%|##########| 196/196 [00:10<00:00, 18.03it/s]\n",
      "  0%|          | 0/196 [00:00<?, ?it/s]"
     ]
    },
    {
     "name": "stdout",
     "output_type": "stream",
     "text": [
      "log_loss_G = 3.5724981325127336 , log_loss_D = 0.15815266966819763\n",
      "Epoch231done.\n"
     ]
    },
    {
     "name": "stderr",
     "output_type": "stream",
     "text": [
      "100%|##########| 196/196 [00:10<00:00, 17.91it/s]\n",
      "  0%|          | 0/196 [00:00<?, ?it/s]"
     ]
    },
    {
     "name": "stdout",
     "output_type": "stream",
     "text": [
      "log_loss_G = 3.79887990318999 , log_loss_D = 0.10864440586455927\n",
      "Epoch232done.\n"
     ]
    },
    {
     "name": "stderr",
     "output_type": "stream",
     "text": [
      "100%|##########| 196/196 [00:10<00:00, 17.89it/s]\n",
      "  0%|          | 0/196 [00:00<?, ?it/s]"
     ]
    },
    {
     "name": "stdout",
     "output_type": "stream",
     "text": [
      "log_loss_G = 3.732980582482961 , log_loss_D = 0.19051630928048066\n",
      "Epoch233done.\n"
     ]
    },
    {
     "name": "stderr",
     "output_type": "stream",
     "text": [
      "100%|##########| 196/196 [00:11<00:00, 17.48it/s]\n",
      "  0%|          | 0/196 [00:00<?, ?it/s]"
     ]
    },
    {
     "name": "stdout",
     "output_type": "stream",
     "text": [
      "log_loss_G = 3.256583499056952 , log_loss_D = 0.400355508303916\n",
      "Epoch234done.\n"
     ]
    },
    {
     "name": "stderr",
     "output_type": "stream",
     "text": [
      "100%|##########| 196/196 [00:11<00:00, 17.58it/s]\n",
      "  0%|          | 0/196 [00:00<?, ?it/s]"
     ]
    },
    {
     "name": "stdout",
     "output_type": "stream",
     "text": [
      "log_loss_G = 3.4704245036011754 , log_loss_D = 0.1890397103579373\n",
      "Epoch235done.\n"
     ]
    },
    {
     "name": "stderr",
     "output_type": "stream",
     "text": [
      "100%|##########| 196/196 [00:11<00:00, 17.77it/s]\n",
      "  0%|          | 0/196 [00:00<?, ?it/s]"
     ]
    },
    {
     "name": "stdout",
     "output_type": "stream",
     "text": [
      "log_loss_G = 3.520948841787723 , log_loss_D = 0.2068351900623161\n",
      "Epoch236done.\n"
     ]
    },
    {
     "name": "stderr",
     "output_type": "stream",
     "text": [
      "100%|##########| 196/196 [00:11<00:00, 17.69it/s]\n",
      "  0%|          | 0/196 [00:00<?, ?it/s]"
     ]
    },
    {
     "name": "stdout",
     "output_type": "stream",
     "text": [
      "log_loss_G = 3.018791034209485 , log_loss_D = 0.5401097264482962\n",
      "Epoch237done.\n"
     ]
    },
    {
     "name": "stderr",
     "output_type": "stream",
     "text": [
      "100%|##########| 196/196 [00:11<00:00, 17.46it/s]\n",
      "  0%|          | 0/196 [00:00<?, ?it/s]"
     ]
    },
    {
     "name": "stdout",
     "output_type": "stream",
     "text": [
      "log_loss_G = 3.341698817300553 , log_loss_D = 0.25257900722172794\n",
      "Epoch238done.\n"
     ]
    },
    {
     "name": "stderr",
     "output_type": "stream",
     "text": [
      "100%|##########| 196/196 [00:10<00:00, 17.24it/s]\n",
      "  0%|          | 0/196 [00:00<?, ?it/s]"
     ]
    },
    {
     "name": "stdout",
     "output_type": "stream",
     "text": [
      "log_loss_G = 3.2693336130100854 , log_loss_D = 0.25251507017837493\n",
      "Epoch239done.\n"
     ]
    },
    {
     "name": "stderr",
     "output_type": "stream",
     "text": [
      "100%|##########| 196/196 [00:10<00:00, 17.75it/s]\n",
      "  0%|          | 0/196 [00:00<?, ?it/s]"
     ]
    },
    {
     "name": "stdout",
     "output_type": "stream",
     "text": [
      "log_loss_G = 3.6358702888294143 , log_loss_D = 0.14227171194720634\n",
      "Epoch240done.\n"
     ]
    },
    {
     "name": "stderr",
     "output_type": "stream",
     "text": [
      "100%|##########| 196/196 [00:11<00:00, 17.79it/s]\n",
      "  0%|          | 0/196 [00:00<?, ?it/s]"
     ]
    },
    {
     "name": "stdout",
     "output_type": "stream",
     "text": [
      "log_loss_G = 3.6006117975149228 , log_loss_D = 0.18758531728265238\n",
      "Epoch241done.\n"
     ]
    },
    {
     "name": "stderr",
     "output_type": "stream",
     "text": [
      "100%|##########| 196/196 [00:11<00:00, 17.73it/s]\n",
      "  0%|          | 0/196 [00:00<?, ?it/s]"
     ]
    },
    {
     "name": "stdout",
     "output_type": "stream",
     "text": [
      "log_loss_G = 3.8437079221618418 , log_loss_D = 0.10404562756267129\n",
      "Epoch242done.\n"
     ]
    },
    {
     "name": "stderr",
     "output_type": "stream",
     "text": [
      "100%|##########| 196/196 [00:10<00:00, 17.84it/s]\n",
      "  0%|          | 0/196 [00:00<?, ?it/s]"
     ]
    },
    {
     "name": "stdout",
     "output_type": "stream",
     "text": [
      "log_loss_G = 3.542194509831238 , log_loss_D = 0.26627327180562577\n",
      "Epoch243done.\n"
     ]
    },
    {
     "name": "stderr",
     "output_type": "stream",
     "text": [
      "100%|##########| 196/196 [00:11<00:00, 17.38it/s]\n",
      "  0%|          | 0/196 [00:00<?, ?it/s]"
     ]
    },
    {
     "name": "stdout",
     "output_type": "stream",
     "text": [
      "log_loss_G = 3.5571136660113627 , log_loss_D = 0.20512337869565403\n",
      "Epoch244done.\n"
     ]
    },
    {
     "name": "stderr",
     "output_type": "stream",
     "text": [
      "100%|##########| 196/196 [00:10<00:00, 17.59it/s]\n",
      "  0%|          | 0/196 [00:00<?, ?it/s]"
     ]
    },
    {
     "name": "stdout",
     "output_type": "stream",
     "text": [
      "log_loss_G = 3.7871557818060473 , log_loss_D = 0.1701003838026402\n",
      "Epoch245done.\n"
     ]
    },
    {
     "name": "stderr",
     "output_type": "stream",
     "text": [
      "100%|##########| 196/196 [00:11<00:00, 17.58it/s]\n",
      "  0%|          | 0/196 [00:00<?, ?it/s]"
     ]
    },
    {
     "name": "stdout",
     "output_type": "stream",
     "text": [
      "log_loss_G = 3.4956608225914594 , log_loss_D = 0.2583976582129847\n",
      "Epoch246done.\n"
     ]
    },
    {
     "name": "stderr",
     "output_type": "stream",
     "text": [
      "100%|##########| 196/196 [00:11<00:00, 17.71it/s]\n",
      "  0%|          | 0/196 [00:00<?, ?it/s]"
     ]
    },
    {
     "name": "stdout",
     "output_type": "stream",
     "text": [
      "log_loss_G = 3.7591886946133206 , log_loss_D = 0.11404906771126755\n",
      "Epoch247done.\n"
     ]
    },
    {
     "name": "stderr",
     "output_type": "stream",
     "text": [
      "100%|##########| 196/196 [00:11<00:00, 17.80it/s]\n",
      "  0%|          | 0/196 [00:00<?, ?it/s]"
     ]
    },
    {
     "name": "stdout",
     "output_type": "stream",
     "text": [
      "log_loss_G = 3.2056587769136744 , log_loss_D = 0.42987946214686545\n",
      "Epoch248done.\n"
     ]
    },
    {
     "name": "stderr",
     "output_type": "stream",
     "text": [
      "100%|##########| 196/196 [00:11<00:00, 17.75it/s]\n",
      "  0%|          | 0/196 [00:00<?, ?it/s]"
     ]
    },
    {
     "name": "stdout",
     "output_type": "stream",
     "text": [
      "log_loss_G = 3.5687383139620024 , log_loss_D = 0.1501607827043959\n",
      "Epoch249done.\n"
     ]
    },
    {
     "name": "stderr",
     "output_type": "stream",
     "text": [
      "100%|##########| 196/196 [00:11<00:00, 17.72it/s]\n",
      "  0%|          | 0/196 [00:00<?, ?it/s]"
     ]
    },
    {
     "name": "stdout",
     "output_type": "stream",
     "text": [
      "log_loss_G = 3.4507957811571885 , log_loss_D = 0.2561269046320599\n",
      "Epoch250done.\n"
     ]
    },
    {
     "name": "stderr",
     "output_type": "stream",
     "text": [
      "100%|##########| 196/196 [00:10<00:00, 17.87it/s]\n",
      "  0%|          | 0/196 [00:00<?, ?it/s]"
     ]
    },
    {
     "name": "stdout",
     "output_type": "stream",
     "text": [
      "log_loss_G = 3.496436502594425 , log_loss_D = 0.36900608389809425\n",
      "Epoch251done.\n"
     ]
    },
    {
     "name": "stderr",
     "output_type": "stream",
     "text": [
      "100%|##########| 196/196 [00:11<00:00, 17.97it/s]\n",
      "  0%|          | 0/196 [00:00<?, ?it/s]"
     ]
    },
    {
     "name": "stdout",
     "output_type": "stream",
     "text": [
      "log_loss_G = 3.4706761265287596 , log_loss_D = 0.22715555933513204\n",
      "Epoch252done.\n"
     ]
    },
    {
     "name": "stderr",
     "output_type": "stream",
     "text": [
      "100%|##########| 196/196 [00:11<00:00, 18.19it/s]\n",
      "  0%|          | 0/196 [00:00<?, ?it/s]"
     ]
    },
    {
     "name": "stdout",
     "output_type": "stream",
     "text": [
      "log_loss_G = 3.6230192498436997 , log_loss_D = 0.1668355955305148\n",
      "Epoch253done.\n"
     ]
    },
    {
     "name": "stderr",
     "output_type": "stream",
     "text": [
      "100%|##########| 196/196 [00:10<00:00, 17.17it/s]\n",
      "  0%|          | 0/196 [00:00<?, ?it/s]"
     ]
    },
    {
     "name": "stdout",
     "output_type": "stream",
     "text": [
      "log_loss_G = 3.564723218087943 , log_loss_D = 0.24930045312764693\n",
      "Epoch254done.\n"
     ]
    },
    {
     "name": "stderr",
     "output_type": "stream",
     "text": [
      "100%|##########| 196/196 [00:10<00:00, 16.71it/s]\n",
      "  0%|          | 0/196 [00:00<?, ?it/s]"
     ]
    },
    {
     "name": "stdout",
     "output_type": "stream",
     "text": [
      "log_loss_G = 3.578285928739577 , log_loss_D = 0.1743773818396184\n",
      "Epoch255done.\n"
     ]
    },
    {
     "name": "stderr",
     "output_type": "stream",
     "text": [
      "100%|##########| 196/196 [00:10<00:00, 17.55it/s]\n",
      "  0%|          | 0/196 [00:00<?, ?it/s]"
     ]
    },
    {
     "name": "stdout",
     "output_type": "stream",
     "text": [
      "log_loss_G = 3.3750332491282298 , log_loss_D = 0.26916695887945136\n",
      "Epoch256done.\n"
     ]
    },
    {
     "name": "stderr",
     "output_type": "stream",
     "text": [
      "100%|##########| 196/196 [00:11<00:00, 17.71it/s]\n",
      "  0%|          | 0/196 [00:00<?, ?it/s]"
     ]
    },
    {
     "name": "stdout",
     "output_type": "stream",
     "text": [
      "log_loss_G = 3.7945886857199427 , log_loss_D = 0.16928439467613185\n",
      "Epoch257done.\n"
     ]
    },
    {
     "name": "stderr",
     "output_type": "stream",
     "text": [
      "100%|##########| 196/196 [00:11<00:00, 17.82it/s]\n",
      "  0%|          | 0/196 [00:00<?, ?it/s]"
     ]
    },
    {
     "name": "stdout",
     "output_type": "stream",
     "text": [
      "log_loss_G = 3.631736123440217 , log_loss_D = 0.14711551301713502\n",
      "Epoch258done.\n"
     ]
    },
    {
     "name": "stderr",
     "output_type": "stream",
     "text": [
      "100%|##########| 196/196 [00:10<00:00, 17.87it/s]\n",
      "  0%|          | 0/196 [00:00<?, ?it/s]"
     ]
    },
    {
     "name": "stdout",
     "output_type": "stream",
     "text": [
      "log_loss_G = 3.696322635804512 , log_loss_D = 0.20547224079467813\n",
      "Epoch259done.\n"
     ]
    },
    {
     "name": "stderr",
     "output_type": "stream",
     "text": [
      "100%|##########| 196/196 [00:10<00:00, 17.94it/s]\n",
      "  0%|          | 0/196 [00:00<?, ?it/s]"
     ]
    },
    {
     "name": "stdout",
     "output_type": "stream",
     "text": [
      "log_loss_G = 3.9151774109626305 , log_loss_D = 0.09336794350220233\n",
      "Epoch260done.\n"
     ]
    },
    {
     "name": "stderr",
     "output_type": "stream",
     "text": [
      "100%|##########| 196/196 [00:11<00:00, 17.55it/s]\n",
      "  0%|          | 0/196 [00:00<?, ?it/s]"
     ]
    },
    {
     "name": "stdout",
     "output_type": "stream",
     "text": [
      "log_loss_G = 3.627796764010373 , log_loss_D = 0.31700617432290196\n",
      "Epoch261done.\n"
     ]
    },
    {
     "name": "stderr",
     "output_type": "stream",
     "text": [
      "100%|##########| 196/196 [00:10<00:00, 17.52it/s]\n",
      "  0%|          | 0/196 [00:00<?, ?it/s]"
     ]
    },
    {
     "name": "stdout",
     "output_type": "stream",
     "text": [
      "log_loss_G = 3.5312128077660287 , log_loss_D = 0.27459271715915934\n",
      "Epoch262done.\n"
     ]
    },
    {
     "name": "stderr",
     "output_type": "stream",
     "text": [
      "100%|##########| 196/196 [00:10<00:00, 17.88it/s]\n",
      "  0%|          | 0/196 [00:00<?, ?it/s]"
     ]
    },
    {
     "name": "stdout",
     "output_type": "stream",
     "text": [
      "log_loss_G = 3.4425812536964613 , log_loss_D = 0.19044495539321582\n",
      "Epoch263done.\n"
     ]
    },
    {
     "name": "stderr",
     "output_type": "stream",
     "text": [
      "100%|##########| 196/196 [00:11<00:00, 17.57it/s]\n",
      "  0%|          | 0/196 [00:00<?, ?it/s]"
     ]
    },
    {
     "name": "stdout",
     "output_type": "stream",
     "text": [
      "log_loss_G = 3.387870111331648 , log_loss_D = 0.2792696385093185\n",
      "Epoch264done.\n"
     ]
    },
    {
     "name": "stderr",
     "output_type": "stream",
     "text": [
      "100%|##########| 196/196 [00:10<00:00, 16.74it/s]\n",
      "  0%|          | 0/196 [00:00<?, ?it/s]"
     ]
    },
    {
     "name": "stdout",
     "output_type": "stream",
     "text": [
      "log_loss_G = 3.77607554744701 , log_loss_D = 0.1389888196860497\n",
      "Epoch265done.\n"
     ]
    },
    {
     "name": "stderr",
     "output_type": "stream",
     "text": [
      "100%|##########| 196/196 [00:10<00:00, 17.84it/s]\n",
      "  0%|          | 0/196 [00:00<?, ?it/s]"
     ]
    },
    {
     "name": "stdout",
     "output_type": "stream",
     "text": [
      "log_loss_G = 3.2801588909814554 , log_loss_D = 0.43623493277296727\n",
      "Epoch266done.\n"
     ]
    },
    {
     "name": "stderr",
     "output_type": "stream",
     "text": [
      "100%|##########| 196/196 [00:11<00:00, 17.47it/s]\n",
      "  0%|          | 0/196 [00:00<?, ?it/s]"
     ]
    },
    {
     "name": "stdout",
     "output_type": "stream",
     "text": [
      "log_loss_G = 3.505705469725083 , log_loss_D = 0.15897338413538373\n",
      "Epoch267done.\n"
     ]
    },
    {
     "name": "stderr",
     "output_type": "stream",
     "text": [
      "100%|##########| 196/196 [00:10<00:00, 16.60it/s]\n",
      "  0%|          | 0/196 [00:00<?, ?it/s]"
     ]
    },
    {
     "name": "stdout",
     "output_type": "stream",
     "text": [
      "log_loss_G = 3.7920150735548566 , log_loss_D = 0.12079949297809175\n",
      "Epoch268done.\n"
     ]
    },
    {
     "name": "stderr",
     "output_type": "stream",
     "text": [
      "100%|##########| 196/196 [00:11<00:00, 17.58it/s]\n",
      "  0%|          | 0/196 [00:00<?, ?it/s]"
     ]
    },
    {
     "name": "stdout",
     "output_type": "stream",
     "text": [
      "log_loss_G = 3.51582656861568 , log_loss_D = 0.27092583040345686\n",
      "Epoch269done.\n"
     ]
    },
    {
     "name": "stderr",
     "output_type": "stream",
     "text": [
      "100%|##########| 196/196 [00:10<00:00, 16.92it/s]\n",
      "  0%|          | 0/196 [00:00<?, ?it/s]"
     ]
    },
    {
     "name": "stdout",
     "output_type": "stream",
     "text": [
      "log_loss_G = 3.468161512280301 , log_loss_D = 0.2413209199297185\n",
      "Epoch270done.\n"
     ]
    },
    {
     "name": "stderr",
     "output_type": "stream",
     "text": [
      "100%|##########| 196/196 [00:11<00:00, 17.69it/s]\n",
      "  0%|          | 0/196 [00:00<?, ?it/s]"
     ]
    },
    {
     "name": "stdout",
     "output_type": "stream",
     "text": [
      "log_loss_G = 3.7138949164322446 , log_loss_D = 0.1132107127876002\n",
      "Epoch271done.\n"
     ]
    },
    {
     "name": "stderr",
     "output_type": "stream",
     "text": [
      "100%|##########| 196/196 [00:10<00:00, 17.46it/s]\n",
      "  0%|          | 0/196 [00:00<?, ?it/s]"
     ]
    },
    {
     "name": "stdout",
     "output_type": "stream",
     "text": [
      "log_loss_G = 3.63131596999509 , log_loss_D = 0.2370376835710236\n",
      "Epoch272done.\n"
     ]
    },
    {
     "name": "stderr",
     "output_type": "stream",
     "text": [
      "100%|##########| 196/196 [00:10<00:00, 16.92it/s]\n",
      "  0%|          | 0/196 [00:00<?, ?it/s]"
     ]
    },
    {
     "name": "stdout",
     "output_type": "stream",
     "text": [
      "log_loss_G = 3.6252525073989315 , log_loss_D = 0.16923375646298638\n",
      "Epoch273done.\n"
     ]
    },
    {
     "name": "stderr",
     "output_type": "stream",
     "text": [
      "100%|##########| 196/196 [00:10<00:00, 17.89it/s]\n",
      "  0%|          | 0/196 [00:00<?, ?it/s]"
     ]
    },
    {
     "name": "stdout",
     "output_type": "stream",
     "text": [
      "log_loss_G = 3.8468653698242745 , log_loss_D = 0.17145935802397375\n",
      "Epoch274done.\n"
     ]
    },
    {
     "name": "stderr",
     "output_type": "stream",
     "text": [
      "100%|##########| 196/196 [00:10<00:00, 17.57it/s]\n",
      "  0%|          | 0/196 [00:00<?, ?it/s]"
     ]
    },
    {
     "name": "stdout",
     "output_type": "stream",
     "text": [
      "log_loss_G = 3.7142906840890646 , log_loss_D = 0.1648722539028647\n",
      "Epoch275done.\n"
     ]
    },
    {
     "name": "stderr",
     "output_type": "stream",
     "text": [
      "100%|##########| 196/196 [00:11<00:00, 17.68it/s]\n",
      "  0%|          | 0/196 [00:00<?, ?it/s]"
     ]
    },
    {
     "name": "stdout",
     "output_type": "stream",
     "text": [
      "log_loss_G = 3.8008422274522635 , log_loss_D = 0.15868335078489415\n",
      "Epoch276done.\n"
     ]
    },
    {
     "name": "stderr",
     "output_type": "stream",
     "text": [
      "100%|##########| 196/196 [00:10<00:00, 17.72it/s]\n",
      "  0%|          | 0/196 [00:00<?, ?it/s]"
     ]
    },
    {
     "name": "stdout",
     "output_type": "stream",
     "text": [
      "log_loss_G = 3.903962081944456 , log_loss_D = 0.15534670174844106\n",
      "Epoch277done.\n"
     ]
    },
    {
     "name": "stderr",
     "output_type": "stream",
     "text": [
      "100%|##########| 196/196 [00:10<00:00, 16.97it/s]\n",
      "  0%|          | 0/196 [00:00<?, ?it/s]"
     ]
    },
    {
     "name": "stdout",
     "output_type": "stream",
     "text": [
      "log_loss_G = 3.496488775221669 , log_loss_D = 0.2752484310209295\n",
      "Epoch278done.\n"
     ]
    },
    {
     "name": "stderr",
     "output_type": "stream",
     "text": [
      "100%|##########| 196/196 [00:10<00:00, 17.89it/s]\n",
      "  0%|          | 0/196 [00:00<?, ?it/s]"
     ]
    },
    {
     "name": "stdout",
     "output_type": "stream",
     "text": [
      "log_loss_G = 3.5049847753680483 , log_loss_D = 0.21464997752360543\n",
      "Epoch279done.\n"
     ]
    },
    {
     "name": "stderr",
     "output_type": "stream",
     "text": [
      "100%|##########| 196/196 [00:11<00:00, 17.67it/s]\n",
      "  0%|          | 0/196 [00:00<?, ?it/s]"
     ]
    },
    {
     "name": "stdout",
     "output_type": "stream",
     "text": [
      "log_loss_G = 3.660827469460818 , log_loss_D = 0.1620989471331847\n",
      "Epoch280done.\n"
     ]
    },
    {
     "name": "stderr",
     "output_type": "stream",
     "text": [
      "100%|##########| 196/196 [00:10<00:00, 18.17it/s]\n",
      "  0%|          | 0/196 [00:00<?, ?it/s]"
     ]
    },
    {
     "name": "stdout",
     "output_type": "stream",
     "text": [
      "log_loss_G = 3.6136402947714132 , log_loss_D = 0.22303780276632432\n",
      "Epoch281done.\n"
     ]
    },
    {
     "name": "stderr",
     "output_type": "stream",
     "text": [
      "100%|##########| 196/196 [00:10<00:00, 18.02it/s]\n",
      "  0%|          | 0/196 [00:00<?, ?it/s]"
     ]
    },
    {
     "name": "stdout",
     "output_type": "stream",
     "text": [
      "log_loss_G = 3.899267875418371 , log_loss_D = 0.09085091714728244\n",
      "Epoch282done.\n"
     ]
    },
    {
     "name": "stderr",
     "output_type": "stream",
     "text": [
      "100%|##########| 196/196 [00:10<00:00, 17.68it/s]\n",
      "  0%|          | 0/196 [00:00<?, ?it/s]"
     ]
    },
    {
     "name": "stdout",
     "output_type": "stream",
     "text": [
      "log_loss_G = 3.7859687563412043 , log_loss_D = 0.17318567873111793\n",
      "Epoch283done.\n"
     ]
    },
    {
     "name": "stderr",
     "output_type": "stream",
     "text": [
      "100%|##########| 196/196 [00:10<00:00, 17.76it/s]\n",
      "  0%|          | 0/196 [00:00<?, ?it/s]"
     ]
    },
    {
     "name": "stdout",
     "output_type": "stream",
     "text": [
      "log_loss_G = 3.386234593710729 , log_loss_D = 0.3385577843885641\n",
      "Epoch284done.\n"
     ]
    },
    {
     "name": "stderr",
     "output_type": "stream",
     "text": [
      "100%|##########| 196/196 [00:11<00:00, 17.64it/s]\n",
      "  0%|          | 0/196 [00:00<?, ?it/s]"
     ]
    },
    {
     "name": "stdout",
     "output_type": "stream",
     "text": [
      "log_loss_G = 3.6562633369954263 , log_loss_D = 0.20761952494100042\n",
      "Epoch285done.\n"
     ]
    },
    {
     "name": "stderr",
     "output_type": "stream",
     "text": [
      "100%|##########| 196/196 [00:10<00:00, 17.57it/s]\n",
      "  0%|          | 0/196 [00:00<?, ?it/s]"
     ]
    },
    {
     "name": "stdout",
     "output_type": "stream",
     "text": [
      "log_loss_G = 3.6656484521773396 , log_loss_D = 0.16609182199273181\n",
      "Epoch286done.\n"
     ]
    },
    {
     "name": "stderr",
     "output_type": "stream",
     "text": [
      "100%|##########| 196/196 [00:11<00:00, 17.72it/s]\n",
      "  0%|          | 0/196 [00:00<?, ?it/s]"
     ]
    },
    {
     "name": "stdout",
     "output_type": "stream",
     "text": [
      "log_loss_G = 3.677854873924231 , log_loss_D = 0.18364867666850285\n",
      "Epoch287done.\n"
     ]
    },
    {
     "name": "stderr",
     "output_type": "stream",
     "text": [
      "100%|##########| 196/196 [00:10<00:00, 17.16it/s]\n",
      "  0%|          | 0/196 [00:00<?, ?it/s]"
     ]
    },
    {
     "name": "stdout",
     "output_type": "stream",
     "text": [
      "log_loss_G = 3.6500194292819623 , log_loss_D = 0.21896116464037677\n",
      "Epoch288done.\n"
     ]
    },
    {
     "name": "stderr",
     "output_type": "stream",
     "text": [
      "100%|##########| 196/196 [00:11<00:00, 17.48it/s]\n",
      "  0%|          | 0/196 [00:00<?, ?it/s]"
     ]
    },
    {
     "name": "stdout",
     "output_type": "stream",
     "text": [
      "log_loss_G = 3.2499285160126736 , log_loss_D = 0.38992101647796074\n",
      "Epoch289done.\n"
     ]
    },
    {
     "name": "stderr",
     "output_type": "stream",
     "text": [
      "100%|##########| 196/196 [00:10<00:00, 17.80it/s]\n",
      "  0%|          | 0/196 [00:00<?, ?it/s]"
     ]
    },
    {
     "name": "stdout",
     "output_type": "stream",
     "text": [
      "log_loss_G = 3.5538704310144698 , log_loss_D = 0.15652452310433193\n",
      "Epoch290done.\n"
     ]
    },
    {
     "name": "stderr",
     "output_type": "stream",
     "text": [
      "100%|##########| 196/196 [00:10<00:00, 17.89it/s]\n",
      "  0%|          | 0/196 [00:00<?, ?it/s]"
     ]
    },
    {
     "name": "stdout",
     "output_type": "stream",
     "text": [
      "log_loss_G = 3.8281055378670596 , log_loss_D = 0.11818110140762766\n",
      "Epoch291done.\n"
     ]
    },
    {
     "name": "stderr",
     "output_type": "stream",
     "text": [
      "100%|##########| 196/196 [00:10<00:00, 17.35it/s]\n",
      "  0%|          | 0/196 [00:00<?, ?it/s]"
     ]
    },
    {
     "name": "stdout",
     "output_type": "stream",
     "text": [
      "log_loss_G = 3.6449071964895237 , log_loss_D = 0.23126573151699742\n",
      "Epoch292done.\n"
     ]
    },
    {
     "name": "stderr",
     "output_type": "stream",
     "text": [
      "100%|##########| 196/196 [00:10<00:00, 17.96it/s]\n",
      "  0%|          | 0/196 [00:00<?, ?it/s]"
     ]
    },
    {
     "name": "stdout",
     "output_type": "stream",
     "text": [
      "log_loss_G = 3.816442700673123 , log_loss_D = 0.1391095745624328\n",
      "Epoch293done.\n"
     ]
    },
    {
     "name": "stderr",
     "output_type": "stream",
     "text": [
      "100%|##########| 196/196 [00:11<00:00, 17.56it/s]\n",
      "  0%|          | 0/196 [00:00<?, ?it/s]"
     ]
    },
    {
     "name": "stdout",
     "output_type": "stream",
     "text": [
      "log_loss_G = 3.8092976206419418 , log_loss_D = 0.09747367785597334\n",
      "Epoch294done.\n"
     ]
    },
    {
     "name": "stderr",
     "output_type": "stream",
     "text": [
      "100%|##########| 196/196 [00:11<00:00, 17.47it/s]\n",
      "  0%|          | 0/196 [00:00<?, ?it/s]"
     ]
    },
    {
     "name": "stdout",
     "output_type": "stream",
     "text": [
      "log_loss_G = 3.71216603611805 , log_loss_D = 0.18277615514983023\n",
      "Epoch295done.\n"
     ]
    },
    {
     "name": "stderr",
     "output_type": "stream",
     "text": [
      "100%|##########| 196/196 [00:10<00:00, 17.09it/s]\n",
      "  0%|          | 0/196 [00:00<?, ?it/s]"
     ]
    },
    {
     "name": "stdout",
     "output_type": "stream",
     "text": [
      "log_loss_G = 3.8247966875645276 , log_loss_D = 0.15496107012185514\n",
      "Epoch296done.\n"
     ]
    },
    {
     "name": "stderr",
     "output_type": "stream",
     "text": [
      "100%|##########| 196/196 [00:10<00:00, 17.36it/s]\n",
      "  0%|          | 0/196 [00:00<?, ?it/s]"
     ]
    },
    {
     "name": "stdout",
     "output_type": "stream",
     "text": [
      "log_loss_G = 3.562353696141924 , log_loss_D = 0.24147536177948423\n",
      "Epoch297done.\n"
     ]
    },
    {
     "name": "stderr",
     "output_type": "stream",
     "text": [
      "100%|##########| 196/196 [00:11<00:00, 17.50it/s]\n",
      "  0%|          | 0/196 [00:00<?, ?it/s]"
     ]
    },
    {
     "name": "stdout",
     "output_type": "stream",
     "text": [
      "log_loss_G = 3.7829352197408372 , log_loss_D = 0.16069433051256501\n",
      "Epoch298done.\n"
     ]
    },
    {
     "name": "stderr",
     "output_type": "stream",
     "text": [
      "100%|##########| 196/196 [00:11<00:00, 17.81it/s]"
     ]
    },
    {
     "name": "stdout",
     "output_type": "stream",
     "text": [
      "log_loss_G = 3.6884964205780806 , log_loss_D = 0.20243081342124816\n",
      "Epoch299done.\n",
      "This run of \"train_phase\" ran for 0:55:33 and logs are available locally at: /home/nomoto/.hyperdash/logs/train-phase/train-phase_2019-11-25t09-13-49-635698.log\n"
     ]
    },
    {
     "name": "stderr",
     "output_type": "stream",
     "text": [
      "\n"
     ]
    }
   ],
   "source": [
    "%%monitor_cell \"train_phase\"\n",
    "G_update, D_update = train()"
   ]
  },
  {
   "cell_type": "code",
   "execution_count": 27,
   "metadata": {},
   "outputs": [],
   "source": [
    "def Anormaly_score(x, fake_img, D, Lambda=0.1):\n",
    "    residual_loss = torch.abs(x-fake_img)\n",
    "    residual_loss = residual_loss.view(residual_loss.size()[0], -1)\n",
    "    residual_loss = torch.sum(residual_loss, dim=1)\n",
    "    \n",
    "    _, x_feature = D(x)\n",
    "    _, G_feature = D(fake_img)\n",
    "    \n",
    "    discrimination_loss = torch.abs(x_feature-G_feature)\n",
    "    discrimination_loss = discrimination_loss.view(\n",
    "        discrimination_loss.size()[0], -1)\n",
    "    discrimination_loss = torch.sum(discrimination_loss, dim=1)\n",
    "    \n",
    "    loss_each = (1-Lambda)*residual_loss + Lambda*discrimination_loss\n",
    "    \n",
    "    total_loss = torch.sum(loss_each)\n",
    "    \n",
    "    return total_loss, loss_each, residual_loss, discrimination_loss"
   ]
  },
  {
   "cell_type": "code",
   "execution_count": 28,
   "metadata": {
    "scrolled": true
   },
   "outputs": [
    {
     "name": "stdout",
     "output_type": "stream",
     "text": [
      "epoch 0 || loss_total:723268 \n",
      "tensor(608686.6250, device='cuda:0', grad_fn=<SumBackward0>)\n",
      "epoch 1000 || loss_total:491160 \n",
      "tensor(465578.1562, device='cuda:0', grad_fn=<SumBackward0>)\n",
      "epoch 2000 || loss_total:454486 \n",
      "tensor(424311.2188, device='cuda:0', grad_fn=<SumBackward0>)\n",
      "epoch 3000 || loss_total:433975 \n",
      "tensor(399352.9375, device='cuda:0', grad_fn=<SumBackward0>)\n",
      "epoch 4000 || loss_total:416404 \n",
      "tensor(376548.9688, device='cuda:0', grad_fn=<SumBackward0>)\n",
      "epoch 5000 || loss_total:405097 \n",
      "tensor(360743.6250, device='cuda:0', grad_fn=<SumBackward0>)\n"
     ]
    }
   ],
   "source": [
    "#imgesは車の画像\n",
    "\n",
    "x = imges[0][0:256]\n",
    "x = x.to(device)\n",
    "z = torch.randn(256, 128).to(device) #乱数を指定\n",
    "z = z.view(z.size(0), z.size(1), 1, 1)\n",
    "z.requires_grad = True\n",
    "z_optimizer = torch.optim.Adam([z], lr=1e-3)\n",
    "for epoch in range(5000+1):\n",
    "    fake_img = G_update(z)\n",
    "    loss, _, residual_loss, discrimination_loss = Anormaly_score(x, fake_img, D_update, Lambda=0.1)\n",
    "\n",
    "    z_optimizer.zero_grad()\n",
    "    loss.backward()\n",
    "    z_optimizer.step()\n",
    "\n",
    "    if epoch % 1000 == 0:\n",
    "        print('epoch {} || loss_total:{:.0f} '.format(epoch, loss.item()))\n",
    "        print(torch.sum(discrimination_loss))"
   ]
  },
  {
   "cell_type": "code",
   "execution_count": 29,
   "metadata": {},
   "outputs": [
    {
     "name": "stderr",
     "output_type": "stream",
     "text": [
      "Clipping input data to the valid range for imshow with RGB data ([0..1] for floats or [0..255] for integers).\n",
      "Clipping input data to the valid range for imshow with RGB data ([0..1] for floats or [0..255] for integers).\n",
      "Clipping input data to the valid range for imshow with RGB data ([0..1] for floats or [0..255] for integers).\n"
     ]
    },
    {
     "name": "stdout",
     "output_type": "stream",
     "text": [
      "total loss： [1355. 1547. 1331. 1377. 1290. 1451. 1271. 1395. 1707. 1314. 1706. 1332.\n",
      " 1418. 1341. 2279. 2242. 1251. 1938. 1622.  927. 1715. 1196. 1617. 1152.\n",
      " 1477. 1536. 1778. 1216. 1139. 1175. 1425. 1292. 1040. 1860. 1707. 1098.\n",
      " 1750. 1349. 1161. 2048. 1416. 1247. 1164. 1902. 1231. 2055. 1485. 1214.\n",
      " 1460. 1449. 1381. 1463. 1814. 1169. 2101. 1391. 1291. 1966. 1606. 1384.\n",
      " 1622. 1455. 1534. 1276. 1157. 1320. 1702. 1560. 1276. 1046. 1661. 2111.\n",
      " 1498. 1026. 1498. 1316. 1910. 2531. 1435. 1451. 1803. 1829. 1675. 1254.\n",
      " 1782. 1070. 1883. 1647. 1921. 1715. 1536. 1189. 1899. 1705. 1449. 1609.\n",
      " 1766. 1587. 1850. 1645. 1484. 1344. 2067. 1751. 1214. 1006. 1976. 1335.\n",
      " 1429. 1399. 3374. 1427. 1888. 1260. 1318. 1652. 2392. 1736. 1138. 1533.\n",
      " 1465. 1569. 1697. 1883. 1352. 1594. 1420. 1448. 1956. 1665. 1352. 1978.\n",
      " 1785. 1968. 1244. 1356. 1290. 2034. 1527. 1501. 1480. 1847. 1653. 1730.\n",
      " 1388. 1457. 1015. 1844. 1368. 1845. 1945. 1790. 1446. 1530. 1465. 1252.\n",
      " 1389. 1573. 1697. 1678. 1192. 2086. 1590. 1115. 1778. 1504. 1794. 2284.\n",
      " 1175. 1504. 1474. 1168. 1926. 1180. 1510. 2027. 1342. 1193. 1528. 1614.\n",
      " 1099. 1335. 1825. 1714. 1372. 1121. 1389. 1017. 2150. 1520. 2174. 1684.\n",
      " 1473. 1685. 1805. 1498. 1360. 1177. 1406. 1377. 1370. 2317. 1281. 1444.\n",
      " 1947. 2276. 1518. 1667. 1613. 1323. 1677. 1285. 1926. 1714. 2451. 2080.\n",
      " 1410. 1172. 2407. 1367. 1607. 2057. 1627. 1255. 1474. 2171. 1738. 1338.\n",
      " 1458. 1429. 1677. 1950. 1890. 1282. 2360. 2468. 1055. 1287. 1478. 1832.\n",
      " 1446. 2287. 1898. 1537. 2504. 1533. 2231. 1067. 1210. 2130. 1528. 2038.\n",
      " 1029. 1601. 2461. 1333.]\n"
     ]
    },
    {
     "name": "stderr",
     "output_type": "stream",
     "text": [
      "Clipping input data to the valid range for imshow with RGB data ([0..1] for floats or [0..255] for integers).\n",
      "Clipping input data to the valid range for imshow with RGB data ([0..1] for floats or [0..255] for integers).\n",
      "Clipping input data to the valid range for imshow with RGB data ([0..1] for floats or [0..255] for integers).\n",
      "Clipping input data to the valid range for imshow with RGB data ([0..1] for floats or [0..255] for integers).\n",
      "Clipping input data to the valid range for imshow with RGB data ([0..1] for floats or [0..255] for integers).\n",
      "Clipping input data to the valid range for imshow with RGB data ([0..1] for floats or [0..255] for integers).\n",
      "Clipping input data to the valid range for imshow with RGB data ([0..1] for floats or [0..255] for integers).\n"
     ]
    },
    {
     "data": {
      "image/png": "[encoded data removed]",
      "text/plain": [
       "<Figure size 1080x432 with 10 Axes>"
      ]
     },
     "metadata": {
      "needs_background": "light"
     },
     "output_type": "display_data"
    }
   ],
   "source": [
    "# 画像を生成\n",
    "fake_img = G_update(z)\n",
    "\n",
    "# 損失を求める\n",
    "loss, loss_each, residual_loss, discrimination_loss = Anormaly_score(\n",
    "    x, fake_img, D_update, Lambda=0.1)\n",
    "\n",
    "# 損失の計算。トータルの損失\n",
    "loss_each = loss_each.cpu().detach().numpy()\n",
    "print(\"total loss：\", np.round(loss_each, 0))\n",
    "\n",
    "# 画像を可視化\n",
    "fig = plt.figure(figsize=(15, 6))\n",
    "for i in range(0, 5):\n",
    "    # 上段にテストデータを\n",
    "    plt.subplot(2, 5, i+1)\n",
    "    plt.imshow(imges[0][i+5].cpu().detach().numpy().reshape(3, 32, 32).transpose(1, 2, 0))\n",
    "\n",
    "    # 下段に生成データを表示する\n",
    "    plt.subplot(2, 5, 5+i+1)\n",
    "    plt.imshow(fake_img[i+5].cpu().detach().numpy().transpose(1, 2, 0))\n",
    "    plt.savefig(\"notrotcars.png\")"
   ]
  },
  {
   "cell_type": "code",
   "execution_count": 31,
   "metadata": {},
   "outputs": [],
   "source": [
    "total_loss_def = loss\n",
    "residual_loss_def = residual_loss\n",
    "discrimination_loss_def = discrimination_loss"
   ]
  },
  {
   "cell_type": "code",
   "execution_count": 32,
   "metadata": {},
   "outputs": [
    {
     "name": "stdout",
     "output_type": "stream",
     "text": [
      "undergoing!\n",
      "undergoing!\n",
      "undergoing!\n",
      "undergoing!\n",
      "undergoing!\n",
      "undergoing!\n"
     ]
    }
   ],
   "source": [
    "x = aug_image_list\n",
    "x = x.to(device)\n",
    "z = torch.randn(256, 128).to(device)\n",
    "z = z.view(z.size(0), z.size(1), 1, 1)\n",
    "z.requires_grad = True\n",
    "z_optimizer = torch.optim.Adam([z], lr=1e-3)\n",
    "for epoch in range(5000+1):\n",
    "    fake_img = G_update(z)\n",
    "    loss, loss_each, residual_loss, discrimination_loss = Anormaly_score(\n",
    "        x, fake_img, D_update, Lambda=0.1)\n",
    "    z_optimizer.zero_grad()\n",
    "    loss.backward()\n",
    "    z_optimizer.step()\n",
    "    if epoch%1000 == 0:\n",
    "        print(\"undergoing!\")\n",
    "fake_img = G_update(z)\n",
    "total_loss, loss_each, residual_loss, discrimination_loss = Anormaly_score(x, fake_img, D_update, Lambda=0.1)\n",
    "discrimination_loss = discrimination_loss.cpu().detach().numpy()\n",
    "residual_loss = residual_loss.cpu().detach().numpy()\n",
    "total_loss = loss_each.cpu().detach().numpy()"
   ]
  },
  {
   "cell_type": "code",
   "execution_count": 33,
   "metadata": {},
   "outputs": [],
   "source": [
    "total_loss_ag = total_loss\n",
    "residual_loss_ag = residual_loss\n",
    "discrimination_loss_ag = discrimination_loss"
   ]
  },
  {
   "cell_type": "code",
   "execution_count": 34,
   "metadata": {
    "scrolled": true
   },
   "outputs": [
    {
     "data": {
      "image/png": "[encoded data removed]",
      "text/plain": [
       "<Figure size 432x288 with 1 Axes>"
      ]
     },
     "metadata": {
      "needs_background": "light"
     },
     "output_type": "display_data"
    }
   ],
   "source": [
    "plot = sns.distplot(total_loss_ag)\n",
    "figure = plot.get_figure()\n",
    "figure.savefig(\"disc_loss_ag.png\")"
   ]
  },
  {
   "cell_type": "code",
   "execution_count": 36,
   "metadata": {},
   "outputs": [
    {
     "data": {
      "image/png": "[encoded data removed]",
      "text/plain": [
       "<Figure size 432x288 with 1 Axes>"
      ]
     },
     "metadata": {
      "needs_background": "light"
     },
     "output_type": "display_data"
    }
   ],
   "source": [
    "#discrimination lossのプロット\n",
    "plot = sns.distplot(discrimination_loss_def.cpu().detach().numpy())\n",
    "figure = plot.get_figure()\n",
    "figure.savefig(\"disc_loss_def.png\")"
   ]
  },
  {
   "cell_type": "code",
   "execution_count": 37,
   "metadata": {
    "scrolled": false
   },
   "outputs": [
    {
     "data": {
      "image/png": "[encoded data removed]",
      "text/plain": [
       "<Figure size 432x288 with 1 Axes>"
      ]
     },
     "metadata": {
      "needs_background": "light"
     },
     "output_type": "display_data"
    }
   ],
   "source": [
    "#residual lossのプロット\n",
    "plot = sns.distplot(residual_loss_ag)\n",
    "figure = plot.get_figure()\n",
    "figure.savefig(\"res_loss_ag.png\")"
   ]
  },
  {
   "cell_type": "code",
   "execution_count": 39,
   "metadata": {},
   "outputs": [
    {
     "data": {
      "image/png": "[encoded data removed]",
      "text/plain": [
       "<Figure size 432x288 with 1 Axes>"
      ]
     },
     "metadata": {
      "needs_background": "light"
     },
     "output_type": "display_data"
    }
   ],
   "source": [
    "#residual lossのプロット\n",
    "plot = sns.distplot(residual_loss_def.cpu().detach().numpy())\n",
    "figure = plot.get_figure()\n",
    "figure.savefig(\"res_loss_def.png\")"
   ]
  },
  {
   "cell_type": "code",
   "execution_count": 55,
   "metadata": {},
   "outputs": [
    {
     "name": "stdout",
     "output_type": "stream",
     "text": [
      "(256,)\n",
      "(256,)\n"
     ]
    }
   ],
   "source": [
    "print(np.shape(discrimination_loss_ag))\n",
    "#discrimination_loss_def = discrimination_loss_def.cpu().detach().numpy()\n",
    "#residual_loss_def = residual_loss_def.cpu().detach().numpy()\n",
    "print(np.shape(discrimination_loss_def))"
   ]
  },
  {
   "cell_type": "code",
   "execution_count": 40,
   "metadata": {
    "scrolled": true
   },
   "outputs": [
    {
     "ename": "TypeError",
     "evalue": "rsub() received an invalid combination of arguments - got (Tensor, numpy.ndarray), but expected one of:\n * (Tensor input, Tensor other, Number alpha)\n * (Tensor input, Number other, Number alpha)\n",
     "output_type": "error",
     "traceback": [
      "\u001b[0;31m---------------------------------------------------------------------------\u001b[0m",
      "\u001b[0;31mTypeError\u001b[0m                                 Traceback (most recent call last)",
      "\u001b[0;32m<ipython-input-40-0fdecd7dd7de>\u001b[0m in \u001b[0;36m<module>\u001b[0;34m\u001b[0m\n\u001b[0;32m----> 1\u001b[0;31m \u001b[0msns_plot\u001b[0m \u001b[0;34m=\u001b[0m \u001b[0msns\u001b[0m\u001b[0;34m.\u001b[0m\u001b[0mjointplot\u001b[0m\u001b[0;34m(\u001b[0m\u001b[0mdiscrimination_loss_ag\u001b[0m\u001b[0;34m-\u001b[0m\u001b[0mdiscrimination_loss_def\u001b[0m\u001b[0;34m,\u001b[0m \u001b[0mdiscrimination_loss_ag\u001b[0m\u001b[0;34m,\u001b[0m \u001b[0mkind\u001b[0m\u001b[0;34m=\u001b[0m\u001b[0;34m\"reg\"\u001b[0m\u001b[0;34m)\u001b[0m\u001b[0;34m\u001b[0m\u001b[0;34m\u001b[0m\u001b[0m\n\u001b[0m\u001b[1;32m      2\u001b[0m \u001b[0msns_plot\u001b[0m\u001b[0;34m.\u001b[0m\u001b[0msavefig\u001b[0m\u001b[0;34m(\u001b[0m\u001b[0;34m\"def_vs_ag.png\"\u001b[0m\u001b[0;34m)\u001b[0m\u001b[0;34m\u001b[0m\u001b[0;34m\u001b[0m\u001b[0m\n",
      "\u001b[0;32m/home/dl-box/.pyenv/versions/anaconda3-5.3.1/envs/py36/lib/python3.6/site-packages/torch/tensor.py\u001b[0m in \u001b[0;36m__rsub__\u001b[0;34m(self, other)\u001b[0m\n\u001b[1;32m    323\u001b[0m \u001b[0;34m\u001b[0m\u001b[0m\n\u001b[1;32m    324\u001b[0m     \u001b[0;32mdef\u001b[0m \u001b[0m__rsub__\u001b[0m\u001b[0;34m(\u001b[0m\u001b[0mself\u001b[0m\u001b[0;34m,\u001b[0m \u001b[0mother\u001b[0m\u001b[0;34m)\u001b[0m\u001b[0;34m:\u001b[0m\u001b[0;34m\u001b[0m\u001b[0;34m\u001b[0m\u001b[0m\n\u001b[0;32m--> 325\u001b[0;31m         \u001b[0;32mreturn\u001b[0m \u001b[0m_C\u001b[0m\u001b[0;34m.\u001b[0m\u001b[0m_VariableFunctions\u001b[0m\u001b[0;34m.\u001b[0m\u001b[0mrsub\u001b[0m\u001b[0;34m(\u001b[0m\u001b[0mself\u001b[0m\u001b[0;34m,\u001b[0m \u001b[0mother\u001b[0m\u001b[0;34m)\u001b[0m\u001b[0;34m\u001b[0m\u001b[0;34m\u001b[0m\u001b[0m\n\u001b[0m\u001b[1;32m    326\u001b[0m \u001b[0;34m\u001b[0m\u001b[0m\n\u001b[1;32m    327\u001b[0m     \u001b[0;32mdef\u001b[0m \u001b[0m__rdiv__\u001b[0m\u001b[0;34m(\u001b[0m\u001b[0mself\u001b[0m\u001b[0;34m,\u001b[0m \u001b[0mother\u001b[0m\u001b[0;34m)\u001b[0m\u001b[0;34m:\u001b[0m\u001b[0;34m\u001b[0m\u001b[0;34m\u001b[0m\u001b[0m\n",
      "\u001b[0;31mTypeError\u001b[0m: rsub() received an invalid combination of arguments - got (Tensor, numpy.ndarray), but expected one of:\n * (Tensor input, Tensor other, Number alpha)\n * (Tensor input, Number other, Number alpha)\n"
     ]
    }
   ],
   "source": [
    "sns_plot = sns.jointplot(discrimination_loss_ag-discrimination_loss_def, discrimination_loss_ag, kind=\"reg\")\n",
    "sns_plot.savefig(\"def_vs_ag.png\")"
   ]
  },
  {
   "cell_type": "code",
   "execution_count": 57,
   "metadata": {},
   "outputs": [
    {
     "ename": "RuntimeError",
     "evalue": "expected device cuda:0 and dtype Double but got device cuda:0 and dtype Float",
     "output_type": "error",
     "traceback": [
      "\u001b[0;31m---------------------------------------------------------------------------\u001b[0m",
      "\u001b[0;31mRuntimeError\u001b[0m                              Traceback (most recent call last)",
      "\u001b[0;32m<ipython-input-57-00f243a5b00b>\u001b[0m in \u001b[0;36m<module>\u001b[0;34m\u001b[0m\n\u001b[1;32m      7\u001b[0m \u001b[0;32mfor\u001b[0m \u001b[0mepoch\u001b[0m \u001b[0;32min\u001b[0m \u001b[0mrange\u001b[0m\u001b[0;34m(\u001b[0m\u001b[0;36m5000\u001b[0m\u001b[0;34m+\u001b[0m\u001b[0;36m1\u001b[0m\u001b[0;34m)\u001b[0m\u001b[0;34m:\u001b[0m\u001b[0;34m\u001b[0m\u001b[0;34m\u001b[0m\u001b[0m\n\u001b[1;32m      8\u001b[0m     \u001b[0mfake_img\u001b[0m \u001b[0;34m=\u001b[0m \u001b[0mG_update\u001b[0m\u001b[0;34m(\u001b[0m\u001b[0mz\u001b[0m\u001b[0;34m)\u001b[0m\u001b[0;34m\u001b[0m\u001b[0;34m\u001b[0m\u001b[0m\n\u001b[0;32m----> 9\u001b[0;31m     \u001b[0mloss\u001b[0m\u001b[0;34m,\u001b[0m \u001b[0m_\u001b[0m\u001b[0;34m,\u001b[0m \u001b[0mresidual_loss\u001b[0m\u001b[0;34m,\u001b[0m \u001b[0mdiscrimination_loss\u001b[0m \u001b[0;34m=\u001b[0m \u001b[0mAnormaly_score\u001b[0m\u001b[0;34m(\u001b[0m\u001b[0mx\u001b[0m\u001b[0;34m,\u001b[0m \u001b[0mfake_img\u001b[0m\u001b[0;34m,\u001b[0m \u001b[0mD_update\u001b[0m\u001b[0;34m,\u001b[0m \u001b[0mLambda\u001b[0m\u001b[0;34m=\u001b[0m\u001b[0;36m0.1\u001b[0m\u001b[0;34m)\u001b[0m\u001b[0;34m\u001b[0m\u001b[0;34m\u001b[0m\u001b[0m\n\u001b[0m\u001b[1;32m     10\u001b[0m \u001b[0;34m\u001b[0m\u001b[0m\n\u001b[1;32m     11\u001b[0m     \u001b[0mz_optimizer\u001b[0m\u001b[0;34m.\u001b[0m\u001b[0mzero_grad\u001b[0m\u001b[0;34m(\u001b[0m\u001b[0;34m)\u001b[0m\u001b[0;34m\u001b[0m\u001b[0;34m\u001b[0m\u001b[0m\n",
      "\u001b[0;32m<ipython-input-38-66ab7c41ace6>\u001b[0m in \u001b[0;36mAnormaly_score\u001b[0;34m(x, fake_img, D, Lambda)\u001b[0m\n\u001b[1;32m      1\u001b[0m \u001b[0;32mdef\u001b[0m \u001b[0mAnormaly_score\u001b[0m\u001b[0;34m(\u001b[0m\u001b[0mx\u001b[0m\u001b[0;34m,\u001b[0m \u001b[0mfake_img\u001b[0m\u001b[0;34m,\u001b[0m \u001b[0mD\u001b[0m\u001b[0;34m,\u001b[0m \u001b[0mLambda\u001b[0m\u001b[0;34m=\u001b[0m\u001b[0;36m0.1\u001b[0m\u001b[0;34m)\u001b[0m\u001b[0;34m:\u001b[0m\u001b[0;34m\u001b[0m\u001b[0;34m\u001b[0m\u001b[0m\n\u001b[0;32m----> 2\u001b[0;31m     \u001b[0mresidual_loss\u001b[0m \u001b[0;34m=\u001b[0m \u001b[0mtorch\u001b[0m\u001b[0;34m.\u001b[0m\u001b[0mabs\u001b[0m\u001b[0;34m(\u001b[0m\u001b[0mx\u001b[0m\u001b[0;34m-\u001b[0m\u001b[0mfake_img\u001b[0m\u001b[0;34m)\u001b[0m\u001b[0;34m\u001b[0m\u001b[0;34m\u001b[0m\u001b[0m\n\u001b[0m\u001b[1;32m      3\u001b[0m     \u001b[0mresidual_loss\u001b[0m \u001b[0;34m=\u001b[0m \u001b[0mresidual_loss\u001b[0m\u001b[0;34m.\u001b[0m\u001b[0mview\u001b[0m\u001b[0;34m(\u001b[0m\u001b[0mresidual_loss\u001b[0m\u001b[0;34m.\u001b[0m\u001b[0msize\u001b[0m\u001b[0;34m(\u001b[0m\u001b[0;34m)\u001b[0m\u001b[0;34m[\u001b[0m\u001b[0;36m0\u001b[0m\u001b[0;34m]\u001b[0m\u001b[0;34m,\u001b[0m \u001b[0;34m-\u001b[0m\u001b[0;36m1\u001b[0m\u001b[0;34m)\u001b[0m\u001b[0;34m\u001b[0m\u001b[0;34m\u001b[0m\u001b[0m\n\u001b[1;32m      4\u001b[0m     \u001b[0mresidual_loss\u001b[0m \u001b[0;34m=\u001b[0m \u001b[0mtorch\u001b[0m\u001b[0;34m.\u001b[0m\u001b[0msum\u001b[0m\u001b[0;34m(\u001b[0m\u001b[0mresidual_loss\u001b[0m\u001b[0;34m,\u001b[0m \u001b[0mdim\u001b[0m\u001b[0;34m=\u001b[0m\u001b[0;36m1\u001b[0m\u001b[0;34m)\u001b[0m\u001b[0;34m\u001b[0m\u001b[0;34m\u001b[0m\u001b[0m\n\u001b[1;32m      5\u001b[0m \u001b[0;34m\u001b[0m\u001b[0m\n",
      "\u001b[0;31mRuntimeError\u001b[0m: expected device cuda:0 and dtype Double but got device cuda:0 and dtype Float"
     ]
    }
   ],
   "source": [
    "ori_images = data[\"train\"][\"images\"]\n",
    "x = torch.from_numpy(ori_images[0:256].transpose(0, 3,1,2))\n",
    "x = x.to(device)\n",
    "z = torch.randn(256, 128).to(device) #乱数を指定\n",
    "z = z.view(z.size(0), z.size(1), 1, 1)\n",
    "z.requires_grad = True\n",
    "z_optimizer = torch.optim.Adam([z], lr=1e-3)\n",
    "for epoch in range(5000+1):\n",
    "    fake_img = G_update(z)\n",
    "    loss, _, residual_loss, discrimination_loss = Anormaly_score(x, fake_img, D_update, Lambda=0.1)\n",
    "\n",
    "    z_optimizer.zero_grad()\n",
    "    loss.backward()\n",
    "    z_optimizer.step()\n",
    "\n",
    "    if epoch % 1000 == 0:\n",
    "        print('epoch {} || loss_total:{:.0f} '.format(epoch, loss.item()))\n",
    "        print(torch.sum(discrimination_loss))"
   ]
  },
  {
   "cell_type": "code",
   "execution_count": 58,
   "metadata": {},
   "outputs": [],
   "source": [
    "output_base_dir = \"data/proc_data/cifar10_1122\""
   ]
  },
  {
   "cell_type": "code",
   "execution_count": 89,
   "metadata": {},
   "outputs": [],
   "source": [
    "#!mkdir \"data/proc_data/cifar10_1122\""
   ]
  },
  {
   "cell_type": "code",
   "execution_count": 59,
   "metadata": {
    "scrolled": true
   },
   "outputs": [],
   "source": [
    "def randaug_anom(sub_set_data, aug_copy_num):\n",
    "    ori_images = sub_set_data[\"images\"].copy()\n",
    "    image_idx = np.arange(len(ori_images))\n",
    "    np.random.shuffle(image_idx)\n",
    "    ori_images = ori_images[image_idx]\n",
    "    ori_images = ori_images / 255.0\n",
    "    mean, std = [0.49139968, 0.48215841, 0.44653091], [0.24703223, 0.24348513, 0.26158784]\n",
    "    ori_images = (ori_images - mean) / std\n",
    "    aug_policies = found_policies.randaug_policies()\n",
    "    example_list = []\n",
    "    i, j = 0, 0\n",
    "    discrimination_losses = np.zeros(50000)\n",
    "    residual_losses = np.zeros(50000)\n",
    "    total_losses = np.zeros(50000)\n",
    "    aug_image_list = torch.randn(256, 3, 32, 32)\n",
    "    for image in ori_images:\n",
    "        chosen_policy = aug_policies[np.random.choice(len(aug_policies))]\n",
    "        aug_image = augmentation_transforms.apply_policy(chosen_policy, image)\n",
    "        aug_image = augmentation_transforms.cutout_numpy(aug_image)\n",
    "        example = tf.train.Example(features=tf.train.Features(\n",
    "            feature={\n",
    "                \"ori_image\": _float_feature(image.reshape(-1)),\n",
    "                \"aug_image\": _float_feature(aug_image.reshape(-1)),\n",
    "            }))\n",
    "        example_list += [example]\n",
    "        aug_image_list[i] = torch.from_numpy(aug_image.transpose(2, 0, 1))\n",
    "        i += 1\n",
    "        if i%100 == 99:\n",
    "            print(\"going!\")\n",
    "        if i >= 256:\n",
    "            x = aug_image_list\n",
    "            x = x.to(device)\n",
    "            z = torch.randn(256, 128).to(device)\n",
    "            z = z.view(z.size(0), z.size(1), 1, 1)\n",
    "            z.requires_grad = True\n",
    "            z_optimizer = torch.optim.Adam([z], lr=1e-3)\n",
    "            for epoch in range(5000+1):\n",
    "                fake_img = G_update(z)\n",
    "                loss, _, residual_loss, discrimination_loss = Anormaly_score(\n",
    "                    x, fake_img, D_update, Lambda=0.1)\n",
    "                z_optimizer.zero_grad()\n",
    "                loss.backward()\n",
    "                z_optimizer.step()\n",
    "            fake_img = G_update(z)\n",
    "            total_loss, loss_each, residual_loss, discrimination_loss = Anormaly_score(x, fake_img, D_update, Lambda=0.1)\n",
    "            discrimination_loss = discrimination_loss.cpu().detach().numpy()\n",
    "            residual_loss = residual_loss.cpu().detach().numpy()\n",
    "            total_loss = total_loss.cpu().detach().numpy()\n",
    "            discrimination_losses[j*256:256+j*256] = discrimination_loss\n",
    "            residual_losses[j*256:256+j*256] = residual_loss\n",
    "            total_losses[j*256:256+j*256] = total_loss\n",
    "            print(\"total loss：\", np.round(discrimination_loss, 0))\n",
    "            tmp = np.where(discrimination_loss < 1750)[0]\n",
    "            #1750以下のdiscrimination lossのところは作り直し.\n",
    "            for k in range(len(tmp)):\n",
    "                chosen_policy = aug_policies[np.random.choice(len(aug_policies))]\n",
    "                image = ori_images[tmp[k] + 256*j]\n",
    "                aug_image_v2 = augmentation_transforms.apply_policy(chosen_policy, image)\n",
    "                aug_image_v2 = augmentation_transforms.cutout_numpy(aug_image_v2)\n",
    "                example = tf.train.Example(features=tf.train.Features(\n",
    "                    feature={\n",
    "                        \"ori_image\": _float_feature(image.reshape(-1)),\n",
    "                        \"aug_image\": _float_feature(aug_image_v2.reshape(-1)),\n",
    "                    }))\n",
    "                example_list[tmp[k] + 256*j] = example\n",
    "            i = 0\n",
    "            j += 1\n",
    "            print(len(example_list))\n",
    "            aug_image_list = torch.randn(256, 3, 32, 32)\n",
    "        else:\n",
    "            pass\n",
    "    out_path = os.path.join(output_base_dir, format_unsup_filename(aug_copy_num),)\n",
    "    save_tfrecord(example_list, out_path)\n",
    "    return total_losses, discrimination_losses, residual_losses"
   ]
  },
  {
   "cell_type": "code",
   "execution_count": null,
   "metadata": {
    "scrolled": true
   },
   "outputs": [
    {
     "name": "stdout",
     "output_type": "stream",
     "text": [
      "INFO:tensorflow:trans_list: ['Invert', 'Cutout', 'Sharpness', 'AutoContrast', 'Posterize', 'ShearX', 'TranslateX', 'TranslateY', 'ShearY', 'Rotate', 'Equalize', 'Contrast', 'Color', 'Solarize', 'Brightness']\n",
      "going!\n",
      "going!\n",
      "total loss： [1120.  724. 1811. 2707. 1241. 1347. 2017. 2002. 1138. 1021. 1339. 2132.\n",
      " 1174. 1677. 1434. 3834. 1176. 1819. 1314. 1524. 1016. 1099.  889. 1085.\n",
      " 1095. 1083.  897. 1147.  862. 1186. 1012. 1019. 1329. 1369. 1249. 1007.\n",
      " 1120. 1198. 1656. 1394. 1246.  806. 1168. 1396.  591. 1786. 1846. 1342.\n",
      " 1306.  954. 1010. 1553. 2095. 1082.  799. 1152. 1513. 1122. 1643. 1116.\n",
      " 1089. 1316. 1545. 1548.  903. 1763. 1238. 3030. 1213. 1052. 1093. 1011.\n",
      "  951.  625. 1425. 1130. 1173. 1237. 1084.  884. 1957. 1213. 1300. 2477.\n",
      "  914. 3611.  926.  840. 1258. 5169. 1474. 1424. 1084.  852. 1589.  760.\n",
      " 1184.  792. 1192.  851.  967. 1207. 1041.  846.  809. 1255. 1087.  841.\n",
      "  991.  631.  821. 1009. 2164.  942. 1009. 1148.  894. 1240.  799. 1526.\n",
      " 1039. 1232.  948. 1264. 3062.  798. 1961. 1019. 1378.  923. 1086. 1231.\n",
      " 1201. 1046. 1585. 1113. 2791. 1547. 1858.  980. 1526. 2081. 1074. 2989.\n",
      " 1109. 2275. 1732. 1025. 1090. 1438. 1248.  818. 2174.  916.  780.  970.\n",
      " 1283.  807.  959. 1288. 1238. 2113. 1436. 1146. 1055. 1073. 1048. 1167.\n",
      "  782. 1245. 1015. 1569. 1378. 1787. 1206. 1483. 1974.  883. 1310. 1289.\n",
      " 1772. 1074. 1489. 1488. 1044. 1153. 1623.  759. 1129. 1097. 1174. 1197.\n",
      "  863. 1143. 1739. 1333. 1251. 1615. 1021. 1104. 2413. 1088. 1108.  874.\n",
      "  881. 1409. 1179.  944. 1920. 1106. 1271. 1169. 1739.  983.  905. 1145.\n",
      " 1861. 1139. 1181. 1321. 1110.  691. 1286. 1069. 1088.  984.  992. 2010.\n",
      " 1119.  902. 4574. 1846. 1398. 1404. 1221.  793. 1651. 1258.  896.  792.\n",
      " 1694. 2513. 5684. 1415. 1043. 1160. 1018. 1683. 1124. 1980. 1060. 1053.\n",
      " 1182. 1171.  806. 1116.]\n",
      "256\n",
      "going!\n",
      "going!\n",
      "total loss： [ 907. 1429. 1188.  865. 1099.  875.  769. 1301.  823. 1082.  952. 2595.\n",
      " 1185.  811.  735.  916.  745. 1275. 2016. 1061. 1284.  841. 1111. 1351.\n",
      "  990.  982.  558. 1550. 1128.  638. 1090.  844.  989. 1242.  762.  757.\n",
      "  962. 3058.  759.  828. 1086. 1604. 1076. 1068. 2476.  898. 2005. 1163.\n",
      "  825. 1105.  977. 2681. 1345. 1314. 1049.  765. 1054. 1153. 5080. 1278.\n",
      "  995. 1000. 1011. 1033.  973. 1337. 1925.  990. 1087. 1492. 1828. 1028.\n",
      " 1089. 1108.  783.  896. 1180. 1352. 1876. 1133.  762. 1181. 1007. 1536.\n",
      " 1815.  961. 1398. 1211. 1257.  863. 1170.  911. 1063.  952. 1157. 1428.\n",
      "  985. 1430. 1279. 1292.  983. 1122.  896. 1126.  815. 1126. 1298. 1071.\n",
      " 2213. 4034. 1280. 3637.  923. 1334. 1282. 1718. 2876. 1065.  730. 1604.\n",
      " 1952.  931.  883.  858. 1334. 1051.  864. 1464.  971. 1355.  978.  880.\n",
      " 1004. 3916. 1144. 1259. 1850.  750. 1097. 1253. 1084. 1126.  977. 1815.\n",
      " 1119. 2005. 1674. 1367.  727. 1180. 1652. 1761. 1321. 1114.  996.  864.\n",
      " 1563.  733. 1279. 1029. 1144.  979.  924. 1260.  966.  748. 1306. 1378.\n",
      " 1347. 2791.  812. 1334.  994.  886. 3141. 1275. 1506. 1176.  996. 1039.\n",
      " 1283.  826. 1008. 1052. 1076. 1078.  695.  954. 1151. 1251. 1252. 1023.\n",
      " 1028. 1128. 1307. 1223.  961. 1326. 1376. 1361. 1865. 4113.  932. 1887.\n",
      " 1110.  988. 1075. 1082. 1098. 1094. 1125.  968. 1237. 1072.  838.  924.\n",
      " 1143.  869. 1480. 1446.  859. 1752. 1680. 1042. 1513. 1061.  803. 1187.\n",
      "  799. 2046. 1424. 1251. 1901. 1181. 1112. 1900. 2230. 2397. 1015.  995.\n",
      " 3598. 1504. 1040. 1170. 1755.  997. 1447. 1085.  946. 1158. 1445. 1432.\n",
      "  924. 1074.  959. 1972.]\n",
      "512\n",
      "going!\n",
      "going!\n",
      "total loss： [ 801. 1822. 3051. 3528. 1085. 1299. 1082. 1205. 1578. 1129.  917. 1170.\n",
      " 1306. 1401.  949.  757. 1053. 1220.  930. 1198. 3217.  864.  976.  932.\n",
      " 1474.  965. 1400. 1043.  805. 1196. 1084. 1436. 1459. 1415. 1029. 2589.\n",
      " 1111. 1094. 1195. 1788. 1336. 1288.  995. 1232. 1119. 1453. 1004. 1149.\n",
      " 1654. 1244. 1137. 2325. 1029. 1259. 2364.  947.  985.  980.  929. 1497.\n",
      "  736. 1513. 1344. 1306. 1330.  783. 1018. 2015. 1250.  827.  871.  923.\n",
      "  921. 1519.  948.  815.  766.  858. 1163. 1054. 1326. 1143. 1655. 1907.\n",
      " 1140. 1242. 3415. 1608. 1200. 1236.  629. 1364. 1191. 1254. 1191. 1297.\n",
      " 3080. 1560.  888. 1304. 1794. 1023. 1090.  750. 1155. 1299. 1164.  946.\n",
      "  749. 1068. 1113. 1318. 1128. 1030. 1163. 1107.  785.  934. 1047. 1007.\n",
      " 1765. 3490. 2068. 1363.  838. 1281. 1661. 1725. 1247. 1793. 1150. 1258.\n",
      " 1202. 1233. 1575. 1406. 1078.  968. 1250. 1853.  832. 2205. 1102. 2504.\n",
      " 1251. 1028.  894. 2635.  894. 1158. 1395. 2508. 2359. 1595. 1133. 1327.\n",
      " 1065. 1519. 1121. 1196.  746. 1100. 1557.  994. 1273. 1406.  998. 1036.\n",
      " 1204. 1668.  920. 1670. 1075. 1121. 1086. 1983.  627. 1434. 1709. 1195.\n",
      " 1541.  843. 1167. 1190. 2410. 1427. 1491.  970. 1155. 1132. 1812. 1010.\n",
      " 1156.  788.  989.  889. 1314.  982. 1586. 1025. 2833.  842. 1000. 2049.\n",
      "  987. 1487.  767. 1298.  748.  884.  815.  927.  842. 1205. 1235.  849.\n",
      "  970. 1239. 2448. 1104.  878. 1125.  797.  822. 1026.  936. 1679. 1042.\n",
      "  824. 1687. 1111.  927. 1063. 1496.  826.  945.  735.  981.  740. 2076.\n",
      " 1695. 1919. 1724. 1308. 1065.  812.  922. 1025. 1326.  930. 1111. 1457.\n",
      " 1277. 1046. 1120. 1002.]\n",
      "768\n",
      "going!\n",
      "going!\n",
      "total loss： [ 995. 1242. 2095. 2517. 1764. 3411. 1286. 1949. 1058. 1102.  899. 1389.\n",
      " 1639. 1246. 4078. 1375. 1135. 1287.  857. 1171. 1453. 1048. 1323. 1241.\n",
      " 1492.  856.  919. 1298. 1458. 1839.  868.  945. 2008. 1787. 1289. 1277.\n",
      " 1843. 1028. 1664. 1173.  927. 1360. 1241. 3377. 1488. 1388. 1325. 1834.\n",
      " 2929. 2472. 1527. 1022. 1251. 2103. 1377. 1068. 1307.  849. 1164. 1279.\n",
      " 1219. 1290. 1379. 1219. 1079. 1120. 1189. 2167.  823.  813. 3691.  901.\n",
      " 1437.  768. 1169.  685.  891. 1606. 1120. 1263. 1136. 1005. 1162.  983.\n",
      "  998. 1170. 1105. 1000. 1005. 1395. 1206.  920. 1038. 1226. 1497. 1027.\n",
      " 1083. 1370. 1094.  804. 3243.  794. 1208.  998. 1845.  860. 1270. 1131.\n",
      " 1230. 1190. 1142. 2322. 2049. 1001. 1154. 1343.  997.  998.  734. 1441.\n",
      " 1197. 1443. 3089. 1921. 1646. 4571. 1078. 1333. 1637. 1500.  953. 1331.\n",
      " 5680.  829.  882. 1042. 1311.  994. 1196. 1222. 1818. 1233. 1118. 6392.\n",
      "  746. 1216. 1177. 2152.  889. 1477. 1140.  954. 1365.  995. 1723. 1171.\n",
      " 1418. 1019. 1072.  999. 1117. 1252. 1286.  767. 1056. 1010.  993. 1496.\n",
      " 1153.  603. 1303.  882. 1081. 1120. 1017. 1562.  575. 1571. 4226.  914.\n",
      " 1359. 1353. 1237. 1656. 1331.  915.  524. 1172.  981. 1210. 1108. 1539.\n",
      "  987. 1166. 1291. 1874. 1206. 1401. 2696.  970. 1339. 1517. 1354. 1101.\n",
      " 1143. 1734.  985. 1032. 1222. 1202. 1008. 1071. 2528.  900. 1348. 1136.\n",
      " 1423. 1446. 1026. 2110.  982. 1406. 1876.  932. 2080. 1431.  983. 4529.\n",
      " 1265. 2312.  900.  956.  901.  914. 1535. 1283.  936. 2851. 1077. 1032.\n",
      " 2047. 2474. 1779.  957. 5276. 1172.  989. 1262. 1200. 1093. 1031. 1800.\n",
      " 1247. 1032. 1320. 1672.]\n",
      "1024\n",
      "going!\n",
      "going!\n",
      "total loss： [1093.  973.  988. 1068. 1012. 1441. 1092.  898.  923.  996.  985. 2190.\n",
      "  962. 1489. 1399. 1703.  836. 1225.  978. 1168.  804.  834. 1253. 1002.\n",
      " 2053. 1386. 1379. 1221. 1157. 1069. 1472.  875.  931. 1042.  714. 1161.\n",
      " 1230. 1051. 2925. 1297.  861. 1071. 1081. 1554. 1503. 1887. 1818. 1163.\n",
      "  886. 1679. 1053. 1220. 1992.  769. 1180.  959. 1161.  970. 1081. 1549.\n",
      " 1350. 2595. 1771. 1212. 1714. 1381. 1166.  965.  747. 1722. 1086. 1364.\n",
      " 1072. 1364.  997. 1191. 1200.  834. 1554. 3528.  981. 1559. 1558. 1157.\n",
      " 1129. 1424. 1872. 1779. 3907. 1454.  860. 1121. 1027.  708. 1200. 1734.\n",
      "  803. 1323. 1853.  762.  887. 2297. 3149. 1561.  969. 1494. 1042.  957.\n",
      " 1109. 4765.  935.  790. 1857. 1495.  907.  743. 1163. 1198. 1160. 1531.\n",
      " 1045.  827.  865. 1309.  784. 1059. 1266.  759. 1129. 1047. 1635. 1140.\n",
      " 1958. 1171.  874. 1281. 3644. 1141. 1874. 1822.  887. 1061.  936. 1411.\n",
      "  924.  845. 1258. 1563.  800. 1339.  944.  814. 1154.  924. 1530. 1313.\n",
      " 1942. 1175. 3353. 1150. 1364. 1564.  923. 1038.  954. 2835.  956. 1365.\n",
      " 2128. 1232. 1136. 1084. 1536. 1361. 1470. 1282. 1296. 1182. 1247. 1160.\n",
      "  630. 1318.  704. 1189. 1473. 1570. 1272.  875.  929. 1037. 1041. 1596.\n",
      " 1068. 1368.  948. 1002. 1123. 1057. 2069. 1511. 2252. 1214.  846. 1142.\n",
      " 1798. 2873.  863. 1261. 1491. 1124. 2489. 1294. 1524. 2176. 1060. 1120.\n",
      " 1291. 1681. 1145. 1154. 2435. 1245. 1322. 1211. 1320. 1307. 1009.  952.\n",
      " 1330. 1447.  887. 1222. 1126.  860. 1336.  946. 1448. 1521. 1422.  939.\n",
      " 1868. 1351. 1104. 1243. 1144. 1454. 1006. 1294.  899.  971.  743. 1954.\n",
      " 1113. 1134. 1619. 1899.]\n",
      "1280\n",
      "going!\n",
      "going!\n",
      "total loss： [ 842.  742.  976. 1054. 1849. 1727. 1243. 1053.  753.  703. 1111.  995.\n",
      " 1616. 1346.  725.  658. 3709. 1146.  962. 1420.  792. 1320.  886. 1196.\n",
      " 1276. 1188. 1184. 2249.  741. 2135. 1321.  947. 1465. 1426. 2338. 1873.\n",
      "  863. 1026. 1572. 1310. 1173. 1070. 1265.  770. 1272.  950. 1074. 1117.\n",
      " 3644.  866.  684.  784.  972. 1860. 1236.  859. 1026. 1294. 1609. 1058.\n",
      "  657. 1243. 1000. 1510. 1194.  934.  800.  997.  896. 1272. 1051. 1086.\n",
      "  776. 2147. 1807. 1244. 1218. 2935. 1831. 2235. 1299. 1264. 1930. 1281.\n",
      " 1140. 1245.  914. 2712. 1755. 1216. 1050. 1784. 1673. 1686. 1102. 1003.\n",
      " 1191. 1012.  990.  853. 1408. 1937. 1208. 1726. 1228. 1005. 1254. 1126.\n",
      " 1378. 1054. 1270.  844. 1190. 1816. 1234. 1231. 1163. 1708. 1469.  997.\n",
      "  906.  686. 1811. 1079.  940.  864.  761. 1241.  934.  985. 1193. 1478.\n",
      " 1110. 1221. 1336.  784.  709. 1047. 2042. 1262. 1750. 1083. 3355. 1218.\n",
      "  911. 1092.  934. 1957.  921. 1273. 1518.  725. 1150. 1416. 3390. 1090.\n",
      "  952. 1139. 1088. 1825.  887. 1251. 1208. 1101. 1052. 1079. 1395. 2406.\n",
      " 1033. 1290. 1197. 1662. 1492. 1251.  993.  974.  731. 1745. 1535. 1112.\n",
      " 1011. 1961.  988.  872. 1166. 3770. 1950. 1610. 1044. 1577. 1217.  920.\n",
      " 1073. 2148.  987. 3596.  988. 1625. 1018.  992. 1103.  936. 1389. 1153.\n",
      " 1249. 1353. 1889. 1096. 1295. 1177. 1461. 1104. 1246. 1276. 1490. 1035.\n",
      " 1121. 1342. 1313. 1142. 3059.  686.  865. 1120. 1236. 2797.  966. 4636.\n",
      " 1044. 1221.  884. 3096.  994.  930.  996.  607. 1201. 1060. 1220. 1769.\n",
      " 1363. 1211. 1176. 1103. 1026. 1013. 1673. 1415.  976. 1988. 1213.  727.\n",
      " 1313. 1238. 1174. 1481.]\n",
      "1536\n",
      "going!\n"
     ]
    },
    {
     "name": "stdout",
     "output_type": "stream",
     "text": [
      "going!\n",
      "total loss： [2009. 1633. 1180. 1200.  827. 2027.  700. 3439.  869. 1166.  845. 1349.\n",
      " 1787. 1197. 1409.  789.  573.  806. 1203. 1006.  894. 1178. 1280.  744.\n",
      " 1402. 1503. 1283.  611.  977. 1186.  876.  754. 1004. 1116.  623. 1282.\n",
      " 1232.  907. 1376. 1140. 1291. 1129. 2174. 2367.  940.  802. 1142. 1103.\n",
      "  952.  817. 1027.  940. 1118. 2045. 1244. 1537.  885.  908.  917. 1201.\n",
      "  825. 1034.  790. 1331.  711. 1401. 1101. 2663. 2777. 1622.  781. 1236.\n",
      "  989. 1377.  919. 1084.  754. 1486.  952. 1407.  955. 1078. 1129.  722.\n",
      "  934.  750. 1189.  667.  864. 1200.  891. 1212.  818. 1410.  707. 4695.\n",
      " 1259.  961. 1660. 1622. 1142. 1025. 1620. 1077. 1253. 1208. 1236.  845.\n",
      " 1233. 2234.  673. 1167. 1074. 1723. 1604. 1326. 1025. 2683. 2463. 1029.\n",
      "  701. 1541. 1112. 1255. 1290.  672.  967. 1054. 1424. 3093. 2219. 1178.\n",
      " 1999.  934. 1781. 1513. 1592. 1571.  974. 2428. 1402.  829. 1000. 1163.\n",
      " 1127.  971. 1407. 1030. 1074. 1291. 1012. 1415. 1017.  948.  835. 2558.\n",
      " 1583. 1244. 1667.  968. 1240. 1152. 1086. 3090.  897. 1577. 1032. 1649.\n",
      " 1155.  987. 1000. 1166. 1146. 2018. 1327. 1850. 1048. 1910. 1268. 2541.\n",
      " 1891. 1197.  927.  941. 1684. 1170.  823. 1294. 1336.  818.  871.  903.\n",
      "  994.  703. 1096. 1154. 1628. 1439.  904. 1845. 1086. 1499.  925. 1277.\n",
      " 1244. 1606. 1219. 1374. 1904.  952.  915. 1832. 1308. 1000.  898. 1961.\n",
      "  982.  875. 1255.  986.  983. 1543. 1069. 1238. 1376.  887. 2290. 1388.\n",
      " 1157. 1097. 3424. 1610. 1641.  887. 2014.  946. 2169. 1021. 1091.  783.\n",
      "  857.  822. 1835. 1020. 1086. 1053. 1182. 3655.  910. 1248. 1453. 1273.\n",
      " 1308. 1223. 1231. 1071.]\n",
      "1792\n",
      "going!\n",
      "going!\n",
      "total loss： [1093.  909.  647.  766. 1394.  785.  848. 1622. 1850. 1005. 1255.  982.\n",
      " 1028.  786.  917. 1201. 1060. 1075. 1222. 1471. 1276.  989. 1202. 2473.\n",
      " 1012.  853.  678.  847.  863. 1629.  831. 1404.  900.  861. 1264. 1303.\n",
      "  953. 1918. 1115. 2125. 1039. 1442. 2004.  782. 2101.  877. 1364. 1194.\n",
      " 1132.  773.  801. 1142.  809. 1161. 1137. 1198. 1345. 1184.  766. 4858.\n",
      " 1206. 1047.  771. 1359. 1082. 1061. 3579. 1451. 1249. 1287. 1459. 1623.\n",
      " 3224. 1121. 1143. 1792. 1488. 1268. 1415. 3076. 1235. 2916. 1259. 1346.\n",
      " 1451. 1473. 1611. 1426. 1663.  991. 1881. 1334. 1240. 1955. 1363. 1005.\n",
      " 1276. 1646. 2087. 2086. 1063. 1681. 1748. 1445. 1280.  819. 1095. 1280.\n",
      " 1221. 3105. 1357. 2753. 1068. 1395. 1284. 1002. 3008. 1073. 1718.  995.\n",
      "  995. 1208. 1372.  952. 1943. 1111. 1171. 1336. 1043. 1149.  942. 1098.\n",
      " 1344. 1335.  890. 1416.  843. 1196.  914. 2893. 1265. 1044. 2181.  825.\n",
      " 1106. 3153. 1829. 1067. 1156. 2335. 1133.  614. 1310. 1560. 1679. 1107.\n",
      " 2731.  980. 2600. 1140.  868. 1193. 4250. 2013.  966. 1159.  975. 1193.\n",
      " 1635. 1150.  720. 1024.  961.  925. 1199. 1301. 1799. 1163. 1132. 2416.\n",
      " 1520. 2749. 1222. 2604.  743.  825.  784. 1677.  824.  966. 1849. 1387.\n",
      " 1147. 2483. 1953.  959.  920.  921. 1192. 1085.  919. 2433.  878. 1150.\n",
      "  597.  891. 1108.  875. 1215. 1363. 1200. 1256. 1446. 1381. 1006. 1197.\n",
      " 1169.  748. 1017. 1018. 1373. 1562.  844. 1141. 1242. 1723. 1258.  749.\n",
      " 1185. 1322. 2451. 1443.  821. 1158.  987. 2220. 1194. 1500. 1741. 1581.\n",
      " 1216.  943. 1194. 2621. 1440. 1113. 1015. 1549. 1146. 2102.  826. 1269.\n",
      " 2336. 1332. 2223. 3574.]\n",
      "2048\n",
      "going!\n",
      "going!\n",
      "total loss： [1240. 1359. 1004.  931. 1385. 2297. 1272.  807.  940. 1571.  908. 1446.\n",
      " 1061. 1375. 3510. 1122. 2137. 2111. 1004. 1443. 1184.  878. 1844. 1430.\n",
      " 1640. 2514. 1122. 1668. 7644. 1180. 1600. 1204. 1555. 1114. 1367. 1214.\n",
      " 1781.  876.  851. 2033. 1130. 1087. 1896. 3040. 1202. 1541.  979. 1257.\n",
      "  999. 1937. 1128. 1525.  911. 1228. 1274. 1075. 1744. 1377.  849.  869.\n",
      " 7328. 1376. 1568. 1130. 1287.  880. 1015.  959. 1110. 1358.  876. 1835.\n",
      " 2317. 1582.  860.  970. 1084. 1568. 1679. 1087. 1295. 1446. 1628. 1294.\n",
      " 1419.  872. 1309. 1464. 1494. 1437.  970. 2385. 3515. 1155. 2129.  999.\n",
      " 1340. 1218. 1371. 1194. 1152. 1615. 1364. 1283. 1832. 1147. 1002. 2315.\n",
      "  988. 2379. 1716. 1361. 1269. 1782. 1533. 1006.  939. 1462. 1203. 1285.\n",
      " 1092. 1774.  835. 1118. 1094.  620. 1230. 1372. 1327. 2365. 1573. 1191.\n",
      " 1888. 1515. 1139. 1268. 1848. 2373. 1458. 2356. 1382. 1318. 1118. 2324.\n",
      " 1337. 1567. 1061. 1386. 1212. 1423. 1303. 2608. 1617. 1199. 1365. 1278.\n",
      " 1346. 6599. 1767. 1486. 1257. 1304. 1242. 1447. 1229. 1038. 1304.  991.\n",
      " 1302. 1073. 1423. 1099. 1321. 1283. 1213. 1355. 1290. 1520. 3708. 1127.\n",
      " 1059.  738. 1403. 1913. 1286. 1541.  940. 1090. 1109. 1096. 1076. 2866.\n",
      "  980. 2263. 1078. 1086.  968. 3514.  877. 1374.  865. 1065.  884.  872.\n",
      " 1090. 1110. 1350. 1754. 1037.  751. 5853. 1158. 5721. 1720. 1117.  916.\n",
      " 1027. 1215. 1025. 1276. 1466. 1235. 1784.  890. 1017. 1297. 1534.  757.\n",
      " 1141.  959. 1307. 1053. 1949. 1879. 1175.  898. 1169. 2249.  861. 1065.\n",
      " 1149. 2417.  688. 1537. 1144. 1037. 1532. 1139. 1077. 1023. 1270.  798.\n",
      " 1522. 1536. 1200. 1041.]\n",
      "2304\n",
      "going!\n",
      "going!\n",
      "total loss： [1387. 1310. 1365.  776.  743. 1477.  750. 1749.  908. 1162.  909. 1147.\n",
      " 1223. 2619. 1463. 1243. 1212. 1067. 1149. 1110.  633.  939. 2917. 1322.\n",
      "  733. 1424.  863.  764.  950.  889. 2301. 1177.  724.  949. 1084.  917.\n",
      " 1022. 1080. 1241. 2383. 1392. 1063. 3840.  969. 1641. 1341. 1642. 1151.\n",
      " 1405.  961.  956. 1827. 1185. 1650. 1201. 1755. 1101. 1133. 3730. 1147.\n",
      " 1300. 1102. 1326.  974.  877. 1367. 1298. 1133. 1331. 1755. 1325. 1285.\n",
      "  747. 1187.  854. 1244.  977.  991. 1094. 2993. 2321. 1330. 1029. 1669.\n",
      " 1490. 3254. 1065. 1633. 1613. 1848. 1072. 1471. 2793. 1940.  962. 1726.\n",
      "  908. 1282. 1725. 1378. 1090.  904. 1407. 1242. 1063. 1298. 1370. 1169.\n",
      " 1279. 1763. 2163. 1119.  777.  979. 2078.  846. 1257. 1533. 1617. 1731.\n",
      " 3107. 1509. 2490. 1252. 1377. 2286.  941. 1190. 1342. 1260. 1720. 2300.\n",
      " 1281. 1173. 1516. 1433. 1176. 2498.  903. 1106. 1165. 1141. 1464. 1327.\n",
      " 1278. 1057. 1726. 1438.  848.  982. 1069.  937. 2224. 1305. 1442. 1679.\n",
      " 1377. 1187. 2103.  970.  915. 1983.  918. 3006. 1263. 1365. 1034.  941.\n",
      " 1827. 1143. 1352. 1234. 1154. 1117. 1305. 1529. 1876. 1255. 1081. 1516.\n",
      " 1292. 1262. 1634. 1169. 1064. 1608. 1010. 1237. 1296. 1847. 1303. 1300.\n",
      "  981. 1378. 1219. 1221.  820.  937. 1209.  674.  847. 1185.  925.  968.\n",
      " 1254. 1034. 1226. 1137. 1487. 1340. 1121. 1363. 1178. 1334. 1078.  661.\n",
      " 1184.  697. 1562. 1354. 1221.  978. 1536. 1561.  885. 2179.  794. 1317.\n",
      " 1377.  993. 1077. 1445.  935.  782. 1325.  893. 1072. 1188.  834. 1067.\n",
      " 5740.  994.  945.  848. 1014. 3396. 1106. 1213. 1308. 1647. 1527. 1083.\n",
      "  652. 1034. 1922. 1071.]\n",
      "2560\n",
      "going!\n",
      "going!\n",
      "total loss： [1531. 1037.  755. 2197.  664. 1288.  873.  833. 1470. 1475. 1277. 1661.\n",
      " 1195. 1539. 1637. 2424.  770. 1590.  990. 1608.  996. 2728.  793. 1045.\n",
      " 2484.  892. 1477.  890. 1084. 1098. 1881. 1383. 1127.  889.  996.  904.\n",
      "  755. 1196. 1353. 3490.  960. 3639.  993.  956. 1056.  971. 1520.  990.\n",
      "  922. 1196. 1359. 1085.  972. 1101.  994. 1717. 1144. 1511.  588.  696.\n",
      " 1131.  953. 1208. 1498. 1059. 1131. 2444.  955. 2500. 1553. 1026. 1346.\n",
      " 1572. 1290. 1044.  984. 2137.  830. 2791. 1211. 1385. 1259.  815. 1537.\n",
      " 2746. 1656. 4169. 2275. 1051. 1716. 1198. 1514. 1143. 1836. 1171. 1228.\n",
      " 1820. 1527. 3159. 1193. 1184. 1610.  881. 1384. 1057. 1014.  874.  871.\n",
      " 1325. 1011. 1265. 1180.  819. 1481. 1326. 1363. 2073. 1853. 1429. 1616.\n",
      " 1371. 1967. 1255. 1204. 1449.  980. 2423. 1083. 1735. 1181. 1040. 1074.\n",
      "  987. 1256. 1556.  912. 1363.  682.  910.  934.  853. 1145.  887.  762.\n",
      " 1162.  685.  780. 1102.  773.  903. 1369. 4299. 1016.  915. 1152. 1187.\n",
      " 3232. 1843.  694. 1730.  760. 1040.  857. 1134. 1342. 1218. 2271.  810.\n",
      " 1111.  896.  726. 1313. 1475.  871.  609.  634. 1733. 1004. 1045. 1039.\n",
      " 1207. 1075. 1785. 1135.  885. 3218. 1336.  930. 2898. 1006.  783.  867.\n",
      " 1126.  942. 1231. 1204.  726. 2041. 1056.  903. 1076. 1556.  956. 1205.\n",
      " 1251.  915. 1133.  735. 1094. 1347. 1132. 2381. 1184.  916. 1601. 1213.\n",
      " 1154. 1508.  945. 1032.  906.  800. 1473. 1854. 1217. 1080. 1013.  858.\n",
      " 1078. 1799.  972.  597.  941.  758. 1937.  869. 1268. 1553. 1536. 1169.\n",
      " 1496. 1262. 2047. 1214. 1290. 1066.  884. 1314.  972. 1577. 1004. 1021.\n",
      " 2132. 1337. 1779. 2304.]\n",
      "2816\n",
      "going!\n",
      "going!\n",
      "total loss： [2801. 1008. 1603. 1648. 1943. 1033.  878. 1138.  958. 1332. 1099. 1774.\n",
      " 1250. 1472. 1370.  856. 1323. 1289. 1108. 1040. 1238.  886. 2271. 1334.\n",
      " 1355.  750. 4024. 1251. 1274.  858. 1274. 1296. 1139. 1179. 5027. 1084.\n",
      " 1313.  799. 1427. 1182. 1311.  946. 1091. 1207. 4751. 1276. 2184. 1821.\n",
      " 1062. 1524.  841. 1018. 3086. 1196. 2018. 1323. 2241. 1205. 1398. 1020.\n",
      " 1194. 1210. 1405.  938. 6046. 1928. 1214. 1107. 1556. 1184.  925. 1234.\n",
      "  918. 1027.  895. 1540. 1248.  935. 1736. 1064. 1537. 1197. 1067. 1115.\n",
      " 1027. 1500. 1631.  833. 1293.  897. 1165. 1185. 1135. 1709. 1059.  872.\n",
      " 1423.  989. 1558.  956. 1437. 1290. 1100. 1004. 1682. 1334. 1039.  710.\n",
      " 2222. 1379. 1977. 1610. 1161. 1390. 1113.  985. 2345.  989. 1288. 1361.\n",
      " 1236. 1193. 4739. 2728. 1431.  841. 2210.  823. 1123. 1056.  826. 1323.\n",
      " 2059. 1410. 1134. 1363.  889.  812.  800. 1248. 1036. 1971. 1285. 3270.\n",
      " 1518.  916. 1269. 1033. 1152. 1240.  959. 1100. 1447. 1412. 1048. 1112.\n",
      " 1088. 1048. 1229. 1146.  941.  951.  884. 1081. 1041. 1001. 1423. 1189.\n",
      "  930. 1197. 1248. 1464.  979. 1111. 1027. 1001. 1428. 1195. 1221. 1257.\n",
      " 1832. 1861. 1026. 1054. 1526. 1322.  957. 1021.  894. 1022. 2517.  959.\n",
      " 1053. 1080. 1094. 1047. 1335. 1780.  964. 1191.  944. 5195. 1480. 1135.\n",
      " 1510. 1392. 1450. 1069. 1268. 2751. 1212. 1098. 1034.  634. 1022.  873.\n",
      " 1326. 1165. 1629. 2235. 1599. 1137. 1917. 1607. 1084. 1206. 2075.  904.\n",
      " 1132.  816. 3828. 1740.  742. 1054. 1077.  914. 1088. 1595. 1579. 1646.\n",
      " 1449. 1485. 1441. 1734. 1690. 1466.  889. 1310. 1810. 1018. 1032. 1419.\n",
      " 1640. 1027. 1283. 1021.]\n"
     ]
    },
    {
     "name": "stdout",
     "output_type": "stream",
     "text": [
      "3072\n",
      "going!\n",
      "going!\n",
      "total loss： [1569. 1382.  874. 1504. 1224. 1273. 1602. 1180. 1272.  902. 1097.  876.\n",
      " 1041. 1416. 1373. 1036. 1697. 1032. 1016. 1576. 1014.  972. 1260. 1146.\n",
      "  836. 1426. 3103.  897.  739. 1220. 1015. 1737. 1266. 1797. 1254. 1270.\n",
      " 1175. 1430. 1005.  774.  710. 1529. 1472. 1685. 1078. 1319. 1583. 1062.\n",
      " 2457. 1374. 1206. 1058. 1891. 1352. 1586. 1073. 1329. 1155. 1080. 1602.\n",
      " 1646. 1285.  885. 1059. 1351. 1026.  932.  815. 1015. 1477. 1129. 1062.\n",
      " 1198.  759. 1244.  956. 1199. 1308. 1791.  874. 1606. 1484.  913. 1303.\n",
      " 1400. 1391. 2541. 1244. 2417.  938. 1098. 1583.  871. 1375.  991.  927.\n",
      " 1235. 1329. 1247.  854. 1203. 1712.  836. 1192. 1089. 1033. 1157.  761.\n",
      "  885. 1221. 2375. 1188. 1053.  879. 1517. 1192. 1208.  966. 1066. 1110.\n",
      " 1529. 1085.  881.  968. 1133. 1437.  912.  895.  940. 1127.  847.  961.\n",
      "  955.  922. 1076.  921.  947. 1491. 1275. 7638. 1389. 1054. 1412. 1287.\n",
      "  684.  844.  851. 1025. 3301.  917. 1116.  866. 1282.  907.  892.  841.\n",
      " 1905. 1220.  865. 8650.  841. 1155. 1415. 1258. 1051.  972. 1240. 1250.\n",
      " 1460.  924.  768. 2073. 1115. 1375. 3473. 1068. 1547.  890. 1289. 2140.\n",
      "  937. 1102. 1685. 1305. 1477. 1476. 2086. 1901.  655.  922. 1296. 1148.\n",
      " 1135. 1542. 1022. 2340. 1139. 1017.  823. 1394.  940. 1628. 2194. 1220.\n",
      " 1465. 1603.  691. 1027.  937.  727.  870.  951.  955. 4728. 2014. 1260.\n",
      " 1009.  913. 1152. 1198. 1300. 1187. 1041. 1297. 1674. 1397. 1782. 1642.\n",
      " 1214. 1935.  966. 1853. 1172.  717.  819.  715. 1148. 1310.  927. 1399.\n",
      "  579.  939. 2175.  800. 2209.  744. 1603.  950.  670.  831.  825. 1334.\n",
      "  892.  576. 1142. 1129.]\n",
      "3328\n",
      "going!\n",
      "going!\n",
      "total loss： [1383. 1069. 1199.  942. 1626. 2028.  745. 1038.  774. 1184. 2428. 1061.\n",
      "  773. 1010.  957. 1391. 1320. 1552. 1296. 1372. 1238. 1345. 1472. 1734.\n",
      " 1018. 1104. 1851.  922. 2368. 1535. 1034. 2418. 1755. 1432.  689. 1265.\n",
      "  924.  973. 1337. 1181. 1458. 2239.  682.  917. 1795. 2290. 1017. 1112.\n",
      "  790. 1239. 1302. 1531. 1759. 1908. 1296. 1249. 1287. 1887. 1188. 1513.\n",
      " 1419. 1041. 1033.  955. 2449.  987. 1240.  791. 2606. 1001. 4340. 1946.\n",
      " 1065. 1311. 1351. 1435. 1038. 2498. 1270.  906. 1046. 1125. 1302. 1128.\n",
      " 1978. 1609. 1320. 1096.  966.  936.  867. 1161. 4001. 2173. 1320. 1195.\n",
      "  956. 1034. 1177. 1072. 1632.  826. 1026. 1233. 2412.  997. 3131. 1558.\n",
      " 2314. 1097.  958. 2827. 1018. 1134.  866. 1102. 1276. 1163.  933. 2157.\n",
      "  968.  914. 1240. 1531. 1006.  994. 1864.  893. 1313.  934. 1363. 1394.\n",
      " 1167.  730. 1008. 1290.  809. 1392.  689.  978. 1938.  938. 1264. 1602.\n",
      "  998. 1662. 1243. 1215. 1108. 2083. 1323. 1175. 1306. 1439.  902. 1089.\n",
      " 1057. 1363. 1419. 1098.  966.  937.  786.  681.  972.  840.  856. 1206.\n",
      " 1027. 1068. 1435. 3766. 1121. 1069.  954. 1066.  931.  947.  898.  858.\n",
      " 1127.  881. 2173. 1131. 1428. 1594.  535. 1587.  822.  885. 1392.  992.\n",
      " 1076. 1988. 1048. 1074. 1425. 1394. 1059. 1370. 1006. 1413. 1153. 1498.\n",
      " 3431.  967. 1413. 1140. 2395. 1224. 5418. 2180.  777. 1234. 1642. 1019.\n",
      " 1420. 1034. 1188. 1894.  729. 1343. 1038.  939. 1112. 1067. 1587. 1524.\n",
      " 1039.  959. 2478. 1412. 1011. 1231. 1109.  839. 1083.  957. 1536. 1672.\n",
      " 1113. 1086. 1082. 1837. 1474. 1468.  849.  991. 1365. 1797. 4029. 1028.\n",
      " 1453.  767. 1635.  962.]\n",
      "3584\n",
      "going!\n",
      "going!\n",
      "total loss： [1629. 1234. 1223.  962. 1463. 2385. 1151. 1274. 5236. 1214. 1032. 1043.\n",
      " 2053. 1251. 1215. 1085. 1122. 1549. 1188. 1252. 1483. 1490. 1627.  682.\n",
      " 3208. 3945. 1491. 1939. 1367. 1121. 1456. 1260.  974. 1458. 1319. 1011.\n",
      " 1375. 1648. 1665. 1558. 1235. 1455.  990. 1150.  949. 1335. 1068. 1459.\n",
      " 1205. 1468. 1873. 1844. 1130. 1044. 1746. 1043. 1768.  902. 1300.  898.\n",
      " 1560. 2759. 2100. 5198.  770.  954. 1399. 1193. 1274. 1298.  939.  754.\n",
      " 2375.  978. 1415.  926. 1096. 1268. 1614.  726.  922.  916. 1992.  817.\n",
      " 1691.  884. 1064. 1254. 1452.  828. 1762. 1225. 1197. 1104.  788. 1062.\n",
      "  896. 1328. 1001. 1140. 1299. 3671. 1205.  865. 1254. 1387. 1012. 1145.\n",
      " 2334. 1795. 1474. 1322. 1299. 1616. 1847.  893. 1379.  927.  937. 2544.\n",
      " 1049. 1424. 2808. 1018. 1230. 1140. 1456.  895. 3737.  822. 1405. 1248.\n",
      "  914. 1597. 1197. 1067. 1296. 1074. 1574.  943. 1010. 1041. 1090. 6996.\n",
      " 1020.  978. 1272. 1568. 1350.  846. 2916. 1225.  941. 1324. 1108. 1493.\n",
      "  973. 1350.  901. 1513.  886. 1021. 6904. 1126. 1177. 1576. 1664.  902.\n",
      "  934.  917. 1532. 1140. 1279. 3127. 1961. 1209. 1735. 1223. 1500. 1003.\n",
      "  695. 1094. 2272. 1909. 1171. 1224.  958. 1262. 1443.  782. 1185.  989.\n",
      " 2121. 1112. 1013. 3830. 1471. 1069. 1733. 1159. 1749. 1516. 1208. 2148.\n",
      " 1046. 1240.  915. 1491. 1875. 2184. 1954. 1023. 1642. 1388. 1282. 1408.\n",
      " 1603. 1335. 1214. 1125. 1040. 1154.  901.  945. 1082.  657.  762.  790.\n",
      " 1174. 1150. 1073.  834.  969.  856. 1696. 1525. 1057. 1199. 1297. 1086.\n",
      "  735. 1020. 1047. 1747. 2021.  908.  891. 1128. 1138.  901. 1090. 1383.\n",
      " 1657. 1295. 1327. 1501.]\n",
      "3840\n",
      "going!\n",
      "going!\n",
      "total loss： [1058. 1231.  794.  738.  963. 1090. 1791. 2647.  853.  845. 1315. 1237.\n",
      " 1230. 1072.  880.  537. 1077.  864.  912. 1377. 1262.  906.  799. 1073.\n",
      "  812. 2903. 1571. 2796. 1000. 1884.  837. 1053. 1360. 1017. 3177.  994.\n",
      " 1044. 1626.  782. 1067. 1230. 1053. 2564.  825. 1139. 1088.  928. 1144.\n",
      "  959. 1062. 1135.  672. 1241.  774.  547. 1179.  703. 1184.  720.  770.\n",
      "  861. 1050.  826. 2669. 1607. 1100. 1010. 1204. 1959.  997. 1233. 1605.\n",
      " 1126.  978. 2668.  924. 1034. 1686. 1293. 2625.  806. 2527.  874. 1064.\n",
      " 1061. 1502. 1560. 1313.  880.  821. 1095. 1217. 1231. 1054.  905.  964.\n",
      " 1144.  968. 1216.  930.  805. 2592. 1150. 1211. 1072. 1211. 2429. 3186.\n",
      " 1151. 2783. 1174.  823. 1026. 1335. 1940. 1826.  937. 1054. 1263. 1787.\n",
      " 1328. 1092. 1022. 2331.  951. 1555. 1598. 1266. 1273. 1643. 1315. 1080.\n",
      " 2249. 1531. 1199. 2973. 1326. 1200. 1691. 1020.  990. 1343. 2018. 1067.\n",
      " 1426. 1800. 2467. 1693. 1421. 1344. 1086.  977.  979. 1101. 1139. 1204.\n",
      "  987. 1315. 1370. 1162. 2885. 1390. 1185. 1072. 1137. 2747.  807. 2173.\n",
      " 1117.  861. 1089. 1580. 1746. 1161. 1108.  958. 1467. 1464. 2296. 1942.\n",
      " 1641. 1485.  872. 1429. 2063. 1010. 1666. 1021. 1500. 1172. 1463. 1194.\n",
      " 1121. 1001. 1235. 1024. 1216.  869. 1047. 1081. 1542. 1334.  719. 1145.\n",
      " 1339. 1042. 1113.  762.  901. 1312. 2344. 1127.  871. 1408.  911. 1204.\n",
      " 1586.  906. 1037. 1045. 1110.  867. 4113.  723. 1250. 2229. 1020. 1076.\n",
      " 1083. 1167. 1191. 1014. 1018. 1779. 1367. 1159.  905. 1087. 1115. 1428.\n",
      "  939.  751. 1486. 3583.  932. 1012. 1113. 1007. 1105. 1271. 1669. 1131.\n",
      " 1356. 1147.  654. 1020.]\n",
      "4096\n",
      "going!\n",
      "going!\n",
      "total loss： [1218. 1170. 1213. 1622. 1209. 2001. 1637. 1093. 1484.  921. 1342. 1410.\n",
      " 1291. 1404. 1237. 6608. 1527. 1398. 1522. 1215. 1044. 1598. 1222. 1620.\n",
      " 1150. 1225. 1146. 2406. 1149. 1090. 4975. 4372. 1131. 3883. 1134. 1178.\n",
      " 1386. 1300. 1363. 1705. 1637. 1248. 1956. 1608. 1202. 1283. 1486. 1672.\n",
      " 1071. 1005. 3901. 1315.  677.  769. 1031.  960. 1375. 1952. 1717. 2088.\n",
      " 1347. 2596. 1707. 1331. 1756. 1533. 1665. 1162.  992. 2232. 1586. 1316.\n",
      " 1343. 1023. 1085. 1129. 1001.  754. 2277. 2003.  761. 1459. 1935. 1171.\n",
      " 1282. 1478.  909.  922.  942.  878.  953. 1058. 1089.  950. 1051. 1146.\n",
      " 1006. 1031. 2159. 1717.  989. 1356. 1279. 1984. 1294. 1089.  845.  952.\n",
      " 1437.  893.  728. 1544. 1044. 1342. 3194.  978.  963. 1132. 1259. 1375.\n",
      " 1761. 1185. 3054. 1390.  636. 1288. 1160. 1202. 1376.  927. 1343. 1014.\n",
      "  820.  935.  951.  747.  708. 1245. 1167. 1006. 1002. 1766. 1490.  860.\n",
      "  979. 2037. 2139. 2884.  962.  741. 1113. 1166. 1183.  780. 1117. 1232.\n",
      "  844. 1704. 1726.  843. 1154. 1639. 1001. 1021. 1003. 1447. 1118. 1263.\n",
      " 1342. 1302.  904. 1365. 1012.  835. 1474.  978.  901. 2955. 2077.  897.\n",
      " 1412. 1168. 1137.  875. 1194. 1066. 1234. 1037.  758. 1095.  851. 1132.\n",
      " 2114. 1971. 2457. 1387. 1619. 1436. 1654. 2364. 1349.  968. 1181. 1286.\n",
      " 1612. 1093. 1109. 1218.  814.  918. 1328.  901. 1340. 1504.  860. 1424.\n",
      " 2107. 1059. 1225.  782. 1295. 1203. 1724. 2167.  961. 1697. 2635. 1112.\n",
      " 2599. 1019. 1151. 1050. 1536. 1044. 1664. 1642. 2246.  788. 1646. 1286.\n",
      "  993. 1318.  882. 1003. 1218. 1013.  696. 1547.  950. 1048. 1021. 2002.\n",
      " 1107. 1844. 1279.  984.]\n",
      "4352\n",
      "going!\n",
      "going!\n",
      "total loss： [1212. 1640. 1435. 2058. 1447. 1170. 1985.  773. 1271.  947.  783.  859.\n",
      " 1529. 1070. 1412. 1283.  915. 2126. 1065.  929. 1004. 1267.  961.  988.\n",
      " 1068.  654. 2348. 1141.  931. 3298.  879. 1140. 1097.  681. 1144. 1438.\n",
      " 1281. 1156. 1042. 1213. 1088.  903.  736. 1081. 1368.  986. 1454. 1229.\n",
      " 1842. 1196.  932.  736. 1728. 1497.  713. 1227. 2530.  922. 1062. 1176.\n",
      " 1073.  668. 1177. 1061.  817. 1329.  868.  909.  874.  946.  796. 1039.\n",
      " 1046. 1783.  864.  991. 1164. 1299. 4747. 1269. 1094.  816. 1322.  900.\n",
      " 2864. 1196. 1329. 2211. 1044. 1110.  903. 1782. 1995.  855.  980. 1479.\n",
      " 1392. 1502. 1183.  856. 1322.  950. 1730. 1753.  814.  799. 1288.  996.\n",
      " 1016. 1454.  931.  936.  709. 1580.  823.  799. 1040.  736.  986. 1147.\n",
      " 1267. 1108.  742. 2610. 1433. 1397. 1044. 1454. 1336.  861. 1922. 1360.\n",
      " 1144. 1187. 1572. 1309. 1299. 2598. 1155. 1201.  863. 1141. 1678. 1121.\n",
      " 1052. 1220. 1090.  975. 1844. 1395. 1369. 1256. 1103. 1003. 1008. 1104.\n",
      " 1077. 1027.  791.  983. 1249.  899. 1250. 1119. 1444. 1005. 1186. 1012.\n",
      " 1283. 1030. 1321. 1607. 1423. 1103. 1026. 1034. 1493. 1491. 1293. 1671.\n",
      "  858. 2005.  871. 2576. 1202. 1388. 1680. 1136. 1063. 1861. 1048. 1027.\n",
      " 3922. 2339. 1168. 1413.  739.  943. 1244. 1178.  505. 1207. 1169. 1524.\n",
      "  967. 1316. 1570.  918. 2053. 1098. 1037. 1355. 1807.  974.  949. 1755.\n",
      "  920.  917. 1500. 1275. 1049.  842.  786. 1940. 1170. 1071. 1023. 1402.\n",
      " 1852.  951. 2331. 1315. 1240.  822.  754. 1096. 1252.  976. 1035. 2881.\n",
      " 1016. 1088. 1264. 1027. 1168. 1361.  980.  850. 1264. 1181. 1011.  723.\n",
      " 1266.  651. 2955.  851.]\n",
      "4608\n"
     ]
    },
    {
     "name": "stdout",
     "output_type": "stream",
     "text": [
      "going!\n",
      "going!\n",
      "total loss： [ 717. 1453. 1829. 1122.  946. 1300. 1379. 1217. 1325. 1225. 1102. 1701.\n",
      " 1561.  858. 1250. 1405.  940.  959. 1060. 1211. 1012. 1218.  880. 1360.\n",
      " 1764.  842. 1338. 1605. 1126. 1436. 1469. 1596. 1103. 1005. 2793. 2480.\n",
      "  982. 1497. 1066. 1938. 1389. 1761. 1296. 1154. 1528.  845. 1208.  920.\n",
      " 1881.  910. 1605. 2075. 1198.  600. 3138. 2265.  914. 1066. 1215. 1166.\n",
      " 3461. 1030.  915. 1186.  846. 2842. 2560. 1177. 1080. 1184. 1253.  898.\n",
      " 2498.  940. 1122. 1168. 1033. 1049. 1177. 1422. 1208. 1226. 1658.  960.\n",
      "  980. 2113. 3821. 1354. 1252. 1247. 1174. 1098. 1373. 1671. 1915. 1219.\n",
      " 1975.  946. 1842. 1170. 1157. 1247. 1442. 1338. 1249. 2359.  660. 1488.\n",
      "  819. 1161.  827. 1022. 1033.  930.  840. 1542. 1177. 1271. 1084. 1259.\n",
      " 1618. 1846. 1023. 1558.  977. 2120. 1089. 1511. 1544.  856. 1516. 1039.\n",
      " 1067. 1196. 1193.  828. 1039.  770. 1837.  961. 1525.  987. 1134. 1825.\n",
      " 2541. 1054. 1600. 1160. 1020. 1030. 1063. 1105. 1850. 1277. 1666.  874.\n",
      " 1898. 1184. 1053. 5834. 1040. 1960.  833. 7481. 2108. 1199. 1100. 1242.\n",
      " 1675. 1084. 1612. 1512.  959. 1729. 1527.  948.  976. 1275. 1068. 1148.\n",
      " 1474. 4551. 1131. 2366. 1229.  949. 1646.  965. 1115. 1065.  923. 1118.\n",
      " 1078. 1003.  757.  879. 1202. 1093. 1067.  842.  835. 1082. 3371.  715.\n",
      "  896.  728.  932. 1758.  887. 1202. 1362. 7129. 1855.  890. 1155. 1249.\n",
      " 1104. 1332. 2409.  974.  760. 1328. 1500.  793. 1301.  974.  742. 1019.\n",
      "  769.  915. 1069. 1950.  857. 1050.  712. 1081.  875. 1153.  709. 1076.\n",
      " 1045. 1136. 1402.  900. 2189. 1499. 1962. 1082. 1055. 1089.  575. 1075.\n",
      " 1233. 1289.  705.  745.]\n",
      "4864\n",
      "going!\n",
      "going!\n",
      "total loss： [ 964. 1179.  903.  965. 1066.  972.  762. 1243.  812.  997. 1132. 2151.\n",
      "  992. 1048.  824.  700. 1653. 2552.  821. 1171. 1371. 1008. 1414.  906.\n",
      " 2231.  774.  991.  876.  936. 1305. 2019. 2044. 1149. 3060. 1822.  892.\n",
      " 1116. 1033.  807. 1113. 1157. 1059. 1990.  725.  925. 1094. 1316. 3342.\n",
      " 1042. 3560. 1063. 1318.  662. 1397.  984. 1161. 1354.  885.  768. 1978.\n",
      " 1133. 1005.  922. 1571. 2808. 1888.  648. 1383.  977. 3188.  939.  864.\n",
      " 2811. 1096. 1477. 1268.  979. 1223. 1027. 1420. 1029. 1140. 1598. 1321.\n",
      "  982. 1427. 1448. 1138. 1605. 1491.  726.  917. 1435. 2555. 1240.  841.\n",
      " 1249. 1975. 1274. 1112. 2182. 1143. 1215.  743. 1148. 1220.  787. 1170.\n",
      " 1056.  930.  986. 1945. 2236. 1928. 1263. 1698. 1433.  951. 1282. 3563.\n",
      " 1158. 1070. 1911. 1103.  985. 1124.  864. 1238. 1227. 1907. 1742. 3837.\n",
      " 1192.  982. 1314. 1425. 1703.  752. 1985. 1144. 1193.  967. 1300. 2536.\n",
      " 1461. 1404.  925. 1547.  803. 1133. 1145. 1384. 2118.  923. 1093. 1574.\n",
      "  831. 1210.  810. 1625. 1135.  915. 1408.  746. 1126. 1509. 1251. 1068.\n",
      " 1368. 2669. 1095.  979.  809. 1258. 2465. 2767.  762.  923. 1568. 1236.\n",
      " 1140. 2232. 1587. 1276.  988.  913.  774. 1357. 1832. 1451. 1196. 1304.\n",
      " 1017. 1196. 1271. 1280. 1769. 1528. 1065. 1472. 1545. 1070.  937. 1385.\n",
      " 1183. 1058. 6351. 1011. 2075. 1242. 1995.  946. 1327. 1108.  947. 1447.\n",
      " 1023. 1346. 1458. 1211. 1416. 4117. 1328. 1119. 1363. 2130. 1421. 1194.\n",
      " 1053. 1385. 1499. 1012.  751. 1521. 7842. 1025. 1464. 1439. 1408. 1633.\n",
      " 1445. 1169. 1093. 1275. 1456. 1470. 1888. 1446. 1394. 1046.  666.  997.\n",
      " 1293. 1213.  952. 1725.]\n",
      "5120\n",
      "going!\n",
      "going!\n",
      "total loss： [1283.  859. 1523. 1106. 1063. 1154. 1683. 1683.  902.  895. 1408. 1932.\n",
      " 1072. 1094.  892.  830. 1831.  993. 1036. 1441. 1058.  744. 1968. 2673.\n",
      " 1092. 1271. 1075. 1036. 1011. 1203. 1090. 1779. 1072. 1160.  771.  607.\n",
      "  923. 1378. 1173.  773.  896.  875.  859. 1408.  659. 1027. 1385.  989.\n",
      " 1126. 1655. 1626. 1302. 3861. 1706. 1097. 4386. 1056.  946. 1350.  937.\n",
      "  817. 1060. 3153. 2439. 1340. 1269. 1415. 2893.  980. 1019.  754. 1188.\n",
      " 1663. 1071.  977. 1668.  821. 1095. 1103. 1015.  861.  971. 1323.  809.\n",
      " 1508. 1117.  974. 1033. 1129. 2615. 1014. 1137.  684. 1032. 1730. 1280.\n",
      "  822. 1224.  786. 1264.  861. 1137. 1105.  915. 4449. 1345. 1397.  878.\n",
      " 1161. 1065. 2545.  864.  825.  928. 1129.  803. 1056.  782. 1234.  881.\n",
      "  817.  862.  954.  872.  924. 1209.  589.  939. 1030. 1142. 3541. 2264.\n",
      " 1164. 1131. 1105. 1099. 1252. 1363. 1161. 1119. 1739. 1057. 1558. 1137.\n",
      "  912. 1967. 1843.  945.  994. 2035. 1415.  967. 1880.  951. 1266. 1353.\n",
      " 1194. 1425. 1626. 1059. 4076. 2591. 1430. 1262. 4582. 1847. 1262. 1021.\n",
      " 1349. 2104. 1221. 1190. 1598. 2437. 2024. 1573. 1262. 1082. 1258. 1204.\n",
      " 1458. 1242. 1388. 1376. 1301. 1212. 1048. 1094. 2099. 1167. 1234.  991.\n",
      " 1597. 1024.  850. 2076. 1105. 1154.  888.  942. 1069. 1053. 3698. 1519.\n",
      " 1376.  915.  764.  989. 1752. 1039. 1015. 1118. 1696. 1202. 1064. 1024.\n",
      " 2218.  792.  998.  892. 1090. 2090. 1079.  896. 1387. 1155. 1216. 3018.\n",
      " 1422.  681.  694. 1174. 1043. 1125. 1213. 1016. 1430. 1231. 1180.  976.\n",
      " 2763. 1200. 1407.  992. 3809. 1098. 1244. 1281. 1412.  871. 1321. 1735.\n",
      "  844.  993. 2582. 1102.]\n",
      "5376\n",
      "going!\n",
      "going!\n",
      "total loss： [ 962.  879. 3456.  976.  868.  865. 1106. 1238. 1216.  784. 1181.  844.\n",
      " 1272. 1013.  914. 1432. 1168. 1123. 1799. 1011. 2362. 1109.  861. 1399.\n",
      " 1853.  924. 1305. 3676. 1048. 1195. 1118.  860. 1245.  904.  627.  905.\n",
      "  828. 2674. 1466. 1394. 1009. 1245. 1034.  834. 1054. 2525.  880.  756.\n",
      " 1349.  960. 1020. 1347.  904. 1383. 1163.  921. 1315. 1061.  747. 1264.\n",
      "  958. 1103.  969.  932. 1776. 1201.  801. 1167. 1203. 1262.  933. 1362.\n",
      " 1027. 1050. 1449. 1006. 1616. 2036. 1662. 1957.  926. 1343. 1122.  639.\n",
      "  984.  924. 1280. 1618. 1458. 1809. 1308. 1797. 1204. 1028. 1334.  803.\n",
      " 1233. 1855. 1344. 1203. 1526.  888.  932. 1490.  684. 1087. 1392. 1640.\n",
      " 2161. 1430. 1002. 1221. 1142. 1563. 1223. 1374.  701.  915. 3179. 1211.\n",
      " 1069. 1116.  954. 1147. 1076. 1952. 1171. 1431. 1134. 1065.  887. 1401.\n",
      " 1062. 1652.  912. 1407.  768. 1577.  842. 1644. 1081.  875. 1027. 1145.\n",
      "  979.  939.  854. 1105. 1385.  961. 1134.  993. 1571. 1102.  796.  861.\n",
      "  871.  852. 1080.  902.  995. 2521.  819.  942.  966. 1770. 3250. 1043.\n",
      " 1183. 1329. 2115.  942. 1303. 1819.  735. 1266. 1200. 1272. 2262.  853.\n",
      "  778. 1582. 1203. 1698. 1494. 1277. 1334.  928.  954. 1271.  788. 1257.\n",
      "  705. 1111. 1142.  878. 1409. 1344. 1008. 2357.  918. 1491. 1130. 1092.\n",
      " 1051. 1331.  829.  808.  868.  985. 2654. 1143. 1630.  689. 1255.  999.\n",
      "  663.  786.  645.  850.  983. 1089. 1052. 2271.  743. 1670. 1468. 1554.\n",
      " 1088.  703. 1203. 1483.  754. 2297. 1852.  666. 1096.  713.  902. 3373.\n",
      " 1351.  939. 1298. 1377. 1000. 2754.  808.  963.  781. 1531. 1049. 1080.\n",
      "  910.  844. 1442. 1055.]\n",
      "5632\n",
      "going!\n",
      "going!\n",
      "total loss： [1124. 1110. 1675. 1564. 1401.  943. 2226. 1178.  998. 1153.  830.  847.\n",
      " 1005.  900. 1160. 1245.  938. 1475. 2083. 2476. 1413.  620. 3055. 1243.\n",
      "  669. 1045. 2218.  903.  965. 1413. 1036. 2390. 1499.  843.  991. 1232.\n",
      " 1131. 1700. 1282. 1579. 1701.  945. 1420. 1549. 1114. 1257. 1020. 2118.\n",
      " 1247. 3297. 1014. 1463. 1758. 1481.  919. 1263.  917. 1393. 1588.  995.\n",
      "  756. 1069. 1021. 1067.  925. 1821. 1138. 1076. 1319. 1415. 1091. 3369.\n",
      " 3315. 1357. 1408. 1350.  880.  666. 1155. 1040.  864. 1202. 1641. 1773.\n",
      "  924. 1873. 1474. 1102. 1302. 1133. 1487. 1495. 1210.  961. 1319. 1243.\n",
      " 1007.  896.  974. 1784. 1018. 1270. 1963.  970.  911.  869. 1357. 1521.\n",
      " 1405.  817. 1028. 1237. 1064. 1375.  760. 1145. 1455. 2181. 1249.  993.\n",
      "  959.  981. 1045. 1929. 1313. 1085. 1368. 1618.  994.  809. 4961. 1603.\n",
      " 3560. 1454. 1526. 1404. 2799. 1291. 1803.  919.  977. 1562. 1413. 1373.\n",
      " 1049. 1324. 1617. 1324. 1450. 1053. 1154. 1312. 1668. 1341.  962. 1261.\n",
      " 1652.  835. 1809. 1305. 1239. 1791. 1256. 1321. 6105. 1474. 1980. 1196.\n",
      " 1196. 1571. 1284. 1311.  890. 2030. 1175. 1537. 1536.  931. 1035. 1188.\n",
      " 1238. 1163. 1105. 1538. 1524. 1804. 1213. 1662. 2381. 1313. 1012. 1451.\n",
      " 1096.  742. 1283. 1497. 1331.  966. 1314. 1099. 1229. 1579. 1247. 1035.\n",
      " 1029. 1148. 1222.  946.  780. 1046. 1106. 1222. 1003.  958. 2048. 1260.\n",
      " 1622. 1638.  814. 1024. 1506. 1803. 1303. 1572.  708. 1355. 2372.  954.\n",
      " 1103. 1175. 1111. 2292. 1164. 1455. 1218. 1377. 1388. 1579. 1191.  964.\n",
      " 2667. 1138.  946. 1174. 1556. 1188. 1609.  825. 1259. 1297. 1505. 1245.\n",
      " 1583. 3491. 1786. 1048.]\n",
      "5888\n",
      "going!\n",
      "going!\n",
      "total loss： [1180.  782. 1594. 1971.  883.  880. 1201. 1228. 1086. 1522. 1043. 1228.\n",
      " 1218. 1379. 1001. 1217. 2499. 1299.  840. 1261. 1116.  962. 1114. 1583.\n",
      "  880. 1016.  964.  999. 1381. 1019. 1390. 1245. 1004. 1161. 1215. 1079.\n",
      " 2277. 1131. 1082. 1535. 1284. 1478. 1090.  969. 1372. 4668.  965. 1310.\n",
      "  941. 4147. 1169. 1073. 1118.  875. 3661. 1322. 1344.  910. 1015. 2655.\n",
      " 1085. 1020. 1148. 1178.  907.  863. 1826. 1210. 1041. 2768. 2628.  915.\n",
      " 1088. 1068. 1145. 1867. 1509. 3690.  965. 2000. 1240.  980. 1114. 1150.\n",
      " 1509. 1011. 1258. 2208. 1006. 1718. 1811.  862. 1075. 2162. 1166. 1549.\n",
      "  669. 1289.  925.  872. 1908. 1436. 1125. 1706. 1691. 1491. 1201.  955.\n",
      " 1201. 1137.  977. 1798.  943. 1067.  900. 1171. 2114.  964. 1675. 1443.\n",
      " 2806.  859. 1315. 1129. 1378. 1178. 1183.  734. 1308. 1222. 1142. 1173.\n",
      " 1341. 1383. 1425. 1038. 1455. 1431. 1320. 1368. 1082. 1083.  963.  760.\n",
      "  868. 1355. 1096. 1394.  873.  987. 1425.  809. 1413. 1564. 1032. 2539.\n",
      " 2517.  871. 1175. 1131. 1805. 1147. 1856. 1133. 1192. 1080. 1155. 1705.\n",
      " 1102. 1439.  997. 1122. 1537. 1135. 1320. 1082. 2022. 1057. 2459. 1321.\n",
      " 1376. 1959. 1061. 2374. 1286. 1052. 1433. 1438. 1393. 1441. 1004. 1294.\n",
      " 1542. 1518. 3301. 1234. 1083. 1846.  932.  742. 1027. 1085.  989. 1109.\n",
      "  941. 1043.  971. 1821. 1195. 1244.  924. 1208. 1392.  972. 2110. 2361.\n",
      "  831.  919.  980.  674.  856. 1437. 2042.  919. 1007. 1818. 1114. 1140.\n",
      " 1151. 1016.  930. 1568.  800. 1477.  901.  856. 1224. 1359. 1381. 1211.\n",
      " 1087. 1161. 1002. 1128. 2065. 1949. 1043. 1209. 2648. 1009.  545.  977.\n",
      " 1267. 2356.  920. 1127.]\n",
      "6144\n",
      "going!\n",
      "going!\n"
     ]
    },
    {
     "name": "stdout",
     "output_type": "stream",
     "text": [
      "total loss： [1014. 1055. 1103. 1001. 1120. 1140. 1453.  869. 1241.  783. 1181.  933.\n",
      "  828. 1410. 1261. 1259. 1087.  758. 1236. 1102.  797. 1251.  950.  963.\n",
      " 1382. 1066. 1042. 1224. 1251. 1225. 1042. 1524. 2074.  682. 1597. 1077.\n",
      "  706. 1580.  963. 1172. 4418. 1056. 1069. 1675. 1190. 4225. 1511. 1735.\n",
      " 1038. 1278. 1987. 1051. 1014. 1287.  899.  904. 2207. 1984. 1821. 1154.\n",
      " 1274.  664. 1258.  904.  908. 4221. 1082.  772. 1292. 1423.  897. 1013.\n",
      " 2054.  927.  867.  949. 1134. 1669. 1594.  652.  907. 1215. 1065. 1076.\n",
      " 1157.  967.  679.  913.  817. 2683. 1002.  772. 1376. 1086. 1009.  850.\n",
      " 2325. 1652. 1679. 1102. 2022.  726.  849. 1065.  892.  985. 1150. 1090.\n",
      " 1000.  875.  997.  718.  904.  805. 1910. 1087. 1090.  873.  919. 1034.\n",
      "  885. 3041. 2027.  982.  974. 1921. 1641.  944. 1483. 1183.  785. 1266.\n",
      "  981. 1239. 2700. 1235. 1042. 1376.  746. 1711.  821. 1487. 1818. 5403.\n",
      "  910. 1114. 1451. 1899. 1215.  956. 1285.  895. 1269. 1713. 1376. 1165.\n",
      " 1369. 1539. 1255. 1469. 1117. 1158. 1073.  893. 1279. 1997. 1742. 1097.\n",
      " 2214. 1109. 1162. 4922. 1357.  898. 1255. 1883. 1426. 1358.  932. 1210.\n",
      "  894. 1169. 1042. 1023.  863. 2166. 1110. 1408. 1076. 1016. 1210. 1371.\n",
      " 1954. 1206. 1187.  882.  843.  914. 1160.  827. 1825. 1089.  843. 1183.\n",
      "  957. 1507. 1952. 1222. 1356. 1251. 1218. 2326.  764. 1265. 1433. 1477.\n",
      " 2101.  846. 1692. 1059. 1781.  981.  991. 1476.  926. 1272. 1703. 1205.\n",
      " 1284. 7183.  927. 1227. 1059.  789. 1253. 1222. 1032. 1626.  811. 1118.\n",
      " 1395. 1364. 6620. 2089. 1355.  939. 1201. 2230.  971. 1196. 1185.  949.\n",
      " 1309.  757. 1105. 1666.]\n",
      "6400\n",
      "going!\n",
      "going!\n",
      "total loss： [ 1266.  1557.  1779.   904.   924.   625.  1108.   905.  1894.  1116.\n",
      "  4049.  1027.  2268.  3231.   926.  1067.   928.  1270.  1054.  1282.\n",
      "  1752.  1304.  1257.  1054.  1675.  1316.  1096.   927.  1076.  1151.\n",
      "  1635.   744.  1062.   839.  1072.  1011.  1406.   955.  2815.   968.\n",
      "  1084.   932.   868.   897.   835.  1018.  1179.  1503.  1507.  2619.\n",
      "  1337.  2225.   724.  1154.   972.  2059.  1746.  1276.  1211.  1487.\n",
      "  1100.   929.  1013.  1338.  1412.  1164.  1937.  1031.  1219.   863.\n",
      "  1247.   983.  1213.   712.   838.   871.  1025.   996.  4514.  1102.\n",
      "  1104.  1044.  1657.   906.   841.  1116.  1055.   975.  1449.  2101.\n",
      "  1624.  1074.  1009.  1173.  1405.   897.   972.   971.   752.  1980.\n",
      "   875.  1084.  1320.  1060.  1226.  1305.   823.   690.   877.  4968.\n",
      "  1648.  1512.  1523.   815.  1029.  1087.   993.   978.  1056.   935.\n",
      "  1137.   983.  1033.   813.  1119.  1053.   753.  1643.  1329.   741.\n",
      "  1150.   855.  1281.  1671.  1459.  1524.  1229.  3163.  1666.  1100.\n",
      "  1067.  1151.   865.  1004.   907.  1490.  1122.   867.  2365.  1352.\n",
      "  1167.  1759.   905.  1192.   940.  1486.  1100.   924.  2117.  1187.\n",
      "  1278.  1026.   981.  1330.  1788.  1293.  1183.   952.  2852.  1138.\n",
      " 10089.   944.   980.  2356.  1840.  1318.  1034.  1217.  1177.  1289.\n",
      "  1002.  1448.   861.   825.  1698.  1227.  1233.  1121.  1160.  1028.\n",
      "  6421.  1543.  1319.  1174.  1064.   958.   791.  1313.   961.  1093.\n",
      "   801.   705.  2633.  1255.  1024.   811.  1033.   823.   802.  1634.\n",
      "  1566.  2244.  1729.  1276.  1467.  1160.  1502.   840.  2421.   682.\n",
      "  1167.   672.   986.   634.  2381.  1104.  2601.  1229.  1217.  1123.\n",
      "   566.  1526.  1057.  1194.  1640.  1342.  1398.  1446.   974.  1665.\n",
      "  1014.   716.  3045.  1164.   957.   795.  1784.   915.  1010.  3226.\n",
      "  2501.   804.  1288.  1113.   886.  1244.]\n",
      "6656\n",
      "going!\n",
      "going!\n",
      "total loss： [1234. 1521. 1060.  857. 1245. 1082. 1336.  827. 4537. 1566. 1092. 1032.\n",
      " 1044. 1086.  974. 1076. 1165. 1142. 1232. 1046. 1588. 1060. 1196. 1296.\n",
      "  727. 1324. 1316. 1142. 1349. 1112. 1098. 1129. 1005. 3347.  662. 1318.\n",
      " 1511.  906. 1421.  819. 1211. 1219. 1406.  908.  936. 2338. 2381. 1107.\n",
      " 1891.  886. 1016. 1486. 1789. 1143. 3783. 1681. 1801. 1398. 1262. 1700.\n",
      " 1613. 1041. 1352. 1618. 1321. 1089.  799.  724. 1085. 1269.  940. 1576.\n",
      " 5609. 1404. 1217. 1390. 1408. 1424. 1393. 1970. 1351. 1328. 1389. 3274.\n",
      " 1046. 1010. 1885. 1701. 1488.  977. 1759. 3486. 1644. 1195. 1950. 1164.\n",
      " 1157. 1163. 1501. 3464. 1217. 1320. 3251. 1641. 1117. 1348. 1660. 1587.\n",
      " 1209. 1122.  885. 1545. 1794. 1163. 1923.  973. 1628.  845. 1205. 1041.\n",
      "  858. 1406.  947. 1744.  930.  861. 2022. 1488. 1183. 1242.  975. 1362.\n",
      " 2109.  939. 1239. 1225. 1290. 1005. 1345. 1144. 1540. 1887.  823. 1129.\n",
      " 1269. 2622. 1729. 1600. 1086. 1270. 1096. 2083. 1105. 1011. 1223. 1015.\n",
      "  945. 2477. 1155. 1062. 1110. 1523. 1107. 1452. 1533. 1129. 1273.  721.\n",
      " 1374. 1656. 1160. 1019. 1249. 1074. 1184.  756. 1444.  749. 1050. 1169.\n",
      " 1098. 1724.  830. 1049. 1273. 1129. 1801. 1108. 3411. 1422. 1526.  932.\n",
      " 1326. 1476.  832. 1075. 1256. 1191. 2505. 1242. 1273. 1897.  891. 2589.\n",
      " 1587. 1440. 1989. 1156. 1430. 1288. 1403. 1700. 1613. 1140. 1124. 1769.\n",
      " 1286. 1428. 1458. 3742. 1057. 1489. 1706. 2296. 1329. 1820.  914. 1059.\n",
      "  850.  971. 1772. 5289. 1294. 1316. 1313.  811. 1425. 1274. 1167. 1377.\n",
      " 2435. 1542. 1178. 4094. 1237. 1261. 1755. 1422. 1351. 1014. 1105. 2127.\n",
      " 1142.  954. 2372. 1220.]\n",
      "6912\n",
      "going!\n",
      "going!\n",
      "total loss： [ 931. 1036.  846. 1056.  848.  896. 1202. 1094. 1375.  879.  765.  982.\n",
      " 1271.  863. 1774. 1120. 1074. 1577. 1114. 1794. 1741. 1007. 1255. 2759.\n",
      " 2979. 1210. 1019. 1054.  946. 1688. 1046. 1395.  983. 1294. 1222. 1112.\n",
      " 2216.  686.  949. 1529. 1245.  863. 1406. 1251. 1114. 1591. 1148. 1362.\n",
      " 1263. 1023. 1269. 1271. 1199. 1065. 1424. 1161. 2191. 1709.  822.  895.\n",
      "  806. 1282. 1334. 1047. 1097.  948. 1118.  971.  606.  795. 1042.  888.\n",
      " 1027. 1310.  688.  911. 1644. 1075.  689. 1575. 1521. 4475. 1500. 1667.\n",
      " 1346. 1499. 1023. 8477. 1256. 1151. 1393. 1058. 1441. 1463. 1618. 1189.\n",
      "  908. 1507. 1393. 1509. 1543.  927. 1662. 2245. 1262. 1545.  807. 2158.\n",
      "  944.  969. 1483. 7308. 2085. 1138.  888. 1126. 1074. 1006.  769. 1142.\n",
      " 1173. 1277. 1239. 1073. 1055. 1423.  900. 1005. 1832. 1028. 1219.  722.\n",
      " 1283. 1034.  778.  939. 1810. 1053. 1272. 1258.  719. 1401. 1027.  927.\n",
      " 1374. 1029. 2240.  990. 1192. 1013. 1688. 1738. 1454. 1273. 2191.  933.\n",
      "  949.  770. 1094. 1152. 1049. 1087. 1343. 1439. 1830. 1048. 1565. 1339.\n",
      "  734.  785. 1070. 1795. 1186. 1337. 1034. 1125.  649. 2213. 1846.  520.\n",
      " 1074. 1062. 2318.  840.  952. 1807. 1013.  746. 1500. 1014. 1931. 1228.\n",
      " 1111. 1315. 1028. 1091. 1153.  856. 1843. 1351. 1545. 1204.  882. 1113.\n",
      " 1003.  952. 1566. 1011. 1274. 1835.  988.  895.  910. 1076.  525.  750.\n",
      "  710.  901.  918.  748. 2367.  836.  952. 1315. 1239.  927. 1298.  717.\n",
      "  878.  908.  996. 1177.  796.  815.  938.  961. 1171.  676.  797.  924.\n",
      " 1809. 3351.  990.  977. 1008. 1402. 1625. 1060. 1163. 1052.  947. 2336.\n",
      " 1112.  939. 1168. 1237.]\n",
      "7168\n",
      "going!\n",
      "going!\n",
      "total loss： [1873. 1799. 1080.  954. 1164. 1375. 4149. 1185. 1240.  931. 1665.  964.\n",
      " 1148. 1211. 1680. 1377.  985. 1161. 4633. 1040. 1683.  827.  895. 2668.\n",
      " 1019. 1100. 1305. 1536. 1483. 1738.  893. 1453. 2607. 1189. 1208. 1368.\n",
      " 1204. 1058. 1282. 1021. 1978. 1139.  970. 1274.  757.  616. 1020. 1803.\n",
      " 1719. 1060. 1858. 2056. 1966. 2278. 2164. 1405. 2723. 1277. 1119. 1098.\n",
      " 1986. 1002. 1228.  935. 1138.  922.  993. 2001. 1584. 2773. 1486. 1264.\n",
      " 1155. 1902.  913. 1503.  829. 1440. 1247. 1140.  952. 1142. 1091. 1252.\n",
      " 1091. 1063. 1114. 2018.  967.  838. 1922. 1439. 1005.  941. 1081. 1016.\n",
      " 7286. 1695. 1686.  724. 1351.  977. 1324. 1136.  904. 1270. 1190.  798.\n",
      " 3036. 1099. 1253. 1879. 1195. 2059. 1202. 1297. 1155. 1143. 1722. 1181.\n",
      " 1099. 9109.  933. 5502. 1875. 1272.  943. 1197. 1104. 1188. 1211. 1673.\n",
      " 1110.  714. 1109. 1078. 1081. 1007. 1093. 1923. 1197.  849. 1094. 1032.\n",
      " 1005. 1195. 1000. 1106. 1506. 1165. 1207.  799. 1511. 1007. 3122.  904.\n",
      "  816.  946. 1226. 1117. 1139. 1155.  733. 1045.  771. 1274. 1320.  886.\n",
      " 1244. 1161. 1002. 1745.  605.  900. 1408. 1330. 1015. 1034. 1230.  857.\n",
      " 4273. 1779.  734. 1637. 1008. 1025. 1019. 1160. 1471. 1249. 1261.  781.\n",
      " 1351. 1185. 1533. 2434. 1867. 2363.  602. 4099.  976. 1174. 1372. 1173.\n",
      " 1033.  810. 1125. 1049. 1127. 1141.  609. 3358.  897. 1824. 1063. 2392.\n",
      "  974. 1324. 2713. 1288. 1060. 1074.  739. 1298. 1102. 1182. 1550.  991.\n",
      " 1464. 1080. 1236. 1750. 1200. 1639.  961. 1484. 1688. 1490. 1090. 1557.\n",
      " 1189. 1122. 1577. 2129. 1412. 1660. 1185. 1739. 1995.  998. 2171. 1243.\n",
      " 2047. 1182.  953.  758.]\n",
      "7424\n",
      "going!\n",
      "going!\n"
     ]
    },
    {
     "name": "stdout",
     "output_type": "stream",
     "text": [
      "total loss： [1302. 1280.  974.  903. 1045. 1088.  963. 1113. 1113.  809.  690.  839.\n",
      " 1104.  795. 1779. 4268. 1039.  962.  753. 1912. 1129.  784.  643.  948.\n",
      "  904.  982. 1100.  678.  961. 1116.  989. 1070.  820. 3246. 1272. 2655.\n",
      " 1285. 1075. 1161.  985.  940. 1404.  855. 1357. 2172. 1506.  767. 1206.\n",
      " 1443. 2161.  913.  904. 1253.  704. 1218. 1402. 1126. 1234. 1232. 1190.\n",
      "  724.  645.  807.  598. 1298. 1300. 4105. 1062.  775. 1358.  869. 1159.\n",
      "  910. 2572. 1316. 3618. 1113.  784.  920.  983. 1368. 1163. 1033. 1087.\n",
      " 1653. 1021. 1065.  936. 1284. 1088. 1209. 1455. 2821. 1476. 1840. 1139.\n",
      " 1386. 1094. 1047. 1204. 1175. 1381.  905. 1109. 1803. 1719.  882. 1283.\n",
      " 1243. 1087. 1389.  751. 1131. 1406. 1190. 1133. 1009. 2347. 1119.  853.\n",
      " 1298. 1106.  949.  914. 1034. 1656. 1065. 1102. 1434.  731. 1693.  961.\n",
      "  981. 1021. 1506. 1117. 1329. 1663.  929. 1157. 1214. 1075. 1325.  920.\n",
      " 1066. 1146.  907. 1215.  996. 1147. 1308. 1339. 1785.  944. 1116. 1022.\n",
      "  768.  892. 1042. 4044. 1520. 1047.  920. 1408. 1855. 1841. 1175.  880.\n",
      " 1078.  804. 2771. 2107. 1322. 1042. 1048. 1191. 1511.  874. 1186.  884.\n",
      " 1250. 1015.  854. 1368.  847. 2181. 2134.  950. 1101. 1027. 2318. 1208.\n",
      " 1083. 1281.  839.  922. 1034. 1606.  874. 1144. 1997. 1096. 1140. 1292.\n",
      " 1609. 1227.  608. 1624. 1075. 1652. 1548. 1714. 1061. 1240. 1969. 1137.\n",
      " 1412. 2317. 1179.  972.  844.  824. 1052. 1531.  972. 1434. 2155. 1289.\n",
      " 1266.  893. 1245. 2262.  752. 1602. 1112.  838. 1430.  905. 1643. 1007.\n",
      "  969.  846. 1168.  818. 1341. 1290. 1037. 1634. 2274.  827. 1332. 1918.\n",
      " 1799.  952. 1035. 2000.]\n",
      "7680\n",
      "going!\n",
      "going!\n",
      "total loss： [1159. 1305. 1875. 1054. 1603.  806. 1022. 1295. 2076. 2568. 2102.  904.\n",
      "  889.  748. 1084. 1306.  867. 1227.  862. 1217. 1137. 1051. 1212.  922.\n",
      "  829. 1268. 2277. 1329. 1383. 1318. 1936. 1219. 1333. 2188. 1513. 4168.\n",
      " 2148. 1271. 5115.  974. 1240. 2416. 1288. 1478.  954. 1253. 1190.  899.\n",
      " 1154. 1285. 1221.  546. 1208.  875.  964. 1500. 1017. 1204. 1136. 1743.\n",
      " 1036. 1354.  959. 1127. 1431.  839. 1194. 1552.  776. 1038. 1504. 1400.\n",
      "  974.  665. 1687.  882. 1672. 1618. 1527. 1220. 1061.  957.  955. 2780.\n",
      "  963. 1796.  904. 1019. 1323. 1097. 1177. 1195.  879. 1458. 1161. 1431.\n",
      "  996. 1059. 1509. 2611. 3689. 2005. 1301. 2368.  963. 1223.  796.  822.\n",
      " 1075. 2442.  673.  768.  812.  855. 1938. 1535.  929. 1345.  978. 1090.\n",
      " 1518. 1468. 1585.  979. 1110.  946.  966. 1104. 1249. 1308. 1189. 1050.\n",
      " 1327. 1152. 1719. 1727.  990. 1336. 1571.  975.  662. 1137. 2598. 1184.\n",
      "  711.  669. 1204. 1062.  882.  985.  940. 1386.  837. 4257.  792.  874.\n",
      " 1056. 1180. 1674. 1354. 1019. 1126. 1403.  804. 1241. 1197. 1135.  615.\n",
      " 1478. 1091. 1042. 1036. 1162. 1556. 1375. 1364. 1247. 1143.  910. 1469.\n",
      "  893.  896. 1373.  696.  957.  772. 1164. 1007.  951. 1678. 1188. 2021.\n",
      " 1200.  963. 2350. 1366. 1052. 2532. 1489. 1247.  820.  900. 1575.  722.\n",
      "  776. 1679.  739. 2047. 1146.  791. 1518.  949.  987. 1025.  851.  984.\n",
      " 1766.  825. 1056.  893. 1462. 1430.  950. 1047. 1330. 1617. 1217. 1001.\n",
      " 1479. 1069. 1392.  978. 2361.  814. 1019. 1140. 1795. 1773. 1208. 1049.\n",
      "  913. 1010. 1279.  994. 1112. 1502. 1182. 1311. 1030.  920. 1131.  974.\n",
      " 1874. 1275.  919. 1325.]\n",
      "7936\n",
      "going!\n",
      "going!\n",
      "total loss： [1149. 1081. 1136. 1685.  900. 1535. 1122.  764. 1184.  745. 1479. 1101.\n",
      " 2148. 1244. 6078. 1100.  983. 1442. 1362. 1078. 1402. 1200. 1085. 1841.\n",
      "  916. 1205. 3990. 1248. 1365. 4827. 1322. 1505. 1369. 1714.  871.  984.\n",
      " 1600. 1184.  964. 1316. 1413. 1211. 1528. 1341. 1933. 1058. 1993. 3111.\n",
      " 1223. 1446. 7473. 1126. 2021. 1461. 1323. 1020.  937. 1294. 1029. 1386.\n",
      " 2566. 1073. 2565. 1118. 1698. 1201.  939.  875.  744.  988. 1201. 1014.\n",
      " 2081.  967.  995. 1022. 2419. 1310. 1114. 1109. 1390.  890.  690. 1389.\n",
      " 1163. 1033.  983. 1081.  965. 1297. 1361. 1188.  639.  747.  996. 1187.\n",
      " 1233. 1014. 3854.  874. 1191.  766. 1074.  622. 1255. 1786. 1035. 2324.\n",
      " 2562. 1206. 2151. 1039. 1316. 1388.  894. 1403.  768. 1209.  850. 1607.\n",
      " 1127.  898. 1156. 1438. 1161. 1041. 1191.  638.  925. 1005. 1246. 1111.\n",
      "  845.  909.  860. 1102.  912.  864. 1563.  890.  721.  665. 1105. 3296.\n",
      "  556. 1157. 3120.  748. 1167.  849. 1941. 1396.  967. 1183.  927.  953.\n",
      "  839. 1269.  870. 1073.  994. 1242. 1205. 1395. 1305.  906.  733.  779.\n",
      " 1312.  917. 1363.  847. 1242. 1063. 1535.  962. 1787. 1154. 1195. 1544.\n",
      " 1216.  816. 1235.  895.  937. 1094. 1259. 1182. 1597. 1458. 1222.  796.\n",
      "  852. 1314. 1360.  900. 1218. 1096. 1898. 1041.  750. 1044. 1093. 1222.\n",
      "  993.  808. 1249.  783. 1007. 2140. 1030. 1025. 1328. 1486.  994. 1034.\n",
      " 1766. 1138.  905.  853. 1173. 1506. 2743. 2020. 1081. 1016. 1379.  939.\n",
      " 1037. 1034. 2157. 1343.  851. 1283. 1014.  868. 1593. 2346. 1183. 1742.\n",
      " 1164. 1343.  901. 1342. 2559. 3798. 1171. 2197. 1644. 1121. 1102. 1058.\n",
      " 1107. 1065. 1366.  974.]\n",
      "8192\n",
      "going!\n",
      "going!\n",
      "total loss： [ 958.  817. 1284. 1173. 1030.  885.  997. 1056. 1697.  947. 8636. 1262.\n",
      " 1279. 1035. 1359. 1214. 1091. 1096. 1439. 1808.  846. 1621. 1961. 1858.\n",
      "  973. 1112. 1178. 1179. 1086. 2345.  832. 1685. 2875. 1049. 1581. 1162.\n",
      " 1275.  970. 1153. 1358. 1073. 1057.  895. 1255. 1434. 1508. 1035. 1137.\n",
      " 1637. 1015. 1382. 1036. 1883.  846. 1157. 8116.  969.  915. 1055. 1798.\n",
      " 1006. 1820.  949.  728.  633. 1343. 1453.  682. 1082. 1363. 1537. 1503.\n",
      " 1399.  836. 2455. 2027. 1003.  776. 1472. 5895. 1122. 2404.  957. 1178.\n",
      " 1606. 1073. 1008. 1099. 1563. 1150. 1729. 1732. 1145.  991. 3114. 1736.\n",
      " 1339.  993. 1077. 1284.  854. 3361. 1121. 1913. 1331. 1100. 1218.  981.\n",
      " 1073.  974.  871.  732. 1256. 1902. 1060. 1031. 1019. 1731. 1386. 1282.\n",
      "  915. 1125.  806. 1569. 1100.  968. 7731. 1041. 1302. 1294. 1321. 1419.\n",
      " 1131. 1711. 1341. 1275. 1070. 1447. 1569. 1305. 1560. 1467. 2098. 1547.\n",
      " 1203. 1765. 2224. 1185. 1074. 1163. 1533. 2700. 1649. 2522. 1581. 1273.\n",
      " 1437. 2858. 1329. 1789. 1004. 1296. 1168. 1309. 1182. 1625. 1368. 1410.\n",
      " 1961.  697. 1186. 1187.  921. 1090. 1430. 1384. 1755.  894. 1161. 1481.\n",
      " 1063. 3032.  958. 1096. 1282. 1271. 2092. 1072.  789. 1016. 1839. 1085.\n",
      " 1451.  889. 1447. 1051. 1055. 1070. 2891. 1314.  935. 1244. 1114. 1667.\n",
      " 2926. 1483. 1112. 2331. 2294. 1477. 1176. 1183.  666. 1337. 3769. 1184.\n",
      " 1635. 1496.  982. 1014.  959. 2052. 1259. 2639. 1452. 1117. 1229.  910.\n",
      "  997. 1153. 1128. 1985. 1319. 1534. 1090.  858. 1135. 1099. 1130. 1870.\n",
      " 1348. 1219.  714. 1195. 1616. 1823. 1367. 1045. 1356. 1413. 1718. 1602.\n",
      " 1485.  841. 1217. 1060.]\n",
      "8448\n",
      "going!\n",
      "going!\n",
      "total loss： [1174.  995.  950. 1210. 1476. 1099. 1230.  964. 1346. 1078. 3881. 1256.\n",
      " 1558.  987. 1727. 1148. 1043.  986. 1661. 1139. 1207. 1285. 1462. 1217.\n",
      " 1390. 1095. 1142. 2415. 1362. 1268. 2172. 1217. 1125. 1367. 2734. 1051.\n",
      "  764.  935. 1252.  856. 2649.  931. 1122. 1420. 3731. 1080. 1482. 1145.\n",
      " 1530.  942. 1052.  988. 1579. 1400.  969. 1323. 2612. 1335. 1078.  952.\n",
      " 1164. 1402. 1009. 2283. 1163.  574. 2950. 1801. 1133. 1100. 1002. 1646.\n",
      " 1011. 1222. 1199. 1873.  795. 1202.  894. 1452. 1159. 1561. 1384. 1440.\n",
      "  977. 1747. 1322. 1365. 1074. 1066. 1331. 1008. 3385. 1280.  986. 1909.\n",
      " 1153.  951.  700. 1170. 1265. 1114. 1046. 1531. 1629. 1398. 3403. 1297.\n",
      " 1363. 2352. 1043. 1841. 1309. 1255. 1512. 1528. 1412. 1100. 1276. 1214.\n",
      " 1358. 1289. 2264. 1378.  779. 1277.  999. 2117. 1171.  957. 1123. 1551.\n",
      " 1033.  976. 1382.  863.  734.  882. 3834. 1748. 2403. 1089.  910. 5040.\n",
      " 1143. 1171.  874. 1439. 1025. 1181. 1489. 1209.  895. 2283.  711. 1785.\n",
      " 1541.  929. 1859.  953. 1089.  860. 1662. 1188. 1778. 1463. 1125. 1560.\n",
      " 1928.  918.  809.  881. 1170. 2680. 1677. 1237.  910.  820. 1159.  831.\n",
      " 2083. 1063. 1002. 1607. 1318. 1662. 1173. 1062.  981. 1149. 1390. 1104.\n",
      " 1111. 1144. 1121. 1026.  821.  769. 1454. 2450.  616. 1056.  980. 1101.\n",
      " 2043. 1017.  821. 1124.  736. 1220. 1027.  862.  971. 1230.  934. 3230.\n",
      "  958. 1615. 1142. 6420. 1155.  877. 1359.  880. 1770.  871.  908. 1042.\n",
      "  748.  958. 2816.  744. 2364. 1198.  840. 1090. 1002.  755.  793. 1001.\n",
      " 1357.  988. 1387.  530. 1324.  989. 1079.  742. 1036. 1122. 1015. 1387.\n",
      " 1262. 1009. 1155. 1625.]\n",
      "8704\n",
      "going!\n",
      "going!\n",
      "total loss： [1326. 1445. 1201.  853.  822. 1555. 1673. 1311. 1058.  980.  894.  810.\n",
      " 1330. 1181. 1768. 1391. 1258. 1124. 1050. 1192.  689. 4577. 1102. 1277.\n",
      " 1131. 2501. 1027.  716.  801.  949.  964. 1237. 1358.  773.  951. 1197.\n",
      " 1624. 1084.  906. 1279. 2284. 2063.  798. 1945. 1261. 1986. 1026.  893.\n",
      " 1242. 1144. 1551. 1860.  874. 1244.  928. 1088. 1300. 1308. 1723. 1154.\n",
      "  816. 1072. 1530. 1144.  964.  831. 1632. 2722. 9346. 1177.  998. 1035.\n",
      "  940. 1703.  949. 1351. 1032. 1146. 1135. 1256. 1311. 1487. 1164.  848.\n",
      " 4189.  856. 1138. 2670. 7877. 1183. 1224.  995.  745. 1123.  902.  883.\n",
      " 1237.  956. 1121. 1188. 1442.  937. 1331. 1158. 1029.  854. 1038. 1288.\n",
      " 1767.  820.  970. 1336. 1125. 1184. 1006.  767. 1045. 1797. 2252. 1555.\n",
      "  990. 1721. 1111. 1277.  719. 1933. 1726. 2320. 1222.  904. 1457. 1153.\n",
      " 1236.  695. 1009. 1664. 1426. 1384.  994. 1060. 1032. 1155. 1254. 1074.\n",
      " 1655. 2919.  984. 1203. 1116. 1267. 1269. 1919. 1351. 1332.  925. 1335.\n",
      " 1999.  954. 1119. 1250.  968. 1048.  986. 1343. 1083.  932. 1508. 1071.\n",
      " 1007. 1413. 1665. 1639. 1303.  946. 1441. 1157.  974.  906. 1997. 1143.\n",
      "  957. 1043. 1637. 4001. 1023. 1262. 2776.  741. 1064. 1117. 1313. 1131.\n",
      "  595. 1331. 1213. 2465.  807. 1416. 1081. 1753. 1237.  949. 1358.  844.\n",
      "  746. 1661. 6855. 1287. 1202. 1400.  566. 1280. 1464. 1668. 2143. 1739.\n",
      "  964.  920. 1133. 2165.  535. 1356. 1123. 1305. 1632. 1354. 2288. 1414.\n",
      " 1049.  823. 1191. 1183. 1337.  917. 1334. 1371. 1319. 1251. 1476. 1126.\n",
      "  624. 4855. 1310. 1652. 1275.  952. 1194. 1412. 1651.  823.  895. 1952.\n",
      " 1055.  964. 3202. 1025.]\n"
     ]
    },
    {
     "name": "stdout",
     "output_type": "stream",
     "text": [
      "8960\n",
      "going!\n",
      "going!\n",
      "total loss： [1550. 1070. 1487. 4307. 1468.  954. 1712. 1382.  910.  888. 1367. 1068.\n",
      "  730. 1601. 1497. 1259.  946. 1512. 1164. 1251.  729.  936.  938. 1029.\n",
      " 1469. 1613. 1108. 1002. 1608. 2605. 1057. 1725.  870. 1070. 1558.  783.\n",
      "  946. 1016. 1102. 2111. 1189.  756.  970. 2045.  878. 1004.  784. 1122.\n",
      " 1263.  696. 1278.  898. 1198. 1072. 1743.  987. 1973. 1200. 1431. 1664.\n",
      " 1169. 1154. 1344. 1113.  950. 1979. 1224. 1175. 1981. 1371. 1211.  940.\n",
      " 1469. 1689.  924. 1066. 1609.  770.  992. 1157. 1036. 1043. 1507. 1015.\n",
      " 2301.  994. 1215. 1478. 1048. 2484. 1323. 1044.  905. 1174. 1510. 1418.\n",
      " 1301.  963. 1083. 1079. 1514. 1512. 2034. 1209. 1925. 1380. 1290. 1192.\n",
      " 2507. 1121. 1150.  957.  679. 1212. 1239.  956. 1355. 1355. 1288. 1577.\n",
      " 1165.  993.  995. 2309. 1261.  793. 1225. 2674.  833.  960. 1333.  978.\n",
      " 1313. 2641. 1146.  965.  935. 1023. 1190.  934.  839.  898. 1190.  787.\n",
      " 1449.  798. 1576.  850. 1354.  894.  906.  852. 1320.  920.  846. 1171.\n",
      " 1467. 1226. 1084. 1133. 1697. 1488. 1696. 1345. 1033. 1026. 1254. 1068.\n",
      "  943. 1382. 1019. 1579.  827. 4880. 1364. 1529. 1332.  857. 1139. 1117.\n",
      " 1163. 1180.  882.  875. 1239.  968. 1086. 1013. 1158. 2419. 1443. 1127.\n",
      "  878. 1422.  814. 1414. 1276. 1142. 1032. 1153. 4100. 1156. 1309. 1071.\n",
      " 3550. 1686. 1155. 1287.  956. 1029. 1372. 1988. 1102.  715.  885. 2698.\n",
      "  866. 1965. 1144. 1778. 1331. 1037. 1334. 1033. 1124. 1528.  683. 1029.\n",
      "  858.  826. 1403.  977. 1440. 1445. 1082. 1250. 1071. 1830. 1067.  964.\n",
      " 1460. 3751.  782. 1139. 1074. 2074. 1014. 1295. 1021. 1087. 1313.  805.\n",
      " 1474.  486. 1068. 1320.]\n",
      "9216\n",
      "going!\n",
      "going!\n",
      "total loss： [1575. 1432. 1056. 1197.  830. 1007. 1150. 1578. 1395. 1026.  928. 1281.\n",
      " 1172. 1475. 3994.  834.  793. 1089.  945. 1650.  761. 1474. 1132.  982.\n",
      " 2090.  834.  824. 1384.  857.  922. 1549.  977. 1455. 1630.  963. 1631.\n",
      " 1903. 1158. 1833. 1066. 1379.  800. 1294.  875. 1105.  834. 2122.  841.\n",
      " 1147. 1864.  762. 1119.  658. 1071. 1221. 1047. 1430.  786.  761.  934.\n",
      " 1170. 1461.  717.  919. 1491. 1332.  936. 1461. 2235. 1013. 1177.  797.\n",
      " 1047. 1123. 1373. 2208.  891.  691. 1130. 1095. 5949. 1869. 1262.  670.\n",
      " 1046.  901.  918. 1155. 1044. 1131. 1140.  906.  963. 2436.  920.  857.\n",
      " 1312. 1177. 1451. 1318. 1099.  761. 1470. 1735. 1088.  885.  904.  816.\n",
      " 1147.  971. 1141.  837.  940.  928. 1619.  940. 1402. 1203. 1074.  852.\n",
      "  810. 1107. 1208. 3987. 1161.  910.  794. 1016. 1003.  994. 1166. 1234.\n",
      " 1079. 1110. 1178. 1436.  938. 1260. 1139. 1116. 1080. 5134. 1236. 1081.\n",
      " 1342. 1572. 1024. 1070. 1861.  845. 1179. 1635. 1370. 1896. 1474. 1185.\n",
      " 1534. 1523. 1188. 1603.  858. 2149. 1537. 4549. 1259. 1051. 1369. 1126.\n",
      "  983. 1250. 1549. 2340. 1344. 1171. 1040. 1142. 2138. 1136. 1155. 1460.\n",
      "  844.  967. 1301. 2221.  739. 1284. 2172. 1783. 6625. 3647. 1132. 1967.\n",
      " 1246. 2049. 1536. 1023. 1343. 1933. 1206. 1731. 1194. 1346. 1344. 1275.\n",
      " 1334.  926. 2163. 1057. 1569. 1403. 1317. 1196.  789. 4664.  988. 3704.\n",
      " 1178. 1037. 1682. 1069.  811.  888. 1680. 1309. 1427. 1153. 1192. 2155.\n",
      " 2027. 1379. 1505. 1340. 2136.  916. 1295. 1436. 1137. 1715. 2007. 2507.\n",
      " 1349. 1401. 1012. 1501.  847. 1758. 1177. 1574. 1020. 1622. 5107.  921.\n",
      " 2486. 1167.  969. 1357.]\n",
      "9472\n",
      "going!\n",
      "going!\n",
      "total loss： [1034.  862.  838. 1045. 2309. 2329. 1125.  667. 1002. 1888. 1090.  837.\n",
      " 1698. 1199. 1360. 1037. 1162. 1293.  848. 1333. 1537. 1036. 1144. 1136.\n",
      "  936. 1910. 1083. 1351. 1107.  860. 1491.  884. 1237. 1582.  951.  955.\n",
      " 1298. 3240. 1055. 1382. 1844.  978. 1356. 1193. 1370. 1023.  858. 1242.\n",
      " 1363.  982. 1117. 2661. 1399. 1272.  934.  943. 1029.  786. 1139. 1356.\n",
      " 1202. 1025. 1024. 1368. 1335. 1053. 8792.  759.  881. 1094. 1352.  988.\n",
      " 1096.  940.  938. 1100.  728. 1066. 1580. 1011. 1236. 1258. 1105. 1122.\n",
      " 9264.  817. 2363. 1455. 2504. 1031.  827.  859.  952.  993.  969.  871.\n",
      " 1440. 1033. 1386.  724. 1796.  718. 1064. 1374. 1045. 1031.  955. 1177.\n",
      " 1179. 1179. 1295. 1028. 1221.  951. 1628. 1056. 1700. 1098. 1773.  904.\n",
      " 1034. 1305. 2137. 1697.  794. 1534. 1266. 1318. 1424. 1233. 1334.  863.\n",
      " 1023. 1012. 1002. 1205. 1126.  853. 1004.  859. 1611. 1885. 1190. 1200.\n",
      " 2363. 2194. 1305. 2138. 1000.  853. 1170.  853. 1236. 1149. 1255. 1154.\n",
      " 1019. 1963. 2170.  830.  780.  995. 1244.  883. 1026. 1112. 1011.  952.\n",
      "  834.  945. 1568. 1756.  918.  842. 1309. 1183. 2675. 1788.  919. 2505.\n",
      "  899. 1975. 1112. 1017. 1106. 1278. 1069. 1188.  994. 1017.  957.  709.\n",
      " 1027. 1655. 1576. 1040. 2137. 1363. 1147. 1478. 1837. 1098. 1450.  934.\n",
      " 1430. 1273. 1439.  698. 1131. 1031.  887. 1374. 1485. 1828. 8215.  523.\n",
      " 1725. 1084.  900.  922. 2301.  669. 1001.  843. 1173. 1077. 2968. 2597.\n",
      "  846. 1030. 1493.  808.  941. 1555. 1080. 1543. 1622. 1297. 1302. 1823.\n",
      " 1435.  683.  989. 1021.  897. 1007. 1049. 1709. 1527. 1517.  911. 1402.\n",
      "  902. 1114.  936. 1004.]\n",
      "9728\n",
      "going!\n",
      "going!\n",
      "total loss： [1224. 1366.  893. 1046.  976. 1273. 1144.  993.  934. 1618. 1062. 2239.\n",
      " 1071. 1644. 1333. 1493.  745.  950. 1029. 4064.  896. 1267. 1194.  799.\n",
      "  894.  867. 1442. 1206. 1593. 1018. 1847.  791. 1216. 1713. 1026. 2140.\n",
      "  905. 1139.  901. 1139. 1217. 1024.  914. 1145.  783. 1121.  678. 1080.\n",
      " 1059. 2690. 1208.  787. 1067. 1399. 1184.  873. 1046. 3670. 1888.  789.\n",
      " 1271. 1153.  979.  698.  803. 1404. 3161.  993. 1341. 1442. 1652.  533.\n",
      " 2603. 1080. 1295. 1188. 1766. 1126. 1373. 1767.  830. 1185. 1167. 1431.\n",
      "  869. 1256.  859. 1180. 1188.  846. 1616. 2854.  819. 2024. 1492.  711.\n",
      " 1800. 4321. 2101.  926. 1117.  990.  847.  984. 1654.  808.  768. 1256.\n",
      "  850. 1131.  881. 1087. 1146. 1222. 1027. 1116. 1163. 1117.  683.  991.\n",
      " 1029.  997.  940. 1014.  978. 1035. 1284. 1157. 1154. 1495. 2554. 1039.\n",
      "  836. 1715. 1730. 1006. 1601. 1454.  966. 1726. 1382. 1053. 1282. 1189.\n",
      " 1101.  661. 3039. 1423. 1324. 1148. 1118. 1111. 1355. 1948. 1218. 1630.\n",
      " 2656. 1092. 1590. 1483. 1627. 1127. 2439. 1133.  875. 1130. 1856. 3236.\n",
      " 1124. 1567. 1057. 1143. 1311. 1740. 1497. 1542. 1350.  774. 2420. 1403.\n",
      "  824. 1763. 1008. 2270. 1469. 1452. 1100.  962. 2324. 2200.  947. 1558.\n",
      "  831. 1925. 1235. 1401. 1236. 1290. 1556.  778.  673.  910.  996. 1587.\n",
      " 1100.  732. 1524. 1238. 3102. 2481. 1358. 1337.  982.  949. 1942. 1986.\n",
      "  736. 1831. 1472. 1631.  918.  672. 1190. 1450. 1092.  925. 1203. 1473.\n",
      " 1017. 1038. 1108.  643. 1060.  967. 1387. 1312. 1135. 1600.  776.  985.\n",
      "  869. 1194. 1291. 1639.  912. 1149. 1763.  972.  826.  787.  986. 1179.\n",
      " 1171. 1018. 1105. 1332.]\n",
      "9984\n",
      "going!\n",
      "going!\n",
      "total loss： [1226.  935. 1789. 3126.  797.  937. 1287.  951.  844.  948. 1921.  964.\n",
      " 1749.  651. 1641. 1316.  967. 1331.  776.  689. 1430.  921. 1210.  766.\n",
      " 1780. 1030.  894.  820. 1421.  962. 1136.  612. 1132.  957.  688.  816.\n",
      "  885. 1296.  936. 1271.  724. 1055. 1395. 1272. 1289. 1113. 1134.  952.\n",
      " 1019. 1113.  990. 1173.  878.  763. 1324. 1468.  841.  950. 1979.  805.\n",
      " 2446. 1332.  941. 1304. 1078.  996. 2424. 1512. 1248. 1600.  972. 1155.\n",
      "  886. 1113. 2240.  919. 1160.  768. 2218. 1771.  768. 1721. 1062. 1345.\n",
      " 1298. 1160. 1305. 1614.  904. 1290. 1400. 1182. 1043.  812. 1578.  924.\n",
      " 1303.  887. 1434. 1233. 4811. 1285.  868. 1224.  895. 4990. 1074. 1244.\n",
      " 1178.  857. 1520.  927. 1308. 1172. 1283. 1319. 1687. 1281. 1173. 1669.\n",
      " 1257. 1024. 1392. 2003. 1424. 1206. 1065. 1463. 1894. 1102. 1100.  824.\n",
      " 1203.  959. 2106.  932. 1517. 1198. 1334. 1139.  861. 1092. 5267. 1823.\n",
      " 2855. 1088. 1443.  877. 2032.  844. 2737. 1152.  968. 3240. 1609. 1259.\n",
      " 1055.  854. 1383. 1639. 1262. 1320. 1119.  782.  974.  686. 1101. 1076.\n",
      " 1070. 1248.  955. 3494. 1006. 1033.  778. 1186.  912. 1069. 1199. 2017.\n",
      " 1014. 1292. 1064. 1388. 1285. 1414.  929.  951. 1297. 1289.  998. 1243.\n",
      " 1131. 1007. 2353. 1304. 1391. 1741. 1453. 1127. 1631. 1194. 1237. 1953.\n",
      " 1071. 1214. 1001. 1039. 1291. 1283. 1416. 1990. 1155. 1823. 1305. 1067.\n",
      " 2670. 1076. 1455. 1395. 1046. 3668. 1220. 1392. 2402. 1319. 1394.  904.\n",
      " 1684. 1746. 1262. 1356. 1077.  988. 1440.  834. 2119.  995. 1156. 1062.\n",
      " 1525. 5145. 1183. 1289.  915. 1080. 1291.  841. 1527.  883. 1257. 1252.\n",
      " 1190.  812.  991.  904.]\n",
      "10240\n",
      "going!\n",
      "going!\n",
      "total loss： [ 845. 1287.  912. 1020. 1604.  854. 1228. 1092.  740. 1129. 1476. 1209.\n",
      " 2184. 1283. 2073. 1317. 2108. 1434.  887. 2135. 1212. 1224.  888. 1313.\n",
      " 1430.  803. 1157. 1553.  978.  937. 1033. 1701.  963. 1215. 1084. 1229.\n",
      "  990. 1166. 1155. 1494. 1001. 3432. 1069.  860. 1053.  941.  954.  868.\n",
      "  980. 1981.  950. 1223. 1329. 1177.  923. 1206. 1200. 2548. 2791.  784.\n",
      "  950. 2136. 1123. 1635.  888.  953. 1851.  921. 1111. 2814.  888. 2563.\n",
      " 1412. 1150. 1408. 1377. 1560. 1088. 1091. 1522. 1141. 1378.  908.  930.\n",
      " 1036. 2291. 1116. 1147.  754.  993.  896. 1475. 1484. 1981. 1063. 1836.\n",
      " 1626. 1813. 1438. 1543. 1682. 1064.  986.  781. 3278. 1162. 3028.  995.\n",
      " 1009. 1149. 1160. 1519. 1060. 1014.  842. 1078. 3282.  780. 1162. 1731.\n",
      " 1210. 1261. 1360. 1277.  927. 1064. 1194. 1222. 1416. 5233. 1134. 1647.\n",
      " 1591. 3624. 1039. 1467. 1094. 1365. 1389.  721.  909. 1308. 1206. 1082.\n",
      " 1025. 1336. 1329. 1542. 1086. 1041. 1091.  898. 1665. 1165. 1179. 1322.\n",
      " 1157. 1192. 1055. 1697. 1471. 1100. 1243. 1644. 1145. 1032.  988. 1389.\n",
      "  900. 1127. 1190. 1004.  918. 1419. 1576. 1337. 2121.  971. 1345.  897.\n",
      "  766.  983. 1291. 1138. 2476. 1528.  958. 1020. 1399. 1097. 1347. 1124.\n",
      " 1238.  881. 2688.  894. 1064. 1084.  933. 1546. 1464. 1147.  847. 1650.\n",
      " 1973. 1038. 1008. 1019.  969. 1102.  969. 2634. 3225. 1556. 1481. 1026.\n",
      " 1063. 1093. 1257.  876. 1386. 1029. 1029. 1099. 1100. 1039. 1353. 1143.\n",
      "  735. 1006.  823. 1186. 1253. 2159. 1440.  910. 1407. 1036. 1360. 1124.\n",
      " 1463. 1136. 1237. 1135. 1538. 1179. 1440. 1877.  897.  873. 1397.  938.\n",
      " 1579. 2160. 1152. 2886.]\n"
     ]
    },
    {
     "name": "stdout",
     "output_type": "stream",
     "text": [
      "10496\n",
      "going!\n",
      "going!\n",
      "total loss： [1205. 1821. 1571.  984. 1262. 5517.  960.  916. 1301. 1848.  775. 1137.\n",
      "  950. 2869.  871. 1381.  934.  908. 1143. 1630. 1104.  865.  834. 1818.\n",
      " 1770.  926. 2243.  720.  969. 1282. 1104. 1229. 1343. 1625.  920. 2437.\n",
      "  993. 1467. 1295.  921.  664.  824. 1352.  784. 1567. 2170.  497. 1098.\n",
      " 1007.  930.  874. 1579.  656. 1036. 1253.  897. 1183.  826. 2438. 1153.\n",
      " 1486. 1328. 3446. 1029.  687. 1401. 1092. 1037. 1587. 1587. 3019. 1035.\n",
      " 1080.  996. 1264. 5817. 1241. 1039. 1263.  969. 1103. 1024. 1583. 1227.\n",
      "  922. 1090. 1205. 1162. 1657.  985. 1110. 1139.  904.  961.  910. 1174.\n",
      " 1121. 1440. 1864. 1301. 1145. 1374.  580.  847. 1223. 1189. 1184. 1427.\n",
      " 1373. 1607. 2365. 1388.  870. 1613. 1430.  976. 1017.  847. 1462. 1253.\n",
      " 2504. 1325.  979.  973. 1172. 1455. 1454. 1116. 1316. 1339. 1026.  974.\n",
      " 1588.  882. 4367. 1124. 1268. 1747. 1043.  803. 1253. 1204. 1075. 1819.\n",
      " 1194. 1123. 1456. 1435.  573. 1319. 1275. 1239. 2051. 1086. 1138. 1176.\n",
      " 1924.  992. 1037. 1453. 1980. 1337.  769. 1061. 1769. 1780. 1272. 1863.\n",
      "  849. 1220. 1360. 1580.  974. 1111. 1108. 1492. 1259. 1186. 1065. 1271.\n",
      " 1056. 1411. 1081. 1077.  950. 1116. 1169. 1873. 1406. 1059. 1388. 1289.\n",
      "  820. 1644.  758. 3386. 1309.  897.  994. 1087.  742. 1136. 1120. 1117.\n",
      " 1515. 1223. 1108. 3790. 1191.  866.  774. 1220. 1083.  961. 1087. 1025.\n",
      " 1258. 1479. 1106. 1771. 1310.  814. 1542. 1504.  789.  737. 1508.  862.\n",
      " 1041.  900. 1381. 1490.  905. 1063.  902. 1439. 1393. 1412. 1473.  957.\n",
      " 1349.  821.  834.  765. 4262.  869. 1024. 2887.  853.  948. 1454. 1296.\n",
      " 1350.  695. 1932.  943.]\n",
      "10752\n",
      "going!\n",
      "going!\n",
      "total loss： [1414.  983. 1608. 2052.  998. 2240. 2161. 3968.  983. 1153. 2093.  971.\n",
      " 2604. 1347. 2195. 1186. 1617. 1055. 1010. 2039. 1143. 1279. 1458. 1249.\n",
      " 1522. 1020. 1031. 1025. 1419. 1115. 1400. 1330.  791.  880. 1018. 1033.\n",
      " 1244. 1075. 2037.  908. 1108. 1108. 1104. 1593.  795. 1205.  983. 1491.\n",
      " 1141.  876.  779. 1037. 1452. 2917. 1198. 1259. 1780.  930.  990. 1625.\n",
      " 1204. 1302. 1007. 1191. 1372. 1338. 1011.  860. 1188. 1066.  771. 1982.\n",
      "  952.  928.  861. 1187. 1266. 1191.  916. 2385.  923. 1347.  935. 1537.\n",
      " 1321. 1644. 1628.  744. 1135. 1599. 1607. 1353. 1358. 1138. 1223. 2180.\n",
      " 1153. 1161. 1946. 1948. 1550. 2787. 1265. 1718.  951. 1112. 1709. 1250.\n",
      "  839. 4634. 1301. 1164. 1383. 1717. 1536. 1481. 1984. 1224.  965. 1112.\n",
      " 1339. 1051. 1719.  883. 1402. 1476.  813. 1637. 1015.  989. 1358. 1242.\n",
      " 1476. 1716. 1564. 1023. 1669.  882.  880.  926. 1150. 1219. 3393. 1134.\n",
      " 1765. 1018. 1730. 1194. 1377. 1084.  920. 1532. 1332. 1286. 1005. 1246.\n",
      " 2983. 1771.  981. 1222. 2527.  957. 1300. 1349. 3440. 1984.  912.  773.\n",
      " 1195.  888. 1054. 3591. 1726. 1159. 1227. 1649. 1869. 1482. 1363. 1210.\n",
      " 1221. 1820. 2448.  907.  953. 2066. 1250.  856. 1974. 1657. 1018. 1639.\n",
      " 1303. 1155. 1057. 1770.  964. 1104. 1060. 1153. 1147. 4245. 1931. 1013.\n",
      " 1728. 1405. 1234. 1164. 1036. 1559.  864. 1160. 1166. 1044. 3135. 1007.\n",
      " 1140.  817.  925.  890. 1012.  847.  989. 1270. 1511. 1467. 1112. 2644.\n",
      "  823. 1165. 1147.  920. 1353. 1224. 1844. 1390. 1121.  933. 1626.  750.\n",
      "  755. 2743. 1719. 1265. 1153. 1083. 1825.  938. 3507. 1073.  955. 1947.\n",
      " 1138. 1019. 1046. 3813.]\n",
      "11008\n",
      "going!\n",
      "going!\n",
      "total loss： [1385.  933.  971. 1271. 1648. 1169. 3685. 1129. 1155.  988. 1826. 1310.\n",
      " 1130. 1096. 1797.  946. 1574. 2898. 1354. 1018.  712. 1294.  852. 1267.\n",
      " 1367. 1675. 1259. 1312. 1889. 1080. 1207. 1413. 1528. 1373. 2545. 1521.\n",
      "  755. 1240. 2242. 2255. 1177. 1452.  952. 1568.  871.  804. 1136.  816.\n",
      " 1401.  994. 1564.  873.  982.  936. 1390. 1208. 1124. 1342.  633. 1310.\n",
      " 1208. 1917. 1232. 1083. 2099. 1324.  937. 1013. 1464. 1089. 2484. 1677.\n",
      "  952. 1494. 1143. 1124. 1422. 1198. 1061. 1200. 1062. 1385.  784. 1121.\n",
      " 1883. 1877. 1084. 1285. 1208. 1457.  655.  823.  704. 1029.  667.  985.\n",
      "  992. 1158.  982. 1320.  968.  955. 1865. 1041. 2004. 1171.  809. 1331.\n",
      "  860. 1327.  952. 1260. 1915.  869. 1201. 1154.  975. 2114.  778. 1740.\n",
      " 1595. 1523. 1471. 1117. 1017.  966. 1171. 2335. 1553. 1105. 1545. 3454.\n",
      " 1190. 1306. 1370. 2036. 1510.  886. 1139. 1647. 1524. 1070. 1681.  910.\n",
      " 1142. 1540.  944.  858. 1158.  942.  960.  965.  917. 1110. 1569. 1540.\n",
      "  568. 1178. 1691. 1980. 2849. 1085. 1009. 1372. 1296.  871. 1734. 1753.\n",
      " 1008. 1511. 1271.  853. 1072.  938. 1059. 3863. 1096. 1485. 1551. 1158.\n",
      " 1184. 2849. 1283.  771. 1397. 1195. 1236.  811. 1803. 1490. 1233. 1855.\n",
      " 1734. 1084. 2458. 1133. 2528. 1035. 1820. 1270. 1046. 1925. 1650. 1188.\n",
      " 1501. 1244.  915. 1419. 1133. 1118.  883. 1515. 1716. 1001. 1086. 1000.\n",
      " 2253. 1312. 1301. 1190. 1085. 1519. 1741. 1112. 1247. 1284. 1275. 4711.\n",
      " 1149. 2023. 1277.  698. 1946. 1233.  980. 1231. 1364. 1033. 1608. 2521.\n",
      "  807. 1027. 1895. 1263. 1254. 2113. 1025. 1317.  866. 2123. 1172. 1659.\n",
      " 1195. 1039.  806. 1111.]\n",
      "11264\n",
      "going!\n",
      "going!\n",
      "total loss： [1148. 1559.  773. 1542. 1158.  917. 1217.  829. 1066.  958.  989. 1135.\n",
      " 2622. 1649. 2004. 1528.  838. 1327. 1397. 2158. 1092. 2395.  960. 1029.\n",
      " 1050. 1308. 1122. 1186. 1198. 1465. 1817. 1182. 1115.  936.  854. 1156.\n",
      " 1894. 1113. 1498. 1217.  984.  922.  946. 1087. 2860.  860. 1021. 1601.\n",
      " 1462. 1351. 1238. 1004.  823. 1006. 1593.  958. 1224. 1171.  944. 2162.\n",
      " 1000. 1161. 1034. 2170.  968.  857.  800.  954. 1438. 1538.  709.  864.\n",
      "  750.  935.  970. 1127. 1017.  818.  690. 1344. 1105.  795. 2184.  699.\n",
      " 1474. 1051. 2026. 1954. 1736.  728.  953. 1135. 1097. 1387. 1458.  720.\n",
      "  972. 1280.  952.  878. 2410. 1524. 1191. 1089.  804. 1439.  812. 1125.\n",
      "  763. 1252.  811. 1290.  994.  798. 1380. 1039.  816.  801. 1465.  779.\n",
      "  839. 1040. 1798. 2867.  958. 1469. 1242.  865. 1321. 1286.  909. 1134.\n",
      " 2911. 1591. 1382.  888. 1059. 3316. 1014. 1089. 1105. 1008. 1117. 3523.\n",
      " 1384. 1396.  965. 1614. 1434. 1427.  827. 1023. 1043.  858. 1051. 1248.\n",
      " 1096. 1235. 1205. 1056. 2059.  967. 1072.  784.  960.  894. 1305. 1649.\n",
      " 2008.  779. 1764.  990.  547. 1028. 1248. 1064. 1348. 1612. 1020. 2517.\n",
      "  860. 1005. 1277. 1762.  986. 1058. 1099. 1724. 1115. 1075. 1074.  740.\n",
      " 1080. 1013. 1235. 1577.  942. 1126.  999. 1310. 3140.  889. 1310. 1118.\n",
      "  902.  947. 1393. 1098.  968. 1833. 1137. 1141.  843.  996.  694. 1126.\n",
      " 1840. 4310. 1420. 1346. 1830. 1206.  721. 4754. 1382.  836. 2390.  976.\n",
      " 1829. 1200. 3343. 1022. 1311. 1118. 1134. 1302. 1217. 1169. 1649. 1197.\n",
      "  905. 1287.  962. 1037. 1096. 1235.  731. 1266.  919. 1018.  938.  836.\n",
      " 2497. 2178. 1323. 1580.]\n",
      "11520\n",
      "going!\n",
      "going!\n",
      "total loss： [1086. 2353. 1059. 1350.  955. 1410. 1082. 1133. 1197. 1526.  949. 1221.\n",
      "  864. 1522.  918. 1620. 1154. 1426. 1167.  956.  947.  852. 1320.  842.\n",
      " 1329. 3850. 1132. 1256. 2128. 1817. 1606. 1201. 2665. 1316. 1056. 2213.\n",
      " 1148.  884. 1172. 1020. 1344. 1162.  867.  901. 1421. 1248. 1130. 1003.\n",
      " 1009. 1755. 1016. 1346. 1312. 1166. 1564. 2891. 1149.  960.  865. 1142.\n",
      " 1067.  915. 3176.  962.  836. 1283. 1248. 2585. 1622. 3055. 1977. 1904.\n",
      " 1334. 1119. 1129. 1123. 1087. 1129. 1210. 1275.  942.  930. 1130. 2129.\n",
      " 1018. 1090. 1177.  833. 1015.  828. 1416. 1434. 1448. 1302.  974.  914.\n",
      "  915. 1340. 1074. 1210. 1309.  989. 3228. 1020. 1130. 1170.  995. 1978.\n",
      " 1127. 1039. 1302. 1018. 1461. 1098. 1325.  985. 1148. 1589. 1134.  990.\n",
      " 1715. 1350. 1402. 1153. 1465. 1167. 1762. 1385. 1747. 1294. 1168. 1184.\n",
      "  916. 1111. 1125. 1084.  918. 1298. 1132. 1107. 1490. 1155.  905. 1380.\n",
      "  943. 2007. 1828. 1111. 1731. 1922.  508. 1184. 1225. 3743. 1363. 1092.\n",
      " 1033. 2595.  837. 1045. 1301. 1567. 1087. 1446.  834. 1415. 1075. 1312.\n",
      " 1222. 1098.  969. 1422. 1103. 1505. 1522. 1081. 1120. 1247. 2899. 1542.\n",
      "  952. 1232. 1274. 1051. 2059. 2347. 1324. 1466. 1132. 1005. 1285. 3309.\n",
      " 1477. 1153. 1703. 1275. 1458.  871.  826. 1259.  891.  849. 1190. 1166.\n",
      "  976. 1332. 1080. 1035. 1123. 1042. 1226. 1128. 1332.  877. 1016. 1192.\n",
      " 2465. 1940. 1091.  818. 1576. 1338. 1414.  908.  830.  894. 1110. 1163.\n",
      " 1731. 3014.  840. 1178.  715. 1379. 2177. 2862.  783. 1015. 1056. 1465.\n",
      "  860. 1109.  971. 1452.  932. 1089. 1049.  841. 1142. 1430. 1827.  793.\n",
      " 2256. 3128. 1504.  730.]\n",
      "11776\n",
      "going!\n",
      "going!\n",
      "total loss： [1804. 1219.  770.  984. 3255.  951. 1158. 1504. 1774.  943.  855. 1133.\n",
      "  945. 1256. 1123. 2106. 3673. 1036.  964. 1088. 1411.  799. 1607. 1268.\n",
      " 1253. 1022.  930. 1248. 1136. 2797. 1319.  914.  881. 1219.  998.  947.\n",
      " 1320. 1128. 1101. 2012.  718.  918. 3628. 2012.  809. 2126.  920. 1040.\n",
      " 1336. 1162.  820. 1120. 1251. 1593. 1456. 1368. 1734.  962. 1308.  884.\n",
      "  947.  892. 1374. 1083. 1212. 1953.  905. 1321. 1511. 3285.  911. 1166.\n",
      " 1079.  781. 1366. 2239. 2068.  856. 1141. 1042. 1204. 1817.  903.  693.\n",
      " 1018.  887.  860. 1259. 1107. 1563.  887. 1695. 1209. 1113. 1564. 1263.\n",
      " 1041. 1183.  878. 1099. 1623. 1036. 1340. 3442. 1264.  920. 2037.  728.\n",
      " 1595. 1024.  961. 1872. 1506.  878. 4626. 1728. 1548.  822. 1746. 1098.\n",
      " 1776.  944.  996.  795. 1325. 1193. 1071.  936.  870.  938. 1234.  901.\n",
      " 1475. 2022.  792.  794. 5173. 1047. 1148.  937. 1299. 1496.  825. 1325.\n",
      " 1881. 1379. 1239. 1107.  765. 1151.  707. 1085.  880. 1296. 1505. 1119.\n",
      " 1705. 1362. 1376. 1017.  883.  832. 1114. 1824.  888. 1008. 1525. 1025.\n",
      "  781. 1595. 1457.  847.  706. 1020. 1015.  571. 1495. 2600. 1043. 1322.\n",
      " 1169.  873. 1230. 1027.  939. 1072.  799.  853. 1212. 1018.  794. 1201.\n",
      "  696. 1085.  927. 1206. 1436. 2398. 1004. 1463. 1426. 1446. 1251. 1000.\n",
      " 1154. 2397. 1053. 1151. 1080. 2173. 2367. 1594. 1226. 1638. 1020. 1224.\n",
      " 1075.  812. 1218.  948. 2363. 1609. 2698. 1157. 1110. 1451.  960.  966.\n",
      " 1286.  834. 1028. 1127.  962. 1578. 1159. 4265. 1201. 1154. 1642. 1435.\n",
      " 1395. 1668.  822. 1341. 1204. 1031. 1045. 2203. 1422. 1086. 1150. 1048.\n",
      "  869. 1468.  827.  944.]\n"
     ]
    },
    {
     "name": "stdout",
     "output_type": "stream",
     "text": [
      "12032\n",
      "going!\n",
      "going!\n",
      "total loss： [1205.  941. 2346.  988. 1694. 1168. 1740. 1055.  862. 1228.  872.  849.\n",
      " 1224. 1592. 1353. 1135. 1033. 1210.  956. 1171. 1675. 1005. 1468.  841.\n",
      " 2532. 1073. 1235. 1001. 2461. 1268. 1083.  947.  956. 1355. 2071. 1198.\n",
      " 1462.  882. 1516. 1122. 2105. 1385. 1773. 1688.  921. 1642. 1360. 1123.\n",
      " 1111. 1246. 1066. 1175. 1481. 2172. 1281.  940. 2988. 2043. 1177. 1120.\n",
      " 1059. 1363. 1198. 1368. 1503. 1943. 1297. 1520. 1164. 1129. 1145. 1318.\n",
      " 1278. 1472. 2240. 2053. 1734. 1186. 1257. 1953. 1056. 1440. 1406. 1191.\n",
      " 1195. 1659. 1062.  843. 1493. 1673. 1494. 2034. 1138. 1534.  825. 1435.\n",
      " 1279. 1069. 1301. 1163. 1146. 1532. 1102. 1235. 1065. 1394. 1113. 1454.\n",
      " 3865. 1600. 1810. 1912.  937. 1434. 1160. 1151. 3837. 2159.  913. 1153.\n",
      " 2190. 1405. 2111. 1074. 1747. 1659. 1322. 1371. 1067. 1346. 1086. 1081.\n",
      " 1166. 1597.  981. 1108. 1736. 1343. 1040. 1280.  827. 1059. 1528. 1232.\n",
      "  829. 1181. 1975. 2080.  888.  753. 1147. 2183. 1167. 1064. 1263. 1291.\n",
      " 1235. 1119.  973. 1695. 1043. 1105. 1333. 1566.  835. 1079. 1514. 1979.\n",
      " 6948. 1119. 1516. 1008. 4069.  954.  866. 2200.  846. 1360.  868. 1009.\n",
      "  834. 1226. 1230.  992.  807.  946.  895. 1694. 1069.  881. 1336. 1123.\n",
      "  933. 1414.  988. 1068.  913. 1180.  516. 1107. 1143. 1246.  973.  825.\n",
      " 1312. 1531. 1183.  874.  764. 1967. 1124.  695. 2839. 2007. 1365. 1312.\n",
      " 1227. 1189. 1111. 3999. 1323. 1186.  991. 1124. 1229. 1352. 1860. 1084.\n",
      "  921. 1542.  813. 1097. 2779. 1323. 1660. 1200. 1351. 1607. 1481.  877.\n",
      " 2348.  858. 1627. 1663. 1153.  628. 2313.  934. 1215. 1562. 1885. 1034.\n",
      " 1225.  918. 1110. 1456.]\n",
      "12288\n",
      "going!\n",
      "going!\n",
      "total loss： [1134. 2144. 1028. 1284.  879. 2867. 1200. 1391. 1198.  932.  833.  841.\n",
      " 1447.  888.  837. 1250. 1197. 1388. 1229. 1075. 1215.  891. 1308.  996.\n",
      "  936. 1528. 1091. 1152. 1564. 1230.  798. 3574.  963. 1172. 4261.  944.\n",
      " 1595. 2683.  801.  971. 1557. 1351. 2067. 2120. 1124.  884. 1065. 1153.\n",
      " 1007. 2115. 1416. 1430.  752. 1290.  895. 1805.  889. 1749.  582. 2911.\n",
      " 2010.  832. 1125.  968. 1099. 1409. 1140.  911. 1046. 1572. 2106. 1106.\n",
      "  965.  961. 1376. 7133.  994.  913. 1122. 1466. 1155. 1185. 1049. 1423.\n",
      " 1085. 1490. 1615. 1021.  839.  968. 1155.  974.  956.  771.  591.  965.\n",
      " 1230.  961. 1375.  945.  759. 1100. 1068. 1216. 1038. 1080.  863. 1523.\n",
      " 1672. 1138.  985.  846. 1099. 1144. 1884. 1022.  914.  993. 1469. 1133.\n",
      " 1092.  997. 1093. 1057.  817. 1024.  646.  787.  945.  860. 1043. 3242.\n",
      " 1242. 1413.  852. 1038. 1471. 2069.  905. 1716. 1269. 1028. 4026. 1043.\n",
      " 1738. 1088. 1095.  986. 1538. 1399.  858. 1006. 2014. 1030. 1247.  949.\n",
      "  815. 1760.  807. 1081. 1262.  721. 1090.  816.  954. 1222.  711. 1430.\n",
      " 2149.  934. 1120.  925. 1507. 1564. 1016.  858. 2064. 1039. 1026. 1042.\n",
      " 1410. 1076. 1248.  996.  997. 1358.  792. 1081. 1250.  948. 1074. 1160.\n",
      "  966. 1248.  913. 1086.  934. 1010. 1227. 1191.  957. 1677. 2601. 1897.\n",
      " 2095. 1143. 1340. 1561. 1074.  938. 1337.  874. 1071. 1223.  845. 5032.\n",
      " 3617. 1120. 1698.  942. 2240. 1908. 1111. 1105. 2010. 1033. 1459. 1100.\n",
      " 1224. 1063. 1705. 1511. 1667.  825. 1084. 1126. 1137. 2834.  814. 1177.\n",
      " 1190. 1196. 1178.  875. 1768. 1142. 1370.  940. 1149.  881. 1707. 1541.\n",
      " 1320. 1039. 1384. 1124.]\n",
      "12544\n",
      "going!\n",
      "going!\n",
      "total loss： [1360. 1421. 1602.  800. 1680. 2245. 1299. 1246. 1123. 1918. 1139. 1125.\n",
      " 1044. 1365. 1246. 1046. 1249. 1332.  874. 1018. 1214. 1125. 1715. 1111.\n",
      " 1048. 1290. 1704. 1466.  923. 1189. 1006. 1312. 2983. 1065. 3402. 1134.\n",
      " 1137. 1196. 1242. 1167. 1014. 1110. 1451. 1295. 1460.  857.  994. 2816.\n",
      "  988.  926. 1133. 2290. 1006. 1047. 1057. 1146. 1133. 1599. 1436. 1077.\n",
      " 1072.  915.  833. 1600. 1820. 1335.  994. 1046. 1405. 1361. 3016. 1126.\n",
      "  959. 4929. 1569.  983.  952. 1729. 1154. 2338. 1043. 1249. 1668. 1121.\n",
      " 1342. 1017. 1249. 1497. 2853.  868. 1308. 2244.  945. 1174. 1290. 1077.\n",
      " 1355.  892. 3361. 1018. 1005. 1216. 1493. 1014. 1113. 1242. 1092. 1498.\n",
      " 1320. 1103. 1025. 1491.  915.  817. 1179.  975. 1291. 1029. 1515. 2047.\n",
      " 1733. 1084. 1110. 2033. 1076. 1077. 1101. 1002. 1417. 1113. 1035.  899.\n",
      " 1869. 1653. 1629. 1165. 2119. 1758.  910.  957. 1118. 1158.  804. 1894.\n",
      " 1321. 1262. 2079. 2328. 1834.  693. 1878.  872. 1447. 1513. 1213. 1529.\n",
      " 1073.  662.  938. 1101. 1728. 1266. 1293. 4042. 1261.  765. 1486.  910.\n",
      " 1918. 1176. 1594. 1445. 1669. 2233.  929.  911. 1626. 1205. 1565. 1343.\n",
      "  847. 3875. 1464. 1264. 1229.  907. 1287. 1340. 1042. 1770.  700. 1095.\n",
      "  998. 2768. 2030. 1303. 1322. 1159. 1725. 1389. 1530. 1274.  981. 1680.\n",
      " 1143. 1334. 1266. 1568.  965. 1070.  922. 1305. 1503. 1272. 2107.  733.\n",
      "  753.  872.  981. 5108.  966.  847.  940. 1648. 1901. 1091.  848. 1217.\n",
      " 1370. 1206. 1400. 1064. 4872. 1490.  673. 1377. 1606. 1066.  847.  549.\n",
      "  835. 1412. 1696. 1207. 1249. 1109. 1029.  940. 1374. 1126. 1064.  990.\n",
      " 1219. 1707. 1126. 1130.]\n",
      "12800\n",
      "going!\n",
      "going!\n",
      "total loss： [1693. 1518. 1262. 1066.  892. 1724. 1584. 1040. 1629.  898. 1352. 1125.\n",
      " 1574. 2043. 1515. 1674. 1621. 1052. 3854. 1596. 1019. 1456. 1017. 1641.\n",
      " 1335. 1538. 1328. 1533. 3788. 2215. 1304.  714. 1010. 1299. 2030. 1495.\n",
      "  996. 2308. 2431. 1533. 1221. 1036. 1329. 1044. 1749. 1076. 1594. 1096.\n",
      " 1684. 1863. 1018. 1322.  970. 4528. 1577. 1374. 1218. 1284. 1914. 1064.\n",
      " 1897. 1381. 1201. 1906.  839. 1445.  939.  853.  872.  996. 1440. 1546.\n",
      " 1153. 1011. 1565. 3239.  946. 1692. 1133. 2168. 1644.  820. 2859.  947.\n",
      " 1069. 1155.  767.  913. 1071. 1152. 1013. 1064. 1560. 1340. 1400. 1511.\n",
      " 5057.  990. 2007. 1007. 1581. 1084.  633. 1268.  994. 1095.  839. 1357.\n",
      "  946.  907. 1434.  983. 1197. 1268.  921.  955. 1051.  837.  643. 1248.\n",
      "  991. 1064. 1227. 1760. 1209. 1415. 1160. 1386. 1332. 1449. 1208. 1733.\n",
      "  788.  836. 1109. 1236. 1759.  888. 1478. 1012. 1451. 1949. 3290. 1444.\n",
      " 2314.  778. 1243.  775. 1875. 1310.  925.  930.  967. 1276. 1009. 1600.\n",
      " 1933. 2066. 1576. 1192.  836.  893. 3479. 1327. 1001.  691.  952.  849.\n",
      " 1187.  860.  972.  900. 1103.  888. 2241. 1194. 1474. 1419.  977.  962.\n",
      " 1903. 1075. 1058.  994.  950. 1517. 1103.  971. 1589. 1143. 1228. 1052.\n",
      "  884. 1770. 1657. 1020.  949.  906. 1924. 1226. 1272.  865. 1451.  832.\n",
      " 1375. 1569. 2038. 3302. 1321. 1104. 2947. 1726. 1163. 4556.  728. 1126.\n",
      " 1153. 2947. 1099.  912. 4046.  946. 1527. 1139.  853. 1361.  888. 1237.\n",
      " 1443.  981. 2272. 1128. 1287.  609.  915.  925. 1360. 1017. 1117. 1320.\n",
      " 1111. 1078. 1378. 1220. 1155. 1301. 1307. 1345. 1246.  935. 1014. 1632.\n",
      " 2099. 1365.  768. 1375.]\n",
      "13056\n",
      "going!\n",
      "going!\n",
      "total loss： [1128. 4343. 3085.  812. 1947. 2473. 1421. 1099.  876. 1234.  951.  918.\n",
      "  831. 2050. 1048. 1679.  998. 1530.  773.  999. 1088.  887.  930. 1240.\n",
      " 2625. 1355. 3632. 1160.  825. 1279. 1539. 1912. 1344. 1202. 1454. 1133.\n",
      " 1243. 1166. 1424. 1027. 1176. 1456.  728. 1070. 1036. 1262. 1487. 1242.\n",
      "  869.  993.  911. 1490. 1083. 1394. 1386. 1108. 1170.  974. 1242.  749.\n",
      "  851. 1053. 2663.  903. 1229. 2077. 1151.  722.  932. 1209. 1217. 1015.\n",
      "  905. 1371.  816.  636.  987.  975.  991. 4098. 1158. 1367. 1317.  827.\n",
      "  877.  909. 1212. 1107.  960. 1022. 1608.  675.  846.  990. 2279.  892.\n",
      " 1130. 1241.  862. 2131.  922.  818. 2982. 1469.  923. 1268.  977.  882.\n",
      "  978.  913. 1175. 1538.  917. 1130. 2729. 1256. 1027. 1614. 1674. 1063.\n",
      " 1235.  908.  785.  823.  846. 1047. 1224. 1174. 1101. 1163. 1172. 1247.\n",
      "  763.  931.  948.  893.  876. 1217. 1362. 1512.  925. 1211. 1111.  980.\n",
      " 1059. 1278.  936. 1475.  958. 2537.  879. 1685. 1276.  926. 1441. 1505.\n",
      " 1000.  885.  872. 1270. 1134. 1009. 1287.  797. 1035. 1710. 1347. 1182.\n",
      " 1011. 1044. 1402. 1214. 1309.  975. 1696. 1072. 1121.  842. 1133.  838.\n",
      " 1762. 1149.  899. 1008. 1179.  698. 1300. 2588.  879.  753.  977. 1954.\n",
      " 1031.  964. 1030. 1294.  835.  950. 2326. 1208. 1116. 1323. 1246. 1063.\n",
      " 1462. 1415. 1400.  861. 1173. 1298. 1007. 1501. 1429. 1095.  923. 1040.\n",
      " 1297. 1269. 4157.  784. 2126. 1090. 1925. 1728. 1060. 1036. 1585. 1683.\n",
      " 1089. 1185. 1607.  981. 1331.  890. 1036.  793. 1460. 1059. 1710. 2081.\n",
      "  861.  804.  834. 1525. 1328. 1902.  916. 1092.  870. 1259.  964. 1027.\n",
      " 1111. 1070. 1328.  962.]\n",
      "13312\n",
      "going!\n",
      "going!\n",
      "total loss： [1995. 1969. 1232.  642. 1095. 1554. 1087. 4714.  816.  934. 1672. 1405.\n",
      " 1241. 1171. 1385. 1349.  533.  905. 1095. 1294. 1200.  821. 1119. 1106.\n",
      "  799. 1025. 1102.  907. 1366. 1866. 1655. 1362. 1054.  934. 1175. 1627.\n",
      " 2214.  811. 1013.  871. 1686.  977. 2030.  927. 1045.  833.  879.  842.\n",
      "  964. 1473. 1088.  874. 1211.  910.  905.  660.  780.  951.  682.  965.\n",
      " 2014. 1025.  734. 1626. 1035.  899. 1073. 1114. 1304.  667. 1036. 1680.\n",
      " 1626. 1440. 1088.  791. 1087. 1128. 1158.  850. 2398. 1019. 1355.  943.\n",
      "  933.  861. 1709. 1176. 1751. 1084. 1373. 2750.  924.  887. 1152. 1602.\n",
      " 3345.  924. 1771.  913. 1355. 1320. 1374. 1162. 1267.  830. 1444. 3897.\n",
      "  957. 1314. 1222. 1818. 1127. 1043.  959.  684. 2159.  867. 1592.  950.\n",
      " 1539.  993. 1950.  968.  904. 1020.  889.  871. 2764.  887. 1000.  882.\n",
      "  759. 2724.  737.  892. 1170.  901. 1270.  852.  682.  867.  842.  728.\n",
      "  967. 1385. 1021. 1559. 2123. 1343. 1392.  831.  969.  687. 1296. 1003.\n",
      "  886. 1135.  784. 1507. 1067. 1412. 1359.  976. 1300. 1517. 1171. 1824.\n",
      " 2504.  919. 1183. 1046. 1110.  760. 1130.  934.  895.  928. 1000. 1146.\n",
      "  916.  850. 1562.  829. 1698.  832. 1234. 2271.  725. 1859. 1131.  900.\n",
      " 3176.  957. 1344. 1053.  780. 1034. 1170.  622. 1060. 1058. 1735. 1067.\n",
      " 1189. 1003.  864. 1052. 2628. 1235. 1140.  415. 1036.  743.  993.  706.\n",
      " 1043.  768. 1100.  712.  733. 2979. 2253.  943. 1364.  829. 1186. 1996.\n",
      "  557.  773. 1088.  797. 1004. 1265. 1196.  753. 2125. 1164.  933. 1148.\n",
      " 1164. 2351.  695.  675.  931. 1146.  888. 1750.  996.  846. 1220.  859.\n",
      "  909.  997. 1965.  735.]\n",
      "13568\n"
     ]
    },
    {
     "name": "stdout",
     "output_type": "stream",
     "text": [
      "going!\n",
      "going!\n",
      "total loss： [ 917. 1555. 1944.  936. 1100. 1370. 1340. 1100. 1030. 4407. 1295. 1049.\n",
      " 1607.  897. 2327. 1857. 1040. 1280. 1246. 1177.  840. 1221.  924. 2186.\n",
      " 1421.  735. 1054. 1329. 1122. 1815. 1122.  736. 1305. 1083. 2093. 1772.\n",
      " 1394. 2541. 1155. 1175. 1056. 1033. 1099. 3537. 1095.  850. 1827. 1205.\n",
      "  959. 1125. 1253. 1413. 1984.  712. 2806. 1115.  758. 1188. 1293. 1500.\n",
      " 1235.  829. 1390.  873. 1130. 1060. 1146. 1618.  954. 1129.  807.  805.\n",
      " 2734. 1308. 1027.  738. 1283.  734. 1010.  924.  819. 1226.  875. 1141.\n",
      " 1109.  768.  865. 1431. 1039.  855.  962.  955. 2105. 1557. 1106.  760.\n",
      " 1231.  843. 1033. 1169. 1553. 2220. 1030. 1524. 2301.  916. 1093.  986.\n",
      " 1468. 1631. 1078. 1236. 2113. 1179.  834. 1086. 1039. 1861.  999.  767.\n",
      "  641. 1340. 1091.  909. 1110. 1751.  955. 1387.  932.  911. 1387. 1069.\n",
      " 1047. 1380.  992. 1335. 1726. 1110. 5204. 1712. 1675.  876. 1573. 1657.\n",
      " 1378. 1158. 1473.  852. 1406.  889. 1181. 1953.  947. 1526. 5664. 1453.\n",
      " 2579. 1039. 1320. 1078.  788. 1537. 1269.  821. 1019.  978.  854. 1113.\n",
      " 1069.  806.  964.  816. 1259. 3281. 1026. 1173.  789. 1279.  877. 1237.\n",
      " 3015. 1562.  867. 1219. 1217. 1917. 1091. 1356.  806.  775. 1397. 2014.\n",
      " 1444.  902. 1199. 1417. 1096. 2117.  913. 1231.  957. 1260. 1265. 1251.\n",
      " 1091.  793.  828.  860. 1331. 1223.  931. 1231. 1301.  836. 1329. 1228.\n",
      " 1047. 1411. 2086.  974. 2088. 1704.  754.  753. 1324. 1550. 1097. 1826.\n",
      "  984. 1521. 1238. 1249.  982. 1755. 2678. 1920. 1244. 1345.  878. 2236.\n",
      " 1080. 1012. 4561. 4170. 1744. 1291. 1348. 2195. 1287. 2361. 1096. 1215.\n",
      "  911.  907. 1219. 1039.]\n",
      "13824\n",
      "going!\n",
      "going!\n",
      "total loss： [1178. 1757. 1464. 1367. 1563. 1521. 1229. 1576. 1345.  679. 1070. 1356.\n",
      "  832. 1234. 2513. 2038. 1514. 1114. 1311. 2741. 1221. 1443. 1188. 1365.\n",
      " 2070. 1159. 1512. 1567.  980.  978.  793. 1176. 1223. 1919.  930. 1147.\n",
      " 7462. 1231. 1322. 2264.  845. 1258. 1997. 1178. 1108. 1164. 1438. 1401.\n",
      "  947. 1839. 1893.  894. 2348. 1180. 2052. 1057. 1177.  876.  690. 1499.\n",
      "  927. 1078. 1801. 1157.  732. 1849. 1863. 1238. 1858.  879. 1996. 1356.\n",
      " 1212. 1410. 1717. 1196. 1006. 1235. 1624. 1101. 1394. 1505. 1155. 1452.\n",
      " 1511. 1115. 1504. 1209.  795.  933. 1330.  962. 1023. 1135. 1415. 1363.\n",
      " 1932. 1333. 2470. 1079. 1418. 1470. 1272. 1002. 1674.  969. 1430. 1155.\n",
      " 1260. 1100. 1724. 1038. 1292. 2123. 1609. 1143. 1252. 1277. 1163. 1281.\n",
      " 3394. 1551. 1211. 1331. 1187. 1852. 1965. 1215. 1313. 1132. 1400.  816.\n",
      " 1287. 1119.  583. 1324. 1183. 2643. 1129. 1642.  982. 1211. 1543. 1698.\n",
      " 4946. 1269. 1133. 1243. 1381. 1392.  936. 1117. 1203. 1195. 2062. 1106.\n",
      " 1118. 1372. 1296. 1878. 1253. 1207. 1380. 1416. 1501. 1370. 1154. 1652.\n",
      " 1327. 1089. 1116. 1664.  813. 1345. 3075. 1368. 1477.  958. 1363. 1556.\n",
      " 1885.  941. 1415.  932. 4208. 1718. 1147. 1612. 4505. 1320. 1190. 1707.\n",
      " 1624. 1110.  821. 1709. 2223. 1367. 1265. 1444. 1194. 3083. 1857. 1849.\n",
      " 1063.  991.  873. 1176. 1122. 1622. 1253.  965. 1227. 1535. 1037. 1527.\n",
      " 2022. 1291. 1489.  921.  913. 1150. 1092. 1577. 1225. 1772. 1188. 1986.\n",
      "  686. 1828. 1947. 1442. 1010. 1146. 1212. 1585.  894.  903.  874. 1269.\n",
      " 1629. 1068. 1314. 1666. 1068. 1119. 1202. 2245. 1428. 1785. 1184. 1628.\n",
      " 1168.  906. 1070. 2243.]\n",
      "14080\n",
      "going!\n",
      "going!\n",
      "total loss： [3266.  960.  548. 1395. 1903. 1334. 1030. 1016. 1313. 1048. 1420. 1295.\n",
      " 1176.  893. 2782.  999. 1155.  839. 1118. 1184. 1371. 1806. 1148. 1218.\n",
      " 1025. 1336. 1741. 1407. 1776. 1007. 1246. 1666. 1664. 1029. 1007.  757.\n",
      " 1301.  741.  948.  680. 1046. 1175.  905. 1028. 1408. 1269.  817. 1789.\n",
      " 1009. 1252.  920. 1161. 1128. 1027. 1944. 2023.  923.  914. 1292. 1194.\n",
      "  884. 1122. 1024. 3120.  700.  826. 1692.  886. 1312. 1243. 1160. 1844.\n",
      "  794. 1247. 2214. 1047.  726.  744. 1192. 1072. 1667. 1184.  950. 1289.\n",
      " 1102. 1158.  996.  839. 1258. 1054.  878. 1089.  889. 1463. 1172. 1450.\n",
      " 1009. 1014. 1201. 1296. 1425. 1210.  823.  994. 1115. 1284. 3086. 1067.\n",
      " 1245. 1471. 1154. 1397. 1417.  992. 1427. 1831. 1323. 1759.  978. 1355.\n",
      " 1378. 1473.  868. 1801. 1154. 1999. 1138. 1411. 1702. 1032. 1649.  944.\n",
      " 1148. 1049. 3065. 1778. 1188.  990. 1904. 1085. 1312.  938. 1061. 4268.\n",
      " 1896. 1040.  801. 1343.  936. 1206. 1128. 1570. 1691. 1296. 1357.  950.\n",
      " 1082.  882. 1535. 1578. 1513. 2747. 1511. 1411. 1638.  920.  905. 2776.\n",
      "  928. 2168.  901.  844. 1046. 1161. 1335. 1996. 1269. 1251. 4921. 1275.\n",
      "  987. 2265.  787. 1083. 1175. 1383. 1036. 1256. 1254. 1178. 1291. 1053.\n",
      " 1212. 1213. 1156. 1238. 2069.  730.  942. 1357. 3337. 1470. 1201. 1413.\n",
      " 1787. 1342.  989. 1500.  998. 1284. 1129.  882. 4806. 1404.  801. 1191.\n",
      " 1132. 1700. 1037.  889. 1052. 1472.  965. 2102.  876.  945.  999. 1275.\n",
      " 1197. 1110. 1101. 1196.  864. 1168.  979. 1256. 1216.  702. 1203. 1145.\n",
      " 1064. 1813. 1253. 1494. 1465.  966. 2953. 1155. 1330. 1113. 3351. 1151.\n",
      "  722.  924.  933.  954.]\n",
      "14336\n",
      "going!\n",
      "going!\n",
      "total loss： [1525.  899. 1338. 1122. 1118.  932.  933. 1140. 1107. 2155. 1146. 1703.\n",
      " 1006. 1650. 1266. 1588. 1499.  826. 1184. 2281.  952. 1251.  802. 1554.\n",
      " 1118.  787. 1444. 1147. 1057.  888. 3240. 1246. 1920. 1766. 1283. 1134.\n",
      " 1066. 1337. 1131.  898. 1270. 1241.  674. 2578. 1405.  972. 1313.  899.\n",
      " 1326.  985.  973. 1172. 1038. 1727. 1132. 1109.  966. 1056. 1269. 1216.\n",
      " 1076. 1314. 3002. 1077. 1156.  829.  941. 1009.  751. 1100. 2249. 1258.\n",
      " 1142. 1444. 2361. 1056. 1112. 1128.  916. 1270. 1131. 1157. 1350. 1083.\n",
      "  692.  860. 1295. 2339.  823. 1545. 1656. 1229. 1834.  932.  504. 1122.\n",
      " 1104. 1522. 1014.  909. 1248. 2092. 1809. 1061. 1441. 1348. 1475.  903.\n",
      " 1608. 2149. 1158.  994. 2764. 1865.  741. 1159. 1087. 1094. 1480. 2972.\n",
      " 1301. 1280. 1291. 1507.  701. 1753. 1474. 3597.  961. 1115. 2119.  955.\n",
      "  921.  969. 1193. 1229.  944. 2876. 1267. 1287.  913. 1584. 1759.  822.\n",
      " 1283. 1026. 1127.  895.  779. 1764. 1300. 1424.  661. 1072. 1842.  823.\n",
      " 1086. 1277.  729. 1627.  893. 1330. 1037. 1241.  981. 1502. 2773.  880.\n",
      " 1985. 2153. 1474. 1082. 1022.  989.  999.  813. 1114. 1367. 1732. 1451.\n",
      " 1119. 1065.  915. 1236. 1550.  927.  887. 2571. 1141. 1450. 1224. 1092.\n",
      " 1307. 1131. 1162. 1375.  899. 1507. 1559. 1476. 1308. 1267. 2677. 1534.\n",
      " 1796. 2524. 1176. 2039. 1301. 1089. 2751. 1835. 1260. 1436. 1239.  913.\n",
      "  713. 1136. 1084. 3136. 2423. 1516. 1736. 1172.  958.  897. 1236. 1024.\n",
      " 1286. 1484. 2230. 1012. 1061. 1041. 2478. 1033. 1177. 1307. 1351. 1103.\n",
      " 1382. 1000. 1031. 1652. 1204. 1746. 1284.  957. 1045. 1487. 1256. 1184.\n",
      " 1235. 1079. 1751. 1196.]\n",
      "14592\n",
      "going!\n",
      "going!\n",
      "total loss： [ 990. 2428.  937. 1346. 1082. 1080. 1738.  741. 2180. 1192. 1597. 1064.\n",
      "  765. 1426.  922.  821. 1384. 1503. 1498. 1716.  878. 3008. 1124.  930.\n",
      "  838. 1011. 1591. 1685. 2643. 1648. 3074. 1489.  903. 1179. 1472. 1858.\n",
      " 1184. 1683. 1262. 1378. 1028.  901.  945. 1642.  955.  901. 1077. 1122.\n",
      " 1101. 1231.  824. 1084. 1144. 1016.  938. 1194. 1034. 1909. 1223.  962.\n",
      " 2185. 1077. 1010.  810. 1619. 1502. 1144. 1830. 1788. 1192.  962.  890.\n",
      "  928. 1034. 1241. 1246. 1124. 1510. 1506. 1010. 1252. 1192. 1129. 1066.\n",
      " 1399.  984. 1178.  921.  937.  834. 1243.  879. 1527. 1159. 3253. 1482.\n",
      " 1251. 1198. 1104.  926. 2030. 1356.  952. 1494. 1146. 1157.  499. 1192.\n",
      "  910. 1350.  752. 1163. 1166. 1348. 1226. 2570. 1119. 2501. 2557.  942.\n",
      " 2377. 1113.  933. 1302. 1195. 1236. 1154. 1228. 1237. 1406. 1463.  853.\n",
      " 1192. 1180.  904. 1002.  936.  999. 1112. 1087. 1257. 2298.  734.  798.\n",
      "  954. 1263. 1786.  980. 2146. 1507. 1183. 1190.  893. 1140. 2501. 1651.\n",
      " 1032. 1431.  825. 1003. 1169. 1506. 1008. 1120.  730. 1134. 1239.  940.\n",
      " 2544.  983. 2475.  875. 1085.  868.  956. 1298. 1114.  976.  752.  904.\n",
      " 1107.  943. 1377.  846. 1191. 1338.  794. 1338. 3803.  831. 1303.  810.\n",
      " 1409.  998. 1252. 1358.  962.  794. 1918. 2163. 1800.  937. 1659. 2289.\n",
      " 1718. 1134. 1053. 1133.  958. 1313. 1611. 1146. 1331. 1096. 1218.  941.\n",
      " 1183. 1120.  963. 1450. 1192. 1432. 1036. 1146. 1151. 1196. 2063. 1363.\n",
      "  735. 1189. 1253. 1556. 1280. 1936. 2500. 1417. 2324. 3299. 1659. 1183.\n",
      "  932. 1270. 1564. 1870.  879. 1382. 1695. 1250. 1027. 1585. 2595. 1236.\n",
      " 1852.  981. 1153. 1232.]\n",
      "14848\n",
      "going!\n",
      "going!\n",
      "total loss： [1018.  917. 1000.  757. 1533.  879.  988.  916. 1360.  800.  977.  851.\n",
      " 1594.  688.  955.  994.  881.  829. 2467.  842.  991.  740. 1148.  965.\n",
      "  824. 1003.  679. 1176. 1325. 1451. 1260.  888. 1159. 1237.  994.  909.\n",
      " 1452.  739. 1099. 1092.  695. 1375. 1113.  986. 1874. 1015. 1248. 1482.\n",
      " 1267. 2447.  783. 1001.  953. 1059. 1176. 1255. 1623.  982.  943. 1692.\n",
      " 2679.  599. 1052. 1061. 1040.  891. 1073. 1372.  991. 1088. 1590. 1071.\n",
      "  750.  995.  923. 1030. 1077. 1625.  990.  874. 2544.  987.  914. 1383.\n",
      " 1643.  879. 1027. 3393. 1498. 1132. 1087. 1398.  898. 1073.  699. 1408.\n",
      "  925. 1386. 2447. 1048.  783. 1050.  945. 1081. 1116.  981. 1064.  848.\n",
      " 1448. 4168.  865.  809. 1098. 1145.  933. 1486. 2097.  996.  959.  817.\n",
      " 1418.  690.  763. 1281.  981. 1062.  701. 1136. 4588. 1745.  989.  856.\n",
      " 1187.  835.  967. 1074. 1014.  974.  989. 1919. 1170.  732.  993. 1659.\n",
      " 1110. 1159. 2346. 1217. 1098.  942.  788. 1162. 1526. 1871. 1697.  888.\n",
      " 1492.  963.  923. 1444.  923. 1117. 1639. 1411.  929.  897. 1020. 1818.\n",
      "  986.  735.  874. 1077. 1343.  964. 1326. 1209. 2172. 2254.  946.  995.\n",
      " 1369. 1370. 1360. 1951. 1426. 1658. 1346.  952.  851. 1217. 1384. 1048.\n",
      " 2092.  902.  558.  762. 1148. 4379.  776.  928. 1059. 1813.  916.  799.\n",
      " 1437. 1038. 1147.  825. 1038. 1856. 1013. 1148. 2260. 1806.  826. 2374.\n",
      "  900.  981.  930. 1679. 1535. 1184. 1126. 1051. 1255. 1566. 1062. 1054.\n",
      "  840.  685.  754.  903.  785. 1785.  786.  774. 1175.  952.  865.  897.\n",
      "  762. 1162.  844. 1338. 1005. 1057.  801.  941. 1317. 1324. 1034. 1062.\n",
      "  825. 1835. 1285. 1423.]\n",
      "15104\n"
     ]
    },
    {
     "name": "stdout",
     "output_type": "stream",
     "text": [
      "going!\n",
      "going!\n",
      "total loss： [1000. 1098. 2205.  946. 1184.  881. 1050. 1349. 1204. 1420. 1113. 1547.\n",
      " 1193.  920. 1170. 1567. 1483. 1063.  985. 1892. 1429. 1707. 1337. 1216.\n",
      " 1496. 1138. 1195.  835.  965. 1103.  756. 1715. 1034. 1474. 2157. 1169.\n",
      " 3042. 1045. 1706. 1834. 1655.  954. 1200. 1073. 1528. 1947. 3085. 1229.\n",
      " 2274. 3000.  984. 2225. 1186. 1216. 1304. 1081. 1079. 1240. 1643. 1091.\n",
      " 1513.  984. 2723.  837. 1326. 1355.  921. 1372. 1422. 1342. 1981. 1242.\n",
      " 1208. 1743. 1143. 1455.  821. 1672.  711. 1026. 1395. 1579. 1784. 1544.\n",
      " 1630. 1471. 1428. 1048. 1673. 1089. 1603. 1321. 1104. 1139.  718. 1593.\n",
      " 1805. 1318. 1558. 1089. 1433. 1149. 1369.  911. 1111. 1209. 4159. 1270.\n",
      " 1983. 1167. 1731. 1385. 1258. 1225. 1776. 5441. 1544. 1112. 1152. 1713.\n",
      " 1967. 1102. 1259. 1552. 1646. 1252. 1002. 1379. 1013. 1293. 1168. 1870.\n",
      " 1252. 1976.  797. 1036.  930. 1081. 1568. 1297. 1251.  813. 1601. 1956.\n",
      " 1113.  984. 1206. 1107. 1301. 3467.  989. 1759.  887. 1243.  921. 1544.\n",
      "  784.  916. 1537.  737.  941. 1176. 1257. 1936. 1145.  762. 1262. 1183.\n",
      " 1287. 1256. 1066. 1650.  703.  591. 2727. 1201.  985.  946.  910. 1747.\n",
      " 1158. 1226. 1095. 1091. 1283.  956. 1705.  982. 1955.  837. 1076. 1418.\n",
      " 1875.  938. 1009.  845. 1001. 1131.  950. 1914. 1215. 3097. 1519.  920.\n",
      " 1359. 1348. 1153. 1335. 1268. 1981. 1094. 1306. 1125. 1694.  991.  869.\n",
      " 1541. 1692. 1235.  972. 1357.  943. 1030. 1225. 1880. 1740.  922. 1169.\n",
      "  958. 3465. 1260. 1171. 1326.  963. 1390.  742. 2868.  939. 1020. 1282.\n",
      "  858. 1675. 1217. 1696. 1171. 1272. 1365. 1420. 1046. 1476.  945.  907.\n",
      " 1134. 1213. 1133. 3823.]\n",
      "15360\n",
      "going!\n",
      "going!\n",
      "total loss： [1139. 2593. 1434.  885. 1313.  967. 2414. 1482. 1552. 2165. 1408. 2960.\n",
      "  943. 1701. 1545.  955. 3768.  903.  923. 1257. 1054. 5245. 1040.  690.\n",
      "  959. 1192. 1087. 1275. 1139.  916. 1051. 1227. 1208.  882.  739. 1052.\n",
      " 1086. 1189. 1383. 1293. 3800.  895. 3015. 1201. 1548. 1259.  937. 1518.\n",
      " 1451. 1464.  864. 1068. 1200. 1028. 1677. 1020. 1238. 1101. 1206. 1257.\n",
      " 1985. 1624.  913. 1656.  867. 1343. 1449. 1065.  842. 1382. 1140. 1191.\n",
      "  948. 1043. 2441. 1363.  821. 1320. 1803. 2205. 1909. 1228. 1497.  907.\n",
      " 1000. 1220. 1053. 1015. 1318. 1832. 1016. 1238. 2565. 1281. 2185.  806.\n",
      " 1329. 1539. 1591. 1559. 1634. 2351.  827.  963. 1132.  884. 1274.  616.\n",
      " 1171. 1018.  980. 1201.  969. 2071. 1048.  838. 1304. 2136. 1213. 1476.\n",
      " 1040.  985. 1663. 2967.  909.  915. 1177. 1078. 1462. 1096.  773. 1379.\n",
      " 2550. 1355. 1178. 2093. 1176. 1710. 1157. 1644. 1010. 1186. 1116. 1043.\n",
      "  632. 1492.  628.  819.  846. 1395.  812. 1001.  886. 2575. 1118.  982.\n",
      "  967.  723. 1066. 1478.  931. 2036.  933. 1190. 2938.  605. 1471. 1077.\n",
      "  937. 1202. 1345. 1441. 1029. 1206. 1093. 1018. 1149. 1313. 1170. 1014.\n",
      " 1069. 1054. 1548.  734.  808. 1257.  968. 1125.  834.  958. 1036.  930.\n",
      " 1276.  841. 1448. 1236. 1263. 1075. 1317.  703. 1244. 1321. 1097. 1343.\n",
      " 1086. 1325. 1322. 1749. 1391. 1738.  858. 1192. 1077. 1267. 4085. 1022.\n",
      " 1023. 1103. 1816. 1102. 2054. 1626. 1600. 2874. 2944. 1343. 1032. 1220.\n",
      " 1847.  900. 1059.  872.  932. 2596. 1343. 1110. 1584. 1570. 1268.  998.\n",
      " 1782. 1067. 1272. 1173. 1199. 1239. 1281. 2171. 1021. 2310. 1179.  999.\n",
      " 1366. 1867.  892. 1124.]\n",
      "15616\n",
      "going!\n",
      "going!\n",
      "total loss： [1375. 1426.  836.  790.  836.  866.  960. 1112.  887. 1121. 1085. 1460.\n",
      " 1437. 1097.  752. 1051. 1010.  874. 1486. 1225. 1591. 1354.  896.  661.\n",
      "  911. 1438. 1341. 1317.  770. 1075. 1941.  730. 1042. 2658. 1463.  875.\n",
      "  898.  646.  917.  766.  955. 1695. 1385. 1059. 1264. 1117. 1424. 1446.\n",
      " 1130.  871. 1497.  813. 1366. 2460. 1092.  816. 3365. 3157. 1572.  798.\n",
      "  996. 2151. 1343. 1793. 1676. 1171. 1102. 5935. 1666. 1084. 1557. 1383.\n",
      " 2799. 6648. 1021.  884. 1210. 1123. 1077.  983. 1870. 1135. 1228. 1055.\n",
      " 1377. 1366. 1337.  930. 1194. 1179. 1676. 1693.  882. 1071. 1154. 1058.\n",
      " 1176. 1137. 1283. 3609. 1229.  908. 1016. 1016. 1130. 1103. 1578. 1051.\n",
      " 1152. 1031. 1491. 1349. 1376.  949. 1598.  825. 1606. 1330. 1105. 1372.\n",
      " 1570. 2049. 1987. 2477. 1562. 2154. 1384. 1064. 1099. 1277. 1481. 1671.\n",
      " 1283. 1135. 1191. 1139. 1936. 1453. 1064.  940. 1336. 1040. 1040.  943.\n",
      "  990. 1176. 2850. 1333. 1098. 1178. 1495. 1300. 1222. 1101. 1722. 1056.\n",
      " 1370. 1032. 1256. 1604. 1172. 1831. 1115.  722. 1206. 1002.  913. 1173.\n",
      " 1013. 1110. 1114. 4374. 1278. 1121. 1201. 1134.  847. 2563. 2541. 1413.\n",
      " 1140. 1845. 1116.  964. 1330. 1363.  941. 1609. 1332. 1072.  960. 1163.\n",
      "  918. 1297.  838. 7821.  623.  997. 1157. 1014. 1352.  962.  931. 1986.\n",
      " 1204. 1651. 4668. 1195.  951.  888.  962.  933. 1077. 1041. 1096. 1080.\n",
      " 1696. 1607. 2164. 1242. 1014. 1340. 1786. 1031. 1516.  703. 1757.  962.\n",
      " 1056. 1420.  884. 1596. 1210. 1082. 3002. 1345. 1043.  862. 1178. 1139.\n",
      " 1117. 1083. 1077. 1165.  985.  903. 1425. 1556.  777. 1114. 1299. 1428.\n",
      "  899. 1199. 1113. 1408.]\n",
      "15872\n",
      "going!\n",
      "going!\n",
      "total loss： [1018. 1210. 1959. 1060. 1042.  696.  895.  980.  986. 1044.  937.  963.\n",
      "  840. 1329. 1038. 1140. 1055. 1452. 1037.  963.  962. 4149.  876. 1776.\n",
      " 1893.  965.  790.  694. 1124.  938. 1852.  954. 1243. 1182.  933. 1235.\n",
      "  936. 2280.  995. 1093.  972.  918.  777.  791.  676. 1497. 1213. 1350.\n",
      " 1150.  798. 1322. 1561.  960.  688.  699.  948. 1372. 1094.  980.  935.\n",
      " 1022. 1088.  852.  776. 1130. 1325.  863. 1011. 1217.  821. 1215. 1032.\n",
      " 2285. 1819. 1167.  976. 1827.  754. 1855. 1134. 1125. 2985. 1477. 1669.\n",
      " 1423.  750. 1615. 1690.  781. 1189. 1967. 1845.  809. 1189. 1191. 3195.\n",
      "  859.  991. 1050. 2181. 1137.  709. 1185. 1341. 1306.  937. 1174. 1160.\n",
      " 2971.  797. 1418. 1131. 1282. 1851. 1230. 1486. 1206. 1201. 1885. 1553.\n",
      " 1312. 1095. 1975. 1133. 1198. 1373. 1339. 1063. 1418.  732.  800. 1526.\n",
      " 1051. 1247. 1061. 1206. 1447. 1509.  835. 1157. 3013. 1034. 1797. 1061.\n",
      " 1174.  979.  497. 1365. 1051. 1122. 1458. 1148. 1482. 1467. 1315. 1063.\n",
      "  835.  978. 1952. 4184.  833. 1232. 1169. 1115. 1222. 1208. 1171. 1095.\n",
      "  844.  971. 1316.  861. 1819. 1039. 1395. 1074.  824. 1490. 1003. 1215.\n",
      " 2058. 1157.  615. 2411.  979. 1283.  974. 1822. 1024. 1558. 1268. 2573.\n",
      " 1361. 1613. 2001.  886. 1564. 1249.  927. 1248. 1023.  837. 1395. 1260.\n",
      "  778. 2072. 2092. 1465.  941.  926.  963. 1314.  830.  841. 1110.  960.\n",
      " 2836. 1174. 1333. 1228. 1060. 1664. 2204. 1297. 1123. 5089.  736. 1380.\n",
      " 1670. 1296. 1042. 1341.  854. 1532. 1285. 1902. 1864. 1214. 1364. 2089.\n",
      "  889. 1353. 1487. 1107. 1121. 1439. 1347. 1097. 1014. 3966.  852. 1105.\n",
      " 1002. 1044. 2134. 1002.]\n",
      "16128\n",
      "going!\n",
      "going!\n",
      "total loss： [ 808. 1313. 1423. 1044. 2660.  950.  865. 1274.  839. 1209. 1249. 1245.\n",
      " 1041.  941. 1233. 1450.  778. 1108. 1683.  836.  899. 1011. 1224.  924.\n",
      " 1266.  871. 2459. 1116.  851. 1770. 3454. 1283.  902. 2108. 1078. 1461.\n",
      " 2608.  866. 1185. 2003. 1191. 2114. 1401. 1089. 2600. 1573. 1411. 1081.\n",
      " 1247. 1064. 1167.  960.  940. 2099. 1164. 1095.  856.  872. 1134.  972.\n",
      " 1586.  847.  873.  954.  921. 1313. 1350. 1395.  677. 1869. 1605.  970.\n",
      "  681.  905. 1216. 3342. 1306. 2148. 1497. 1361. 1437.  947.  940. 1296.\n",
      " 1015. 1298.  915. 2169. 8020.  947. 2180. 1257. 2552. 1578.  855. 1355.\n",
      " 1129. 6845. 1981.  897. 1443. 1339. 1397. 1320.  820. 2043. 1348. 1368.\n",
      "  962.  885. 1034. 1488. 1447. 1319.  912. 1036.  766.  906. 1385. 1028.\n",
      "  902. 1451. 1397. 1099. 1168. 1423. 1208. 1288. 1110.  956.  704. 1149.\n",
      " 1381.  761.  960. 1037. 1258. 1498. 1087. 1279. 1175. 1537. 1618.  998.\n",
      " 1237. 1088. 1047. 1011. 7320.  641. 1572.  942. 1002. 1331. 1096. 1256.\n",
      "  924. 1229. 2062. 1664. 2211.  752.  983. 2821. 1390. 1007. 1272. 1483.\n",
      " 1051.  616. 1140. 1251. 3260. 1042. 1190. 1402. 1118. 1967. 1316. 1080.\n",
      " 1001. 1012. 1277. 1141. 1142. 1314. 1571. 3037. 1517. 1022. 1291. 1074.\n",
      " 1216. 1254.  961. 1183.  843.  881.  926.  877. 1062. 1169. 1184. 1175.\n",
      " 1513. 1181. 1061. 1133.  951. 2742. 2303. 2142. 1222. 2123. 1093. 1221.\n",
      " 1270. 2340. 1074. 1041. 1723. 1589. 1004. 1448. 1071. 2289. 1165. 1171.\n",
      " 1084. 1067. 2933. 1022. 1392. 2012.  989. 1717.  912. 1300. 1388. 1201.\n",
      "  982. 1028.  839.  715.  922. 1100.  999. 1050. 1248. 1538. 1093. 2784.\n",
      " 1679. 1158. 1152. 1080.]\n",
      "16384\n",
      "going!\n",
      "going!\n",
      "total loss： [4388. 1393.  849. 5490. 2752. 1188. 1228. 2239.  996. 1851. 1181. 1017.\n",
      " 1525.  942. 1782. 1146. 4727.  875.  979. 1048.  997. 1559. 1078. 1930.\n",
      " 1210. 1618. 1318. 1006. 1201. 1699. 1234. 1294.  930. 1341. 1352. 1274.\n",
      " 1588.  998. 1340. 1364. 1252. 1395. 1785. 1410. 2342.  936.  847.  712.\n",
      " 1808. 1352. 4633. 1066. 1691. 1313. 1213. 1697. 1027.  975. 1387. 1157.\n",
      " 1494. 1149. 1246. 1033.  914.  933. 1413. 1303. 1507. 1173. 1173. 1202.\n",
      " 2100. 1039. 2827. 1019.  930. 1837. 1256.  609. 1029. 2539. 1589. 1285.\n",
      " 1755.  709.  879. 1093.  995. 1050. 1308.  785. 3482. 1678.  982. 1611.\n",
      "  752. 1035. 1797. 1181. 1027. 1343. 1916. 1608. 1921. 1682. 1176. 1187.\n",
      " 1109. 2025. 1086. 1019.  968.  989. 1071. 1866. 1419. 1068. 1153.  828.\n",
      "  958. 1110.  903.  940. 1410. 1325.  670. 2729. 1725. 2585. 1390. 2109.\n",
      "  817. 1231. 1537. 1172. 1117. 1341. 1321.  897. 1526. 1457. 1002. 1246.\n",
      " 1210. 1643. 1462.  848. 2933. 1757. 2374. 1603. 1206. 1272. 1190. 1168.\n",
      " 1434. 1508. 1594. 1409. 2029. 1214. 1171. 1875. 2786. 1005. 1012. 1181.\n",
      "  772.  975. 1131. 1402. 1737. 1344. 1238. 4362. 1024. 1486. 1054.  821.\n",
      " 1517. 1536.  900. 1144. 1425. 1522. 1553. 1166. 1495.  981. 1218. 1774.\n",
      "  690. 1194. 1382. 1130. 1254.  822.  947.  889.  727. 1103. 1174. 1447.\n",
      " 1337. 1406. 1757. 1092. 1579. 1301. 1067. 1094.  916.  602.  955. 1123.\n",
      "  826. 1599.  908. 1179.  776. 1067. 1175. 3641.  929. 1294.  960.  959.\n",
      " 1428.  750. 1501.  808. 1607. 1122. 2805.  939. 1448. 1329.  894. 3980.\n",
      " 2582. 1114. 1423. 1401.  933. 1596. 2973. 2634. 1185.  904. 2258. 1124.\n",
      " 1062.  670. 1036. 2176.]\n"
     ]
    },
    {
     "name": "stdout",
     "output_type": "stream",
     "text": [
      "16640\n",
      "going!\n",
      "going!\n",
      "total loss： [1258.  740. 2259.  895. 1151. 1176. 1016. 1099. 1744. 1069.  961.  799.\n",
      " 1040. 1320. 1021. 1519. 1283. 1240.  967. 1682. 1698. 1050. 1817.  952.\n",
      " 1099.  940.  928. 2781.  880.  942. 1055.  969.  816. 1126. 1014. 1786.\n",
      " 1029. 1186. 1280. 1201. 1109.  632.  915. 1152. 1248. 1532. 1211. 2252.\n",
      " 1862. 2610. 1303.  909. 1339. 1033. 1414.  671. 2002.  851. 1087. 1098.\n",
      " 1083. 1395. 1845. 2085. 1249.  944. 1002. 1043. 1174. 1178. 1034.  835.\n",
      " 1806. 1698. 1091.  845. 1185. 1308. 2148. 2433. 1429. 1253. 1362. 1806.\n",
      "  926. 1415. 1291.  755. 1025. 1094. 1552. 1018. 1357. 1913. 2367. 1045.\n",
      "  945. 1198. 1589. 1187. 1434. 1349.  788. 1441. 1101.  980. 1171.  981.\n",
      " 1139. 1069. 1464. 2640. 1137. 1041. 1428.  960. 1019. 1348. 1189. 1661.\n",
      "  937.  957. 1297. 1069.  900. 1120. 1404. 1199.  896. 1780.  999. 1261.\n",
      " 1110. 2989. 1127. 1017.  817.  940.  964. 1144. 1423.  977. 1410. 1014.\n",
      "  924. 2142.  972. 1123.  927. 1991. 1016. 1264. 1169.  944.  745. 1431.\n",
      "  949. 1455.  989. 2778. 1597. 1045. 1278. 1344. 1118.  743. 1355. 1151.\n",
      " 1340.  984.  527. 1279. 1792.  952. 1197.  936. 1149.  867.  979.  841.\n",
      " 1249. 1195. 1698. 2461. 1410.  743.  872. 1082. 1122. 3040. 1218. 1493.\n",
      " 1334. 1236. 1878. 1150. 1767. 1023. 1563. 1690. 1125. 1649. 1175.  724.\n",
      " 2268.  909. 1067. 1894. 1996. 1606.  936.  775. 1064.  803. 1136. 1505.\n",
      " 1337. 1628. 1537. 1031. 1144. 2146. 1428. 1043. 2782. 2119. 1467. 1199.\n",
      " 1479. 1110. 1640. 1245. 1606. 1572. 1218. 1359. 1593. 1112.  970. 1564.\n",
      " 1255. 1846. 2914.  887. 1045. 2033. 1345. 1752. 1372. 1227. 1242. 1330.\n",
      " 1421. 1269. 2776.  935.]\n",
      "16896\n",
      "going!\n",
      "going!\n",
      "total loss： [2378. 1418.  882. 1103. 1298. 1295. 1060. 1352.  881. 1325.  800.  847.\n",
      " 1184. 1350. 1094.  805. 1433. 1270.  965. 1368. 1126. 1810.  808. 1063.\n",
      " 3380. 1246. 1331.  951. 1115.  922. 1109. 1203.  715.  875. 1744. 1050.\n",
      " 1382.  864. 3159. 1004. 1131. 1106. 1051.  842. 1289. 1134.  870. 1095.\n",
      " 1009. 1743.  827.  800.  856. 1170. 2428. 1298. 1485. 1302. 1189. 1367.\n",
      " 1239. 1079. 1111. 1062. 1806. 1005.  935. 1021.  799. 1644. 1476. 1254.\n",
      "  934. 1071. 1082.  695.  944.  967. 1637. 2207.  993. 1041. 1663.  839.\n",
      " 1265.  952. 1118.  666.  910. 1654. 1470.  904. 1097. 1163. 1262. 1243.\n",
      " 1130. 1060. 1044. 1311.  841. 1121. 1783. 1783. 1833. 1219.  784.  880.\n",
      " 1316. 2800. 1198. 1369. 1009. 1047.  957. 3702.  902. 1812. 1077. 1204.\n",
      " 1213.  835. 1428. 1047. 1684. 1436. 1149. 1065. 1058.  997.  899. 1355.\n",
      " 1591. 1274.  982.  634. 2227. 2437. 1121.  910. 1501. 1014.  922.  941.\n",
      " 1101. 1138. 2037. 1378. 1334. 2304. 2377.  998. 1072. 1026. 1131.  863.\n",
      " 1203.  614. 1068. 1304.  907.  918.  868.  934.  925.  837. 1015.  992.\n",
      " 1160. 1401. 1114.  718.  995.  929. 1061. 1067.  964. 1730.  798.  913.\n",
      " 4391. 1558.  994.  683.  900. 1070.  891. 1706.  839. 1047. 1136. 1192.\n",
      "  996.  979. 1132. 1438. 1760. 1059.  961. 1139.  865. 1153. 1252.  981.\n",
      " 1016. 2687. 1130.  767.  896.  794. 1386.  877. 1047.  962. 1064. 1114.\n",
      " 2199. 1320. 1716. 1440.  884.  975. 1031. 1342. 1526. 2296. 1351.  920.\n",
      " 1204. 1239.  886. 2410.  915.  997.  880. 1216.  657. 3079. 1077. 1167.\n",
      " 1193. 1317.  743. 1040. 1513. 1357. 3009. 1473. 1765. 1332. 1353. 1214.\n",
      " 1618.  772. 1169. 1160.]\n",
      "17152\n",
      "going!\n",
      "going!\n",
      "total loss： [ 822. 1248. 1282. 1731.  692.  639. 1084.  929.  851.  980. 1331.  952.\n",
      " 1094. 2643.  622. 1384. 1064. 1688. 1398. 1768. 1207.  888. 1134. 1829.\n",
      " 1164. 1104. 1038. 1419.  897.  787.  697. 1008. 1590.  976.  961. 1190.\n",
      " 1345.  821. 1069. 1007.  879. 1112. 1270.  740. 1200.  835. 1062. 1139.\n",
      " 1024.  904. 1399. 1280. 2080. 1337. 1121. 2937. 1725.  882.  826.  661.\n",
      "  810. 1197. 1062. 1324. 1410. 1523. 1321.  913. 1210. 1188.  849.  988.\n",
      " 1293. 1006. 1375. 1049. 1050. 1191. 1025. 1113. 1175.  929. 1167. 1184.\n",
      " 1770. 1127. 1368. 1215.  996. 1761. 1356. 2466. 1461. 2139.  863.  787.\n",
      " 1575. 1411. 1280. 1285. 1175. 1006.  779. 1327. 1600. 1245. 4611. 1352.\n",
      " 1337. 1184. 1701. 1002. 1123. 1440.  907. 1117. 1368. 1107. 1473. 1073.\n",
      " 1256. 2032. 1153. 2231. 3866. 2470. 1055. 1152. 1077. 1266.  967. 1477.\n",
      " 1707. 1169. 1287. 1175. 1462.  987. 1500.  981. 1037.  904.  783. 1229.\n",
      " 1012. 1125. 1258. 1123. 1633. 1049.  938. 1302. 1244. 1233.  917. 1592.\n",
      " 1628. 1055. 1589. 1181. 1510. 1002. 1495. 1354. 2022. 1563. 1908. 1354.\n",
      " 1582. 1174. 1988. 1030. 1480.  842. 1262. 1025. 1350.  830. 2079. 1495.\n",
      " 1052. 1501. 1472.  972.  944.  991.  874. 2599. 1624. 1645. 1598.  892.\n",
      "  949.  936. 2217. 1955. 1285.  952. 1231. 1228.  977. 1108. 1237. 1017.\n",
      " 1002.  841. 2063. 1463.  927. 1504. 9002. 1464. 1008. 1584. 1265. 1161.\n",
      " 2285. 1755. 4019. 1191. 1049. 1676. 2058. 1808. 1348. 7321. 1289. 2981.\n",
      " 1749. 1229. 1220. 1097. 1298. 1811. 1023. 1616. 1070. 1559. 2301. 1309.\n",
      " 3117. 1051. 2095. 1284. 1169. 1464. 1277. 1306. 1125. 1436. 2457.  831.\n",
      " 1589. 1533. 1059. 1401.]\n",
      "17408\n",
      "going!\n",
      "going!\n",
      "total loss： [ 761. 1679. 1068. 1352. 1227. 1069.  963.  994. 1003.  929. 1518.  748.\n",
      "  596. 1117. 1629. 1795. 1182.  975. 1216. 1105. 1236.  777.  711.  884.\n",
      " 1114. 1233. 1250. 1271. 1301. 2282. 1026. 1361.  905. 1864. 1228.  733.\n",
      "  809.  882.  874. 1407. 1699. 1209. 1159. 1299. 1153. 1026.  720. 1695.\n",
      " 1232. 1326.  733.  993. 1998.  970.  828.  839. 1415. 1700. 2066. 1156.\n",
      " 1586.  993. 2596. 1298.  787. 1229.  552.  915.  923. 1105.  848. 1229.\n",
      "  981.  686. 2202.  791.  868. 2025.  824. 1089. 5357. 1011.  765. 1673.\n",
      " 1133. 1082. 1066.  916.  791. 1128. 1041.  637.  966. 1301. 1189. 1202.\n",
      " 1044.  794.  885.  916.  860. 1011. 1170.  990. 1113. 1414. 1085.  911.\n",
      " 1201.  888.  992.  745. 4664. 1137.  856.  834. 1158.  805. 1063. 1436.\n",
      "  912.  932. 1913. 1343. 1644. 1086. 1219.  907.  855. 1846. 1388. 1485.\n",
      " 1811. 1670. 1398. 1231.  987.  999. 1346. 1424.  978.  941. 1611.  698.\n",
      " 1234. 1783. 1230.  776. 1335. 5059.  934. 1079. 1330. 1109.  968. 1497.\n",
      " 1602.  904.  922. 1117. 1119.  670.  923. 1070. 1081. 1517. 1916. 2461.\n",
      " 1164. 1171. 1727. 1388.  907. 1360.  864. 1246. 1709. 1218. 1888.  970.\n",
      " 1250. 1129. 1888. 1034. 2517.  843. 1851. 1151. 1181. 1172. 1800.  915.\n",
      " 1080.  832. 1432. 1079. 2041.  824. 1853. 1757.  965. 1306. 5142. 1177.\n",
      " 1376.  972. 1817. 1856. 1326. 1248. 1680.  825. 1069. 1053. 1094. 1228.\n",
      " 5326. 1293. 1547. 1425. 1627. 1234. 1184.  984. 1805. 1292. 1313. 1623.\n",
      " 5393. 1421. 1963. 1553. 1774. 1484. 1199.  951. 1845. 1155. 1117. 2561.\n",
      "  942. 1194. 1189.  601. 1090.  883. 1604. 1415. 1360. 1291. 1231. 1239.\n",
      " 1332. 1013. 1307. 1339.]\n",
      "17664\n",
      "going!\n",
      "going!\n",
      "total loss： [1098. 1056. 1231. 1510.  975. 1399. 1952. 1003. 1244. 1090. 1653. 1051.\n",
      " 3280. 1665.  982. 1038. 1009. 1122. 1123. 1385. 1094.  919.  848. 1367.\n",
      " 1049.  814. 1708. 1883.  966. 1116. 1170. 1422. 1478. 1716. 6080. 1648.\n",
      " 1088.  913. 1037. 1640. 2730.  836. 1200. 6733.  825. 1538.  920. 5305.\n",
      "  936. 1035. 2069. 1041. 1163. 1099. 1098.  912.  916. 1056. 1205. 1016.\n",
      " 1188.  827. 1063. 1308. 3146. 1359. 1103. 1367. 1018. 1160. 3572. 1167.\n",
      "  972. 1513. 1261. 2113. 1122.  982.  986. 1294. 1026. 1532. 1099.  983.\n",
      " 1195. 1333. 3653.  846.  897.  949.  814.  989.  959. 1163. 1341.  965.\n",
      " 1847.  997. 1473.  984. 1183. 1855. 1082.  861. 1042.  911. 1115. 1753.\n",
      " 1050. 1978. 1157. 1025. 1003. 1770. 1321. 1304. 1990. 1282. 1275. 1154.\n",
      " 1023. 1154. 1050.  856. 1050. 1706. 1069. 1032.  913. 1010. 1054.  840.\n",
      " 1286. 1558. 1152. 2098. 1192. 1676. 1776. 1999. 1392. 1208. 1082. 1057.\n",
      " 1166. 1107. 1359. 1258. 1445. 1339.  855. 1141. 1187. 1989.  797. 1383.\n",
      "  738.  889. 1958. 1123. 1740. 1314. 1077. 1044. 2259. 1087. 1375. 1812.\n",
      " 1032. 1251. 1513. 1739. 1121.  881. 1909.  910. 1016. 1808. 1407. 1145.\n",
      " 1601. 1159. 1227. 1152.  948. 1074. 1287. 1046. 1051.  972. 1572. 9548.\n",
      " 1927. 1350.  966.  986. 1654. 1782. 1235. 1285. 1314. 1964. 1018. 1026.\n",
      " 1092.  817.  884. 1248. 1081. 1290. 1445.  941.  893.  709. 2173.  705.\n",
      "  693. 1187. 2826. 1001.  960. 1183. 1322. 1056. 1036. 1598. 1592. 1470.\n",
      " 1572. 1065.  877. 1272. 1079.  827.  906.  867.  861. 1102. 1346.  862.\n",
      " 1165.  986. 1779. 2992. 1215.  879. 2978. 1032. 2140. 1667. 1626.  691.\n",
      "  921. 1580.  856. 1174.]\n",
      "17920\n",
      "going!\n",
      "going!\n",
      "total loss： [1042. 1113. 1260. 1006. 1665.  916. 2443. 1205.  903. 1456.  931. 1156.\n",
      "  783.  908. 1154.  890.  974. 1157.  943. 1401. 1400.  762.  916. 1000.\n",
      " 1979. 1050. 1737.  962. 1067. 2195. 1448. 2748.  954. 1168.  966. 1267.\n",
      " 1215. 1078. 1099. 1355. 1883. 1327. 2205. 2409. 1499. 1170.  851. 1138.\n",
      "  757. 1131. 1071. 2319. 1387. 2423. 1032. 1004. 1262.  853. 1363. 1231.\n",
      " 1204. 1587. 1114. 1257. 1594. 1354. 1457. 1092. 1311. 1399. 1679. 1841.\n",
      "  532.  762.  660. 1039. 1496. 1013.  775. 1456. 1350. 1012. 1001. 1273.\n",
      " 1112. 1055. 1162.  765. 1685. 1343. 2689. 2154. 1234. 1638. 1446. 1096.\n",
      "  984. 1119. 2020. 1811. 1662. 1429. 1217. 4403. 1127. 1281.  978. 1206.\n",
      "  958.  936. 1156. 1058. 1303. 2056. 1018.  829.  890. 1499. 1236. 2614.\n",
      "  919. 1270. 1770. 1466. 1148. 1082.  673. 1154. 1391. 2486.  939. 1194.\n",
      "  929.  871. 1898. 3118. 1712. 1525. 1177. 1615. 1114. 1119. 1259. 2043.\n",
      "  928. 1212. 1177. 1042.  719. 1663. 1134. 1169.  796. 1395. 1882. 1539.\n",
      "  855.  878.  824.  981. 1247. 1149.  992. 1064.  983.  783.  969. 2358.\n",
      "  998.  840. 1205.  875.  831. 1268.  848. 1384.  914.  696. 2103. 1387.\n",
      "  888.  811.  929.  840. 1468. 1285. 1400.  758.  916.  971.  878. 2228.\n",
      " 1091. 1572.  814. 2002. 1023. 1136. 1433. 1107.  871. 3279. 1387. 1441.\n",
      " 1343.  950.  960. 1167.  897.  970. 4958. 1026. 1033. 1026.  658.  710.\n",
      " 1462.  885. 1757. 1194. 1690.  974. 1022.  839. 1333. 1023. 1312.  990.\n",
      " 1090.  718.  864. 1249. 1614. 1542. 1036.  880. 2127. 1104. 1002.  782.\n",
      " 1294.  809.  748.  813.  887.  938.  864.  950. 1228. 1230. 3360. 1135.\n",
      " 1044.  926. 1288.  754.]\n"
     ]
    },
    {
     "name": "stdout",
     "output_type": "stream",
     "text": [
      "18176\n",
      "going!\n",
      "going!\n",
      "total loss： [1380. 1255.  897. 1822. 1161. 1047. 1450. 1012.  982.  611.  747.  858.\n",
      "  546. 1103. 1329. 1315.  860.  878. 2068.  889.  897. 1160.  906. 1005.\n",
      " 1290. 1207.  835.  725.  822.  835.  583. 2895. 1615. 2103. 1322. 1111.\n",
      " 1844.  725.  789.  853. 1277. 1049. 1019. 1345. 1032. 1039. 1765.  919.\n",
      " 2082.  969. 1162.  867. 1045. 2993.  983. 1053. 1089.  848. 1684. 2083.\n",
      " 1351.  817. 1134. 1083. 2374.  913. 1680. 1078.  999.  961. 1602. 1127.\n",
      " 1367. 1496. 1664.  792. 2081.  936. 1217. 1613. 5426. 1010. 2438. 1267.\n",
      " 1975. 1408.  967. 1664.  920. 2057. 1635. 1315.  823. 1170. 1236. 1039.\n",
      "  990. 1527. 1767. 1070. 1162. 1639. 1147. 1154. 1314. 1663. 1312. 1262.\n",
      " 1135. 1354.  800. 1444. 1248. 3366. 1445. 1117. 1496.  783. 1135. 1186.\n",
      " 1116. 2110. 1562. 1354. 1140. 2106. 1126.  736.  837. 1442.  822. 1685.\n",
      " 1173. 1524. 1245. 1065. 1509. 1031. 1068. 1146.  785.  791. 1529. 1150.\n",
      " 1414. 1353. 1515.  978.  902. 1138. 1476.  915.  963.  936. 1500.  982.\n",
      "  896. 1213.  989. 1342. 1050.  998. 1120.  867. 1714. 1971.  997. 1198.\n",
      " 1060. 3003. 1457. 1423. 1625. 1046. 1396. 1814. 1918.  794. 1199.  720.\n",
      "  672. 1645. 1023. 2077. 1197. 2081. 1010. 2377.  881.  700. 1041. 1276.\n",
      "  766.  854. 1060. 1878.  752. 1467. 2213. 1063. 2225.  735.  679.  803.\n",
      " 1167.  999. 1993.  969.  946. 1183.  946.  756. 1608.  923. 1188.  689.\n",
      " 1936.  964. 1144.  736. 1107. 1039.  590. 1543.  868.  805. 1158. 1549.\n",
      " 1133. 1475.  803.  912.  803.  998.  950.  777. 1027.  850.  773. 1891.\n",
      " 1127. 1019. 1367.  723.  748. 1109. 1747.  990. 1289.  778. 2310. 1314.\n",
      " 1159. 2416.  717.  966.]\n",
      "18432\n",
      "going!\n",
      "going!\n",
      "total loss： [1159.  881.  814. 1104. 1244.  925. 3446.  996.  928.  992. 1125.  871.\n",
      "  859. 2166.  959. 1957. 1223. 1239. 1500. 1038.  757. 1117. 1007.  840.\n",
      " 1666.  870.  644. 1982. 1039.  907. 1010. 1211.  806. 2327.  902. 1734.\n",
      " 1481. 1175.  786. 1127. 1529.  805.  926. 1678.  854. 1152. 5231. 1047.\n",
      "  852.  900. 1273.  913. 1528.  901. 1172. 2044.  805. 1032. 2103.  989.\n",
      " 1446. 1241.  860. 1831. 1026.  668. 1344. 2176.  809. 1386. 1250. 1436.\n",
      "  899. 2809. 1648. 1240.  834. 1341. 1414. 1386.  991. 1055. 1900. 1575.\n",
      " 1144. 2134. 1047. 1401. 1299. 1156. 1169. 1992. 1166. 1056. 1628.  897.\n",
      " 1173.  949. 1727.  989.  882. 1379. 1147. 1190. 1485. 1056. 1120. 1509.\n",
      " 2339. 2008. 1513. 1197.  869. 2145. 3054. 1585. 7173. 2461. 5876.  913.\n",
      " 1162.  934. 1591. 1599. 1130. 1413.  950. 1662. 1100.  753. 1117. 1645.\n",
      " 1056. 1405.  979. 1293. 1600. 1716. 1073. 1707. 1284. 3716. 1116. 1659.\n",
      "  925.  915. 1339. 1558.  994.  957. 1095. 3103.  976. 1219. 1374.  924.\n",
      " 1077. 1507.  974. 1165. 1454.  900. 1141.  913. 1063.  873. 1014. 2578.\n",
      " 1260. 1187.  886. 2247. 1134. 2319. 1093.  813. 2652. 1265. 1469. 1383.\n",
      " 1063. 1258. 1325. 2234. 1978. 1113. 1204. 1280. 1107. 1494.  948. 1248.\n",
      " 1100. 1244. 1226. 1038. 1752. 1400.  930.  828. 1069. 1493. 1202.  876.\n",
      " 1155. 2926.  864. 1287. 2908.  912.  862.  653. 1284. 1006. 1537. 1103.\n",
      " 1291.  895. 1305. 1148. 1600. 1075. 1148. 1565. 1185.  965.  784.  582.\n",
      "  790.  958. 1228.  885.  661. 2347. 1242.  829. 1087. 1090.  789.  736.\n",
      "  720.  743. 1194.  734. 1138.  696.  931. 1153. 1380. 1146. 1223. 1188.\n",
      " 1012.  897. 1471. 1748.]\n",
      "18688\n",
      "going!\n",
      "going!\n",
      "total loss： [ 841.  762. 1014.  763. 1025. 1026. 2672. 1010.  928. 3044.  949. 1050.\n",
      " 1207. 1083.  897. 1085.  843. 1423. 1297.  779. 1007.  968. 1247.  937.\n",
      "  975.  900.  824.  889.  959. 1500.  731.  805. 1028.  923.  887. 1331.\n",
      " 1082. 1079. 1238. 1274. 1324.  688.  816.  904. 1285.  958. 2454.  774.\n",
      " 1402.  774.  698. 1051.  821. 1020.  762. 1497. 1857.  972. 1023. 1198.\n",
      "  841. 1523.  966.  816. 1246. 1333. 1290. 1040. 1606. 2235. 1393. 1757.\n",
      "  890. 1268. 1249. 1506. 1334. 1200. 1070. 1089. 1374. 2739. 2082. 5254.\n",
      " 1069. 2104. 1486.  910. 1314.  936. 1342.  995. 1145. 1043. 1402. 1415.\n",
      " 1119.  849.  669. 1738. 1051. 1906. 1534. 1200. 1314. 1068.  945. 1183.\n",
      "  613. 1238.  968.  938. 3572. 1128. 1348. 1913. 1286.  998. 1769. 1021.\n",
      "  780. 1187. 1104. 1535. 2626. 1261. 1047.  947. 6322. 1208. 1289.  776.\n",
      " 1106. 1236. 1760.  727. 1798.  810. 1094.  881. 1955. 1157. 1402. 1565.\n",
      " 1485. 9091. 1661. 1232. 1655. 1533. 1045.  966.  782. 1098. 1377.  872.\n",
      " 1039. 2420.  775. 1053. 1021. 1541. 1393. 1288. 1571. 1729. 1537. 1204.\n",
      " 1122. 1694. 3064.  805. 1104. 1070. 1049. 4407.  764. 1220. 1012. 1895.\n",
      "  974. 1444.  874. 1028.  968.  750. 1235. 2278. 1074.  810. 1004. 1185.\n",
      " 1048. 1504.  820. 1076. 1178. 2994. 1041. 1058. 1015.  889. 1018. 1148.\n",
      " 1112. 2976. 1024. 1033. 1381. 1288. 1530. 1230. 1081. 1551.  964.  934.\n",
      "  834. 1372. 1087. 1336. 1314. 1386. 1401. 1082. 2199. 1473. 1321. 1665.\n",
      " 1050. 1214. 1409. 1098. 1058. 1889. 1743. 1261. 1671. 1433. 1042. 2249.\n",
      " 1295. 1467. 1193. 1546. 1285. 1607. 1032. 3382. 1105. 1146. 1086. 1403.\n",
      " 1057. 1581. 1251. 1496.]\n",
      "18944\n",
      "going!\n",
      "going!\n",
      "total loss： [1064. 1161. 1066. 1062. 1001. 1197. 1268. 1689. 1712. 6127. 1085. 1043.\n",
      " 1100. 1445. 1009. 1375. 1654. 1188. 1328.  861. 1876. 1292. 1153. 1247.\n",
      "  925.  897. 1029. 1061. 1511. 1843.  919. 1217. 1051. 1267. 1237. 2059.\n",
      " 1006.  951. 1022.  605. 3197. 1157. 1128. 1434. 1052. 1326. 1936. 1800.\n",
      "  909. 1159.  745.  673. 1115. 1040.  848. 1548. 3666.  882.  971. 1669.\n",
      " 1436.  912. 1831. 1651. 1475.  986. 1259. 1111. 1454. 1328. 2008. 1553.\n",
      " 1066. 1122. 1451. 1161.  821. 1491.  982. 1202. 1215. 1104. 1581. 1082.\n",
      " 1386. 1059. 1208. 1821. 2096. 1706. 1119. 1419. 1258. 2501. 1278. 1299.\n",
      " 2675.  992. 1502. 2282.  834. 1262.  955. 1320. 1926. 1000. 1172. 1862.\n",
      "  902. 1188. 1296. 2610. 1039.  716. 1126. 1107. 1664. 1347. 1342. 4156.\n",
      " 1265. 1638. 1870. 1298. 1066. 1398.  972. 1674. 1178. 1306. 1360. 1806.\n",
      " 1149. 1485.  924. 1493. 1871. 1204. 1516. 1774. 1185. 1628. 1071. 3351.\n",
      " 1537. 2606. 1692.  998. 2510. 1133.  976. 1142. 1597. 6807. 2366. 1746.\n",
      " 2369. 2203.  977. 1199. 1338. 1087. 1244. 2496. 2925.  987. 1187. 1047.\n",
      " 1258. 1325. 2137. 3040. 1020. 1168. 1673. 1197. 1296. 1014. 1638. 1522.\n",
      " 2136. 1220. 1314. 1048. 2029. 1009. 1017. 1626. 1430. 1703. 1424. 1157.\n",
      " 1211. 1087.  940.  993.  958. 1272. 4594. 1014.  990. 1339. 1183. 1897.\n",
      " 1644.  827. 2069. 1083. 1401. 5243. 1136. 1025.  886. 1349. 1108. 2221.\n",
      " 1224. 1005. 1220. 1336.  921. 2353.  966. 1472. 2651. 1478.  830. 2172.\n",
      " 1007.  572. 1332.  990. 1337. 1258. 1039.  775. 1459. 1316.  899. 1027.\n",
      " 1191.  957. 2426. 1029. 1417.  832.  902. 1465.  728. 1942.  994. 2067.\n",
      "  882. 1593. 2438.  885.]\n",
      "19200\n",
      "going!\n",
      "going!\n",
      "total loss： [1040. 1476. 2215.  836.  915. 1074.  935. 2860. 1509.  937. 1709. 2381.\n",
      " 1052. 1596. 1098. 1087. 1087. 1304.  947. 3574. 1139. 1401. 1809.  906.\n",
      " 1880.  901.  833.  874. 1169.  982.  904. 1120. 1151.  937. 1206. 1253.\n",
      " 1361.  794.  922. 1288.  950. 1287.  966.  912. 1328.  947.  732.  635.\n",
      " 1418. 1043.  751. 1865.  973. 1197. 1296. 1395. 5659. 1162. 1045.  672.\n",
      " 1250. 1009. 1792. 1416. 1312. 1945. 2822. 1426. 1151. 1566. 1341. 1069.\n",
      " 1523. 1291. 1035.  997. 1352. 1283. 4366. 1289. 1039.  977. 1067. 1406.\n",
      " 1152. 1266. 1097.  937. 1204. 1244.  764. 1279. 1000.  919. 1258.  764.\n",
      "  891.  804. 1518.  783.  918. 2967. 1601. 1134. 1218. 1218. 1111.  818.\n",
      " 1967. 1181. 1806. 1600. 1266. 1112. 1446. 1545.  819. 1918. 2426.  981.\n",
      " 1185. 1075.  910. 1337.  912.  966. 1716. 2249. 1316. 2041. 1027. 1484.\n",
      " 1119. 3138.  916. 1590. 1350. 1463. 1193.  883. 1481. 1269. 1027. 1420.\n",
      "  787. 1316.  779. 2018. 1638. 1184.  809. 1661. 1193. 3010. 1036. 1556.\n",
      " 1463.  753. 1377. 1637.  872.  896. 1506.  831. 1506. 1242.  875.  968.\n",
      " 1135. 1380. 1118. 1280. 3083. 1941. 1060. 1695. 3250. 2687.  916.  723.\n",
      " 1118. 1111. 1737. 1954. 1478.  835. 1272. 1263. 1087. 1675.  955. 1176.\n",
      "  955.  866.  733. 1467. 1141.  997.  750.  953. 3016. 1343. 1327. 1155.\n",
      " 1073.  976.  886.  985.  870.  985.  744. 1682. 1066. 1436. 1119. 1582.\n",
      " 1102.  870.  712.  941. 1018. 1342. 1058.  911.  835.  933.  827.  879.\n",
      " 2080.  778. 1230.  907. 1407. 1592.  898. 1093.  896.  892. 4007. 1135.\n",
      "  953.  953. 1530. 1282.  993.  940.  842. 1453. 1345. 1607.  873. 1191.\n",
      " 1037. 2625. 2380.  665.]\n",
      "19456\n",
      "going!\n",
      "going!\n",
      "total loss： [1026.  852. 1057.  687. 2069. 1289.  831. 1283. 1511. 1184.  833. 1009.\n",
      "  909. 1383.  865. 1365. 1020. 1118. 1275. 1280. 1124. 1246. 2342. 1152.\n",
      "  962. 1323.  974. 1488.  957.  674. 1490. 2343. 1594. 1386. 1005. 2678.\n",
      " 2848. 1017.  746. 1251. 1372. 1370.  782. 1482. 1291.  985. 1551. 1345.\n",
      " 1594. 2239. 1414. 1031.  844. 1159. 1004.  947. 1251. 1531. 2639. 1153.\n",
      "  861. 1800. 1481. 1117.  912. 1123. 1307. 1370. 2123. 1054. 1211. 1206.\n",
      " 1162. 1463. 1028. 1117. 1898. 2107. 1016.  883. 1407. 1339.  960.  969.\n",
      " 2300.  727.  811. 1068.  974. 1305. 1657. 1285. 2096. 1531. 1634.  977.\n",
      "  933.  709. 2512.  725. 1770. 1446. 1142. 1025. 1327.  796. 1203. 1414.\n",
      "  922. 1516. 1167. 1200. 1063.  841. 1240.  961. 2603. 1014.  885. 1072.\n",
      " 1087. 1375. 1210. 1021. 1777. 1117. 1150. 1041. 1045.  658. 1723.  937.\n",
      " 1717. 1192.  873. 1492. 1358.  949. 1138. 4507. 1194. 1142. 1216. 1344.\n",
      " 1062.  804. 3597.  960.  918.  570.  831.  972. 1039. 1348.  698. 1303.\n",
      " 1037.  860.  963.  919. 1454.  792. 1097.  996. 1073. 1603.  835. 1111.\n",
      " 1332. 1285. 1263.  888. 1375. 1021. 1275.  592. 1271.  855. 1281.  912.\n",
      " 1217.  971. 1798. 1048.  982.  930. 2205. 1423.  809.  827. 1287. 1526.\n",
      " 1563. 1087. 1398. 1802. 1183. 3783. 1131. 1979.  725. 1230. 1185. 1513.\n",
      " 2182.  893.  874. 2122.  981. 1060. 2377.  832.  927. 1119. 2301.  945.\n",
      " 1165. 1140. 1165. 1017. 1596. 1389.  991.  872. 1078. 1483. 1063. 2039.\n",
      " 1278.  855.  924. 1075.  994. 1310. 1292. 1233. 1687.  904. 1317. 2629.\n",
      " 1063. 1271. 1332.  924. 1399. 1511. 1657.  935. 1032. 1256. 1990. 2532.\n",
      " 1216. 1333. 1455. 1493.]\n"
     ]
    },
    {
     "name": "stdout",
     "output_type": "stream",
     "text": [
      "19712\n",
      "going!\n",
      "going!\n",
      "total loss： [1398. 1177. 1619.  909. 2965. 2131. 1253. 1026. 1025. 1311. 1677. 1308.\n",
      " 1567. 1041. 1257. 1123.  917. 1163. 1439.  755. 1329. 1156. 1014. 1248.\n",
      " 1872. 2051. 1255.  913. 1921. 1819. 1597. 2511. 3184. 1219. 1067. 1280.\n",
      " 1006.  847.  888. 1320. 1508. 1420. 1416.  952. 1156. 1471. 1582. 4146.\n",
      " 1116.  830. 1099.  832. 1002. 1609. 1422. 2506.  936. 1024. 1306. 1043.\n",
      " 1018. 2689. 1152.  964.  764. 1436.  836. 1583. 1008. 1213. 1396. 2813.\n",
      "  992.  903. 1223. 1201.  817. 1231. 1201. 1294. 1115. 1025.  775. 1026.\n",
      " 1224. 1425. 1866.  852. 1491. 1876. 1323. 1396.  913. 1097. 1274. 1624.\n",
      " 1107. 1383.  932. 1544.  860. 1239. 1080. 1992. 1351. 1075.  854. 1082.\n",
      " 1045. 1055. 1244.  958. 1237. 1268.  947.  996. 1466. 1325. 1060. 1129.\n",
      " 1103. 1822. 1047.  852. 2427. 1186. 2131. 2358. 1149. 1556.  780. 1679.\n",
      " 1328. 1140. 1280. 1868. 1384. 1208. 1425. 2342. 1233. 1056. 1175. 1475.\n",
      " 1539.  999. 2959. 1422. 1760. 1237. 1335.  991. 1562.  935. 1243. 1031.\n",
      " 1468. 1430. 1162. 1335.  877. 1198. 2780. 1397. 1234. 1158. 1231. 1578.\n",
      "  871. 1105.  872. 1612. 1108. 1003. 1671. 1333. 1997.  850. 1141. 1040.\n",
      "  925. 1207. 1431. 1359.  890.  867. 1306. 1199.  969. 1430. 1484.  945.\n",
      "  659. 1092.  720. 1467. 2299. 1049. 1592.  944. 1347. 1478. 1697. 1180.\n",
      " 1440. 2239.  980. 1526. 1667.  974. 1516. 1472. 1253. 2318. 1643.  969.\n",
      " 1024.  962. 1291. 2349. 1978. 1039. 1478. 1340. 1160. 2120. 1265. 1743.\n",
      " 1239. 1171. 1079. 2354. 1406. 1306. 1882. 2176. 1078. 1012. 1211. 1359.\n",
      " 2506. 1061.  941. 1400. 1454. 1542. 1006. 1250. 1682. 1301. 1206. 1197.\n",
      " 1308. 1188. 3368. 1459.]\n",
      "19968\n",
      "going!\n",
      "going!\n",
      "total loss： [1249. 1293. 1495. 1384. 1335.  583. 1908.  913. 2755. 1193. 1670.  947.\n",
      " 1246. 1240. 1161.  998. 1674.  941.  893.  986.  895. 1077. 1458.  881.\n",
      " 1441. 1888.  808. 1947.  776.  971.  937.  709.  956. 1047. 1158. 1969.\n",
      " 1973.  775.  930. 1950. 1217. 1109. 1708. 1028.  877. 1262. 1460.  942.\n",
      " 1042. 1802. 1154. 1353. 1843. 1240. 1363. 1094. 1049. 1361. 2099.  927.\n",
      " 1517.  971. 1473. 1018.  867. 1182. 2569. 1696.  835. 1423. 1288. 1080.\n",
      " 1468. 1291.  647. 1023. 1017. 1228. 1037.  965. 1180. 2298. 1280.  940.\n",
      " 1060. 2061. 1015.  992. 1112. 1574. 1290.  811.  826. 1263. 1241. 1368.\n",
      "  898.  922. 1290. 1082. 1102. 1012. 1027.  907. 2693. 1920. 1142.  965.\n",
      "  887.  909. 1524. 1439. 1072.  820. 1027. 1567.  918.  992. 2122. 2212.\n",
      " 1375. 1747. 1092. 1693. 1005. 1060. 1163. 1025. 1809. 1001. 1278. 1223.\n",
      " 1716. 1036. 2048. 1322. 1401. 1398.  967. 1596. 1271. 1196. 1641. 1656.\n",
      " 2420. 1340. 1711. 1140.  997. 1293. 1596.  932.  998. 2191. 2161. 1012.\n",
      " 1074. 1299. 1069. 1175. 1291. 2210. 1153.  808. 3048. 1488. 1081. 1774.\n",
      " 1092. 1406. 1515.  862. 1474. 1137. 3950. 1742. 1011. 1043. 2311. 1512.\n",
      " 1413. 1175. 1635. 1127. 1234. 2232. 1120. 3118. 1197. 1336. 1582.  946.\n",
      " 1591. 2543. 1073. 1121. 1238. 2493. 1157. 1586. 1262. 1283. 1023. 1045.\n",
      "  938. 1001. 1569. 1197. 1262. 1227. 1273. 1641. 3254.  917. 1772. 2123.\n",
      " 1339. 2373. 1278. 2524. 1938. 1215. 1240. 1018. 1474. 1270.  850. 1407.\n",
      " 1559.  931. 1613. 3030. 1297. 1625. 1073. 1343. 1310. 1424. 1835. 1089.\n",
      " 1484. 1491. 1040.  971. 1093. 1194. 1554.  742. 1954. 1020. 1054. 3533.\n",
      " 1299. 1073. 1136.  844.]\n",
      "20224\n",
      "going!\n",
      "going!\n",
      "total loss： [1455. 2767. 1188. 4409. 1244. 1268. 1628.  707. 1038. 3191. 1627. 2117.\n",
      " 1244. 1023. 1018. 1828. 1903. 1084. 1105.  880.  967. 1242. 1436. 5195.\n",
      " 1204.  923. 1467. 1315. 1442. 1073. 1226.  843.  961. 1184. 1435.  838.\n",
      " 1076. 1255.  860.  963. 1435. 1353. 1278. 1019. 1289. 1099. 4126. 1325.\n",
      "  673. 1038. 1394. 1160. 1118. 1176. 1174. 2511. 1251. 1221. 1426. 1331.\n",
      " 1640.  905. 1706. 1049. 2176.  841. 1322. 1343. 1216. 1187. 1937.  900.\n",
      " 1252. 1087. 1336. 1055. 1655. 1462. 1829. 1443. 1001.  820. 1318. 1061.\n",
      " 1374. 1213. 2332. 1479. 1317. 1336. 1537. 1387. 1330. 1298. 1268.  700.\n",
      " 1161. 1353. 1097. 3494. 1139.  955.  732. 1605. 1803. 1468. 1179. 1128.\n",
      "  991. 2220.  962. 1205. 1740. 1646. 6224.  742.  919. 1334. 4276. 1162.\n",
      "  890. 2310. 1050.  926. 1933. 1161. 1124. 1387. 2024. 1298.  882.  846.\n",
      " 1101. 3000. 1292. 1434. 1006. 1683. 2788. 1281. 1744.  963. 1118. 1052.\n",
      " 1044. 1080. 1468. 1415.  858. 1550.  985.  846. 1416. 1074. 1208. 1758.\n",
      " 1926. 2075. 1509. 2274. 1184. 1522. 1073. 3280. 1168. 1104.  738. 1065.\n",
      " 1311. 1303.  824. 1009. 1564. 1431.  708. 2221.  992. 1184. 1584. 1272.\n",
      " 1825. 1447.  885. 4691. 1121. 1144. 1551. 1483. 1008. 1009. 2064. 2297.\n",
      " 2296. 1270. 1471. 1905. 1314. 1761. 1218. 1643. 2276.  849.  817.  935.\n",
      " 1261.  946.  663.  718. 1215. 1322. 1160. 1519.  700. 1228. 1482. 1033.\n",
      "  930. 1088. 1093. 1098.  987. 1056. 2325.  881.  815. 1203.  641. 1663.\n",
      " 1379. 1788. 1450. 1222. 1101. 1996. 1029.  909. 1876. 1078.  831.  977.\n",
      " 1304.  990.  980. 1005.  768. 1215.  950.  894. 1847.  880.  949. 1044.\n",
      "  717.  994. 1114. 1181.]\n",
      "20480\n",
      "going!\n",
      "going!\n",
      "total loss： [ 725.  882. 1006.  817.  919. 1120. 1308. 1399. 5850. 1159. 1165.  960.\n",
      " 1140. 1574. 1029. 1097. 1245. 4847. 1000. 2045. 1384. 1062.  762.  678.\n",
      " 1049. 1249. 1074.  895. 1162. 1146. 4030. 1284. 1837.  862.  733. 1341.\n",
      "  929.  948. 1087. 1038. 1109. 1082.  994. 1111. 1129. 1416.  996. 2564.\n",
      " 2358.  859. 1371.  870.  976.  925. 1086. 1088. 1015. 1149. 1114.  914.\n",
      " 1080.  828.  904. 1175. 1151. 1433. 1019. 1603.  658.  653. 1107. 1302.\n",
      "  973. 1269. 1658. 1028. 1261. 1280.  527. 4213. 2642. 1034.  678. 1108.\n",
      " 1016. 1396. 1756.  866.  985. 1194. 1044. 1029. 2203. 1406. 1206. 1477.\n",
      "  877.  899. 1016. 1537.  876. 1464. 1131.  905.  975. 1923. 1325. 1872.\n",
      " 1283. 2009.  962. 1242.  949.  896.  897. 1134. 1677. 1115.  963. 1232.\n",
      " 1445. 1108.  849. 1092. 1137. 1025. 1142.  997. 1205.  866. 1275. 1865.\n",
      " 1110.  917. 1174. 1218. 1903. 1102. 1101.  936.  813.  719. 1008.  817.\n",
      " 1301. 1936. 1464. 1518. 1141.  921. 1058. 1196. 1580. 1090.  987. 1627.\n",
      "  988. 1027.  984. 1071.  962. 1197. 1567. 3179. 1070. 1376. 1528. 1283.\n",
      " 1814. 2378.  985. 1040. 1609.  829. 1315. 1301. 1309.  960. 1173. 1234.\n",
      " 1683. 1103. 2425.  948. 1082. 1196. 1628.  945. 1076. 1293. 1192.  759.\n",
      " 1875. 1562. 1165. 2022. 1954. 1542. 1077. 1121. 1336. 2250. 8192. 1209.\n",
      " 1245. 1167. 1327. 1439.  648. 1049. 1096.  874. 1376. 2225. 1574.  880.\n",
      " 1048.  892. 1244. 1025. 1468. 1081. 1133.  879. 2437.  970. 1331. 1330.\n",
      " 1152. 1534. 1573. 1163. 1109. 1030. 1184. 1385. 1007. 1109.  729.  808.\n",
      " 1432. 1359.  891. 9788. 1814. 1097. 2563. 2109. 1324. 1413. 1307. 1379.\n",
      "  861. 1768. 1455. 1350.]\n",
      "20736\n",
      "going!\n",
      "going!\n",
      "total loss： [ 936. 1173. 1555. 1057. 1090. 1777. 2087. 1132.  869. 1100. 1144. 2320.\n",
      " 1515. 1130.  854. 1126. 1205. 1423. 1672. 1910. 1490. 1434. 2516.  996.\n",
      " 1139. 1183. 1435. 2634. 1155.  967. 1396. 1379. 1125. 1486.  988. 1405.\n",
      " 1575. 1779. 1330. 1275. 1244. 1069. 1397. 1816. 1313. 1191. 1300. 2015.\n",
      " 1568. 1705.  973. 1595. 2529. 1244. 2152. 1083. 1264.  950. 1000. 2535.\n",
      " 1877. 1400.  980. 1079. 1608. 2043. 1001. 1162. 1842. 1259. 1278. 1367.\n",
      " 2602. 1389. 1393.  786.  887. 1121. 2016. 2433. 3131. 1170. 1293. 1465.\n",
      " 2411. 1124.  736. 1371. 1719. 1509. 1547. 1485.  816. 1359. 1417.  845.\n",
      "  890. 2224. 1969. 1402.  980. 1001.  963. 2446. 1752. 1607. 1207. 1135.\n",
      " 1574. 1757. 1151.  782. 1051. 1079. 1797. 1882. 1156. 1960. 1104.  947.\n",
      " 1364. 1584.  769. 1489. 1270. 1645. 1066. 4832. 1458. 1099.  962. 1058.\n",
      " 1041. 1011. 1134. 2322.  751.  841. 1787. 1047. 1052. 1036. 1326. 1408.\n",
      " 1212.  644.  800. 1222. 1126. 1018.  755.  931.  899. 2248. 1368. 1331.\n",
      "  991. 1061. 1021.  957. 1105. 1076.  818. 2442. 2019. 1175.  918.  974.\n",
      "  858. 1097. 1097. 1135. 1375. 1593. 2312. 1341.  969. 1086. 1406.  818.\n",
      " 1572. 1081.  957.  976. 1847. 1156. 1214. 1113. 1039. 1545.  869. 2440.\n",
      " 1019. 1244. 1094.  920. 1254.  890. 1317. 1240. 1376. 1732. 1309.  803.\n",
      " 1202. 2416. 5559. 1456. 1171. 1439. 1121.  961. 1120. 1005. 1713. 2103.\n",
      " 7314. 1639. 1322. 1289. 1155. 1156.  943.  947. 1706.  941.  664. 1959.\n",
      " 1141.  924.  749. 2121. 1199.  897. 1283.  968. 1829. 1024. 1118. 1154.\n",
      "  994. 1890. 1070. 1750. 1470. 1444. 1072.  970. 1020.  860. 1360. 1214.\n",
      " 1039. 1463. 1023. 1320.]\n",
      "20992\n",
      "going!\n",
      "going!\n",
      "total loss： [3244. 1505.  808. 1109. 1464. 3133. 1504. 1060. 1266. 1178. 1490. 1216.\n",
      " 1830. 1972. 1460. 1114. 1767. 1453. 1091. 1362. 2669. 1225. 1736. 1189.\n",
      " 1134. 2111. 1488. 1440. 1403. 1123.  947. 1046. 1227. 5741. 1389. 1763.\n",
      " 1364. 1729. 1346. 1350. 1634. 1345. 1704.  753. 1359. 7759.  921. 1074.\n",
      " 1152. 1094.  941. 1286.  994. 1647. 1102. 1665. 2011. 1333. 1023.  919.\n",
      " 1344. 1122. 1084. 1053.  871.  622.  989. 2359.  756. 2303. 1032.  920.\n",
      " 2894. 1312. 1080. 1238.  812.  983.  757. 1061. 1085. 1182. 1345.  875.\n",
      " 1157. 1297. 1118.  854.  925.  917.  882. 1432. 1523. 1103.  717.  857.\n",
      " 1067.  989. 2706.  868.  918.  892. 1060.  884.  959. 1308.  965. 1102.\n",
      "  474.  955.  853.  792.  784. 1551. 1656.  592. 1105. 1190. 1002. 3722.\n",
      "  960.  768.  642.  611.  802.  804. 1130. 1002. 1162.  954.  734. 1912.\n",
      " 2712.  997. 1738. 1534. 1122. 1912. 1532. 1071. 1353. 1018. 1580. 1257.\n",
      " 1026. 2560. 1282. 1697. 1957. 1336. 1480.  768. 1243. 1481. 1607. 1273.\n",
      " 1201. 1027. 1211.  971. 1306. 1307.  873.  870. 1646.  696. 1177.  836.\n",
      " 1184. 1073. 1193.  716. 1097. 2681. 1380. 1193. 1724.  996. 1021. 2239.\n",
      " 1820.  753. 1109. 1485. 1175. 1567. 1391. 1531. 1223. 1084. 1068. 1366.\n",
      "  851.  953. 1702. 1056. 1348. 1141. 1532.  690. 1696.  687. 1577. 1188.\n",
      " 1177.  834. 2418.  998. 1201. 3331. 1121.  868. 1172. 1799. 1115. 1104.\n",
      "  901. 1054. 1297.  884. 1059. 1062. 1834.  872. 1168. 1128. 1044. 1209.\n",
      " 2782. 1123. 1294. 1719. 1448. 1798.  789. 2009.  925. 1298.  952. 1138.\n",
      "  785. 1058.  775.  877. 3095.  534.  855. 1160. 1517. 1093.  978. 1175.\n",
      " 1121.  891. 3377.  846.]\n"
     ]
    },
    {
     "name": "stdout",
     "output_type": "stream",
     "text": [
      "21248\n",
      "going!\n",
      "going!\n",
      "total loss： [1720. 2292. 1618. 1227. 1328. 1266. 1340. 1430.  991. 1102. 1031. 1167.\n",
      "  958.  879.  917.  989. 1201. 1179. 1076. 1299. 2267.  845. 1042. 1745.\n",
      " 1885. 1133. 2314. 1115.  793. 1209.  704.  955. 1196. 2370. 1388. 2919.\n",
      " 1701. 1475.  997. 2412. 1122. 2979. 2050. 1454. 1373.  905. 1186. 1174.\n",
      " 1086. 1044.  757. 1074. 1040. 1426. 1185. 1133. 1071. 1250.  786. 1490.\n",
      " 1045.  965. 1157. 1404. 1106.  768. 1246. 1308. 1234. 1477. 1466. 3303.\n",
      " 1271. 1099.  930. 1510. 1295. 1452. 1079.  838. 1093. 1056. 1182. 1094.\n",
      " 1977.  760. 1990. 2093. 1309.  942.  982. 1100.  625. 1109.  784. 1280.\n",
      " 5946. 1466. 1932. 1426. 4016. 2762. 1026. 1462.  894.  991.  819. 1551.\n",
      " 1499. 1678. 1558. 1145. 1123. 1671.  958. 1216. 2065.  954. 1571. 1006.\n",
      " 1170. 1944.  878. 1601. 1678. 1067. 2646. 1216.  946. 1151. 1747. 1544.\n",
      "  709. 1093.  952.  817. 1190. 1005.  922. 2071.  865.  943.  772. 1288.\n",
      " 1069. 1041. 1284.  854.  788. 1276.  945. 1038. 1189. 1298. 1446.  861.\n",
      " 1094. 1251. 1459. 1065. 1036. 1349.  881.  647. 1339. 1301. 1271. 1313.\n",
      "  628. 1800. 3405.  826. 1422. 2326. 1727. 2479. 2387. 1765. 1211. 1164.\n",
      "  966. 1190. 2481. 1063. 1189. 1071. 1015.  732. 2270. 1038. 1291.  934.\n",
      "  960. 1109.  886.  762. 2222. 4589. 1022. 1910. 1668. 1120. 1161. 1759.\n",
      " 1379. 1301. 2045. 1598. 2239. 1605. 1537. 1625. 1536. 2167. 2369. 1015.\n",
      " 1147. 1137. 1720. 1103. 1435. 1185.  537. 1181. 1425. 1223. 2537. 1228.\n",
      " 1487. 1504. 1356. 1729. 1136.  976. 1800. 1261. 1063. 1217. 1161. 1095.\n",
      "  967.  967.  956. 3626. 2105.  961. 1472. 1053. 1064. 1075. 1237. 1220.\n",
      " 1142.  994. 1177. 1587.]\n",
      "21504\n",
      "going!\n",
      "going!\n",
      "total loss： [ 856. 1199. 2098. 1313.  795. 1602. 1034. 1581. 1452.  997. 2064. 1060.\n",
      "  965. 1083.  880. 1182. 1164. 1027. 1018. 1325. 2241.  764.  855. 1036.\n",
      "  792. 2565. 1376. 1066. 1094.  869. 1049. 2340. 1038. 2650. 1130.  951.\n",
      "  774.  994. 1107. 1065.  898. 1109. 1050.  870. 1032. 1656. 1020. 1730.\n",
      "  882. 1130. 1524. 1001. 1588. 1563.  997.  862. 1257. 1125. 1117. 1085.\n",
      "  858.  940. 1070. 1171. 1285. 1268. 1700. 1023.  862. 1313.  823. 1017.\n",
      "  837. 1025. 1252. 1417.  691. 1024. 1652. 1649.  777. 1070. 1621. 1564.\n",
      " 1256. 1679. 1067. 1641.  721. 1003. 1266. 1185. 2086.  946. 1575. 2264.\n",
      " 1080. 1679. 1318.  778. 1239. 3700. 1112.  841.  902.  787. 1213.  825.\n",
      " 1178. 1428. 1311.  780. 1161.  799.  942. 1285.  832. 1002. 1167. 1227.\n",
      " 1361. 1624. 1640.  921.  768.  728. 1308.  785.  914. 1708. 1349.  920.\n",
      " 1001. 1171. 2625. 3012.  879. 2625.  826. 1699.  807. 1259. 1506. 1120.\n",
      " 1526. 1042.  797.  686.  861. 1126. 1507.  786. 1126. 1621. 1020. 1136.\n",
      "  908. 1313. 1187. 1418. 1370. 3294. 1535. 1165. 1173. 1052.  578. 1169.\n",
      " 1057.  807. 1110. 1322.  598. 1526. 1140.  756.  904. 1608. 2515. 2052.\n",
      " 1122. 1235. 2024.  932. 1025. 1089. 1540. 1217. 1330. 1157. 1088.  982.\n",
      " 1011. 1130. 1413.  920. 1227. 1334.  966. 1351. 1303.  806. 1753.  747.\n",
      " 1161. 1071.  970. 2420. 1215. 1185. 1283. 1388. 1196.  736. 1022. 1001.\n",
      " 1162. 1425. 1079. 1445.  659. 1083. 1169. 2310.  991.  954.  863.  841.\n",
      " 1366. 1263. 1937. 1447. 2424. 1367. 1074. 1045. 1414. 1933. 1284. 1169.\n",
      " 1179. 1291.  616. 1994. 1460.  923. 1034.  969. 2636. 1427.  743. 1263.\n",
      " 1139.  743. 1608. 1423.]\n",
      "21760\n",
      "going!\n",
      "going!\n",
      "total loss： [1521. 1051. 1037. 1150.  953. 1221. 1042. 1135.  903. 1474. 1310. 2450.\n",
      "  920. 1007. 1106.  835.  793. 1119.  883.  824.  904. 1300.  942. 3825.\n",
      " 1336.  979. 1426. 1449.  880. 1861. 1182. 1669. 1374. 1315. 1473. 1144.\n",
      " 1189.  775.  583. 1070. 1019. 1500. 1015. 1744. 1277.  869. 1002. 1284.\n",
      " 1471. 4771.  999. 1073. 1709. 1169. 1347.  962. 1050.  959. 1151. 1268.\n",
      " 1036. 2752.  854.  919. 2492. 1103. 1516.  920. 1385. 1159. 1266. 1108.\n",
      "  671. 1483.  864. 1471. 1136. 1153. 2119. 2057. 1253. 2861.  858. 1132.\n",
      " 1025. 2130.  816. 1782. 1002. 4926.  729. 1276. 1127. 1043.  692.  801.\n",
      "  989. 3270. 1121. 1789.  848. 4500.  951. 1876. 1407. 1695. 1271. 1065.\n",
      " 1381.  879. 1229.  906. 1445. 1116. 1611. 1094.  707.  972. 1056. 1252.\n",
      " 1095. 1544. 1099. 1007. 3894. 1623.  910. 1182. 3496.  878. 1537. 1179.\n",
      " 1488. 1145. 1525. 1176. 1001.  685. 1191.  906. 2014. 1349.  891.  980.\n",
      " 1057. 1309. 1054. 2438.  670. 1520.  862.  856. 1717. 1126. 3846.  665.\n",
      " 2701.  824. 1332.  968. 1272.  971. 1341. 1388.  832. 1375. 1095. 1113.\n",
      " 1274.  858. 1122. 1510.  725.  975. 1270. 1092. 1114. 2387. 1029.  797.\n",
      " 1256. 1128. 1501. 1001.  713. 1143. 1781. 1267. 1785. 1153.  817. 1189.\n",
      " 1158. 1001. 1587. 1172.  937. 1506. 1155.  964.  874. 1069. 1984.  605.\n",
      "  889.  911. 1043.  914. 1375. 1084. 1221. 1027. 1631. 1186. 1100. 1495.\n",
      " 1079. 1002. 1020. 1857.  843. 1272.  578. 1055. 2139. 1223. 1160. 1157.\n",
      " 1365.  969. 1067. 1027. 1114.  822. 1252.  968.  687.  821. 1070. 2109.\n",
      " 3036.  872. 2938. 1624.  906.  843. 2107. 1054. 1135. 1093.  781. 1034.\n",
      "  676. 1272.  753.  995.]\n",
      "22016\n",
      "going!\n",
      "going!\n",
      "total loss： [ 886. 1017.  938.  605.  890. 1649. 1733.  960. 1048.  841.  887.  899.\n",
      "  969.  622.  950. 1092. 2309. 1435. 1201.  945. 1299. 1052. 1150.  651.\n",
      "  999.  915. 1629. 1266. 1364.  800. 1677. 1054. 1004. 1233. 2202. 1375.\n",
      "  901.  709. 1667. 1644. 1044. 1012. 1109.  736. 1424. 1074. 1079. 1161.\n",
      "  869. 1323. 1087. 1087. 2567. 1083.  843. 1413. 1277. 1243. 1759. 3241.\n",
      " 1053.  949.  954.  893.  915.  891. 1407. 1448. 1475.  777. 1298. 1473.\n",
      " 1304.  879. 1294. 1160. 1424.  679. 1143. 1018. 1002. 1273. 1136. 3852.\n",
      " 1014. 1768. 1245. 1124. 1693. 1261. 1013.  928. 1198. 1589. 2682. 1104.\n",
      " 1582. 1894. 1079. 1183. 1670. 1947. 1573. 1055.  873. 1037. 1121. 1022.\n",
      " 1317. 1827. 1710. 1555.  904. 1718. 1177. 4461. 1171. 1065. 1050.  921.\n",
      " 1702.  852. 1151.  630.  918. 2032. 1542. 1454. 1745. 1406. 1290. 2447.\n",
      " 1247. 1988. 1466. 1848. 1296. 1548. 1237. 2368. 2408. 1478. 1303. 1498.\n",
      " 1879. 1127. 1166. 1321. 1289. 1961.  979. 1566. 1949. 1387. 1748. 1433.\n",
      " 1565. 1629. 1291. 1173. 1217. 1414. 1477. 1457. 1176. 1352. 1422. 1673.\n",
      " 2017. 1372. 1574. 1334. 1362. 2466. 1512. 1874.  835. 1100. 1097. 1162.\n",
      " 1473. 2953.  937. 2389. 3476. 1168. 1864. 1036. 1274. 1127. 1913.  868.\n",
      " 1141. 1124. 1499. 1003. 3250. 1079. 1331.  992. 1131.  810. 1158.  939.\n",
      " 1182. 1372. 1611. 1278. 1145. 1164. 1085.  813.  834.  862. 1101. 1710.\n",
      " 1070. 1274.  860. 1644. 1923. 1200. 1235. 1185. 1449. 1296. 1246. 1038.\n",
      " 1317.  894. 1456. 1456.  983. 2315. 2362. 1131.  915.  926. 1179. 1819.\n",
      " 2870. 1504. 1776. 1664.  820.  861. 1007. 1357.  857. 1193. 1653. 1091.\n",
      "  910. 1065. 1516. 1351.]\n",
      "22272\n",
      "going!\n",
      "going!\n",
      "total loss： [1282. 1048. 1009. 1041. 1402.  888.  890. 1013. 1095. 1373.  879. 5782.\n",
      " 1179. 1434. 1125. 1530. 1119. 1054.  942.  939. 1053. 1014.  757. 1045.\n",
      "  837.  639. 6197. 1092. 1196. 3757. 1244. 1648. 1201. 1032.  802. 1149.\n",
      "  722. 1436.  802. 1167. 1261. 2170.  866. 1418.  786. 1165. 1401. 1658.\n",
      "  768.  749. 3210.  888.  955. 1142. 1110. 1325. 1133. 3347.  888. 1376.\n",
      "  907.  742.  874. 1193. 1104. 1255.  979. 1354. 1793.  989. 5051.  818.\n",
      "  872. 1244. 1642. 1116. 1323. 1355.  936.  506. 1230. 1585.  947. 1757.\n",
      " 1610.  945. 1396.  758.  795.  896.  861. 1342. 1377.  986.  636. 1505.\n",
      "  969. 1329.  945. 1011. 1167. 1233.  883. 1124.  881.  962. 3785.  955.\n",
      " 1091. 1167. 1479. 1237. 1498. 1108.  905.  872.  875. 1328. 1186.  826.\n",
      "  907.  768.  961. 1752.  908. 3301. 1113. 1341.  888. 1092.  930. 1560.\n",
      " 3103. 1601. 1857. 1369. 1565. 1243.  892.  965. 1322. 2609. 3216. 1136.\n",
      " 1462. 1035. 1314. 1342. 1220. 1186. 1059. 1322. 1636. 1035. 1008. 1138.\n",
      " 1154. 1111.  784. 1351. 2522. 1152. 1327. 1017. 1144. 1197.  838. 5778.\n",
      " 1196. 1001. 1497. 1948. 1379.  977.  899. 1387. 1305. 1388. 1179.  893.\n",
      " 1250. 1255.  925.  989. 1238.  836. 1794. 1154. 1394. 1171. 1116. 1509.\n",
      " 1509. 1001. 1463. 4433. 1253. 1332. 1342. 1171. 1001.  987. 1282. 2066.\n",
      "  645. 1369.  778.  992. 2229. 1423.  894. 1001.  995. 1436. 4481. 1466.\n",
      "  706. 1062.  849. 4782. 1283. 1963.  938. 1089. 1632.  928. 1043. 1282.\n",
      " 2183. 1074. 2030. 1003.  956. 1559. 1074. 1014. 1110.  965. 1444. 1054.\n",
      " 1140. 1331. 1091. 1889. 1379. 1207. 1306.  741. 1037.  852.  816. 1867.\n",
      " 1251. 1100. 1663. 1215.]\n",
      "22528\n",
      "going!\n",
      "going!\n",
      "total loss： [1379. 1058. 3487. 1579.  884. 1037.  983. 1270. 1577. 1487. 1421. 1399.\n",
      " 2158.  657. 1156. 1048. 2621. 1349. 1438. 1050. 1365. 1024.  708. 1113.\n",
      " 3451. 2887. 1116. 1986. 1154. 1345. 1242.  872. 1094. 1025. 1377.  852.\n",
      " 1337.  967. 1011.  951. 4149. 1159. 1030.  853. 1019. 1432.  649. 1142.\n",
      " 1397. 2789. 1067. 1553. 1394.  929. 1107. 1440. 1130.  961. 1273. 1006.\n",
      "  945. 1484. 1033. 1566. 1102. 1025. 1356.  916. 1359. 1087. 1316. 1028.\n",
      " 1194. 1578. 1694. 1305.  804.  780. 1163. 1518. 2814.  825.  954.  902.\n",
      " 1070.  862. 1902.  717.  937. 1690. 1983.  847. 1164. 1321. 3360. 1203.\n",
      " 1355. 1110.  711. 1532.  744.  931. 1920.  999. 1092.  792.  974. 1572.\n",
      "  997. 1670. 1775.  966.  743.  967.  992. 1845.  841. 1281. 1149. 1036.\n",
      "  793. 1388. 1035. 1128. 2833. 1639. 1371. 1903. 1474. 2471.  804.  793.\n",
      " 1228. 1104. 2221. 1093. 1074.  869. 1273. 1253. 1521. 1494. 1367. 1226.\n",
      " 1023.  891.  792. 1250. 1206. 1164. 1031.  697. 1265. 1585. 1374. 1165.\n",
      "  846. 1384. 1176.  992. 1141. 1472. 3954. 4239. 1148. 1097.  842. 2029.\n",
      " 1108. 1667. 1078. 2712. 1172. 1480. 1031. 1021. 1165. 1395. 1871.  970.\n",
      " 1623. 1578. 1312. 1247. 1527. 1213. 1276.  893. 1630.  966.  923. 1233.\n",
      " 1153.  769. 1017. 1126. 2376.  891.  860. 1246.  761. 1252.  815. 1311.\n",
      "  936.  871.  936.  859.  911. 2080.  981. 1566. 1526. 1538.  950. 1075.\n",
      " 1400.  873.  806.  874. 1527.  721.  834. 1593.  889. 2250. 1557. 2726.\n",
      " 1212.  949. 1057. 2391.  783. 4716. 1093.  760.  920.  870.  954.  830.\n",
      " 1048.  936. 1404. 1558. 1152. 1248. 1103.  706.  776. 1116.  811.  892.\n",
      " 1092.  974. 1133.  752.]\n",
      "22784\n",
      "going!\n"
     ]
    },
    {
     "name": "stdout",
     "output_type": "stream",
     "text": [
      "going!\n",
      "total loss： [1714. 2106. 1358. 1447.  945. 1599. 1254. 1291. 1816. 1158. 1700. 1183.\n",
      " 2324. 1278. 1390. 2028. 1321. 1659. 1822. 1168. 1387. 1016. 2579. 1022.\n",
      " 1381.  955. 1059. 1217. 1198. 2975. 1517. 1959. 1097.  985. 1601. 2286.\n",
      " 1204. 1790. 1056. 1137. 1253. 1412. 1404. 1942. 1085. 1436. 1218. 1538.\n",
      " 1344. 1264. 1264. 1468. 1465. 1454. 1388. 1170.  800. 1403. 1107. 1105.\n",
      " 1304. 2428. 1157. 1178.  819. 1197.  670. 1365. 1304. 1268.  821. 1541.\n",
      " 1221. 1015. 1806. 1364. 1289.  935. 1102.  862. 1569.  936. 1310. 1000.\n",
      " 1310. 1460. 1515.  882. 1214. 1182.  653. 1081.  798.  909.  915. 1042.\n",
      " 1413.  908. 1278. 1664. 1119. 1014.  936. 1122. 1001.  860. 2913. 1882.\n",
      " 1430. 1393. 1063. 1839.  955. 4697.  971.  999. 1282. 2475.  866. 1120.\n",
      " 1098.  760. 1083.  958. 1097.  912. 2543. 1529.  908. 1939.  628. 1258.\n",
      "  930.  950. 2931. 1403. 1142. 1117. 1215. 1131. 1395. 1023. 1208. 1200.\n",
      " 2624. 1591. 1408. 1310. 1118. 1507. 1784.  841.  835.  992. 1444. 1078.\n",
      " 1320. 1459. 1482.  791. 1182. 1045. 1078.  987.  865. 2184.  826.  913.\n",
      "  903. 1101. 1156.  907. 1393.  751. 1119. 1602. 1530. 1531. 1102. 1471.\n",
      " 1664. 1915.  853. 1202.  845.  995. 2472. 2143. 1062.  804. 1181.  984.\n",
      " 1380. 1235.  937. 1141. 1087. 3083. 1135.  862.  719. 1366. 1371. 1317.\n",
      " 1697.  993. 1539. 2012.  890. 2495. 1980.  443.  913. 1084. 1704.  590.\n",
      "  978. 1808.  858. 1104. 1026. 1294. 1282. 1103. 1037. 1384.  952. 1177.\n",
      "  851. 1144. 1302. 1134. 1504. 1637. 1350.  780.  700. 1193. 1205. 1032.\n",
      "  936. 1330. 1393.  962.  732.  727. 1157.  881. 1299.  934. 1130. 1221.\n",
      " 1311.  894.  914. 1110.]\n",
      "23040\n",
      "going!\n",
      "going!\n",
      "total loss： [1367. 1511. 1070. 1403. 1137. 3859. 1242. 1160.  891. 2443. 1346. 1901.\n",
      " 1024. 2343. 1284. 1799. 1607. 1501.  947. 1776. 1341. 2427.  937. 1498.\n",
      " 1357.  740.  954.  990. 3120.  959. 1041. 1606.  995. 1595. 1344. 1311.\n",
      " 2046. 1148. 1171. 1348.  814.  942.  980. 1157. 1057. 1432.  850. 1126.\n",
      " 1369.  973. 1646. 1007. 2605. 1544. 1443. 1273. 2280. 4152.  862. 1024.\n",
      " 1121. 2068. 1472. 1297. 1147. 1193. 1146. 1567. 1373. 3137. 1461. 1070.\n",
      "  812.  997. 1424. 5351.  918. 2476.  900. 1166. 1270. 1827. 1393. 1138.\n",
      " 1156. 1945. 1089. 1019.  962. 1350. 1862. 1544. 1370. 1307. 1405. 1169.\n",
      "  985. 3413. 1052. 1187. 1275. 2599. 1251. 1540. 1584. 1112. 1052. 1692.\n",
      " 1041. 1095. 1325. 1236. 1053.  989. 1531.  845.  957. 1112. 1177.  898.\n",
      " 3033.  981. 1178.  887. 1220. 1614.  988.  901. 2188. 1057. 1615. 2272.\n",
      " 1102. 1117. 1058. 1586. 4356. 1298.  994.  862. 1340. 1101. 1097.  804.\n",
      "  987. 1168. 1035. 1085. 1072. 1003. 1173. 1239. 1314. 1069. 1373. 1183.\n",
      "  907. 1051. 1063. 1099.  998. 1217. 1197. 1336. 2025. 1024. 1011. 1351.\n",
      "  823. 1609. 1266. 1736. 1147. 1075. 1019. 1461. 4013. 1141.  991.  866.\n",
      "  783. 2886.  909. 1035. 1188.  990.  768. 1125. 1726. 3461. 1113. 1152.\n",
      " 1392. 3277. 1419. 1586. 1252. 1105. 2026. 2399. 1031. 2183. 1348. 1000.\n",
      " 1046.  931. 1050. 1480. 1256. 1411. 1246. 2158.  944. 1441. 1236. 2182.\n",
      " 1890. 2808.  950. 1396. 1093. 1229. 1371. 1005. 1465.  989. 1133. 1141.\n",
      " 1152. 1167. 1204. 1221. 1027. 2684.  949. 1840. 1314.  794. 1128. 1106.\n",
      " 1298. 1018.  863. 2084. 1027. 1429. 1103. 2235. 1078. 1216. 1294. 1139.\n",
      " 1632. 1259. 1130. 1521.]\n",
      "23296\n",
      "going!\n",
      "going!\n",
      "total loss： [1239. 3311. 1754. 1831. 1161.  955. 1005. 1534.  746. 1079.  870. 1586.\n",
      " 1190. 1447. 1161. 1104. 1502. 1159. 1409. 1141. 1260. 1378. 1558.  856.\n",
      " 1191. 1522.  939. 3873. 1101. 1279. 1331. 4425.  964. 2009. 1273. 1326.\n",
      "  975. 1868. 1483. 1865.  836. 1622.  911. 1184.  912.  852. 2001.  942.\n",
      " 1087. 1635. 1422. 2069. 1117. 1470. 1717.  992. 1088. 1152. 1077. 2219.\n",
      " 1264. 1012. 1137. 1101. 1270.  930. 1472. 1399. 1130.  970. 1265.  728.\n",
      " 1137.  823. 1485. 1114. 1139.  918. 1013.  708. 1714.  922.  929.  850.\n",
      " 1349.  989. 1248. 1203.  839. 1248.  905. 1637. 1094. 1591. 1180. 1981.\n",
      " 1866. 1907.  943. 1499. 1496. 1977. 1359. 1064. 1182. 1247. 1644.  777.\n",
      " 1150. 1191. 1652. 1553.  968. 1072.  799. 1141. 1052. 1088. 1320.  784.\n",
      " 1129. 2564.  991. 1276. 2425. 1664.  884. 1073.  922. 1378. 1552.  686.\n",
      "  996. 1291.  993.  981.  621.  688.  941.  965.  958. 1062.  963. 1013.\n",
      " 1435. 1580. 1200. 1237.  937.  973. 1389.  911. 1806.  944. 1358.  992.\n",
      " 1168. 1176.  874. 1078. 1546. 1340. 1142. 1180. 1184.  937.  904.  923.\n",
      " 1347.  880. 1481.  715. 1541.  962. 1195. 1679. 1011.  829.  609. 1812.\n",
      "  884. 2458.  907. 2420. 1586. 1289. 1078.  917. 5762. 1073. 1074. 1270.\n",
      "  887.  902. 1230.  988. 1210.  961. 1138. 1161. 1130. 1588. 2371. 1281.\n",
      " 1847.  782. 1447.  919. 1855. 1123. 1802. 1045. 2459. 1787. 1049.  831.\n",
      " 1129. 1275. 1116. 1258. 1292. 1119. 1377. 2426.  956. 1422.  885. 1031.\n",
      " 1652. 3335. 3789. 1008.  876. 1414. 1410.  989. 1312. 1374. 1027. 1082.\n",
      " 1401. 1412.  986. 1261.  858. 1092. 3872.  953. 1490. 1079. 3801. 1231.\n",
      " 2410. 1375.  772. 1517.]\n",
      "23552\n",
      "going!\n",
      "going!\n",
      "total loss： [1028. 1053. 1592. 1198.  883.  941.  982. 1597. 2957. 1108. 2095. 1924.\n",
      " 1079.  845. 1545. 1070. 2541. 1210. 1316. 1546. 1141. 1833. 1110. 1219.\n",
      " 1099. 1026. 1207. 1216. 2512.  661. 1166. 2311. 1443. 1337. 2248.  937.\n",
      " 1785. 1677.  939.  841. 1388. 2201. 1418. 1045. 1815. 1615. 1239. 1382.\n",
      " 1668. 1176. 1105. 2144. 2376.  973. 1541. 1571. 1042. 4085. 1367. 1184.\n",
      " 1004. 1142. 1126. 1089.  958. 1188.  976. 1553.  961. 1572. 1132. 1378.\n",
      "  982. 1067.  839. 1411.  938.  862. 2141. 1191. 1419. 1545. 1453.  968.\n",
      "  856. 1014. 1072. 3344. 1366. 2156.  867. 1061. 2155. 1073.  815. 1094.\n",
      "  728.  960. 1267.  861.  826. 1385. 1498. 2323. 2183. 1115. 1019. 1337.\n",
      " 1350. 1303.  740. 1064.  942. 1049. 1061. 1042. 1485. 1269. 1829.  980.\n",
      " 4876. 1298. 1039. 1493. 1397. 1032. 2117. 1458. 1151. 1083. 1121. 1143.\n",
      " 1773. 1517. 1353.  917. 1001. 1523.  996. 1019. 1027. 1225. 1433. 1366.\n",
      " 2525. 1408. 1126.  712. 1019. 1212. 4135. 1319. 1818. 1076. 2801. 1126.\n",
      " 1084. 1637.  843. 1191.  855. 1284. 1352.  879. 2603. 1894. 1271.  652.\n",
      " 1299. 1484. 1351. 1309. 1517. 1330. 1399. 1994. 1062. 1143. 1251. 1762.\n",
      " 1076. 1265. 1103. 1037. 1771. 1100.  706. 1333. 1029.  812. 1177. 1707.\n",
      " 1351. 1239. 1006. 1713.  841. 1135. 1426.  634. 1144. 1545. 1288. 2646.\n",
      " 2069.  740.  986.  608. 1060. 1150. 1109. 1659. 1049.  956.  960.  884.\n",
      " 1369. 1033. 1213.  903. 1355. 1042. 1228. 1280. 1587. 1057.  747. 1401.\n",
      " 1188. 1168. 1995. 1591.  921. 1241. 1178. 1052.  958. 1848. 1095.  738.\n",
      " 1347. 1928. 1295. 1101.  958.  818.  905. 1618. 1091. 3368. 1220.  604.\n",
      " 2640.  742. 2148. 2476.]\n",
      "23808\n",
      "going!\n",
      "going!\n",
      "total loss： [ 925. 2848. 1033. 1168. 1023. 1002. 1855.  983.  959. 1162.  896.  884.\n",
      "  970. 1179. 1129.  908.  897. 2185. 4758. 1445. 1022. 1608. 1443. 1221.\n",
      " 1516. 1052. 1193. 1240. 1092.  834. 1218. 1630. 1153. 1656.  998. 1460.\n",
      " 1299. 1123. 2379.  857. 1635.  870.  762. 1325. 1152. 3214.  932. 1101.\n",
      "  892. 1252.  953. 1066. 2897.  998. 1626. 1184.  999. 2264. 1305. 1491.\n",
      " 1378. 1138. 1495. 1331. 1345.  975. 1002.  942.  998. 1246. 1178. 1109.\n",
      " 1239. 1135. 1578. 4659.  961.  862. 2052.  905.  733. 2409. 1036. 1041.\n",
      " 1239.  822.  742. 1112. 1704. 2764. 2177. 1513.  770.  929.  756.  703.\n",
      " 1440.  917. 1003. 1262.  856. 1097. 1062.  895. 1450. 1198. 1315.  925.\n",
      "  757. 1001.  922.  912. 1547. 1073. 1206. 1441. 1599. 1193. 1054. 1363.\n",
      " 1153. 1148.  861. 1099.  913. 1390. 1163.  593. 1184.  820. 1689. 2151.\n",
      " 1443.  978. 1213. 1204. 1779. 1000. 1454. 3582. 1101. 1485. 1305.  861.\n",
      "  951. 1439. 2225. 1283.  904. 1149. 1835. 1205. 1261. 1140. 1110. 1523.\n",
      "  972.  911. 1790.  832.  917. 1026. 1219. 1228. 1982. 2004.  955. 1941.\n",
      " 2825.  855. 1235.  933.  982.  875. 1313. 1292. 1206. 1855.  903. 1403.\n",
      "  982. 1083. 2305. 2109. 1136. 2047. 1375. 1395. 1352.  974. 1104. 1704.\n",
      " 1173. 1491. 1023. 1485. 3982.  883. 1219. 1617. 1123. 1341. 1767. 1045.\n",
      " 1117. 1470.  910. 4327. 2198. 1206.  989. 1063. 1647. 1470.  983.  848.\n",
      " 1149. 1339. 1224. 1560. 1225. 1391. 1307. 1301.  994. 1123. 1212. 1037.\n",
      " 1656. 2364.  868. 2073.  980. 1405. 1503. 1654. 1743. 1339. 1041.  768.\n",
      " 1683. 1241. 1473. 1691. 1012. 1205.  838. 1821.  688.  745. 1053. 1043.\n",
      " 1644. 2513. 1007. 1023.]\n",
      "24064\n",
      "going!\n",
      "going!\n",
      "total loss： [1010. 1028. 2383.  555.  984. 1088. 1402.  805. 1262.  921. 1118.  848.\n",
      "  773.  857.  978. 1498.  693. 1652.  860.  733.  919. 2047. 1266.  893.\n",
      "  699.  904. 1173.  934. 1228. 1395.  818. 1029.  893. 1129. 1475. 1120.\n",
      "  990. 1080.  928.  905. 1340. 1018.  866. 1310.  759. 2789.  894. 1235.\n",
      "  862. 1215. 1022. 1374. 1042. 1817. 1204. 1691. 2050. 1217. 1040. 1081.\n",
      "  886.  989. 1465.  853. 1333. 1156. 1498. 1395.  940. 1075.  756. 1434.\n",
      " 1128. 1053. 1336. 1263. 1046. 1062.  937. 1182. 1361.  817. 1021.  934.\n",
      "  698. 2430. 1459. 1329. 1110.  950.  807.  832. 1017. 1341. 1099.  829.\n",
      " 1625. 1271. 1232. 1298. 1038. 3081. 1423.  685. 1115.  974.  992. 1393.\n",
      "  807. 1166.  890. 1323.  913.  764. 1304. 2364. 3042. 2005.  943. 1447.\n",
      " 1512. 1144.  982.  976. 3111. 1367.  991. 1183. 1160.  929.  911.  967.\n",
      " 1319. 1281.  669. 1354. 1589.  709. 1441.  762. 1167. 1142.  988. 2705.\n",
      " 1884. 1193. 1006. 1050.  855.  768.  963. 1122.  791. 1112. 1551. 1085.\n",
      " 1170. 1369.  906.  949. 1084.  864. 2869. 1597. 1211. 2162. 2482.  961.\n",
      " 1857.  810.  857. 3908.  892. 1463. 1013.  994. 1770. 1129.  993. 5539.\n",
      "  941. 1056. 1251. 1185. 1172. 1011. 1242. 1134. 1067.  892.  863. 1056.\n",
      " 1701. 1475. 2681.  940. 3098. 1486. 1366. 1121.  978. 1606. 1044. 1423.\n",
      " 2180. 2141. 1486. 1352. 1313. 1047.  940. 1768. 1582. 1270. 1357. 1528.\n",
      " 1653. 1053. 2190. 3615. 1133. 1081.  968. 1070. 1474. 1631. 1258. 1317.\n",
      " 1740. 1323. 1151. 2759. 1413. 1810. 1898. 1394. 1641. 1244. 1372. 1335.\n",
      " 1691. 2375. 1805. 1277. 1405. 1604. 1537. 1703. 1076. 1589. 1551. 1282.\n",
      " 1440. 2002. 1201. 1784.]\n"
     ]
    },
    {
     "name": "stdout",
     "output_type": "stream",
     "text": [
      "24320\n",
      "going!\n",
      "going!\n",
      "total loss： [ 992. 1162.  937. 1107. 1175. 1361. 1131. 1183. 1247.  971. 1028. 1684.\n",
      " 1117. 1400.  972. 1367. 1252. 1184. 1479.  940. 1064. 1908. 1660. 2043.\n",
      " 1060. 1240. 1199. 1376. 1180. 1061. 1044. 1869. 1500.  844. 1036. 1325.\n",
      " 1806. 1083. 1102. 1691. 1170. 1467. 1865. 2077. 1576. 1415. 1026. 1335.\n",
      " 1436. 1532.  941. 1283. 1960. 1125.  824.  950. 1083. 1416. 1298. 1142.\n",
      " 1163. 1058. 1050. 1065.  808. 1459. 2476.  980. 1472. 1164. 1032. 1304.\n",
      " 1149. 1074.  606. 1216. 1287. 1212.  762. 1259. 1647.  876. 1170. 1468.\n",
      " 1069. 1440. 1545. 1015. 2281. 1237. 3124.  754. 1322. 6265.  986. 1063.\n",
      "  998. 1441. 1848. 1226.  676. 1489. 1101.  971.  920. 1217. 1199.  933.\n",
      " 2252. 1225. 1420. 1031. 1127. 1000. 1258.  826.  934. 1437. 1420. 1342.\n",
      "  837. 1044.  856. 2007. 1213. 2212. 1707.  931. 1419. 1687. 1084. 1482.\n",
      "  803. 1399. 1286. 1159. 1424. 1358. 1138.  776. 1278.  798. 1397.  971.\n",
      " 3454. 1475. 2678. 1199.  880. 1071.  717.  757. 1534. 1667. 1416.  961.\n",
      "  997. 1140. 1687.  934.  925. 1360. 1669. 2581.  785. 1633. 1260. 1024.\n",
      " 1777. 1294. 1390. 1148. 2192. 1343. 1079.  833.  879. 1205. 1630. 1729.\n",
      " 1628. 1728.  945. 1047. 1016. 1280. 1273.  953.  851. 1103. 2495.  987.\n",
      " 1259. 1474. 2557. 1029. 2487. 1437. 1220. 1067. 2728. 1285. 1157. 1906.\n",
      " 1155. 1079. 1592. 1463. 1106. 1246.  617. 1113. 1324. 1814. 1795. 1071.\n",
      " 1287. 1527. 2166. 1153. 1489. 1286. 2021. 3722. 2273. 1269. 1156. 1345.\n",
      " 1381. 2365. 1485. 2122. 2342. 1420. 1019. 1252. 1838. 1275. 1131.  937.\n",
      " 1251. 1573. 1412. 1096.  874. 1031. 2301. 2042. 1537. 1222. 1430. 1411.\n",
      " 1474. 1048. 1434. 1570.]\n",
      "24576\n",
      "going!\n",
      "going!\n",
      "total loss： [2345. 1536. 2086. 1048. 1098. 1068. 1044. 1204. 1165.  968. 1580. 1168.\n",
      "  951. 1371. 1413. 1581. 1465. 1081. 1262. 1291. 1964. 1052. 1723. 1198.\n",
      " 2258. 1800. 1089. 1530. 1277. 1417. 1105. 1438. 2051. 1269. 1494. 1375.\n",
      " 1867. 1599. 1327. 1647. 1671. 1254. 1009. 1349. 1170. 2399. 1064. 1875.\n",
      " 1327. 1388. 3925. 1559. 1308. 2343. 1363. 1208. 1960. 1227. 1492. 1132.\n",
      " 1308. 1405. 1143. 1240. 1153.  811. 1829. 1447. 1549. 1164.  784. 1580.\n",
      "  944. 1416. 1100. 1063. 1487. 1000. 1205. 2125. 1009. 1054. 3166. 1487.\n",
      " 1237. 2127. 1221. 1073. 1257. 1373. 3118. 1505. 1240. 1566.  932. 1099.\n",
      " 1605.  993. 1307. 1726. 1498. 1213. 2227. 1680. 1263. 1406. 1319. 1057.\n",
      " 1218.  973. 2422. 1253. 1407. 1538.  901. 1100. 1047. 1282.  999. 1113.\n",
      "  842. 1719. 1606. 1277. 1280. 1186. 1241. 2517. 1217. 1072.  933. 1601.\n",
      " 1758. 1046. 1228. 1092. 1011. 1032. 1070.  791.  952. 1193. 1740.  957.\n",
      " 1198. 1206. 4978.  971. 1195.  860. 1401. 1240. 1100. 1425. 1538. 1215.\n",
      " 1252.  760. 1233. 1689. 1201.  912.  871.  933. 1566. 1459.  985. 1094.\n",
      "  840.  970.  998. 1792. 1468. 1698. 1954. 1150.  892.  906.  770.  749.\n",
      " 1059. 1220. 1521. 1375. 2493. 3012. 1165. 1364.  785. 1075.  915. 1593.\n",
      "  812. 1278.  989.  871.  839. 1608. 1271.  929. 2022. 1075.  616.  902.\n",
      " 1079. 1800. 1886.  814. 1500. 1948. 1284. 1036. 2008. 1149.  762. 2077.\n",
      " 1352.  756. 1422.  895. 1105. 1160.  998.  998. 1291. 1623. 1238. 1064.\n",
      "  993. 1960.  807. 1765. 1216. 1138. 1439. 1133. 1477. 1985. 1491. 1172.\n",
      "  968. 3928. 1641. 1165.  857. 1003. 1233. 1085. 2814. 1084. 3130. 1273.\n",
      "  892. 1102.  850. 1157.]\n",
      "24832\n",
      "going!\n",
      "going!\n",
      "total loss： [1732. 1229. 1467. 1437.  848. 1609. 3817.  870. 1776. 1588. 1004. 1058.\n",
      " 1525. 1385. 1130. 2422. 1327.  869. 1757. 1563. 1242. 1184. 1081. 1638.\n",
      " 1498. 2224. 1704. 1370. 1449. 1250. 1424. 1051.  934. 1225. 1313. 3922.\n",
      " 1387. 1973. 1238. 1221. 1214. 1101. 2160. 1392. 1200. 1065. 3140.  854.\n",
      " 1599.  954. 2197. 1192. 1076. 2472. 1329. 1727. 1026. 1713. 1157. 1436.\n",
      " 1770. 1665.  784. 1072. 1211. 1366. 1124. 1141. 1201. 1225.  871.  886.\n",
      " 1091. 1714.  931. 2770.  994. 1233. 1189. 1090. 1838. 1259. 1141. 1104.\n",
      "  950. 1759. 1222. 1078. 1194.  993.  924. 1038. 1502. 1089. 1519. 1100.\n",
      " 1524.  727. 1136. 1017. 1611.  737. 1516. 1329. 1231. 1048. 2406.  631.\n",
      "  916. 1187.  832. 1135.  884. 1141. 1222. 1880. 1188. 1060. 1477. 1266.\n",
      " 1183. 1202. 1023. 1099. 1300. 2804.  985. 2490. 1038.  976. 1805. 1388.\n",
      " 1012.  993. 1080.  935. 2650. 1383.  750. 1024. 1110. 1148. 4524. 1210.\n",
      " 1201. 1755. 1654. 1200. 1415. 1166. 2228. 1169. 1141. 1399. 1460. 1460.\n",
      " 1524.  977. 1412. 6431. 2579. 1464. 1298. 1294. 1139.  986.  724. 2540.\n",
      " 1446. 1000.  748. 1003. 1041. 1388. 1041. 1461. 1217.  913.  955. 1486.\n",
      " 1315. 1094.  917. 1162.  732. 1150. 1000.  981.  777. 3246. 1012. 1937.\n",
      "  681.  951. 1563. 1061. 1262. 1800. 1226. 1889. 1191.  824. 3692.  894.\n",
      " 1123. 1403. 1144. 1345. 6576. 1139. 1410.  936.  944. 3026.  794.  973.\n",
      " 1317. 1754.  817. 1329.  862. 1157. 1495. 1031. 1302.  746. 1337. 2148.\n",
      "  898.  984. 1140. 1950. 1123.  996. 1892. 1055. 1495.  763. 2270. 1270.\n",
      " 1172. 1097. 1061. 1315. 1040. 1304. 1261. 2058. 1159. 1023. 1385. 1068.\n",
      "  940. 1134. 1276. 1191.]\n",
      "25088\n",
      "going!\n",
      "going!\n",
      "total loss： [ 772. 1298. 1361.  984. 2180. 3297. 2096.  815. 1932. 1178. 1309. 1238.\n",
      " 1117. 1061. 1862. 1327. 2782.  934. 1848. 1543. 1974. 1445. 1150. 1921.\n",
      " 1941. 1290. 1183. 1009. 1718. 1187. 1180. 2025. 1184. 1483. 1399.  941.\n",
      " 3274. 1233. 2071. 1249.  895. 2709. 3977. 1310. 1149. 1785. 1241. 1430.\n",
      " 1095. 2123. 1276. 1090. 1257.  631. 1145. 1230.  932. 1047. 1163.  964.\n",
      " 1399. 1751. 1100. 1676. 1209. 1105. 1177. 1283. 2690.  771. 1146. 1354.\n",
      " 1086. 2674. 2045.  983. 1236. 1129.  966. 1008.  860. 2506. 1273. 1026.\n",
      "  933. 1365.  835. 1089. 1486. 1122. 1324. 1781.  914. 2514. 1525.  935.\n",
      " 1367. 3352. 1768.  985. 1068. 1172.  867. 2028. 1298. 1038. 1139. 1150.\n",
      " 1051. 1278.  776. 1137.  953. 1455. 1357. 1110. 2117.  879.  688.  783.\n",
      " 1181. 1242. 1017.  887. 1129.  905.  774.  855.  892. 1023.  895. 1426.\n",
      " 1454.  953. 1398.  860. 1367. 1358. 1322.  906. 1063.  977. 1238. 1431.\n",
      "  851. 1055. 1880. 1239.  927.  909.  772. 1144.  811. 1179.  828.  933.\n",
      " 3800. 1036. 1474. 1230.  963. 1187.  646.  993.  760. 2094.  950. 1877.\n",
      " 1074. 1107. 1433. 2573.  837. 1138. 2128. 1522.  986. 3502. 1387.  786.\n",
      " 1359.  990.  890.  834. 1556. 1569. 1546.  881. 1891.  888.  982. 1576.\n",
      " 3071. 3505. 1134. 1026. 2703.  861.  987. 1006. 1188. 1165.  983. 1030.\n",
      " 1266. 1058. 1006. 1304.  852. 1092. 1242.  868. 1303. 1168. 1157. 1024.\n",
      "  939.  915. 1689. 1100. 1916.  858. 2371. 1191. 1294. 1779. 2489. 1711.\n",
      " 1492. 1380.  935.  959. 1931. 1211. 1269. 1311. 1825. 1048. 1425. 1234.\n",
      " 1483. 1158. 1064.  906. 1241. 1390. 1084.  823. 1198. 1212. 1016.  933.\n",
      " 1274. 1734. 1545.  782.]\n",
      "25344\n",
      "going!\n",
      "going!\n",
      "total loss： [ 944. 1031.  916.  872. 1685. 1028. 1502.  732. 1583.  945. 1352. 1299.\n",
      " 1332. 1160. 1818. 1046.  587.  880. 1513.  780.  995.  798.  838.  914.\n",
      " 1489. 1048. 1739. 1798. 1195.  970.  769.  779. 1163.  791. 1593.  922.\n",
      "  968.  793.  970. 5963.  690. 1133. 1063. 1097. 1038.  838.  880. 1413.\n",
      " 1140. 1048.  865. 1168.  831. 2505. 1438. 1430.  632. 1081. 1937. 1196.\n",
      "  930. 1207. 1176. 1451. 1177. 3012. 1250. 1471. 1518. 1226. 1992. 1755.\n",
      " 1189. 1085. 1434. 1920. 1078. 1142. 3514. 1346. 1207. 1587. 1235. 1140.\n",
      " 1573. 1250. 1124.  805. 1548. 1091. 3185.  948. 1198. 1364. 1074. 1222.\n",
      " 1166.  887.  848. 1732.  949.  941.  990. 1446. 1738.  789. 1098.  904.\n",
      " 1187. 1024. 1159. 1116. 1776.  822. 2282. 1255. 1154. 1265. 1476.  875.\n",
      " 1108.  880. 1120. 1260. 1152. 1364. 1065. 1284. 4241. 1375. 1775. 3189.\n",
      " 1088.  953. 1002. 1469.  837.  851. 1032. 1055.  658.  946. 1253. 1400.\n",
      " 1311.  849. 1100. 1053.  699. 1461. 1089. 1345.  803.  952.  899. 1007.\n",
      "  893. 1577.  827. 1972.  980.  800.  905. 1539.  727. 1469. 2496. 1751.\n",
      " 1382.  696.  913. 1017. 1656.  961. 1359. 1183. 1270. 1158. 1411. 1176.\n",
      " 1752. 1005. 1650. 1052. 1253. 2698. 1195. 1134. 2657. 3869. 1165. 1321.\n",
      " 1011. 1144. 1759. 1055. 1077. 1212. 1110. 1019. 1339. 1574. 3173.  973.\n",
      " 1761.  982. 1258. 1893. 1015. 1195.  694. 1695.  900. 1410.  919.  883.\n",
      " 1217. 1654. 1491. 1418. 1085. 1876. 1099. 1091. 1151. 1777. 2190. 1204.\n",
      " 2568. 1409. 1982. 1001. 1397. 1085. 1118.  871. 1231. 2232. 1144. 1507.\n",
      " 1308. 1488. 1389.  867. 1210. 3684. 1735. 1362. 1571. 1769. 3110. 1332.\n",
      "  869. 1048. 1504. 1321.]\n",
      "25600\n",
      "going!\n",
      "going!\n",
      "total loss： [1171. 2075. 1272. 1486.  944. 1066. 1203. 6851. 1812.  930. 2429. 1408.\n",
      "  938. 1448. 1209. 1511.  634. 1197. 2458.  846. 1113. 1170. 1202. 1075.\n",
      "  846. 1389.  980. 1173. 1051. 4792. 1260. 1109. 1351. 1099.  989. 2183.\n",
      "  992. 1735. 1301. 6633. 1166. 1474. 1264. 1301. 1406.  942. 1164.  842.\n",
      "  649. 1112. 1086. 1271. 1150. 1232.  771. 1083. 2576. 1099. 2136. 1117.\n",
      " 1066. 1643. 1612. 1525. 1774.  923. 1521. 1056. 3188. 1037. 1197.  974.\n",
      " 1303.  782. 1468.  838.  949.  958. 1206. 7029. 1454. 1415.  976. 1115.\n",
      "  972. 2184. 1125. 1689.  706. 1083. 1082.  730. 1000.  945. 1277. 1535.\n",
      "  906. 1046.  978. 1046.  738. 1292. 1031.  925.  799. 1847. 1045.  982.\n",
      " 1450. 1054.  903. 1138. 7062. 1331. 1345. 1407. 1065.  985. 1179. 1356.\n",
      " 2741. 1336. 1029. 1147. 1033. 1739.  815. 1148. 1292. 1320.  601. 1393.\n",
      " 1114. 1211. 1128. 1164. 1222. 1505. 2012. 1481. 1817. 1263. 1132. 1231.\n",
      " 1161. 1379. 1215. 1047. 1104. 2671. 1152. 1103.  938.  950. 1416. 1065.\n",
      " 2819. 1554.  964. 1049. 1561. 1337. 1092. 1146. 2211. 1139. 1250. 1379.\n",
      " 1322.  981. 3757. 2188. 1357. 1360.  948. 1211. 3869. 1493. 1481. 1083.\n",
      " 1443. 1228. 1442. 1259.  804. 1054. 1507.  773.  815. 1317. 4623.  983.\n",
      " 2146.  832. 1224. 1302. 1087. 1041. 1623.  916. 1568.  815. 2231. 1057.\n",
      "  957. 1399. 1687.  913. 1473. 1101. 1103. 2038. 1315.  677. 1039.  778.\n",
      " 1127.  944. 2091. 1896. 1779. 1273.  921. 1081. 1047. 1618. 1046.  944.\n",
      "  947.  760. 1520. 1365. 1216. 1024. 1388.  709. 1238. 1074.  900.  875.\n",
      " 1445. 1159. 1140. 1142. 1658. 1144.  753. 1316. 1144. 1472. 1436. 1257.\n",
      " 2374. 1249. 1003. 1136.]\n",
      "25856\n",
      "going!\n",
      "going!\n"
     ]
    },
    {
     "name": "stdout",
     "output_type": "stream",
     "text": [
      "total loss： [1595. 1047. 1409. 1643. 1398. 1924. 1408. 1048. 1006. 1901. 1185.  918.\n",
      "  784. 1313. 1448. 1112.  754. 2811. 1352. 1895. 1191. 1171.  862. 2600.\n",
      " 1071. 1278. 1458. 1799. 2994. 1017. 2041. 1250. 1989. 1300.  888. 1436.\n",
      " 1276. 1057. 1372. 1194. 1162.  692. 1489. 1129. 1230.  934. 1320.  915.\n",
      " 2460. 1402.  775. 1400. 6674.  983. 1011. 1258. 1054. 1286. 1124. 1198.\n",
      " 1293. 5939. 1035.  931.  989. 1653. 1110. 4080. 1109. 2298. 1031.  886.\n",
      " 1944. 1099.  825.  821. 1691. 1487. 1760.  941. 1696. 1128. 1389.  853.\n",
      " 1031. 1517.  967.  993.  991. 1099. 1159.  686. 1235. 1367. 1100.  987.\n",
      "  718.  954.  852.  938.  773. 1966. 1228.  823.  964. 1433. 1098.  941.\n",
      "  927.  989. 1225.  967. 1395. 1630.  823. 1094. 1343.  922.  986. 1220.\n",
      "  995. 1190. 1381. 1754.  802. 1079.  998. 1034.  890. 1388. 1471.  854.\n",
      "  729. 1152.  866.  836. 1337. 1018. 1073. 2027. 2251. 1709. 3613. 1246.\n",
      " 1255.  956. 1294. 1596.  847. 1908.  954. 1222. 1349.  831. 1588. 1202.\n",
      " 1527. 2008.  825. 1052. 1604. 1231. 1329.  873.  843. 1887. 1182. 1938.\n",
      " 1426.  912. 1019. 1055. 1171. 1447. 1344. 1393. 1358. 1361. 1295. 1296.\n",
      " 1328.  865. 1118.  961. 1835. 1142.  984.  861.  955. 1063. 1324. 1687.\n",
      " 1123.  892.  758.  988.  946. 1254. 1256. 1650. 1610.  959. 1368.  978.\n",
      " 1429. 1409.  948. 1015. 1020. 1129. 1076. 1542. 1215.  648. 1030. 1658.\n",
      " 1532. 1182. 2170. 1023.  992. 1722.  851. 1573. 2688. 1388. 1219.  834.\n",
      " 1182.  850. 1197. 1050. 1231.  683. 1189. 1324. 1004.  751. 1783. 1316.\n",
      "  978.  774.  924. 1486. 1672. 1468. 1357. 1366. 1590. 1226. 1241. 2116.\n",
      " 1234. 1741. 1069. 1767.]\n",
      "26112\n",
      "going!\n",
      "going!\n",
      "total loss： [1311. 1429. 1118.  882. 1153.  845. 3065. 1266. 2020. 1142.  997. 1121.\n",
      "  885. 1363.  861. 1208. 1512. 1356. 1112. 1157. 1193. 1266.  751. 1024.\n",
      " 1299. 1931. 1426. 2915.  931. 1892. 1748. 1128. 1137.  957.  941. 1308.\n",
      " 1434. 2487. 1130.  772. 1237. 1032.  973. 1178. 2317. 1019. 1835. 1013.\n",
      "  993. 1302.  976.  985. 1286. 1814. 1196. 1198. 1106. 1035. 1789.  990.\n",
      "  840. 1995. 1173. 1550. 1049.  726. 1059.  867. 1306. 1032.  981. 1170.\n",
      "  972. 2374. 1019. 1148. 1127.  807.  838. 1951.  674. 2158. 1116. 2048.\n",
      " 1850.  825.  878. 2633.  744. 1263.  901.  803.  707. 1090.  862.  999.\n",
      " 1673.  795. 3144.  989.  951.  898. 1143. 1008. 1214.  958.  986.  925.\n",
      "  826. 1074. 1103. 2587. 1277.  943.  788. 1158.  953.  736. 1128. 1055.\n",
      "  979.  961.  769. 1883.  910. 1138. 1545. 2019. 1875.  991.  855.  535.\n",
      "  993.  999.  982.  953.  924.  919. 1391.  809. 1378.  877. 1479. 1091.\n",
      "  991.  873.  934.  774. 1336. 1145.  886. 2125.  632.  855.  976. 1805.\n",
      " 3419. 1307.  959.  985.  914.  834.  715. 1233. 1065. 1412. 2032.  902.\n",
      " 1352. 1471.  899. 1129.  696.  756.  937.  789.  563. 1115.  895. 1089.\n",
      " 1025. 1189. 1484.  703.  646. 3151. 1581. 1730. 1029.  992. 1598.  877.\n",
      " 1073. 1020. 1141. 1304. 1557.  974. 1247.  729. 1041. 1060. 9075. 1357.\n",
      " 2600. 1986.  871. 1510. 1267. 1103. 1570. 1018.  814.  878.  995. 1193.\n",
      " 1439. 2451. 1171. 1277. 1009. 1184. 1529.  931.  930.  779. 1127. 1664.\n",
      " 1059. 2414. 1236. 3114. 1198. 1194.  949. 1324.  965. 2241. 1240.  946.\n",
      " 1074. 2217. 5915. 1260. 1483. 1622. 1048.  838.  879. 1196. 1082. 1158.\n",
      " 1027. 1320. 1250. 1058.]\n",
      "26368\n",
      "going!\n",
      "going!\n",
      "total loss： [ 1789.  1321.  1319.  1408.  4309.  1171.  1493.  1984.  1156.  1127.\n",
      "  1920.  1014.  1175.  1952.  1021.  2084.  1212.  1051.  1447.  2265.\n",
      "  1064.  1074.  1203.  1450.  1428.  1253.  1507.   932.  1270.  1556.\n",
      "  1791.  1421.  1499.  1622.  1215.  2396.  2172.  6079.  1063.  1706.\n",
      "  1370.  2711.  2739.  1031.  2412.  2840.   942.  1809.  2125.  1290.\n",
      "   924.   934.  1798.  1574.  1168.  1120.  1249.  1295.  2770.  1138.\n",
      "   922.  1190.  1029.  1548.  1138.  6682.  1407.   638.   748.  1107.\n",
      "   962.   918.  4502.  1511.   658.  2789.   795.   950.  1645.   698.\n",
      "   894.  1250.  1552.  1199.  1391.  1032.  1069.   919.  1619.  1381.\n",
      "  1306.   884.  1486.   942.  1200.  1204.   915.   981.  1462.  1060.\n",
      "   980.  1010.  1042.  1445.  1868.   517.  1195.  1326.   908.  1177.\n",
      "   882.  2006.   721.   778.  1489.   951.   992.  1064.   645.  1168.\n",
      "  1050.  1118.  1522.  1215.  1641.  1094.  1496.   852.  1723.   854.\n",
      "  1056.  1140.   693.  2182.  1205.   932.   976.   747.   873.  2888.\n",
      "   972.   937.  1123.  1125.  1012.  1824.  1315.   987.  1121.   696.\n",
      "   880.   751.  1294.  1110.  1316.   926.  2065.  1214.  1025.  1258.\n",
      "   942.   903.  1509.   686.   737.  1544.  1783.  1083.  1192.   979.\n",
      "  1379.  1189.  2566.  1287.  1148.   745.  1021.   815.  1203.  1122.\n",
      "   950.   759.  1156.  1786.   603.  1999.  1552.  1118.  1143.  1264.\n",
      "   953.  1243.  1763.   845.  1156.  2271.   943. 11783.  1065.  1099.\n",
      "  1016.  1223.  1565.   832.  1213.  1253.   980.  1205.   950.   625.\n",
      "  1207.  1608.  1368.   928.   899.   913.  1090.  1058.  1148.  1519.\n",
      "  1270.  1363.  1346.  2910.  1013.  1139.  1635.   974.  1565.  4992.\n",
      "   596.   780.  1288.   922.   879.   854.   944.  1377.  1167.   910.\n",
      "  1582.  3496.  1220.   989.  1182.  1076.  1509.   810.  1072.  1015.\n",
      "  1158.  1438.  6805.   858.  1389.   756.]\n",
      "26624\n",
      "going!\n",
      "going!\n",
      "total loss： [1442. 1110. 1089. 1188.  836.  895. 1085. 1560. 1008.  950. 1077. 1136.\n",
      " 2342. 2797. 1421.  917.  699. 1544. 1356. 1328. 1337.  940. 1184. 3202.\n",
      " 1142. 1848.  945. 1123. 1603. 1056. 1364. 1359. 1217. 1174. 1647. 1145.\n",
      "  966. 1238.  885. 1061.  953. 1440. 3353.  952. 1260. 1500.  988. 1368.\n",
      " 1293. 1714. 1708.  692. 1110. 1128.  899. 1256. 1367. 1067. 3228. 1714.\n",
      " 1243. 1113. 1124. 1935. 1226.  881. 1030. 1463. 1326. 1473.  877.  922.\n",
      "  867. 1411. 1518. 1702.  882.  732. 1904. 1091. 1074. 1032. 1231. 1155.\n",
      " 1362.  952. 3160. 1041. 1194.  898. 1773. 1091. 1337. 1066.  730. 1431.\n",
      " 1177. 1053. 1099.  874.  958. 1315. 1419.  740. 1086. 1109. 1127. 1063.\n",
      " 1028. 1845.  990.  765. 1267. 1193. 2114. 1071. 1210. 1045. 1368. 1462.\n",
      " 1432. 1077.  956. 2232.  941. 1659. 1247. 1752. 1598.  865.  944. 2745.\n",
      "  938.  727.  998.  859.  743. 2219. 3338.  884. 1574. 1650. 1000. 1253.\n",
      " 1427. 1526. 1077. 1034. 1044. 1850.  937. 1159.  744.  564.  865. 1120.\n",
      " 1075.  800. 1618.  915. 1091. 1399. 1112. 1331. 1728. 4547.  771.  835.\n",
      " 2189. 1812. 1077.  790. 1161.  930.  904. 1239.  824. 1191. 1631. 1229.\n",
      "  746. 1016. 1369.  963. 1545.  966. 1550. 1395.  839. 1076.  621. 1106.\n",
      " 4184. 5048. 1839.  984. 1007. 1343. 1113. 1464. 1329. 2740. 1296.  957.\n",
      " 1684.  872.  689. 1232. 1409. 1080.  906. 1285. 1215.  754. 1577.  769.\n",
      "  851.  958. 1261. 1574.  981. 1334. 1199.  985. 1103. 1152.  608. 1133.\n",
      "  571. 1432.  765. 1309. 2794. 1322.  865.  933. 1004. 1096. 1338. 1485.\n",
      " 1543. 1130.  919. 1711. 1054. 1026.  832.  995.  983. 3170. 1143.  798.\n",
      " 1075.  900. 1485. 1285.]\n",
      "26880\n",
      "going!\n",
      "going!\n",
      "total loss： [ 927.  804.  979. 1232. 1084. 1251.  993.  981. 4817. 1288.  939. 1077.\n",
      " 1878. 1339. 3619. 1128. 1418. 3666.  903. 1361. 1188. 1960. 1109. 1391.\n",
      " 1632.  967. 1088. 1046. 1216. 1704. 1309. 1487. 1096. 3307. 1433.  996.\n",
      " 1563. 1141. 1760. 1719. 1261. 1321. 1803. 1172. 1822.  906.  923. 1814.\n",
      " 1237. 1230.  798.  510. 1960. 1072.  739. 1245. 1302. 1216. 1370. 1211.\n",
      " 1753. 1319. 1799. 1889.  930.  794. 1443. 1100. 1371. 3260. 1255. 2837.\n",
      " 3903. 1312.  992. 1274. 1101. 1329.  978.  624. 2991. 1386. 1651. 1309.\n",
      "  778. 1256. 1393. 1183. 2314. 1043. 1317. 1639. 1338. 1297. 1437. 1266.\n",
      " 1126.  967. 1238.  994. 1081. 1615. 1118. 1528. 1161. 2083. 1271. 1140.\n",
      " 1403. 1655. 1156. 1127. 1193. 1047. 1775. 1232.  917. 1079. 1200. 1279.\n",
      " 1188. 1105. 1882. 1074. 1279. 2054.  944. 1179.  923. 1176. 1144.  853.\n",
      " 1182. 2852.  806. 1204. 2792.  748. 1089.  979.  996. 2182. 1221. 1039.\n",
      " 1085. 1328. 2124. 1338. 3271. 1714. 1134. 1322.  987.  855. 1713. 1128.\n",
      " 1227. 1342.  978. 1106. 1090. 1129. 1476.  874. 1339. 1229. 3332. 1138.\n",
      "  861. 1075. 1569. 1299. 1155. 1699. 1223.  803. 4090. 1330.  926.  713.\n",
      "  760.  875.  732. 1119. 1280.  899. 1181. 1095.  898.  796. 1120.  862.\n",
      "  980. 2397. 1765. 1025. 1216. 1855. 1211. 1268. 1588. 1770.  830.  879.\n",
      " 1006. 1038. 1062. 1208. 1440. 1294. 2105. 6660. 1002.  828. 1031. 1103.\n",
      " 1493. 1000. 1110. 1542. 1049. 2037.  869.  992. 1368.  981.  992. 1204.\n",
      " 1226. 4060. 1790. 5407. 1347. 1121. 1298.  776.  746. 1363. 1218.  721.\n",
      " 1418. 1001.  801.  930. 1293.  909. 1005. 1344. 1046. 1074. 2475. 1506.\n",
      " 1109. 1204. 1443. 1143.]\n",
      "27136\n"
     ]
    },
    {
     "name": "stdout",
     "output_type": "stream",
     "text": [
      "going!\n",
      "going!\n",
      "total loss： [1338. 1125. 2791. 1038. 3135.  959. 1510. 1099.  939. 1594. 1507. 2075.\n",
      " 1164. 1141.  701.  801. 1259. 1011. 1576.  753.  963.  606.  904. 2436.\n",
      " 1193. 1128. 2119.  924. 1612.  744. 1090. 2178. 1208. 1164. 1013. 1079.\n",
      " 1048.  826. 1421. 1284. 1045. 1988.  972.  771. 1333. 1580. 1201.  986.\n",
      " 1294. 1224.  719.  967.  899. 1118.  970.  935. 1249. 1337. 2139. 1382.\n",
      "  999. 1075.  688.  792. 1175. 1348.  967. 1083. 1768. 1665. 2894.  882.\n",
      " 1207.  870.  964. 1204. 1158. 1295. 1455. 1138. 1793.  971. 2265. 1345.\n",
      " 1466. 1055. 1896. 1239. 3063. 1394. 1055.  924. 1308. 1566. 1284. 3561.\n",
      "  967. 1426.  671. 1806. 1307. 1195.  831. 1086. 1353. 2697. 1521. 1420.\n",
      " 2819. 1734. 1007.  672.  926. 1041. 1209. 1029. 1147. 1207.  887.  893.\n",
      "  827.  885.  945. 1577. 1127. 1380. 1172. 1649. 1500. 1188. 3083. 1304.\n",
      " 1757. 1175. 2081. 1244. 2010.  882. 1271. 1026. 1991. 1056. 1350.  847.\n",
      " 1402. 1448. 1203. 2937. 1253. 1100. 1261. 1256. 1523. 1301. 1103. 1238.\n",
      " 1125.  922. 2010. 1846. 1231. 1283. 3121. 1365. 1509. 1422. 1241. 1041.\n",
      " 1361. 1053. 2657.  902. 1020.  887. 1359. 1164. 1237. 1041. 1943. 1342.\n",
      " 1422. 1575.  759. 1058. 1637. 1656. 1344. 1229. 1344.  987. 1305.  602.\n",
      " 1049. 1632. 1254. 1242.  855. 3279. 1102. 1137. 1246. 1726.  836. 1221.\n",
      "  994. 2100.  935. 1157.  969.  912. 1030. 1050.  927. 1031.  988. 1053.\n",
      " 3998. 1383. 1275. 1041. 1234.  924. 2398. 1201. 1149. 1577. 1717. 1033.\n",
      " 1390. 1001. 1270. 3276. 1242. 1098. 1220. 1355. 1778. 1554. 1261. 1087.\n",
      " 1208.  997. 1968.  755.  738.  855. 1551.  961. 1097. 2439.  487. 1082.\n",
      "  855.  804. 1832. 1000.]\n",
      "27392\n",
      "going!\n",
      "going!\n",
      "total loss： [1637. 1134.  912. 1702. 1953.  899. 1491. 1270. 1371. 3471. 1349. 1983.\n",
      "  543. 1055. 1114. 1269. 1388. 1343. 2283.  992.  951. 1262.  752. 1244.\n",
      " 1137.  964.  932. 1355. 1041. 1545. 1545. 1309.  725.  963. 1239.  923.\n",
      " 3693. 1203.  741. 1557. 1547. 1335. 1668.  948. 1248. 1432.  898. 1271.\n",
      " 1961. 1212. 1365. 2659. 1980. 1337. 1930. 1648. 1103.  972. 1967. 2067.\n",
      " 1507.  846. 1975. 1379. 1136. 1051. 1795. 1245.  897.  965. 1264. 1305.\n",
      " 1164. 2129. 1269. 1234.  950. 1583. 1348. 1253. 1619. 1123. 1090.  896.\n",
      " 2482.  763. 1721. 1672. 1127.  940. 1047. 1309.  807. 1454.  979. 1192.\n",
      " 2418. 1030.  998.  894. 1385.  963.  817. 1665. 1443.  952.  863. 1064.\n",
      " 1085.  984.  965. 2263. 1914. 1786. 2913. 1100. 2880. 1180. 1140.  800.\n",
      "  996. 1433. 1022. 1301. 1428. 2698.  876. 1170.  991. 1641.  958. 1066.\n",
      " 1236. 1219. 1003. 1249. 1211. 1107.  958.  895.  852. 1306. 1337. 3772.\n",
      " 1001. 1027. 1210.  925. 2891. 1826. 1164. 1151. 1802. 1175. 1381. 1060.\n",
      "  920.  918.  959. 1229. 1218. 1128. 1193. 1146. 1461. 1120. 1016. 1048.\n",
      " 1164. 2813.  879. 1351. 1417. 1416. 1111. 1384. 1302. 1399. 3515. 2966.\n",
      " 2019. 1180.  911.  991. 1071. 1241.  837. 1207. 1691. 1067. 1877. 1503.\n",
      " 1898. 1451. 1948. 1587. 1465.  978. 1092. 1094. 1013. 2883. 1840.  864.\n",
      " 1067.  967. 2330. 1352. 1119.  743. 1233. 1387.  998.  898. 1021.  896.\n",
      " 1022. 1194. 1699. 1383.  840. 1227. 1189. 1170. 1833. 1040. 1207. 1924.\n",
      "  992. 1515.  901. 1131. 1106. 1016. 1186.  961.  879. 1613. 1665. 1068.\n",
      "  906.  850. 1944.  978.  958. 1213. 1330. 1301. 1235. 1464. 1092.  932.\n",
      " 1404.  906. 1241. 1318.]\n",
      "27648\n",
      "going!\n",
      "going!\n",
      "total loss： [3509. 1216. 1011.  804. 1019. 1197. 1103. 3260. 1523. 1000. 1194. 1036.\n",
      " 1037. 1192. 2614.  920.  902. 1060. 1103. 1006. 1054. 1132. 1598. 1468.\n",
      " 1544. 1888.  916. 1100. 1201.  796. 1781. 1483. 1785. 1063. 1108.  988.\n",
      " 1018. 1593. 2515.  917.  894.  832.  864. 1004. 1669. 1542.  801.  813.\n",
      "  624.  939. 1024. 1003. 1025. 1124. 1155. 2047. 1589.  912. 1023.  920.\n",
      " 1128. 1459. 1226. 1776. 1586. 1831.  995. 1607.  993.  949. 1302. 2016.\n",
      " 2277. 1502. 1222. 1240. 1161. 3468. 1226. 1454. 1042. 1144. 1529. 1534.\n",
      " 1637. 1447. 1194. 1325. 1337. 1681. 1573. 3195. 1490. 1078. 2649. 1226.\n",
      " 1085. 1262. 1164. 3239. 2992. 1837.  967. 1148. 1863. 1427. 2226. 1446.\n",
      " 2213. 1165. 1311. 1541. 1964. 2201. 1034. 2208. 2839. 1289. 1496. 1095.\n",
      " 1465. 1429. 1406. 1162. 1091. 1243. 1182. 1301.  938.  410. 1118.  731.\n",
      " 1857. 1282. 1365.  949. 1054. 1317.  888.  939.  902.  741.  781.  724.\n",
      " 1837. 2631.  777.  754. 2764.  662. 1609.  888. 1256.  851. 2051.  778.\n",
      " 1040.  910. 1004.  714.  771.  856. 1050. 1234.  813. 1117. 1961. 1169.\n",
      " 1008. 1771.  662. 1050.  968.  759.  965. 1794.  914.  959.  983. 1015.\n",
      "  984. 2420. 1217.  967. 3155.  867. 1079.  881. 1123. 1742.  912.  953.\n",
      "  865. 1128. 1835. 1326. 1397. 1267. 1621. 1022. 1222. 1239.  902.  909.\n",
      " 1182. 1195. 1355. 2959. 2243. 1144. 1697.  984. 1133. 1612. 1330. 1895.\n",
      " 1055. 1514. 1270. 1120. 1889. 1273. 2477. 1491. 1800. 2970. 2124.  972.\n",
      " 1101. 1813. 1436. 1563. 1534. 1590. 1254. 1171. 2649. 1287. 1189. 1627.\n",
      " 1460.  955. 1125.  763. 1083.  999. 2336. 2035. 2513. 1428. 1234. 1656.\n",
      " 1934. 1538. 1026. 1166.]\n",
      "27904\n",
      "going!\n",
      "going!\n",
      "total loss： [3156.  907. 1566. 1242.  905. 1110. 1185. 1116. 1054. 1048. 1690.  965.\n",
      "  914. 1335. 1656.  934. 1094. 1809. 1251.  998. 1232.  899. 1008. 2063.\n",
      " 3606. 1405. 1095.  972. 1266. 1233. 1292.  980. 1417. 1361. 1556.  924.\n",
      " 1311. 1089. 1034. 1490. 1020. 1488. 1076. 1052. 1064. 1937.  924. 1038.\n",
      " 1228. 1599.  864. 1049. 2512. 1680.  777. 1637. 1202. 3638.  806. 1561.\n",
      " 1361.  844. 2152. 2207. 1799.  758. 1056.  873. 1260. 2304.  945. 1109.\n",
      " 1048. 1388. 8362. 1532. 1064. 1130.  992.  744.  947. 1314. 1698.  909.\n",
      "  904.  777. 1092. 1003. 1047. 1737.  808.  968.  860. 9460. 1111. 1167.\n",
      " 1044. 1204. 1313. 1061. 1063. 1222. 2414. 1503. 1416. 2203. 1205. 1223.\n",
      " 1023. 1220.  999.  966. 2409. 1247.  862.  896. 2201.  876. 1086.  875.\n",
      " 1047. 1254. 1451. 1145. 1291. 1499. 1236. 1104. 1077.  709.  763.  890.\n",
      "  955.  986. 1374. 1363.  747. 1164.  872.  874. 1538.  948.  964.  971.\n",
      " 1122. 1037. 1141. 1117. 1242.  693. 1106. 1194.  851. 1074.  944.  608.\n",
      " 1003. 1054. 1554. 1040.  901.  707. 1064.  681. 2747. 1417.  866. 2018.\n",
      " 2579. 3621.  545. 1225.  833.  809. 1241.  842.  939.  507. 1397.  932.\n",
      "  667. 1038. 1017. 1134. 1263.  588. 1098.  733. 1718.  968. 1423. 1136.\n",
      " 1214. 1896. 1335.  892. 2310. 1320. 1812. 1458.  902. 1575. 1011. 1510.\n",
      " 1759. 1151.  747. 1211. 1195.  850. 1126. 1118. 2203. 1109. 1063.  933.\n",
      "  874. 1409.  778.  996. 1295.  878. 1173.  928.  912.  973. 1276.  879.\n",
      " 2215. 1549.  800.  791.  678.  837. 1771. 1121.  813. 1130. 1075.  987.\n",
      "  908. 1230. 1301.  563. 1168. 1011.  993.  889. 1704. 1197. 1035.  979.\n",
      " 1238.  941. 1424.  921.]\n",
      "28160\n",
      "going!\n",
      "going!\n",
      "total loss： [1109. 1037. 1002. 2568. 1434. 1031. 1392. 1078. 1138. 1104.  858.  971.\n",
      " 1006. 1086.  891. 3988. 1156. 1142.  920.  622.  551. 1551. 1236.  912.\n",
      " 1304. 1079.  973.  966. 1645.  842. 1133. 1446. 1065. 1115. 1081. 5888.\n",
      "  775.  819.  908. 1265. 3103.  903. 1039. 1097. 1290. 1084.  748.  890.\n",
      " 1044. 1412. 1554. 1445. 1130. 1360.  952.  970. 1008. 1299. 1321.  959.\n",
      " 1192. 1089. 1075.  741.  878.  708. 1102.  983. 1046. 1120. 1066. 1297.\n",
      " 2018.  887. 2334. 1141. 1192. 1155.  771. 1138. 1178. 1140. 1130. 2265.\n",
      " 1326.  898. 1232. 1238.  949.  922.  919.  722. 1074.  938. 1163. 1099.\n",
      " 1160. 1491.  799. 1004. 1536.  936. 2599. 1040. 1338.  661.  845. 1274.\n",
      " 1700.  753. 1866. 1019.  887. 2147. 1032.  852. 1633. 1132. 2034. 1202.\n",
      " 1044. 2020.  869.  929.  747.  800. 1099.  896. 1566. 1585. 1158.  747.\n",
      "  959. 2477. 1791. 1026. 1037.  848.  919.  687. 1125. 1249. 1360. 1071.\n",
      " 1793. 1174.  947. 1352. 1182. 2093.  868. 1237. 1123.  857. 1810. 2763.\n",
      "  855. 1362. 2252. 1034.  909. 1340. 2058. 1344. 1111.  929. 1736. 1167.\n",
      " 1181. 1161. 2102.  686.  850. 1173. 1031. 1055. 2253. 1657.  782. 1162.\n",
      "  892. 1313. 1096. 1000.  867. 1076. 2090. 1001. 2283. 1147. 1196.  842.\n",
      " 1366. 1198. 1372. 1184. 1048.  861. 1175. 2001. 1013.  956. 1605.  842.\n",
      " 1096. 1365.  935.  879. 4520. 1876. 1274. 1303.  843. 1033.  978.  831.\n",
      "  753. 1657. 1101. 1368.  783.  984. 1529.  980.  781. 1606. 1419.  995.\n",
      " 1212. 1430. 1320. 1294. 1253. 1277.  914.  917. 1844.  955.  702. 1068.\n",
      " 1063.  866. 1368. 1799. 1028.  860.  783. 2419. 1290.  851. 2672. 1058.\n",
      " 1533. 1063. 1225. 1220.]\n",
      "28416\n",
      "going!\n",
      "going!\n"
     ]
    }
   ],
   "source": [
    "%%monitor_cell \"augmentation_phase\"\n",
    "randaug_anom(data[\"train\"], aug_copy_num = 0)"
   ]
  },
  {
   "cell_type": "code",
   "execution_count": 252,
   "metadata": {},
   "outputs": [
    {
     "data": {
      "image/png": "[encoded data removed]",
      "text/plain": [
       "<Figure size 432x288 with 1 Axes>"
      ]
     },
     "metadata": {
      "needs_background": "light"
     },
     "output_type": "display_data"
    },
    {
     "name": "stdout",
     "output_type": "stream",
     "text": [
      "256\n",
      "discrimination_losses:\n",
      "[661.36474609 700.35919189 675.21026611 ...   0.           0.\n",
      "   0.        ]\n",
      "residual_losses:\n",
      "[2403.56347656 2456.73583984 2417.20629883 ...    0.            0.\n",
      "    0.        ]\n",
      "total_losses:\n",
      "[584156.375 584156.375 584156.375 ...      0.         0.         0.   ]\n",
      "yeh\n",
      "yeh\n"
     ]
    }
   ],
   "source": [
    "sns.distplot(disc_losses[0:256], bins=50);"
   ]
  },
  {
   "cell_type": "code",
   "execution_count": 242,
   "metadata": {},
   "outputs": [
    {
     "data": {
      "text/plain": [
       "<matplotlib.axes._subplots.AxesSubplot at 0x7fca38765518>"
      ]
     },
     "execution_count": 242,
     "metadata": {},
     "output_type": "execute_result"
    },
    {
     "data": {
      "image/png": "[encoded data removed]",
      "text/plain": [
       "<Figure size 432x288 with 1 Axes>"
      ]
     },
     "metadata": {
      "needs_background": "light"
     },
     "output_type": "display_data"
    },
    {
     "name": "stdout",
     "output_type": "stream",
     "text": [
      "total loss： [ 637.  675.  668.  598.  757.  690.  736.  690.  662.  631.  669.  686.\n",
      "  839.  690.  691.  689.  648.  715.  719.  741.  694.  664.  682.  679.\n",
      "  690.  647.  693.  653.  728.  690. 5696.  693.  722.  709.  734.  699.\n",
      "  751.  695.  676.  685.  696.  654.  611.  660.  632.  699.  731.  715.\n",
      "  718.  780.  781.  751.  701.  885.  667.  689.  657.  644.  868.  799.\n",
      "  738.  663.  637.  670.  723.  721.  639.  633.  814.  795.  816.  820.\n",
      "  698.  653.  743. 1307.  626.  726.  694.  733.  676.  660.  638.  750.\n",
      "  739.  722.  743.  702.  737.  680.  764.  798.  742.  693.  697.  722.\n",
      "  735.  724.  704.  719.  684.  758.  747.  796.  748.  769.  705.  818.\n",
      "  700.  744. 5654.  732.  830.  809.  677.  904.  748.  630.  663.  781.\n",
      "  755.  659.  738.  679.  776.  739.  711.  731.  707.  772.  665.  707.\n",
      "  729.  648.  810.  715.  676.  735.  700.  700.  842.  623.  756.  718.\n",
      " 5164.  713.  692.  654.  758.  709.  663.  748.  695.  701.  632.  640.\n",
      "  719.  697.  685.  681.  737.  696.  639.  640.  826.  757.  705.  722.\n",
      "  711.  708.  671.  669.  650.  737.  624.  640.  684.  731.  718.  754.\n",
      "  692.  693.  648.  663.  653.  725.  790.  731.  712.  718.  699.  725.\n",
      "  650.  743.  668.  734.  596.  684.  658.  666.  621.  697.  649.  684.\n",
      "  628.  663.  718.  642.  783.  624.  784.  684.  619.  706.  651.  649.\n",
      "  785.  689.  663.  741.  706.  710. 3427.  631.  633.  651.  727.  605.\n",
      "  650.  778.  692.  642.  709.  679.  719.  617.  673.  655.  696.  607.\n",
      "  645.  626.  606.  681.  661.  655. 2019.  644.  711.  653.  686.  664.\n",
      "  614.  669.  701. 4397.]\n",
      "512\n",
      "discrimination_losses:\n",
      "[5467.77148438  764.02886963  681.32244873 ...    0.            0.\n",
      "    0.        ]\n",
      "residual_losses:\n",
      "[2845.97363281 2434.04785156 2537.55395508 ...    0.            0.\n",
      "    0.        ]\n",
      "total_losses:\n",
      "[584123.1875 584123.1875 584123.1875 ...      0.          0.\n",
      "      0.    ]\n",
      "yeh\n",
      "yeh\n",
      "total loss： [ 734.  666.  704.  736.  701.  758.  787.  661.  815.  809.  784.  713.\n",
      "  683.  733.  829.  786.  761.  760. 5790.  707.  636.  813.  665.  729.\n",
      "  692.  707.  716.  752.  748.  768.  688.  661.  641.  709.  713.  633.\n",
      "  710.  705.  721.  759.  672.  733.  697.  776.  775.  704.  665.  770.\n",
      "  818.  717.  651.  792.  673.  641.  702.  714.  765.  759.  813.  684.\n",
      "  760.  771.  668.  671.  709.  756.  665.  640.  703.  770.  662.  788.\n",
      "  710.  711.  705.  751.  662.  732.  726.  802.  701.  729.  639.  717.\n",
      "  757.  841.  670.  708.  710.  701.  663.  723.  749.  724.  769.  786.\n",
      "  696.  694.  749.  654.  725.  686.  757.  735.  638.  681.  696.  647.\n",
      "  677.  790.  696.  773.  690.  696.  684.  736.  662.  658.  733.  707.\n",
      "  748.  723.  841.  870.  682.  746. 5731.  747.  689.  707.  807.  704.\n",
      "  646.  663.  685.  687.  715.  681.  732.  653.  700.  692.  846.  642.\n",
      "  759.  774.  715.  774.  689.  779.  754.  738.  724.  637.  578.  722.\n",
      "  663.  756.  684.  694.  752.  916.  709.  693.  758.  623.  750.  712.\n",
      "  756. 5012.  716.  720.  740.  688.  706.  662.  815.  692.  686.  631.\n",
      "  619.  671.  773.  694.  735.  720.  670.  687.  951.  670.  727.  736.\n",
      "  683.  721.  675.  632.  652.  767.  751.  707.  728.  732.  742.  775.\n",
      "  676.  644.  695.  622.  755.  745. 5269.  678.  778.  724.  795.  616.\n",
      "  741.  651.  723.  655.  730.  743. 2625.  738.  788.  633.  781.  683.\n",
      "  751.  801.  719.  815.  713.  711.  632.  622.  804.  704.  687.  679.\n",
      "  719.  709.  756.  703.  716.  628.  673.  673.  689.  694.  680.  653.\n",
      "  628.  673.  741. 5507.]\n",
      "1024\n",
      "discrimination_losses:\n",
      "[701.83880615 732.49334717 687.17089844 ...   0.           0.\n",
      "   0.        ]\n",
      "residual_losses:\n",
      "[2426.75634766 2483.35766602 2431.02099609 ...    0.            0.\n",
      "    0.        ]\n",
      "total_losses:\n",
      "[584780.625 584780.625 584780.625 ...      0.         0.         0.   ]\n",
      "yeh\n",
      "yeh\n",
      "total loss： [ 758.  798. 4973.  769.  700.  708.  724.  723.  634.  784.  677.  626.\n",
      "  733.  683.  729.  683.  686.  766.  678.  676.  670.  727.  752.  709.\n",
      "  675.  719.  672.  707.  693.  747.  679. 1035.  759.  680.  700.  795.\n",
      "  698.  688.  682.  805.  657.  700.  710.  867.  723.  716.  708.  719.\n",
      "  805.  759.  678.  689.  658.  755.  656.  793.  638.  670.  712.  691.\n",
      "  726.  971.  793.  680.  652.  743.  698.  648.  706.  709.  687.  684.\n",
      "  729.  744.  703.  631.  759.  668.  705.  661.  763.  745.  602.  641.\n",
      "  693.  707.  682.  794.  737.  730.  767.  723.  837.  618.  804.  817.\n",
      "  690.  660. 5344.  744.  696.  740.  691.  760.  798.  750.  692.  719.\n",
      "  662.  695.  646.  885.  729.  700.  691.  764.  758.  657.  734.  717.\n",
      "  676.  688.  663.  670.  729.  723.  656.  770.  709.  749.  763.  742.\n",
      "  680.  726. 5304.  644.  719.  701.  739.  779.  997.  739.  679.  672.\n",
      "  674.  695.  694.  757.  709.  697.  661.  697.  688.  688.  705.  671.\n",
      "  676.  727.  706.  750.  773.  749.  759.  718.  737.  663.  666.  705.\n",
      "  679.  704.  819.  649.  726.  763.  755.  645.  694.  659.  712.  672.\n",
      "  816.  694.  729.  715.  791.  730.  727. 1170.  707.  685.  722.  712.\n",
      "  704.  748.  682. 5783.  694.  736.  611.  681.  862.  662.  684.  723.\n",
      "  676.  718.  675.  784.  662.  626.  647.  731.  767.  701.  675.  652.\n",
      "  656.  732.  724.  623.  749.  693.  661.  625.  705.  730.  586.  636.\n",
      "  693.  943.  612.  728.  687.  678.  697.  779.  726.  738.  683.  661.\n",
      "  691.  659.  695.  610.  729.  739.  657.  676.  661.  903.  663.  717.\n",
      "  715.  714.  707. 4276.]\n",
      "512\n",
      "discrimination_losses:\n",
      "[650.22973633 698.26257324 757.12927246 ...   0.           0.\n",
      "   0.        ]\n",
      "residual_losses:\n",
      "[2470.84179688 2463.19140625 2435.80859375 ...    0.            0.\n",
      "    0.        ]\n",
      "total_losses:\n",
      "[585492.4375 585492.4375 585492.4375 ...      0.          0.\n",
      "      0.    ]\n",
      "yeh\n",
      "yeh\n",
      "total loss： [ 647.  657.  610.  680.  791.  709.  683.  717.  644.  633.  690.  737.\n",
      "  729. 5393.  658.  660.  646.  663.  707.  695.  673.  717.  672.  728.\n",
      "  790.  713.  693.  716.  711.  743.  766.  649.  701.  632.  786.  753.\n",
      "  729.  725.  635.  685.  672.  830.  652.  668.  679.  725.  654.  589.\n",
      "  728.  633.  653.  735.  746.  673.  726.  664.  836.  979.  742.  696.\n",
      "  689.  648.  710.  625.  713.  785.  628.  694.  658.  703.  648.  677.\n",
      "  618.  638.  642.  760.  706.  697.  715. 4835.  757.  719.  717.  675.\n",
      "  713.  745.  627.  704.  709.  680.  682.  704.  656.  665.  711.  661.\n",
      "  639.  663.  746.  598.  632.  697.  745.  711.  678.  696.  692.  618.\n",
      "  707.  716.  697.  704.  727.  607.  839.  642.  712.  692.  677.  638.\n",
      "  639.  717.  689.  647.  619.  676.  714.  676.  651.  759.  663.  653.\n",
      "  709.  665.  716.  734.  646.  692.  650.  771.  742.  747.  720.  689.\n",
      "  681.  699.  684.  720.  671.  669.  706.  758.  689.  676.  668.  689.\n",
      "  659.  826.  679.  684.  617.  648.  664.  624.  698.  646.  784.  720.\n",
      "  619.  691.  799.  669.  631.  685.  712.  635.  772.  721. 4961.  685.\n",
      "  751.  745.  702.  678.  641. 1555.  687.  667.  725.  612.  668.  645.\n",
      "  654.  691.  650.  657.  694.  663.  748.  702.  737.  638.  701.  709.\n",
      "  729.  848.  874.  663.  666.  657.  743.  647.  790.  623.  664.  654.\n",
      "  650.  754.  670.  653.  697.  602.  607.  690.  633.  661.  666.  658.\n",
      "  703.  716.  721.  724. 1039.  688.  854.  658.  796.  707.  743.  704.\n",
      "  761. 4888.  687.  715.  707.  693.  653.  701.  709.  666.  635.  622.\n",
      "  736.  634.  622. 4467.]\n",
      "768\n",
      "discrimination_losses:\n",
      "[5467.77148438  764.02886963  681.32244873 ...    0.            0.\n",
      "    0.        ]\n",
      "residual_losses:\n",
      "[2845.97363281 2434.04785156 2537.55395508 ...    0.            0.\n",
      "    0.        ]\n",
      "total_losses:\n",
      "[584123.1875 584123.1875 584123.1875 ...      0.          0.\n",
      "      0.    ]\n",
      "yeh\n",
      "yeh\n",
      "total loss： [ 688.  712.  691.  687.  671.  684.  639.  694.  676.  648.  830.  682.\n",
      "  787.  795.  685.  707.  712.  773.  722.  700.  673.  769.  751.  720.\n",
      "  682.  733.  729.  796.  742.  685.  656.  689.  680.  715.  693.  710.\n",
      "  746.  731.  698.  658.  711.  629.  701.  729. 5204.  670.  886.  640.\n",
      "  731.  595.  661.  675.  624.  663.  839.  738.  643.  676.  640.  714.\n",
      "  753.  722.  835.  741.  748.  690.  878.  636.  784.  610.  747.  836.\n",
      "  624.  720.  730.  678.  678.  736.  696.  638.  735.  724.  786.  808.\n",
      "  658.  751.  664.  721.  761.  701.  674.  794.  694. 5514.  690.  753.\n",
      "  700.  672.  855.  711.  701.  748.  744.  802.  680.  750.  779.  678.\n",
      "  813.  681.  725.  661.  782.  718.  712.  689.  744.  652.  686.  659.\n",
      "  687.  718.  711.  751.  720.  750.  650.  766.  742.  713.  702.  669.\n",
      "  816.  655.  749.  697.  748. 4717.  641.  719.  627.  714.  717.  653.\n",
      "  810.  638.  688.  688.  695.  706.  721.  693.  713.  703. 2435.  676.\n",
      "  707.  690.  739.  571.  689.  677.  868.  675.  710.  663.  682.  700.\n",
      "  634.  742.  681.  816.  673.  736.  712.  812.  688.  693.  605.  701.\n",
      "  691.  690.  625.  627.  699.  691.  800.  729.  726.  705.  723.  768.\n",
      "  680.  640.  655.  711.  631.  754.  623.  702.  689.  725.  698.  780.\n",
      "  681.  667.  663.  662.  625.  728.  739.  709.  670.  714.  716.  693.\n",
      "  671.  646.  823.  709. 4700.  626.  718.  648.  764.  678.  749.  752.\n",
      "  767.  664.  700.  650.  715.  732.  691.  670.  680.  611.  730. 4394.\n",
      "  809.  664.  672.  687.  758.  760.  635.  617.  736.  696.  693.  762.\n",
      "  726.  692.  718. 6918.]\n",
      "1280\n",
      "discrimination_losses:\n",
      "[701.83880615 732.49334717 687.17089844 ...   0.           0.\n",
      "   0.        ]\n",
      "residual_losses:\n",
      "[2426.75634766 2483.35766602 2431.02099609 ...    0.            0.\n",
      "    0.        ]\n",
      "total_losses:\n",
      "[584780.625 584780.625 584780.625 ...      0.         0.         0.   ]\n"
     ]
    },
    {
     "name": "stdout",
     "output_type": "stream",
     "text": [
      "yeh\n",
      "yeh\n",
      "total loss： [ 624.  757.  699.  818.  750.  787.  774.  688.  722.  749.  644.  759.\n",
      "  713.  688.  737.  709.  766.  749.  739.  778.  790.  744.  708.  684.\n",
      "  735.  685.  691.  702.  688.  900.  744.  747.  695.  687.  843.  752.\n",
      "  672.  709.  665.  863.  725.  642.  657. 1032.  634.  739.  733.  736.\n",
      "  779.  752.  687. 5307.  711.  717.  723.  783.  712.  726.  686.  716.\n",
      "  686.  719.  794.  704.  690.  714.  698.  784.  714.  650.  731.  736.\n",
      "  745.  707.  673.  714.  725.  773. 1259.  717.  704.  740.  703.  704.\n",
      "  739.  680.  649. 5353.  685.  749.  738.  757.  710.  735.  673.  741.\n",
      "  692.  674.  728.  721.  733.  815.  774.  740.  724.  732.  679.  675.\n",
      "  722.  712.  767.  717.  680.  795.  783.  717.  673.  695.  725.  856.\n",
      "  686.  690.  713.  871.  759.  624.  677.  780.  699.  696.  672.  723.\n",
      "  731.  703.  696.  720.  699.  745.  695.  741.  669.  703.  725.  806.\n",
      "  728.  703.  726.  725. 6004.  687.  710.  721.  648.  786.  792.  777.\n",
      "  703.  779.  749.  705.  752.  684.  818.  770.  699.  714.  669.  672.\n",
      "  746.  791.  696.  737.  673.  688.  748.  725.  685.  762.  764.  841.\n",
      "  721.  727.  740.  706.  736.  771.  736.  810.  727.  687.  749.  683.\n",
      "  667.  704.  677.  682.  745.  632.  735.  671.  705.  669.  714.  660.\n",
      "  652.  595.  647.  626.  643.  688.  658.  726.  640.  710.  647.  729.\n",
      "  666.  751. 4957.  641.  640.  672.  615.  765.  870. 1079.  700.  601.\n",
      "  677.  674.  710.  671.  643.  678.  684.  759.  687.  766.  653.  690.\n",
      "  720.  649.  692.  729.  694.  619.  666.  645.  635.  778.  634.  665.\n",
      "  698.  790.  671. 3787.]\n",
      "768\n",
      "discrimination_losses:\n",
      "[650.22973633 698.26257324 757.12927246 ...   0.           0.\n",
      "   0.        ]\n",
      "residual_losses:\n",
      "[2470.84179688 2463.19140625 2435.80859375 ...    0.            0.\n",
      "    0.        ]\n",
      "total_losses:\n",
      "[585492.4375 585492.4375 585492.4375 ...      0.          0.\n",
      "      0.    ]\n",
      "yeh\n",
      "yeh\n"
     ]
    }
   ],
   "source": [
    "sns.distplot(res_losses)"
   ]
  },
  {
   "cell_type": "markdown",
   "metadata": {
    "scrolled": true
   },
   "source": [
    "# np.shape(aug_image)"
   ]
  },
  {
   "cell_type": "code",
   "execution_count": 60,
   "metadata": {},
   "outputs": [],
   "source": [
    "x = aug_image_list\n",
    "x = x.to(device)\n",
    "z = torch.randn(256, 128).to(device) #乱数を指定\n",
    "z = z.view(z.size(0), z.size(1), 1, 1)\n",
    "z.requires_grad = True\n",
    "z_optimizer = torch.optim.Adam([z], lr=1e-3)"
   ]
  },
  {
   "cell_type": "code",
   "execution_count": 61,
   "metadata": {
    "scrolled": true
   },
   "outputs": [
    {
     "data": {
      "text/plain": [
       "torch.Size([256, 3, 32, 32])"
      ]
     },
     "execution_count": 61,
     "metadata": {},
     "output_type": "execute_result"
    }
   ],
   "source": [
    "fake_img.size()"
   ]
  },
  {
   "cell_type": "code",
   "execution_count": 62,
   "metadata": {},
   "outputs": [
    {
     "data": {
      "text/plain": [
       "torch.Size([256, 3, 32, 32])"
      ]
     },
     "execution_count": 62,
     "metadata": {},
     "output_type": "execute_result"
    }
   ],
   "source": [
    "x.size()"
   ]
  },
  {
   "cell_type": "code",
   "execution_count": 63,
   "metadata": {},
   "outputs": [
    {
     "name": "stdout",
     "output_type": "stream",
     "text": [
      "epoch 0 || loss_total:621013 \n",
      "tensor(608663.8125, device='cuda:0', grad_fn=<SumBackward0>)\n",
      "epoch 1000 || loss_total:415427 \n",
      "tensor(475754.5312, device='cuda:0', grad_fn=<SumBackward0>)\n",
      "epoch 2000 || loss_total:384761 \n",
      "tensor(441171.3750, device='cuda:0', grad_fn=<SumBackward0>)\n",
      "epoch 3000 || loss_total:364954 \n",
      "tensor(420607.8438, device='cuda:0', grad_fn=<SumBackward0>)\n",
      "epoch 4000 || loss_total:349777 \n",
      "tensor(402840.0312, device='cuda:0', grad_fn=<SumBackward0>)\n",
      "epoch 5000 || loss_total:339173 \n",
      "tensor(390527.5938, device='cuda:0', grad_fn=<SumBackward0>)\n"
     ]
    }
   ],
   "source": [
    "for epoch in range(5000+1):\n",
    "    fake_img = G_update(z)\n",
    "    loss, _, _, discrimination_loss = Anormaly_score(x, fake_img, D_update, Lambda=0.1)\n",
    "\n",
    "    z_optimizer.zero_grad()\n",
    "    loss.backward()\n",
    "    z_optimizer.step()\n",
    "\n",
    "    if epoch % 1000 == 0:\n",
    "        print('epoch {} || loss_total:{:.0f} '.format(epoch, loss.item()))\n",
    "        print(torch.sum(discrimination_loss))"
   ]
  },
  {
   "cell_type": "code",
   "execution_count": 94,
   "metadata": {
    "scrolled": true
   },
   "outputs": [
    {
     "name": "stderr",
     "output_type": "stream",
     "text": [
      "Clipping input data to the valid range for imshow with RGB data ([0..1] for floats or [0..255] for integers).\n",
      "Clipping input data to the valid range for imshow with RGB data ([0..1] for floats or [0..255] for integers).\n"
     ]
    },
    {
     "name": "stdout",
     "output_type": "stream",
     "text": [
      "total loss： [1167. 1312. 1128. 1067. 1807. 1052. 1227. 2014.  812. 1294. 1649. 1168.\n",
      " 1531. 1517. 1439. 1354. 1738. 1032. 1620. 5124. 1663.  853. 1720. 1345.\n",
      " 1428. 1103. 1866. 1508. 1367. 1673. 1530. 1145. 1151. 2279. 1196.  757.\n",
      " 1436. 1395. 1633. 3304.  891. 1635. 1007. 1342. 1337. 2709. 1196. 1458.\n",
      " 1669. 1215. 1480. 1367.  814. 1255. 1960. 1270. 1139. 1382. 1410. 3077.\n",
      " 2901. 1805. 1521.  691. 1336. 1399. 1371.  793. 1520. 1289.  868.  844.\n",
      " 1375. 1659. 2432. 1654. 1751. 1006. 1321. 1354. 1181. 2013. 1261.  865.\n",
      " 1758. 1136. 1493. 2148. 1689. 1849. 1285. 1042. 1164. 1341. 1017. 2001.\n",
      "  823. 1406.  966. 1101. 1325. 1610. 1032. 4196. 2375. 1403. 1225. 1915.\n",
      " 1296. 1128. 1848.  979. 1643. 1346. 1512. 1295. 1180. 1570. 1372. 1120.\n",
      " 2751. 1480. 1577.  753. 2677. 1057. 2096. 1953. 1754. 1709. 2946. 1667.\n",
      " 1002.  989. 1249. 1045.  824. 1743. 2721. 1472. 1831. 1235. 1136. 1616.\n",
      " 1629.  981. 1174. 1549. 1359. 2360. 1502. 1073. 1153. 2095. 2040. 1815.\n",
      " 1285. 1061. 1275. 1268. 1140. 1702. 1291. 1150. 1823. 1257. 1029.  925.\n",
      " 1382. 1480. 1119.  973. 2896. 1800. 1414. 1486. 1479. 2000. 1504. 1800.\n",
      " 1103. 1227.  959.  964.  988. 4430. 2341. 1500. 1587. 1661. 1727. 1295.\n",
      " 1861. 1917. 1421. 3713. 1191. 1852. 1164. 1438. 1920. 1226. 1717. 1153.\n",
      "  922. 1329. 1081. 1270. 1774.  789. 1876. 1101. 1222. 1149.  950. 1089.\n",
      " 1092. 1193. 2097. 1537. 1254.  818. 1395. 1006. 1229. 1530. 1364. 1269.\n",
      " 2133. 1395. 1236. 1538. 1662. 1463. 1590. 1587.  878. 1192. 1856. 3992.\n",
      " 1436. 1638. 2052. 1308. 1651.  993. 1252. 1834. 1994. 1006. 5548. 1705.\n",
      " 1056. 1783. 1471. 1230.]\n"
     ]
    },
    {
     "name": "stderr",
     "output_type": "stream",
     "text": [
      "Clipping input data to the valid range for imshow with RGB data ([0..1] for floats or [0..255] for integers).\n",
      "Clipping input data to the valid range for imshow with RGB data ([0..1] for floats or [0..255] for integers).\n",
      "Clipping input data to the valid range for imshow with RGB data ([0..1] for floats or [0..255] for integers).\n"
     ]
    },
    {
     "data": {
      "image/png": "[encoded data removed]",
      "text/plain": [
       "<Figure size 1080x432 with 10 Axes>"
      ]
     },
     "metadata": {
      "needs_background": "light"
     },
     "output_type": "display_data"
    }
   ],
   "source": [
    "# 画像を生成\n",
    "fake_img = G_update(z)\n",
    "\n",
    "# 損失を求める\n",
    "loss, loss_each, residual_loss_each, discrimination_loss = Anormaly_score(\n",
    "    x, fake_img, D_update, Lambda=0.1)\n",
    "\n",
    "# 損失の計算。トータルの損失\n",
    "discrimination_loss = discrimination_loss.cpu().detach().numpy()\n",
    "print(\"discrimination loss：\", np.round(discrimination_loss, 0))\n",
    "\n",
    "# 画像を可視化\n",
    "fig = plt.figure(figsize=(15, 6))\n",
    "tmp = np.where(discrimination_loss < 1000)[0]\n",
    "np.random.shuffle(tmp)\n",
    "\n",
    "for i in range(0, 5):\n",
    "    # 上段にテストデータを\n",
    "    plt.subplot(2, 5, i+1)\n",
    "    #plt.imshow(x[i].cpu().detach().numpy().reshape(3, 32, 32).transpose(1, 2, 0))\n",
    "    plt.imshow(x[tmp[i]].cpu().detach().numpy(). reshape(3, 32, 32).transpose(1, 2, 0))\n",
    "\n",
    "    # 下段に生成データを表示する\n",
    "    plt.subplot(2, 5, 5+i+1)\n",
    "    #plt.imshow(fake_img[i][0].cpu().detach().numpy())\n",
    "    plt.imshow(fake_img[tmp[i]][0].cpu().detach().numpy())\n",
    "    plt.savefig('easy_aug_vs_recon.png')"
   ]
  },
  {
   "cell_type": "code",
   "execution_count": 15,
   "metadata": {},
   "outputs": [],
   "source": [
    "if not tf.gfile.Exists(output_base_dir):\n",
    "    tf.gfile.MakeDirs(output_base_dir)"
   ]
  },
  {
   "cell_type": "code",
   "execution_count": 53,
   "metadata": {
    "scrolled": true
   },
   "outputs": [],
   "source": [
    "data = load_dataset()"
   ]
  },
  {
   "cell_type": "code",
   "execution_count": 77,
   "metadata": {},
   "outputs": [
    {
     "name": "stdout",
     "output_type": "stream",
     "text": [
      "INFO:tensorflow:*****Processing supervised data *****\n",
      "INFO:tensorflow:>>saving 50000 train examples to preprocess_test_output/train-full.tfrecord\n",
      "INFO:tensorflow:saved 50000 examples to preprocess_test_output/train-full.tfrecord\n",
      "INFO:tensorflow:>>saving 10000 test examples to preprocess_test_output/test.tfrecord\n",
      "INFO:tensorflow:saved 10000 examples to preprocess_test_output/test.tfrecord\n"
     ]
    }
   ],
   "source": [
    "tf.logging.info(\"*****Processing supervised data *****\")\n",
    "proc_and_dump_sup_data(data[\"train\"], \"train\", sup_size=-1)\n",
    "proc_and_dump_sup_data(data[\"test\"], \"test\")"
   ]
  },
  {
   "cell_type": "code",
   "execution_count": 78,
   "metadata": {
    "scrolled": true
   },
   "outputs": [
    {
     "name": "stdout",
     "output_type": "stream",
     "text": [
      "INFO:tensorflow:*****Processing unsupervised data *****\n",
      "INFO:tensorflow:using random seed 9122 for shuffling data\n",
      "INFO:tensorflow:>>processing and copy # 0\n",
      "INFO:tensorflow:trans_list: ['Invert', 'Cutout', 'Sharpness', 'AutoContrast', 'Posterize', 'ShearX', 'TranslateX', 'TranslateY', 'ShearY', 'Rotate', 'Equalize', 'Contrast', 'Color', 'Solarize', 'Brightness']\n",
      "INFO:tensorflow:saved 50000 examples to preprocess_test_output/unsup-0.tfrecord\n",
      "INFO:tensorflow:>>processing and copy # 1\n",
      "INFO:tensorflow:trans_list: ['Invert', 'Cutout', 'Sharpness', 'AutoContrast', 'Posterize', 'ShearX', 'TranslateX', 'TranslateY', 'ShearY', 'Rotate', 'Equalize', 'Contrast', 'Color', 'Solarize', 'Brightness']\n"
     ]
    },
    {
     "ename": "KeyboardInterrupt",
     "evalue": "",
     "output_type": "error",
     "traceback": [
      "\u001b[0;31m---------------------------------------------------------------------------\u001b[0m",
      "\u001b[0;31mKeyboardInterrupt\u001b[0m                         Traceback (most recent call last)",
      "\u001b[0;32m<ipython-input-78-6354e2c1bd8b>\u001b[0m in \u001b[0;36m<module>\u001b[0;34m\u001b[0m\n\u001b[1;32m      5\u001b[0m \u001b[0;32mfor\u001b[0m \u001b[0maug_copy_num\u001b[0m \u001b[0;32min\u001b[0m \u001b[0mrange\u001b[0m\u001b[0;34m(\u001b[0m\u001b[0;36m10\u001b[0m\u001b[0;34m)\u001b[0m\u001b[0;34m:\u001b[0m\u001b[0;34m\u001b[0m\u001b[0;34m\u001b[0m\u001b[0m\n\u001b[1;32m      6\u001b[0m     \u001b[0mtf\u001b[0m\u001b[0;34m.\u001b[0m\u001b[0mlogging\u001b[0m\u001b[0;34m.\u001b[0m\u001b[0minfo\u001b[0m\u001b[0;34m(\u001b[0m\u001b[0;34m\">>processing and copy # {}\"\u001b[0m\u001b[0;34m.\u001b[0m\u001b[0mformat\u001b[0m\u001b[0;34m(\u001b[0m\u001b[0maug_copy_num\u001b[0m\u001b[0;34m)\u001b[0m\u001b[0;34m)\u001b[0m\u001b[0;34m\u001b[0m\u001b[0;34m\u001b[0m\u001b[0m\n\u001b[0;32m----> 7\u001b[0;31m     \u001b[0mproc_and_dump_unsup_data\u001b[0m\u001b[0;34m(\u001b[0m\u001b[0mdata\u001b[0m\u001b[0;34m[\u001b[0m\u001b[0;34m\"train\"\u001b[0m\u001b[0;34m]\u001b[0m\u001b[0;34m,\u001b[0m \u001b[0maug_copy_num\u001b[0m\u001b[0;34m)\u001b[0m\u001b[0;34m\u001b[0m\u001b[0;34m\u001b[0m\u001b[0m\n\u001b[0m",
      "\u001b[0;32m<ipython-input-74-5d0392750162>\u001b[0m in \u001b[0;36mproc_and_dump_unsup_data\u001b[0;34m(sub_set_data, aug_copy_num)\u001b[0m\n\u001b[1;32m     21\u001b[0m             feature={\n\u001b[1;32m     22\u001b[0m                 \u001b[0;34m\"ori_image\"\u001b[0m\u001b[0;34m:\u001b[0m \u001b[0m_float_feature\u001b[0m\u001b[0;34m(\u001b[0m\u001b[0mimage\u001b[0m\u001b[0;34m.\u001b[0m\u001b[0mreshape\u001b[0m\u001b[0;34m(\u001b[0m\u001b[0;34m-\u001b[0m\u001b[0;36m1\u001b[0m\u001b[0;34m)\u001b[0m\u001b[0;34m)\u001b[0m\u001b[0;34m,\u001b[0m\u001b[0;34m\u001b[0m\u001b[0;34m\u001b[0m\u001b[0m\n\u001b[0;32m---> 23\u001b[0;31m                 \u001b[0;34m\"aug_image\"\u001b[0m\u001b[0;34m:\u001b[0m \u001b[0m_float_feature\u001b[0m\u001b[0;34m(\u001b[0m\u001b[0maug_image\u001b[0m\u001b[0;34m.\u001b[0m\u001b[0mreshape\u001b[0m\u001b[0;34m(\u001b[0m\u001b[0;34m-\u001b[0m\u001b[0;36m1\u001b[0m\u001b[0;34m)\u001b[0m\u001b[0;34m)\u001b[0m\u001b[0;34m,\u001b[0m\u001b[0;34m\u001b[0m\u001b[0;34m\u001b[0m\u001b[0m\n\u001b[0m\u001b[1;32m     24\u001b[0m             }))\n\u001b[1;32m     25\u001b[0m         \u001b[0mexample_list\u001b[0m \u001b[0;34m+=\u001b[0m \u001b[0;34m[\u001b[0m\u001b[0mexample\u001b[0m\u001b[0;34m]\u001b[0m\u001b[0;34m\u001b[0m\u001b[0;34m\u001b[0m\u001b[0m\n",
      "\u001b[0;31mKeyboardInterrupt\u001b[0m: "
     ]
    }
   ],
   "source": [
    "tf.logging.info(\"*****Processing unsupervised data *****\")\n",
    "tf.logging.info(\"using random seed {:d} for shuffling data\".format(random_seed))\n",
    "np.random.seed(random_seed)\n",
    "\n",
    "for aug_copy_num in range(10):\n",
    "    tf.logging.info(\">>processing and copy # {}\".format(aug_copy_num))\n",
    "    proc_and_dump_unsup_data(data[\"train\"], aug_copy_num)"
   ]
  },
  {
   "cell_type": "code",
   "execution_count": 1,
   "metadata": {},
   "outputs": [],
   "source": [
    "def get_trans_list():\n",
    "    trans_list = [\n",
    "        'Invert', 'Cutout', 'Sharpness', 'AutoContrast', 'Posterize',\n",
    "        'ShearX', 'TranslateX', 'TranslateY', 'ShearY', 'Rotate',\n",
    "        'Equalize', 'Contrast', 'Color', 'Solarize', 'Brightness']\n",
    "    return trans_list\n",
    "\n",
    "#ありうるpolicyをすべて返す.\n",
    "def randaug_policies():\n",
    "  trans_list = get_trans_list()\n",
    "  tf.logging.info(\"trans_list: %s\", str(trans_list))\n",
    "  op_list = []\n",
    "  for trans in trans_list:\n",
    "    for magnitude in range(1, 10):\n",
    "      op_list += [(trans, 0.5, magnitude)]\n",
    "  policies = []\n",
    "  for op_1 in op_list:\n",
    "    for op_2 in op_list:\n",
    "      policies += [[op_1, op_2]]\n",
    "  return policies"
   ]
  },
  {
   "cell_type": "markdown",
   "metadata": {},
   "source": [
    "# 一度AnoGANについて考える"
   ]
  },
  {
   "cell_type": "code",
   "execution_count": 118,
   "metadata": {},
   "outputs": [],
   "source": [
    "no_loss = loss\n",
    "no_residual = residual_loss\n",
    "no_disc = discrimination_loss"
   ]
  },
  {
   "cell_type": "code",
   "execution_count": 119,
   "metadata": {},
   "outputs": [
    {
     "data": {
      "image/png": "[encoded data removed]",
      "text/plain": [
       "<Figure size 432x288 with 1 Axes>"
      ]
     },
     "metadata": {
      "needs_background": "light"
     },
     "output_type": "display_data"
    }
   ],
   "source": [
    "sns_plot = sns.distplot(discrimination_loss.cpu().detach().numpy());\n",
    "fig = sns_plot.get_figure()\n",
    "fig.savefig(\"notrotcarsgraph.png\")"
   ]
  },
  {
   "cell_type": "code",
   "execution_count": 145,
   "metadata": {},
   "outputs": [],
   "source": [
    "#飛行機の画像を回転させてanoganに噛ませる\n",
    "def _rotate_impl(pil_img, level, _):\n",
    "    degrees = int_parameter(level, 30)\n",
    "    if random.random() > 0.5:\n",
    "        degrees = -degrees\n",
    "    return pil_img.rotate(degrees)\n",
    "\n",
    "PARAMETER_MAX = 10\n",
    "def int_parameter(level, maxval):\n",
    "    return int(level * maxval / PARAMETER_MAX)\n",
    "\n",
    "def float_parameter(level, maxval):\n",
    "  return float(level) * maxval / PARAMETER_MAX\n",
    "\n",
    "def _shear_x_impl(pil_img, level, img_shape):\n",
    "  level = float_parameter(level, 0.3)\n",
    "  if random.random() > 0.5:\n",
    "    level = -level\n",
    "  return pil_img.transform((img_shape[0], img_shape[1]),\n",
    "                           Image.AFFINE,\n",
    "                           (1, level, 0, 0, 1, 0))\n",
    "\n",
    "def rotation_maker(img, numpy=False):\n",
    "    tmp_img = img.cpu().detach().numpy()\n",
    "    array = np.asarray(((tmp_img + 1) * 128).astype(\"i\").transpose(1, 2, 0))\n",
    "    img = Image.fromarray(np.uint8(array))\n",
    "    rotated_img = _rotate_impl(img, 10, _)\n",
    "    rotated_img = _shear_x_impl(rotated_img, 10, _)\n",
    "    rotated_np = np.asarray(rotated_img).astype(\"f\").transpose(2, 0, 1) / 128 - 1.0\n",
    "    if numpy:\n",
    "        return rotated_np\n",
    "    else:\n",
    "        return rotated_img"
   ]
  },
  {
   "cell_type": "code",
   "execution_count": 148,
   "metadata": {},
   "outputs": [],
   "source": [
    "!mkdir 'rotated_images/rotated_sheared_1112'"
   ]
  },
  {
   "cell_type": "code",
   "execution_count": 149,
   "metadata": {},
   "outputs": [],
   "source": [
    "#既にデータ作成済みの場合はここをFalseにする.\n",
    "making_rotated_imges = True\n",
    "if making_rotated_imges:\n",
    "    for i in range(256):\n",
    "        rotated_img = rotation_maker(imges[0][i], numpy=False)\n",
    "        rotated_img.save('rotated_images/rotated_sheared_1112/' + str(i) + '.png')"
   ]
  },
  {
   "cell_type": "code",
   "execution_count": 151,
   "metadata": {},
   "outputs": [],
   "source": [
    "!mv rotated_images/rotated_sheared_1112 rotated_images/rotated_1112/"
   ]
  },
  {
   "cell_type": "code",
   "execution_count": 153,
   "metadata": {},
   "outputs": [],
   "source": [
    "transform = transforms.Compose(\n",
    "        [transforms.ToTensor(),\n",
    "        transforms.Normalize((0.49139968, 0.48215841, 0.44653091),\n",
    "                             (0.24703223, 0.24348513, 0.26158784))])\n",
    "\n",
    "rotated_dataset = datasets.ImageFolder(root='rotated_images/rotated_1112', transform=transform)\n",
    "rotated_loader = torch.utils.data.DataLoader(rotated_dataset, \n",
    "                                                      batch_size=256, shuffle=True, num_workers=4)"
   ]
  },
  {
   "cell_type": "code",
   "execution_count": 154,
   "metadata": {},
   "outputs": [
    {
     "data": {
      "text/plain": [
       "torch.Size([256, 3, 32, 32])"
      ]
     },
     "execution_count": 154,
     "metadata": {},
     "output_type": "execute_result"
    }
   ],
   "source": [
    "rotated_imges[0].size()"
   ]
  },
  {
   "cell_type": "code",
   "execution_count": 157,
   "metadata": {},
   "outputs": [
    {
     "ename": "KeyboardInterrupt",
     "evalue": "",
     "output_type": "error",
     "traceback": [
      "\u001b[0;31m---------------------------------------------------------------------------\u001b[0m",
      "\u001b[0;31mKeyboardInterrupt\u001b[0m                         Traceback (most recent call last)",
      "\u001b[0;32m<ipython-input-157-bc9a2ee02bdc>\u001b[0m in \u001b[0;36m<module>\u001b[0;34m\u001b[0m\n\u001b[1;32m      1\u001b[0m \u001b[0mrotated_batch_iterator\u001b[0m \u001b[0;34m=\u001b[0m \u001b[0miter\u001b[0m\u001b[0;34m(\u001b[0m\u001b[0mrotated_loader\u001b[0m\u001b[0;34m)\u001b[0m\u001b[0;34m\u001b[0m\u001b[0;34m\u001b[0m\u001b[0m\n\u001b[0;32m----> 2\u001b[0;31m \u001b[0mrotated_imges\u001b[0m \u001b[0;34m=\u001b[0m \u001b[0mnext\u001b[0m\u001b[0;34m(\u001b[0m\u001b[0mrotated_batch_iterator\u001b[0m\u001b[0;34m)\u001b[0m\u001b[0;34m\u001b[0m\u001b[0;34m\u001b[0m\u001b[0m\n\u001b[0m",
      "\u001b[0;32m/home/dl-box/.pyenv/versions/anaconda3-5.3.1/envs/py36/lib/python3.6/site-packages/torch/utils/data/dataloader.py\u001b[0m in \u001b[0;36m__next__\u001b[0;34m(self)\u001b[0m\n\u001b[1;32m    802\u001b[0m \u001b[0;34m\u001b[0m\u001b[0m\n\u001b[1;32m    803\u001b[0m             \u001b[0;32massert\u001b[0m \u001b[0;32mnot\u001b[0m \u001b[0mself\u001b[0m\u001b[0;34m.\u001b[0m\u001b[0mshutdown\u001b[0m \u001b[0;32mand\u001b[0m \u001b[0mself\u001b[0m\u001b[0;34m.\u001b[0m\u001b[0mtasks_outstanding\u001b[0m \u001b[0;34m>\u001b[0m \u001b[0;36m0\u001b[0m\u001b[0;34m\u001b[0m\u001b[0;34m\u001b[0m\u001b[0m\n\u001b[0;32m--> 804\u001b[0;31m             \u001b[0midx\u001b[0m\u001b[0;34m,\u001b[0m \u001b[0mdata\u001b[0m \u001b[0;34m=\u001b[0m \u001b[0mself\u001b[0m\u001b[0;34m.\u001b[0m\u001b[0m_get_data\u001b[0m\u001b[0;34m(\u001b[0m\u001b[0;34m)\u001b[0m\u001b[0;34m\u001b[0m\u001b[0;34m\u001b[0m\u001b[0m\n\u001b[0m\u001b[1;32m    805\u001b[0m             \u001b[0mself\u001b[0m\u001b[0;34m.\u001b[0m\u001b[0mtasks_outstanding\u001b[0m \u001b[0;34m-=\u001b[0m \u001b[0;36m1\u001b[0m\u001b[0;34m\u001b[0m\u001b[0;34m\u001b[0m\u001b[0m\n\u001b[1;32m    806\u001b[0m \u001b[0;34m\u001b[0m\u001b[0m\n",
      "\u001b[0;32m/home/dl-box/.pyenv/versions/anaconda3-5.3.1/envs/py36/lib/python3.6/site-packages/torch/utils/data/dataloader.py\u001b[0m in \u001b[0;36m_get_data\u001b[0;34m(self)\u001b[0m\n\u001b[1;32m    769\u001b[0m         \u001b[0;32melse\u001b[0m\u001b[0;34m:\u001b[0m\u001b[0;34m\u001b[0m\u001b[0;34m\u001b[0m\u001b[0m\n\u001b[1;32m    770\u001b[0m             \u001b[0;32mwhile\u001b[0m \u001b[0;32mTrue\u001b[0m\u001b[0;34m:\u001b[0m\u001b[0;34m\u001b[0m\u001b[0;34m\u001b[0m\u001b[0m\n\u001b[0;32m--> 771\u001b[0;31m                 \u001b[0msuccess\u001b[0m\u001b[0;34m,\u001b[0m \u001b[0mdata\u001b[0m \u001b[0;34m=\u001b[0m \u001b[0mself\u001b[0m\u001b[0;34m.\u001b[0m\u001b[0m_try_get_data\u001b[0m\u001b[0;34m(\u001b[0m\u001b[0;34m)\u001b[0m\u001b[0;34m\u001b[0m\u001b[0;34m\u001b[0m\u001b[0m\n\u001b[0m\u001b[1;32m    772\u001b[0m                 \u001b[0;32mif\u001b[0m \u001b[0msuccess\u001b[0m\u001b[0;34m:\u001b[0m\u001b[0;34m\u001b[0m\u001b[0;34m\u001b[0m\u001b[0m\n\u001b[1;32m    773\u001b[0m                     \u001b[0;32mreturn\u001b[0m \u001b[0mdata\u001b[0m\u001b[0;34m\u001b[0m\u001b[0;34m\u001b[0m\u001b[0m\n",
      "\u001b[0;32m/home/dl-box/.pyenv/versions/anaconda3-5.3.1/envs/py36/lib/python3.6/site-packages/torch/utils/data/dataloader.py\u001b[0m in \u001b[0;36m_try_get_data\u001b[0;34m(self, timeout)\u001b[0m\n\u001b[1;32m    722\u001b[0m         \u001b[0;31m#   (bool: whether successfully get data, any: data if successful else None)\u001b[0m\u001b[0;34m\u001b[0m\u001b[0;34m\u001b[0m\u001b[0;34m\u001b[0m\u001b[0m\n\u001b[1;32m    723\u001b[0m         \u001b[0;32mtry\u001b[0m\u001b[0;34m:\u001b[0m\u001b[0;34m\u001b[0m\u001b[0;34m\u001b[0m\u001b[0m\n\u001b[0;32m--> 724\u001b[0;31m             \u001b[0mdata\u001b[0m \u001b[0;34m=\u001b[0m \u001b[0mself\u001b[0m\u001b[0;34m.\u001b[0m\u001b[0mdata_queue\u001b[0m\u001b[0;34m.\u001b[0m\u001b[0mget\u001b[0m\u001b[0;34m(\u001b[0m\u001b[0mtimeout\u001b[0m\u001b[0;34m=\u001b[0m\u001b[0mtimeout\u001b[0m\u001b[0;34m)\u001b[0m\u001b[0;34m\u001b[0m\u001b[0;34m\u001b[0m\u001b[0m\n\u001b[0m\u001b[1;32m    725\u001b[0m             \u001b[0;32mreturn\u001b[0m \u001b[0;34m(\u001b[0m\u001b[0;32mTrue\u001b[0m\u001b[0;34m,\u001b[0m \u001b[0mdata\u001b[0m\u001b[0;34m)\u001b[0m\u001b[0;34m\u001b[0m\u001b[0;34m\u001b[0m\u001b[0m\n\u001b[1;32m    726\u001b[0m         \u001b[0;32mexcept\u001b[0m \u001b[0mException\u001b[0m \u001b[0;32mas\u001b[0m \u001b[0me\u001b[0m\u001b[0;34m:\u001b[0m\u001b[0;34m\u001b[0m\u001b[0;34m\u001b[0m\u001b[0m\n",
      "\u001b[0;32m/home/dl-box/.pyenv/versions/anaconda3-5.3.1/envs/py36/lib/python3.6/multiprocessing/queues.py\u001b[0m in \u001b[0;36mget\u001b[0;34m(self, block, timeout)\u001b[0m\n\u001b[1;32m    102\u001b[0m                 \u001b[0;32mif\u001b[0m \u001b[0mblock\u001b[0m\u001b[0;34m:\u001b[0m\u001b[0;34m\u001b[0m\u001b[0;34m\u001b[0m\u001b[0m\n\u001b[1;32m    103\u001b[0m                     \u001b[0mtimeout\u001b[0m \u001b[0;34m=\u001b[0m \u001b[0mdeadline\u001b[0m \u001b[0;34m-\u001b[0m \u001b[0mtime\u001b[0m\u001b[0;34m.\u001b[0m\u001b[0mmonotonic\u001b[0m\u001b[0;34m(\u001b[0m\u001b[0;34m)\u001b[0m\u001b[0;34m\u001b[0m\u001b[0;34m\u001b[0m\u001b[0m\n\u001b[0;32m--> 104\u001b[0;31m                     \u001b[0;32mif\u001b[0m \u001b[0;32mnot\u001b[0m \u001b[0mself\u001b[0m\u001b[0;34m.\u001b[0m\u001b[0m_poll\u001b[0m\u001b[0;34m(\u001b[0m\u001b[0mtimeout\u001b[0m\u001b[0;34m)\u001b[0m\u001b[0;34m:\u001b[0m\u001b[0;34m\u001b[0m\u001b[0;34m\u001b[0m\u001b[0m\n\u001b[0m\u001b[1;32m    105\u001b[0m                         \u001b[0;32mraise\u001b[0m \u001b[0mEmpty\u001b[0m\u001b[0;34m\u001b[0m\u001b[0;34m\u001b[0m\u001b[0m\n\u001b[1;32m    106\u001b[0m                 \u001b[0;32melif\u001b[0m \u001b[0;32mnot\u001b[0m \u001b[0mself\u001b[0m\u001b[0;34m.\u001b[0m\u001b[0m_poll\u001b[0m\u001b[0;34m(\u001b[0m\u001b[0;34m)\u001b[0m\u001b[0;34m:\u001b[0m\u001b[0;34m\u001b[0m\u001b[0;34m\u001b[0m\u001b[0m\n",
      "\u001b[0;32m/home/dl-box/.pyenv/versions/anaconda3-5.3.1/envs/py36/lib/python3.6/multiprocessing/connection.py\u001b[0m in \u001b[0;36mpoll\u001b[0;34m(self, timeout)\u001b[0m\n\u001b[1;32m    255\u001b[0m         \u001b[0mself\u001b[0m\u001b[0;34m.\u001b[0m\u001b[0m_check_closed\u001b[0m\u001b[0;34m(\u001b[0m\u001b[0;34m)\u001b[0m\u001b[0;34m\u001b[0m\u001b[0;34m\u001b[0m\u001b[0m\n\u001b[1;32m    256\u001b[0m         \u001b[0mself\u001b[0m\u001b[0;34m.\u001b[0m\u001b[0m_check_readable\u001b[0m\u001b[0;34m(\u001b[0m\u001b[0;34m)\u001b[0m\u001b[0;34m\u001b[0m\u001b[0;34m\u001b[0m\u001b[0m\n\u001b[0;32m--> 257\u001b[0;31m         \u001b[0;32mreturn\u001b[0m \u001b[0mself\u001b[0m\u001b[0;34m.\u001b[0m\u001b[0m_poll\u001b[0m\u001b[0;34m(\u001b[0m\u001b[0mtimeout\u001b[0m\u001b[0;34m)\u001b[0m\u001b[0;34m\u001b[0m\u001b[0;34m\u001b[0m\u001b[0m\n\u001b[0m\u001b[1;32m    258\u001b[0m \u001b[0;34m\u001b[0m\u001b[0m\n\u001b[1;32m    259\u001b[0m     \u001b[0;32mdef\u001b[0m \u001b[0m__enter__\u001b[0m\u001b[0;34m(\u001b[0m\u001b[0mself\u001b[0m\u001b[0;34m)\u001b[0m\u001b[0;34m:\u001b[0m\u001b[0;34m\u001b[0m\u001b[0;34m\u001b[0m\u001b[0m\n",
      "\u001b[0;32m/home/dl-box/.pyenv/versions/anaconda3-5.3.1/envs/py36/lib/python3.6/multiprocessing/connection.py\u001b[0m in \u001b[0;36m_poll\u001b[0;34m(self, timeout)\u001b[0m\n\u001b[1;32m    412\u001b[0m \u001b[0;34m\u001b[0m\u001b[0m\n\u001b[1;32m    413\u001b[0m     \u001b[0;32mdef\u001b[0m \u001b[0m_poll\u001b[0m\u001b[0;34m(\u001b[0m\u001b[0mself\u001b[0m\u001b[0;34m,\u001b[0m \u001b[0mtimeout\u001b[0m\u001b[0;34m)\u001b[0m\u001b[0;34m:\u001b[0m\u001b[0;34m\u001b[0m\u001b[0;34m\u001b[0m\u001b[0m\n\u001b[0;32m--> 414\u001b[0;31m         \u001b[0mr\u001b[0m \u001b[0;34m=\u001b[0m \u001b[0mwait\u001b[0m\u001b[0;34m(\u001b[0m\u001b[0;34m[\u001b[0m\u001b[0mself\u001b[0m\u001b[0;34m]\u001b[0m\u001b[0;34m,\u001b[0m \u001b[0mtimeout\u001b[0m\u001b[0;34m)\u001b[0m\u001b[0;34m\u001b[0m\u001b[0;34m\u001b[0m\u001b[0m\n\u001b[0m\u001b[1;32m    415\u001b[0m         \u001b[0;32mreturn\u001b[0m \u001b[0mbool\u001b[0m\u001b[0;34m(\u001b[0m\u001b[0mr\u001b[0m\u001b[0;34m)\u001b[0m\u001b[0;34m\u001b[0m\u001b[0;34m\u001b[0m\u001b[0m\n\u001b[1;32m    416\u001b[0m \u001b[0;34m\u001b[0m\u001b[0m\n",
      "\u001b[0;32m/home/dl-box/.pyenv/versions/anaconda3-5.3.1/envs/py36/lib/python3.6/multiprocessing/connection.py\u001b[0m in \u001b[0;36mwait\u001b[0;34m(object_list, timeout)\u001b[0m\n\u001b[1;32m    909\u001b[0m \u001b[0;34m\u001b[0m\u001b[0m\n\u001b[1;32m    910\u001b[0m             \u001b[0;32mwhile\u001b[0m \u001b[0;32mTrue\u001b[0m\u001b[0;34m:\u001b[0m\u001b[0;34m\u001b[0m\u001b[0;34m\u001b[0m\u001b[0m\n\u001b[0;32m--> 911\u001b[0;31m                 \u001b[0mready\u001b[0m \u001b[0;34m=\u001b[0m \u001b[0mselector\u001b[0m\u001b[0;34m.\u001b[0m\u001b[0mselect\u001b[0m\u001b[0;34m(\u001b[0m\u001b[0mtimeout\u001b[0m\u001b[0;34m)\u001b[0m\u001b[0;34m\u001b[0m\u001b[0;34m\u001b[0m\u001b[0m\n\u001b[0m\u001b[1;32m    912\u001b[0m                 \u001b[0;32mif\u001b[0m \u001b[0mready\u001b[0m\u001b[0;34m:\u001b[0m\u001b[0;34m\u001b[0m\u001b[0;34m\u001b[0m\u001b[0m\n\u001b[1;32m    913\u001b[0m                     \u001b[0;32mreturn\u001b[0m \u001b[0;34m[\u001b[0m\u001b[0mkey\u001b[0m\u001b[0;34m.\u001b[0m\u001b[0mfileobj\u001b[0m \u001b[0;32mfor\u001b[0m \u001b[0;34m(\u001b[0m\u001b[0mkey\u001b[0m\u001b[0;34m,\u001b[0m \u001b[0mevents\u001b[0m\u001b[0;34m)\u001b[0m \u001b[0;32min\u001b[0m \u001b[0mready\u001b[0m\u001b[0;34m]\u001b[0m\u001b[0;34m\u001b[0m\u001b[0;34m\u001b[0m\u001b[0m\n",
      "\u001b[0;32m/home/dl-box/.pyenv/versions/anaconda3-5.3.1/envs/py36/lib/python3.6/selectors.py\u001b[0m in \u001b[0;36mselect\u001b[0;34m(self, timeout)\u001b[0m\n\u001b[1;32m    374\u001b[0m             \u001b[0mready\u001b[0m \u001b[0;34m=\u001b[0m \u001b[0;34m[\u001b[0m\u001b[0;34m]\u001b[0m\u001b[0;34m\u001b[0m\u001b[0;34m\u001b[0m\u001b[0m\n\u001b[1;32m    375\u001b[0m             \u001b[0;32mtry\u001b[0m\u001b[0;34m:\u001b[0m\u001b[0;34m\u001b[0m\u001b[0;34m\u001b[0m\u001b[0m\n\u001b[0;32m--> 376\u001b[0;31m                 \u001b[0mfd_event_list\u001b[0m \u001b[0;34m=\u001b[0m \u001b[0mself\u001b[0m\u001b[0;34m.\u001b[0m\u001b[0m_poll\u001b[0m\u001b[0;34m.\u001b[0m\u001b[0mpoll\u001b[0m\u001b[0;34m(\u001b[0m\u001b[0mtimeout\u001b[0m\u001b[0;34m)\u001b[0m\u001b[0;34m\u001b[0m\u001b[0;34m\u001b[0m\u001b[0m\n\u001b[0m\u001b[1;32m    377\u001b[0m             \u001b[0;32mexcept\u001b[0m \u001b[0mInterruptedError\u001b[0m\u001b[0;34m:\u001b[0m\u001b[0;34m\u001b[0m\u001b[0;34m\u001b[0m\u001b[0m\n\u001b[1;32m    378\u001b[0m                 \u001b[0;32mreturn\u001b[0m \u001b[0mready\u001b[0m\u001b[0;34m\u001b[0m\u001b[0;34m\u001b[0m\u001b[0m\n",
      "\u001b[0;31mKeyboardInterrupt\u001b[0m: "
     ]
    }
   ],
   "source": [
    "rotated_batch_iterator = iter(rotated_loader)\n",
    "rotated_imges = next(rotated_batch_iterator) "
   ]
  },
  {
   "cell_type": "code",
   "execution_count": 156,
   "metadata": {},
   "outputs": [
    {
     "ename": "KeyboardInterrupt",
     "evalue": "",
     "output_type": "error",
     "traceback": [
      "\u001b[0;31m---------------------------------------------------------------------------\u001b[0m",
      "\u001b[0;31mKeyboardInterrupt\u001b[0m                         Traceback (most recent call last)",
      "\u001b[0;32m<ipython-input-156-e6109ce3132a>\u001b[0m in \u001b[0;36m<module>\u001b[0;34m\u001b[0m\n\u001b[1;32m      1\u001b[0m \u001b[0;31m#異常検知に用いる画像を表示してみる(今回は, ランダムに回転させた飛行機)\u001b[0m\u001b[0;34m\u001b[0m\u001b[0;34m\u001b[0m\u001b[0;34m\u001b[0m\u001b[0m\n\u001b[1;32m      2\u001b[0m \u001b[0mrotated_batch_iterator\u001b[0m \u001b[0;34m=\u001b[0m \u001b[0miter\u001b[0m\u001b[0;34m(\u001b[0m\u001b[0mrotated_loader\u001b[0m\u001b[0;34m)\u001b[0m\u001b[0;34m\u001b[0m\u001b[0;34m\u001b[0m\u001b[0m\n\u001b[0;32m----> 3\u001b[0;31m \u001b[0mrotated_imges\u001b[0m \u001b[0;34m=\u001b[0m \u001b[0mnext\u001b[0m\u001b[0;34m(\u001b[0m\u001b[0mrotated_batch_iterator\u001b[0m\u001b[0;34m)\u001b[0m\u001b[0;34m\u001b[0m\u001b[0;34m\u001b[0m\u001b[0m\n\u001b[0m\u001b[1;32m      4\u001b[0m \u001b[0;34m\u001b[0m\u001b[0m\n\u001b[1;32m      5\u001b[0m \u001b[0mfig\u001b[0m \u001b[0;34m=\u001b[0m \u001b[0mplt\u001b[0m\u001b[0;34m.\u001b[0m\u001b[0mfigure\u001b[0m\u001b[0;34m(\u001b[0m\u001b[0mfigsize\u001b[0m\u001b[0;34m=\u001b[0m\u001b[0;34m(\u001b[0m\u001b[0;36m15\u001b[0m\u001b[0;34m,\u001b[0m \u001b[0;36m6\u001b[0m\u001b[0;34m)\u001b[0m\u001b[0;34m)\u001b[0m\u001b[0;34m\u001b[0m\u001b[0;34m\u001b[0m\u001b[0m\n",
      "\u001b[0;32m/home/dl-box/.pyenv/versions/anaconda3-5.3.1/envs/py36/lib/python3.6/site-packages/torch/utils/data/dataloader.py\u001b[0m in \u001b[0;36m__next__\u001b[0;34m(self)\u001b[0m\n\u001b[1;32m    802\u001b[0m \u001b[0;34m\u001b[0m\u001b[0m\n\u001b[1;32m    803\u001b[0m             \u001b[0;32massert\u001b[0m \u001b[0;32mnot\u001b[0m \u001b[0mself\u001b[0m\u001b[0;34m.\u001b[0m\u001b[0mshutdown\u001b[0m \u001b[0;32mand\u001b[0m \u001b[0mself\u001b[0m\u001b[0;34m.\u001b[0m\u001b[0mtasks_outstanding\u001b[0m \u001b[0;34m>\u001b[0m \u001b[0;36m0\u001b[0m\u001b[0;34m\u001b[0m\u001b[0;34m\u001b[0m\u001b[0m\n\u001b[0;32m--> 804\u001b[0;31m             \u001b[0midx\u001b[0m\u001b[0;34m,\u001b[0m \u001b[0mdata\u001b[0m \u001b[0;34m=\u001b[0m \u001b[0mself\u001b[0m\u001b[0;34m.\u001b[0m\u001b[0m_get_data\u001b[0m\u001b[0;34m(\u001b[0m\u001b[0;34m)\u001b[0m\u001b[0;34m\u001b[0m\u001b[0;34m\u001b[0m\u001b[0m\n\u001b[0m\u001b[1;32m    805\u001b[0m             \u001b[0mself\u001b[0m\u001b[0;34m.\u001b[0m\u001b[0mtasks_outstanding\u001b[0m \u001b[0;34m-=\u001b[0m \u001b[0;36m1\u001b[0m\u001b[0;34m\u001b[0m\u001b[0;34m\u001b[0m\u001b[0m\n\u001b[1;32m    806\u001b[0m \u001b[0;34m\u001b[0m\u001b[0m\n",
      "\u001b[0;32m/home/dl-box/.pyenv/versions/anaconda3-5.3.1/envs/py36/lib/python3.6/site-packages/torch/utils/data/dataloader.py\u001b[0m in \u001b[0;36m_get_data\u001b[0;34m(self)\u001b[0m\n\u001b[1;32m    769\u001b[0m         \u001b[0;32melse\u001b[0m\u001b[0;34m:\u001b[0m\u001b[0;34m\u001b[0m\u001b[0;34m\u001b[0m\u001b[0m\n\u001b[1;32m    770\u001b[0m             \u001b[0;32mwhile\u001b[0m \u001b[0;32mTrue\u001b[0m\u001b[0;34m:\u001b[0m\u001b[0;34m\u001b[0m\u001b[0;34m\u001b[0m\u001b[0m\n\u001b[0;32m--> 771\u001b[0;31m                 \u001b[0msuccess\u001b[0m\u001b[0;34m,\u001b[0m \u001b[0mdata\u001b[0m \u001b[0;34m=\u001b[0m \u001b[0mself\u001b[0m\u001b[0;34m.\u001b[0m\u001b[0m_try_get_data\u001b[0m\u001b[0;34m(\u001b[0m\u001b[0;34m)\u001b[0m\u001b[0;34m\u001b[0m\u001b[0;34m\u001b[0m\u001b[0m\n\u001b[0m\u001b[1;32m    772\u001b[0m                 \u001b[0;32mif\u001b[0m \u001b[0msuccess\u001b[0m\u001b[0;34m:\u001b[0m\u001b[0;34m\u001b[0m\u001b[0;34m\u001b[0m\u001b[0m\n\u001b[1;32m    773\u001b[0m                     \u001b[0;32mreturn\u001b[0m \u001b[0mdata\u001b[0m\u001b[0;34m\u001b[0m\u001b[0;34m\u001b[0m\u001b[0m\n",
      "\u001b[0;32m/home/dl-box/.pyenv/versions/anaconda3-5.3.1/envs/py36/lib/python3.6/site-packages/torch/utils/data/dataloader.py\u001b[0m in \u001b[0;36m_try_get_data\u001b[0;34m(self, timeout)\u001b[0m\n\u001b[1;32m    722\u001b[0m         \u001b[0;31m#   (bool: whether successfully get data, any: data if successful else None)\u001b[0m\u001b[0;34m\u001b[0m\u001b[0;34m\u001b[0m\u001b[0;34m\u001b[0m\u001b[0m\n\u001b[1;32m    723\u001b[0m         \u001b[0;32mtry\u001b[0m\u001b[0;34m:\u001b[0m\u001b[0;34m\u001b[0m\u001b[0;34m\u001b[0m\u001b[0m\n\u001b[0;32m--> 724\u001b[0;31m             \u001b[0mdata\u001b[0m \u001b[0;34m=\u001b[0m \u001b[0mself\u001b[0m\u001b[0;34m.\u001b[0m\u001b[0mdata_queue\u001b[0m\u001b[0;34m.\u001b[0m\u001b[0mget\u001b[0m\u001b[0;34m(\u001b[0m\u001b[0mtimeout\u001b[0m\u001b[0;34m=\u001b[0m\u001b[0mtimeout\u001b[0m\u001b[0;34m)\u001b[0m\u001b[0;34m\u001b[0m\u001b[0;34m\u001b[0m\u001b[0m\n\u001b[0m\u001b[1;32m    725\u001b[0m             \u001b[0;32mreturn\u001b[0m \u001b[0;34m(\u001b[0m\u001b[0;32mTrue\u001b[0m\u001b[0;34m,\u001b[0m \u001b[0mdata\u001b[0m\u001b[0;34m)\u001b[0m\u001b[0;34m\u001b[0m\u001b[0;34m\u001b[0m\u001b[0m\n\u001b[1;32m    726\u001b[0m         \u001b[0;32mexcept\u001b[0m \u001b[0mException\u001b[0m \u001b[0;32mas\u001b[0m \u001b[0me\u001b[0m\u001b[0;34m:\u001b[0m\u001b[0;34m\u001b[0m\u001b[0;34m\u001b[0m\u001b[0m\n",
      "\u001b[0;32m/home/dl-box/.pyenv/versions/anaconda3-5.3.1/envs/py36/lib/python3.6/multiprocessing/queues.py\u001b[0m in \u001b[0;36mget\u001b[0;34m(self, block, timeout)\u001b[0m\n\u001b[1;32m    102\u001b[0m                 \u001b[0;32mif\u001b[0m \u001b[0mblock\u001b[0m\u001b[0;34m:\u001b[0m\u001b[0;34m\u001b[0m\u001b[0;34m\u001b[0m\u001b[0m\n\u001b[1;32m    103\u001b[0m                     \u001b[0mtimeout\u001b[0m \u001b[0;34m=\u001b[0m \u001b[0mdeadline\u001b[0m \u001b[0;34m-\u001b[0m \u001b[0mtime\u001b[0m\u001b[0;34m.\u001b[0m\u001b[0mmonotonic\u001b[0m\u001b[0;34m(\u001b[0m\u001b[0;34m)\u001b[0m\u001b[0;34m\u001b[0m\u001b[0;34m\u001b[0m\u001b[0m\n\u001b[0;32m--> 104\u001b[0;31m                     \u001b[0;32mif\u001b[0m \u001b[0;32mnot\u001b[0m \u001b[0mself\u001b[0m\u001b[0;34m.\u001b[0m\u001b[0m_poll\u001b[0m\u001b[0;34m(\u001b[0m\u001b[0mtimeout\u001b[0m\u001b[0;34m)\u001b[0m\u001b[0;34m:\u001b[0m\u001b[0;34m\u001b[0m\u001b[0;34m\u001b[0m\u001b[0m\n\u001b[0m\u001b[1;32m    105\u001b[0m                         \u001b[0;32mraise\u001b[0m \u001b[0mEmpty\u001b[0m\u001b[0;34m\u001b[0m\u001b[0;34m\u001b[0m\u001b[0m\n\u001b[1;32m    106\u001b[0m                 \u001b[0;32melif\u001b[0m \u001b[0;32mnot\u001b[0m \u001b[0mself\u001b[0m\u001b[0;34m.\u001b[0m\u001b[0m_poll\u001b[0m\u001b[0;34m(\u001b[0m\u001b[0;34m)\u001b[0m\u001b[0;34m:\u001b[0m\u001b[0;34m\u001b[0m\u001b[0;34m\u001b[0m\u001b[0m\n",
      "\u001b[0;32m/home/dl-box/.pyenv/versions/anaconda3-5.3.1/envs/py36/lib/python3.6/multiprocessing/connection.py\u001b[0m in \u001b[0;36mpoll\u001b[0;34m(self, timeout)\u001b[0m\n\u001b[1;32m    255\u001b[0m         \u001b[0mself\u001b[0m\u001b[0;34m.\u001b[0m\u001b[0m_check_closed\u001b[0m\u001b[0;34m(\u001b[0m\u001b[0;34m)\u001b[0m\u001b[0;34m\u001b[0m\u001b[0;34m\u001b[0m\u001b[0m\n\u001b[1;32m    256\u001b[0m         \u001b[0mself\u001b[0m\u001b[0;34m.\u001b[0m\u001b[0m_check_readable\u001b[0m\u001b[0;34m(\u001b[0m\u001b[0;34m)\u001b[0m\u001b[0;34m\u001b[0m\u001b[0;34m\u001b[0m\u001b[0m\n\u001b[0;32m--> 257\u001b[0;31m         \u001b[0;32mreturn\u001b[0m \u001b[0mself\u001b[0m\u001b[0;34m.\u001b[0m\u001b[0m_poll\u001b[0m\u001b[0;34m(\u001b[0m\u001b[0mtimeout\u001b[0m\u001b[0;34m)\u001b[0m\u001b[0;34m\u001b[0m\u001b[0;34m\u001b[0m\u001b[0m\n\u001b[0m\u001b[1;32m    258\u001b[0m \u001b[0;34m\u001b[0m\u001b[0m\n\u001b[1;32m    259\u001b[0m     \u001b[0;32mdef\u001b[0m \u001b[0m__enter__\u001b[0m\u001b[0;34m(\u001b[0m\u001b[0mself\u001b[0m\u001b[0;34m)\u001b[0m\u001b[0;34m:\u001b[0m\u001b[0;34m\u001b[0m\u001b[0;34m\u001b[0m\u001b[0m\n",
      "\u001b[0;32m/home/dl-box/.pyenv/versions/anaconda3-5.3.1/envs/py36/lib/python3.6/multiprocessing/connection.py\u001b[0m in \u001b[0;36m_poll\u001b[0;34m(self, timeout)\u001b[0m\n\u001b[1;32m    412\u001b[0m \u001b[0;34m\u001b[0m\u001b[0m\n\u001b[1;32m    413\u001b[0m     \u001b[0;32mdef\u001b[0m \u001b[0m_poll\u001b[0m\u001b[0;34m(\u001b[0m\u001b[0mself\u001b[0m\u001b[0;34m,\u001b[0m \u001b[0mtimeout\u001b[0m\u001b[0;34m)\u001b[0m\u001b[0;34m:\u001b[0m\u001b[0;34m\u001b[0m\u001b[0;34m\u001b[0m\u001b[0m\n\u001b[0;32m--> 414\u001b[0;31m         \u001b[0mr\u001b[0m \u001b[0;34m=\u001b[0m \u001b[0mwait\u001b[0m\u001b[0;34m(\u001b[0m\u001b[0;34m[\u001b[0m\u001b[0mself\u001b[0m\u001b[0;34m]\u001b[0m\u001b[0;34m,\u001b[0m \u001b[0mtimeout\u001b[0m\u001b[0;34m)\u001b[0m\u001b[0;34m\u001b[0m\u001b[0;34m\u001b[0m\u001b[0m\n\u001b[0m\u001b[1;32m    415\u001b[0m         \u001b[0;32mreturn\u001b[0m \u001b[0mbool\u001b[0m\u001b[0;34m(\u001b[0m\u001b[0mr\u001b[0m\u001b[0;34m)\u001b[0m\u001b[0;34m\u001b[0m\u001b[0;34m\u001b[0m\u001b[0m\n\u001b[1;32m    416\u001b[0m \u001b[0;34m\u001b[0m\u001b[0m\n",
      "\u001b[0;32m/home/dl-box/.pyenv/versions/anaconda3-5.3.1/envs/py36/lib/python3.6/multiprocessing/connection.py\u001b[0m in \u001b[0;36mwait\u001b[0;34m(object_list, timeout)\u001b[0m\n\u001b[1;32m    909\u001b[0m \u001b[0;34m\u001b[0m\u001b[0m\n\u001b[1;32m    910\u001b[0m             \u001b[0;32mwhile\u001b[0m \u001b[0;32mTrue\u001b[0m\u001b[0;34m:\u001b[0m\u001b[0;34m\u001b[0m\u001b[0;34m\u001b[0m\u001b[0m\n\u001b[0;32m--> 911\u001b[0;31m                 \u001b[0mready\u001b[0m \u001b[0;34m=\u001b[0m \u001b[0mselector\u001b[0m\u001b[0;34m.\u001b[0m\u001b[0mselect\u001b[0m\u001b[0;34m(\u001b[0m\u001b[0mtimeout\u001b[0m\u001b[0;34m)\u001b[0m\u001b[0;34m\u001b[0m\u001b[0;34m\u001b[0m\u001b[0m\n\u001b[0m\u001b[1;32m    912\u001b[0m                 \u001b[0;32mif\u001b[0m \u001b[0mready\u001b[0m\u001b[0;34m:\u001b[0m\u001b[0;34m\u001b[0m\u001b[0;34m\u001b[0m\u001b[0m\n\u001b[1;32m    913\u001b[0m                     \u001b[0;32mreturn\u001b[0m \u001b[0;34m[\u001b[0m\u001b[0mkey\u001b[0m\u001b[0;34m.\u001b[0m\u001b[0mfileobj\u001b[0m \u001b[0;32mfor\u001b[0m \u001b[0;34m(\u001b[0m\u001b[0mkey\u001b[0m\u001b[0;34m,\u001b[0m \u001b[0mevents\u001b[0m\u001b[0;34m)\u001b[0m \u001b[0;32min\u001b[0m \u001b[0mready\u001b[0m\u001b[0;34m]\u001b[0m\u001b[0;34m\u001b[0m\u001b[0;34m\u001b[0m\u001b[0m\n",
      "\u001b[0;32m/home/dl-box/.pyenv/versions/anaconda3-5.3.1/envs/py36/lib/python3.6/selectors.py\u001b[0m in \u001b[0;36mselect\u001b[0;34m(self, timeout)\u001b[0m\n\u001b[1;32m    374\u001b[0m             \u001b[0mready\u001b[0m \u001b[0;34m=\u001b[0m \u001b[0;34m[\u001b[0m\u001b[0;34m]\u001b[0m\u001b[0;34m\u001b[0m\u001b[0;34m\u001b[0m\u001b[0m\n\u001b[1;32m    375\u001b[0m             \u001b[0;32mtry\u001b[0m\u001b[0;34m:\u001b[0m\u001b[0;34m\u001b[0m\u001b[0;34m\u001b[0m\u001b[0m\n\u001b[0;32m--> 376\u001b[0;31m                 \u001b[0mfd_event_list\u001b[0m \u001b[0;34m=\u001b[0m \u001b[0mself\u001b[0m\u001b[0;34m.\u001b[0m\u001b[0m_poll\u001b[0m\u001b[0;34m.\u001b[0m\u001b[0mpoll\u001b[0m\u001b[0;34m(\u001b[0m\u001b[0mtimeout\u001b[0m\u001b[0;34m)\u001b[0m\u001b[0;34m\u001b[0m\u001b[0;34m\u001b[0m\u001b[0m\n\u001b[0m\u001b[1;32m    377\u001b[0m             \u001b[0;32mexcept\u001b[0m \u001b[0mInterruptedError\u001b[0m\u001b[0;34m:\u001b[0m\u001b[0;34m\u001b[0m\u001b[0;34m\u001b[0m\u001b[0m\n\u001b[1;32m    378\u001b[0m                 \u001b[0;32mreturn\u001b[0m \u001b[0mready\u001b[0m\u001b[0;34m\u001b[0m\u001b[0;34m\u001b[0m\u001b[0m\n",
      "\u001b[0;31mKeyboardInterrupt\u001b[0m: "
     ]
    }
   ],
   "source": [
    "#異常検知に用いる画像を表示してみる(今回は, ランダムに回転させた飛行機)\n",
    "\n",
    "fig = plt.figure(figsize=(15, 6))\n",
    "for i in range(0, 5):\n",
    "    plt.subplot(2, 5, i+1)\n",
    "    plt.imshow(rotated_imges[0][i].numpy().transpose(1, 2, 0));"
   ]
  },
  {
   "cell_type": "code",
   "execution_count": 126,
   "metadata": {},
   "outputs": [],
   "source": [
    "rotated_x = rotated_imges[0][0:256]\n",
    "rotated_x = rotated_x.to(device)\n",
    "z = torch.randn(256, 128).to(device) #乱数を指定\n",
    "z = z.view(z.size(0), z.size(1), 1, 1)\n",
    "z.requires_grad = True\n",
    "z_optimizer = torch.optim.Adam([z], lr=1e-3)"
   ]
  },
  {
   "cell_type": "code",
   "execution_count": 127,
   "metadata": {},
   "outputs": [
    {
     "data": {
      "text/plain": [
       "torch.Size([256, 3, 32, 32])"
      ]
     },
     "execution_count": 127,
     "metadata": {},
     "output_type": "execute_result"
    }
   ],
   "source": [
    "rotated_x.size()"
   ]
  },
  {
   "cell_type": "code",
   "execution_count": 128,
   "metadata": {},
   "outputs": [
    {
     "name": "stdout",
     "output_type": "stream",
     "text": [
      "epoch 0 || loss_total:903381 \n",
      "tensor(513438.2500, device='cuda:0', grad_fn=<SumBackward0>)\n",
      "epoch 1000 || loss_total:766182 \n",
      "tensor(406045.2188, device='cuda:0', grad_fn=<SumBackward0>)\n",
      "epoch 2000 || loss_total:738015 \n",
      "tensor(376566., device='cuda:0', grad_fn=<SumBackward0>)\n",
      "epoch 3000 || loss_total:719698 \n",
      "tensor(355868.3125, device='cuda:0', grad_fn=<SumBackward0>)\n",
      "epoch 4000 || loss_total:706264 \n",
      "tensor(341230., device='cuda:0', grad_fn=<SumBackward0>)\n",
      "epoch 5000 || loss_total:697723 \n",
      "tensor(331614.2500, device='cuda:0', grad_fn=<SumBackward0>)\n"
     ]
    }
   ],
   "source": [
    "for epoch in range(5000+1):\n",
    "    rotated_fake_img = G_update(z)\n",
    "    loss, _, residual_loss, discrimination_loss = Anormaly_score(rotated_x, rotated_fake_img, D_update, Lambda=0.1)\n",
    "\n",
    "    z_optimizer.zero_grad()\n",
    "    loss.backward()\n",
    "    z_optimizer.step()\n",
    "\n",
    "    if epoch % 1000 == 0:\n",
    "        print('epoch {} || loss_total:{:.0f} '.format(epoch, loss.item()))\n",
    "        print(torch.sum(discrimination_loss))"
   ]
  },
  {
   "cell_type": "code",
   "execution_count": 129,
   "metadata": {},
   "outputs": [],
   "source": [
    "import seaborn as sns"
   ]
  },
  {
   "cell_type": "code",
   "execution_count": 130,
   "metadata": {
    "scrolled": true
   },
   "outputs": [
    {
     "data": {
      "image/png": "[encoded data removed]",
      "text/plain": [
       "<Figure size 432x288 with 1 Axes>"
      ]
     },
     "metadata": {
      "needs_background": "light"
     },
     "output_type": "display_data"
    }
   ],
   "source": [
    "sns.distplot(discrimination_loss.cpu().detach().numpy())\n",
    "fig = sns_plot.get_figure()\n",
    "fig.savefig(\"rotcarsgraph.png\")"
   ]
  },
  {
   "cell_type": "code",
   "execution_count": 131,
   "metadata": {},
   "outputs": [],
   "source": [
    "rot_loss = loss\n",
    "rot_residual = residual_loss\n",
    "rot_disc = discrimination_loss"
   ]
  },
  {
   "cell_type": "code",
   "execution_count": 137,
   "metadata": {},
   "outputs": [
    {
     "ename": "NameError",
     "evalue": "name 'no_disc' is not defined",
     "output_type": "error",
     "traceback": [
      "\u001b[0;31m---------------------------------------------------------------------------\u001b[0m",
      "\u001b[0;31mNameError\u001b[0m                                 Traceback (most recent call last)",
      "\u001b[0;32m<ipython-input-137-657fe6aef45e>\u001b[0m in \u001b[0;36m<module>\u001b[0;34m\u001b[0m\n\u001b[0;32m----> 1\u001b[0;31m \u001b[0msns\u001b[0m\u001b[0;34m.\u001b[0m\u001b[0mjointplot\u001b[0m\u001b[0;34m(\u001b[0m\u001b[0mno_disc\u001b[0m\u001b[0;34m.\u001b[0m\u001b[0mcpu\u001b[0m\u001b[0;34m(\u001b[0m\u001b[0;34m)\u001b[0m\u001b[0;34m.\u001b[0m\u001b[0mdetach\u001b[0m\u001b[0;34m(\u001b[0m\u001b[0;34m)\u001b[0m\u001b[0;34m.\u001b[0m\u001b[0mnumpy\u001b[0m\u001b[0;34m(\u001b[0m\u001b[0;34m)\u001b[0m\u001b[0;34m,\u001b[0m \u001b[0mrot_disc\u001b[0m\u001b[0;34m.\u001b[0m\u001b[0mcpu\u001b[0m\u001b[0;34m(\u001b[0m\u001b[0;34m)\u001b[0m\u001b[0;34m.\u001b[0m\u001b[0mdetach\u001b[0m\u001b[0;34m(\u001b[0m\u001b[0;34m)\u001b[0m\u001b[0;34m.\u001b[0m\u001b[0mnumpy\u001b[0m\u001b[0;34m(\u001b[0m\u001b[0;34m)\u001b[0m\u001b[0;34m)\u001b[0m\u001b[0;34m;\u001b[0m\u001b[0;34m\u001b[0m\u001b[0;34m\u001b[0m\u001b[0m\n\u001b[0m",
      "\u001b[0;31mNameError\u001b[0m: name 'no_disc' is not defined"
     ]
    }
   ],
   "source": [
    "sns.jointplot(no_disc.cpu().detach().numpy(), rot_disc.cpu().detach().numpy());"
   ]
  },
  {
   "cell_type": "markdown",
   "metadata": {},
   "source": [
    "確かに, rotさせたときのdiscrimination lossは悪化しているが, residual lossとかと比べて飛び抜けてヤバいわけじゃない(つまりロバスト)"
   ]
  },
  {
   "cell_type": "markdown",
   "metadata": {},
   "source": [
    "# Efficient GANの実装"
   ]
  },
  {
   "cell_type": "code",
   "execution_count": null,
   "metadata": {},
   "outputs": [],
   "source": []
  }
 ],
 "metadata": {
  "kernelspec": {
   "display_name": "Python 3",
   "language": "python",
   "name": "python3"
  },
  "language_info": {
   "codemirror_mode": {
    "name": "ipython",
    "version": 3
   },
   "file_extension": ".py",
   "mimetype": "text/x-python",
   "name": "python",
   "nbconvert_exporter": "python",
   "pygments_lexer": "ipython3",
   "version": "3.6.8"
  }
 },
 "nbformat": 4,
 "nbformat_minor": 2
}
